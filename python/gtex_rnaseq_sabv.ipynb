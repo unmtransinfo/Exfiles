{
 "cells": [
  {
   "cell_type": "markdown",
   "metadata": {
    "colab_type": "text",
    "id": "vB7J5P7Vszpg"
   },
   "source": [
    "<table width=\"100%\" style=\"border:none\">\n",
    "  <tr>\n",
    "    <td valign=\"top\">\n",
    "      <h1>GTEx RNAseq SABV Analysis</h1>\n",
    "      <ul>\n",
    "<li>Author: Jeremy Yang\n",
    "<li>Based on R code by Oleg Ursu.\n",
    "<li>Required: Python3, Pandas 0.22+\n",
    "<li>Input reshaped, derived GTEx RNAseq expression data.\n",
    "<li>Compute log fold-change per gene+tissue.\n",
    "<li>Compute tissue specificity index (Yanai et al., 2004).\n",
    "      </ul>\n",
    "[About Colaboratory](https://research.google.com/colaboratory/faq.html).    \n",
    "    </td>\n",
    "    <td align=\"right\">\n",
    "        <p>NIH Data Commons: Team Helium</p>\n",
    "<img style=\"float:right\" width=\"100\" src=\"https://avatars2.githubusercontent.com/u/33356654?s=200&v=4\" alt=\"HeliumDataCommons Logo\" />\n",
    "    </td>\n",
    "  </tr>\n",
    "  </table>\n",
    " "
   ]
  },
  {
   "cell_type": "code",
   "execution_count": 1,
   "metadata": {
    "colab": {
     "base_uri": "https://localhost:8080/",
     "height": 34
    },
    "colab_type": "code",
    "id": "StWvpEEEef7p",
    "outputId": "9d91d580-4c54-41e5-f4bc-cd930fb83bc1"
   },
   "outputs": [
    {
     "name": "stdout",
     "output_type": "stream",
     "text": [
      "Python: 3.6.3; Pandas: 0.22.0; Scipy: 0.19.1 ; Numpy: 1.14.5\n"
     ]
    }
   ],
   "source": [
    "import sys,os,re,time,io\n",
    "import urllib.request\n",
    "import google.colab\n",
    "import numpy,scipy\n",
    "import pandas\n",
    "print('Python: %s; Pandas: %s; Scipy: %s ; Numpy: %s'%(sys.version.split()[0],pandas.__version__,scipy.__version__,numpy.__version__))"
   ]
  },
  {
   "cell_type": "markdown",
   "metadata": {
    "colab_type": "text",
    "id": "cwKhzyFo1L21"
   },
   "source": [
    "### Upload Median TPMs datafile:"
   ]
  },
  {
   "cell_type": "code",
   "execution_count": 4,
   "metadata": {
    "colab": {
     "base_uri": "https://localhost:8080/",
     "height": 120,
     "resources": {
      "http://localhost:8080/nbextensions/google.colab/files.js": {
       "data": "Ly8gQ29weXJpZ2h0IDIwMTcgR29vZ2xlIExMQwovLwovLyBMaWNlbnNlZCB1bmRlciB0aGUgQXBhY2hlIExpY2Vuc2UsIFZlcnNpb24gMi4wICh0aGUgIkxpY2Vuc2UiKTsKLy8geW91IG1heSBub3QgdXNlIHRoaXMgZmlsZSBleGNlcHQgaW4gY29tcGxpYW5jZSB3aXRoIHRoZSBMaWNlbnNlLgovLyBZb3UgbWF5IG9idGFpbiBhIGNvcHkgb2YgdGhlIExpY2Vuc2UgYXQKLy8KLy8gICAgICBodHRwOi8vd3d3LmFwYWNoZS5vcmcvbGljZW5zZXMvTElDRU5TRS0yLjAKLy8KLy8gVW5sZXNzIHJlcXVpcmVkIGJ5IGFwcGxpY2FibGUgbGF3IG9yIGFncmVlZCB0byBpbiB3cml0aW5nLCBzb2Z0d2FyZQovLyBkaXN0cmlidXRlZCB1bmRlciB0aGUgTGljZW5zZSBpcyBkaXN0cmlidXRlZCBvbiBhbiAiQVMgSVMiIEJBU0lTLAovLyBXSVRIT1VUIFdBUlJBTlRJRVMgT1IgQ09ORElUSU9OUyBPRiBBTlkgS0lORCwgZWl0aGVyIGV4cHJlc3Mgb3IgaW1wbGllZC4KLy8gU2VlIHRoZSBMaWNlbnNlIGZvciB0aGUgc3BlY2lmaWMgbGFuZ3VhZ2UgZ292ZXJuaW5nIHBlcm1pc3Npb25zIGFuZAovLyBsaW1pdGF0aW9ucyB1bmRlciB0aGUgTGljZW5zZS4KCi8qKgogKiBAZmlsZW92ZXJ2aWV3IEhlbHBlcnMgZm9yIGdvb2dsZS5jb2xhYiBQeXRob24gbW9kdWxlLgogKi8KKGZ1bmN0aW9uKHNjb3BlKSB7CmZ1bmN0aW9uIHNwYW4odGV4dCwgc3R5bGVBdHRyaWJ1dGVzID0ge30pIHsKICBjb25zdCBlbGVtZW50ID0gZG9jdW1lbnQuY3JlYXRlRWxlbWVudCgnc3BhbicpOwogIGVsZW1lbnQudGV4dENvbnRlbnQgPSB0ZXh0OwogIGZvciAoY29uc3Qga2V5IG9mIE9iamVjdC5rZXlzKHN0eWxlQXR0cmlidXRlcykpIHsKICAgIGVsZW1lbnQuc3R5bGVba2V5XSA9IHN0eWxlQXR0cmlidXRlc1trZXldOwogIH0KICByZXR1cm4gZWxlbWVudDsKfQoKLy8gTWF4IG51bWJlciBvZiBieXRlcyB3aGljaCB3aWxsIGJlIHVwbG9hZGVkIGF0IGEgdGltZS4KY29uc3QgTUFYX1BBWUxPQURfU0laRSA9IDEwMCAqIDEwMjQ7Ci8vIE1heCBhbW91bnQgb2YgdGltZSB0byBibG9jayB3YWl0aW5nIGZvciB0aGUgdXNlci4KY29uc3QgRklMRV9DSEFOR0VfVElNRU9VVF9NUyA9IDMwICogMTAwMDsKCmZ1bmN0aW9uIF91cGxvYWRGaWxlcyhpbnB1dElkLCBvdXRwdXRJZCkgewogIGNvbnN0IHN0ZXBzID0gdXBsb2FkRmlsZXNTdGVwKGlucHV0SWQsIG91dHB1dElkKTsKICBjb25zdCBvdXRwdXRFbGVtZW50ID0gZG9jdW1lbnQuZ2V0RWxlbWVudEJ5SWQob3V0cHV0SWQpOwogIC8vIENhY2hlIHN0ZXBzIG9uIHRoZSBvdXRwdXRFbGVtZW50IHRvIG1ha2UgaXQgYXZhaWxhYmxlIGZvciB0aGUgbmV4dCBjYWxsCiAgLy8gdG8gdXBsb2FkRmlsZXNDb250aW51ZSBmcm9tIFB5dGhvbi4KICBvdXRwdXRFbGVtZW50LnN0ZXBzID0gc3RlcHM7CgogIHJldHVybiBfdXBsb2FkRmlsZXNDb250aW51ZShvdXRwdXRJZCk7Cn0KCi8vIFRoaXMgaXMgcm91Z2hseSBhbiBhc3luYyBnZW5lcmF0b3IgKG5vdCBzdXBwb3J0ZWQgaW4gdGhlIGJyb3dzZXIgeWV0KSwKLy8gd2hlcmUgdGhlcmUgYXJlIG11bHRpcGxlIGFzeW5jaHJvbm91cyBzdGVwcyBhbmQgdGhlIFB5dGhvbiBzaWRlIGlzIGdvaW5nCi8vIHRvIHBvbGwgZm9yIGNvbXBsZXRpb24gb2YgZWFjaCBzdGVwLgovLyBUaGlzIHVzZXMgYSBQcm9taXNlIHRvIGJsb2NrIHRoZSBweXRob24gc2lkZSBvbiBjb21wbGV0aW9uIG9mIGVhY2ggc3RlcCwKLy8gdGhlbiBwYXNzZXMgdGhlIHJlc3VsdCBvZiB0aGUgcHJldmlvdXMgc3RlcCBhcyB0aGUgaW5wdXQgdG8gdGhlIG5leHQgc3RlcC4KZnVuY3Rpb24gX3VwbG9hZEZpbGVzQ29udGludWUob3V0cHV0SWQpIHsKICBjb25zdCBvdXRwdXRFbGVtZW50ID0gZG9jdW1lbnQuZ2V0RWxlbWVudEJ5SWQob3V0cHV0SWQpOwogIGNvbnN0IHN0ZXBzID0gb3V0cHV0RWxlbWVudC5zdGVwczsKCiAgY29uc3QgbmV4dCA9IHN0ZXBzLm5leHQob3V0cHV0RWxlbWVudC5sYXN0UHJvbWlzZVZhbHVlKTsKICByZXR1cm4gUHJvbWlzZS5yZXNvbHZlKG5leHQudmFsdWUucHJvbWlzZSkudGhlbigodmFsdWUpID0+IHsKICAgIC8vIENhY2hlIHRoZSBsYXN0IHByb21pc2UgdmFsdWUgdG8gbWFrZSBpdCBhdmFpbGFibGUgdG8gdGhlIG5leHQKICAgIC8vIHN0ZXAgb2YgdGhlIGdlbmVyYXRvci4KICAgIG91dHB1dEVsZW1lbnQubGFzdFByb21pc2VWYWx1ZSA9IHZhbHVlOwogICAgcmV0dXJuIG5leHQudmFsdWUucmVzcG9uc2U7CiAgfSk7Cn0KCi8qKgogKiBHZW5lcmF0b3IgZnVuY3Rpb24gd2hpY2ggaXMgY2FsbGVkIGJldHdlZW4gZWFjaCBhc3luYyBzdGVwIG9mIHRoZSB1cGxvYWQKICogcHJvY2Vzcy4KICogQHBhcmFtIHtzdHJpbmd9IGlucHV0SWQgRWxlbWVudCBJRCBvZiB0aGUgaW5wdXQgZmlsZSBwaWNrZXIgZWxlbWVudC4KICogQHBhcmFtIHtzdHJpbmd9IG91dHB1dElkIEVsZW1lbnQgSUQgb2YgdGhlIG91dHB1dCBkaXNwbGF5LgogKiBAcmV0dXJuIHshSXRlcmFibGU8IU9iamVjdD59IEl0ZXJhYmxlIG9mIG5leHQgc3RlcHMuCiAqLwpmdW5jdGlvbiogdXBsb2FkRmlsZXNTdGVwKGlucHV0SWQsIG91dHB1dElkKSB7CiAgY29uc3QgaW5wdXRFbGVtZW50ID0gZG9jdW1lbnQuZ2V0RWxlbWVudEJ5SWQoaW5wdXRJZCk7CiAgaW5wdXRFbGVtZW50LmRpc2FibGVkID0gZmFsc2U7CgogIGNvbnN0IG91dHB1dEVsZW1lbnQgPSBkb2N1bWVudC5nZXRFbGVtZW50QnlJZChvdXRwdXRJZCk7CiAgb3V0cHV0RWxlbWVudC5pbm5lckhUTUwgPSAnJzsKCiAgY29uc3QgcGlja2VkUHJvbWlzZSA9IG5ldyBQcm9taXNlKChyZXNvbHZlKSA9PiB7CiAgICBpbnB1dEVsZW1lbnQuYWRkRXZlbnRMaXN0ZW5lcignY2hhbmdlJywgKGUpID0+IHsKICAgICAgcmVzb2x2ZShlLnRhcmdldC5maWxlcyk7CiAgICB9KTsKICB9KTsKCiAgY29uc3QgY2FuY2VsID0gZG9jdW1lbnQuY3JlYXRlRWxlbWVudCgnYnV0dG9uJyk7CiAgaW5wdXRFbGVtZW50LnBhcmVudEVsZW1lbnQuYXBwZW5kQ2hpbGQoY2FuY2VsKTsKICBjYW5jZWwudGV4dENvbnRlbnQgPSAnQ2FuY2VsIHVwbG9hZCc7CiAgY29uc3QgY2FuY2VsUHJvbWlzZSA9IG5ldyBQcm9taXNlKChyZXNvbHZlKSA9PiB7CiAgICBjYW5jZWwub25jbGljayA9ICgpID0+IHsKICAgICAgcmVzb2x2ZShudWxsKTsKICAgIH07CiAgfSk7CgogIC8vIENhbmNlbCB1cGxvYWQgaWYgdXNlciBoYXNuJ3QgcGlja2VkIGFueXRoaW5nIGluIHRpbWVvdXQuCiAgY29uc3QgdGltZW91dFByb21pc2UgPSBuZXcgUHJvbWlzZSgocmVzb2x2ZSkgPT4gewogICAgc2V0VGltZW91dCgoKSA9PiB7CiAgICAgIHJlc29sdmUobnVsbCk7CiAgICB9LCBGSUxFX0NIQU5HRV9USU1FT1VUX01TKTsKICB9KTsKCiAgLy8gV2FpdCBmb3IgdGhlIHVzZXIgdG8gcGljayB0aGUgZmlsZXMuCiAgY29uc3QgZmlsZXMgPSB5aWVsZCB7CiAgICBwcm9taXNlOiBQcm9taXNlLnJhY2UoW3BpY2tlZFByb21pc2UsIHRpbWVvdXRQcm9taXNlLCBjYW5jZWxQcm9taXNlXSksCiAgICByZXNwb25zZTogewogICAgICBhY3Rpb246ICdzdGFydGluZycsCiAgICB9CiAgfTsKCiAgaWYgKCFmaWxlcykgewogICAgcmV0dXJuIHsKICAgICAgcmVzcG9uc2U6IHsKICAgICAgICBhY3Rpb246ICdjb21wbGV0ZScsCiAgICAgIH0KICAgIH07CiAgfQoKICBjYW5jZWwucmVtb3ZlKCk7CgogIC8vIERpc2FibGUgdGhlIGlucHV0IGVsZW1lbnQgc2luY2UgZnVydGhlciBwaWNrcyBhcmUgbm90IGFsbG93ZWQuCiAgaW5wdXRFbGVtZW50LmRpc2FibGVkID0gdHJ1ZTsKCiAgZm9yIChjb25zdCBmaWxlIG9mIGZpbGVzKSB7CiAgICBjb25zdCBsaSA9IGRvY3VtZW50LmNyZWF0ZUVsZW1lbnQoJ2xpJyk7CiAgICBsaS5hcHBlbmQoc3BhbihmaWxlLm5hbWUsIHtmb250V2VpZ2h0OiAnYm9sZCd9KSk7CiAgICBsaS5hcHBlbmQoc3BhbigKICAgICAgICBgKCR7ZmlsZS50eXBlIHx8ICduL2EnfSkgLSAke2ZpbGUuc2l6ZX0gYnl0ZXMsIGAgKwogICAgICAgIGBsYXN0IG1vZGlmaWVkOiAkewogICAgICAgICAgICBmaWxlLmxhc3RNb2RpZmllZERhdGUgPyBmaWxlLmxhc3RNb2RpZmllZERhdGUudG9Mb2NhbGVEYXRlU3RyaW5nKCkgOgogICAgICAgICAgICAgICAgICAgICAgICAgICAgICAgICAgICAnbi9hJ30gLSBgKSk7CiAgICBjb25zdCBwZXJjZW50ID0gc3BhbignMCUgZG9uZScpOwogICAgbGkuYXBwZW5kQ2hpbGQocGVyY2VudCk7CgogICAgb3V0cHV0RWxlbWVudC5hcHBlbmRDaGlsZChsaSk7CgogICAgY29uc3QgZmlsZURhdGFQcm9taXNlID0gbmV3IFByb21pc2UoKHJlc29sdmUpID0+IHsKICAgICAgY29uc3QgcmVhZGVyID0gbmV3IEZpbGVSZWFkZXIoKTsKICAgICAgcmVhZGVyLm9ubG9hZCA9IChlKSA9PiB7CiAgICAgICAgcmVzb2x2ZShlLnRhcmdldC5yZXN1bHQpOwogICAgICB9OwogICAgICByZWFkZXIucmVhZEFzQXJyYXlCdWZmZXIoZmlsZSk7CiAgICB9KTsKICAgIC8vIFdhaXQgZm9yIHRoZSBkYXRhIHRvIGJlIHJlYWR5LgogICAgbGV0IGZpbGVEYXRhID0geWllbGQgewogICAgICBwcm9taXNlOiBmaWxlRGF0YVByb21pc2UsCiAgICAgIHJlc3BvbnNlOiB7CiAgICAgICAgYWN0aW9uOiAnY29udGludWUnLAogICAgICB9CiAgICB9OwoKICAgIC8vIFVzZSBhIGNodW5rZWQgc2VuZGluZyB0byBhdm9pZCBtZXNzYWdlIHNpemUgbGltaXRzLiBTZWUgYi82MjExNTY2MC4KICAgIGxldCBwb3NpdGlvbiA9IDA7CiAgICB3aGlsZSAocG9zaXRpb24gPCBmaWxlRGF0YS5ieXRlTGVuZ3RoKSB7CiAgICAgIGNvbnN0IGxlbmd0aCA9IE1hdGgubWluKGZpbGVEYXRhLmJ5dGVMZW5ndGggLSBwb3NpdGlvbiwgTUFYX1BBWUxPQURfU0laRSk7CiAgICAgIGNvbnN0IGNodW5rID0gbmV3IFVpbnQ4QXJyYXkoZmlsZURhdGEsIHBvc2l0aW9uLCBsZW5ndGgpOwogICAgICBwb3NpdGlvbiArPSBsZW5ndGg7CgogICAgICBjb25zdCBiYXNlNjQgPSBidG9hKFN0cmluZy5mcm9tQ2hhckNvZGUuYXBwbHkobnVsbCwgY2h1bmspKTsKICAgICAgeWllbGQgewogICAgICAgIHJlc3BvbnNlOiB7CiAgICAgICAgICBhY3Rpb246ICdhcHBlbmQnLAogICAgICAgICAgZmlsZTogZmlsZS5uYW1lLAogICAgICAgICAgZGF0YTogYmFzZTY0LAogICAgICAgIH0sCiAgICAgIH07CiAgICAgIHBlcmNlbnQudGV4dENvbnRlbnQgPQogICAgICAgICAgYCR7TWF0aC5yb3VuZCgocG9zaXRpb24gLyBmaWxlRGF0YS5ieXRlTGVuZ3RoKSAqIDEwMCl9JSBkb25lYDsKICAgIH0KICB9CgogIC8vIEFsbCBkb25lLgogIHlpZWxkIHsKICAgIHJlc3BvbnNlOiB7CiAgICAgIGFjdGlvbjogJ2NvbXBsZXRlJywKICAgIH0KICB9Owp9CgpzY29wZS5nb29nbGUgPSBzY29wZS5nb29nbGUgfHwge307CnNjb3BlLmdvb2dsZS5jb2xhYiA9IHNjb3BlLmdvb2dsZS5jb2xhYiB8fCB7fTsKc2NvcGUuZ29vZ2xlLmNvbGFiLl9maWxlcyA9IHsKICBfdXBsb2FkRmlsZXMsCiAgX3VwbG9hZEZpbGVzQ29udGludWUsCn07Cn0pKHNlbGYpOwo=",
       "headers": [
        [
         "content-type",
         "application/javascript"
        ]
       ],
       "ok": true,
       "status": 200,
       "status_text": ""
      }
     }
    },
    "colab_type": "code",
    "id": "1SMOnt2P1Zfv",
    "outputId": "42b7b06b-8bcd-489f-b274-bf6c04da36b2"
   },
   "outputs": [
    {
     "name": "stdout",
     "output_type": "stream",
     "text": [
      "Upload Median TPMs datafile: \n"
     ]
    },
    {
     "data": {
      "text/html": [
       "\n",
       "     <input type=\"file\" id=\"files-36ac7520-0aae-4b5d-b017-0c55d6b89a40\" name=\"files[]\" multiple disabled />\n",
       "     <output id=\"result-36ac7520-0aae-4b5d-b017-0c55d6b89a40\">\n",
       "      Upload widget is only available when the cell has been executed in the\n",
       "      current browser session. Please rerun this cell to enable.\n",
       "      </output>\n",
       "      <script src=\"/nbextensions/google.colab/files.js\"></script> "
      ],
      "text/plain": [
       "<IPython.core.display.HTML object>"
      ]
     },
     "metadata": {
      "tags": []
     },
     "output_type": "display_data"
    },
    {
     "name": "stdout",
     "output_type": "stream",
     "text": [
      "Saving gtex_rnaseq_prep_median.tsv to gtex_rnaseq_prep_median (2).tsv\n",
      "Uploaded \"gtex_rnaseq_prep_median.tsv\" with 316310 bytes\n"
     ]
    },
    {
     "name": "stderr",
     "output_type": "stream",
     "text": [
      "dataset nrows: 6656 ; ncols: 4:\n"
     ]
    }
   ],
   "source": [
    "print('Upload Median TPMs datafile: ')\n",
    "uploaded = google.colab.files.upload()\n",
    "fn = list(uploaded.keys())[0]\n",
    "print('Uploaded \"{name}\" with {length} bytes'.format(name=fn, length=len(uploaded[fn])))\n",
    "tpms = pandas.read_csv(io.StringIO(uploaded[fn].decode('utf8')), sep='\\t')\n",
    "print(\"dataset nrows: %d ; ncols: %d:\"%(tpms.shape[0],tpms.shape[1]), file=sys.stderr)"
   ]
  },
  {
   "cell_type": "code",
   "execution_count": 5,
   "metadata": {
    "colab": {
     "base_uri": "https://localhost:8080/",
     "height": 204
    },
    "colab_type": "code",
    "id": "zLyV_boFRtSO",
    "outputId": "a5a212e2-7f7b-4b81-9f92-2bb2aaf0c377"
   },
   "outputs": [
    {
     "data": {
      "text/html": [
       "<div>\n",
       "<style scoped>\n",
       "    .dataframe tbody tr th:only-of-type {\n",
       "        vertical-align: middle;\n",
       "    }\n",
       "\n",
       "    .dataframe tbody tr th {\n",
       "        vertical-align: top;\n",
       "    }\n",
       "\n",
       "    .dataframe thead th {\n",
       "        text-align: right;\n",
       "    }\n",
       "</style>\n",
       "<table border=\"1\" class=\"dataframe\">\n",
       "  <thead>\n",
       "    <tr style=\"text-align: right;\">\n",
       "      <th></th>\n",
       "      <th>ENSG</th>\n",
       "      <th>SMTSD</th>\n",
       "      <th>SEX</th>\n",
       "      <th>TPM</th>\n",
       "    </tr>\n",
       "  </thead>\n",
       "  <tbody>\n",
       "    <tr>\n",
       "      <th>0</th>\n",
       "      <td>ENSG00000039139.9</td>\n",
       "      <td>Adipose - Subcutaneous</td>\n",
       "      <td>female</td>\n",
       "      <td>0.078</td>\n",
       "    </tr>\n",
       "    <tr>\n",
       "      <th>1</th>\n",
       "      <td>ENSG00000039139.9</td>\n",
       "      <td>Adipose - Subcutaneous</td>\n",
       "      <td>male</td>\n",
       "      <td>0.074</td>\n",
       "    </tr>\n",
       "    <tr>\n",
       "      <th>2</th>\n",
       "      <td>ENSG00000039139.9</td>\n",
       "      <td>Adipose - Visceral (Omentum)</td>\n",
       "      <td>female</td>\n",
       "      <td>0.053</td>\n",
       "    </tr>\n",
       "    <tr>\n",
       "      <th>3</th>\n",
       "      <td>ENSG00000039139.9</td>\n",
       "      <td>Adipose - Visceral (Omentum)</td>\n",
       "      <td>male</td>\n",
       "      <td>0.064</td>\n",
       "    </tr>\n",
       "    <tr>\n",
       "      <th>4</th>\n",
       "      <td>ENSG00000039139.9</td>\n",
       "      <td>Adrenal Gland</td>\n",
       "      <td>female</td>\n",
       "      <td>0.079</td>\n",
       "    </tr>\n",
       "  </tbody>\n",
       "</table>\n",
       "</div>"
      ],
      "text/plain": [
       "                ENSG                         SMTSD     SEX    TPM\n",
       "0  ENSG00000039139.9        Adipose - Subcutaneous  female  0.078\n",
       "1  ENSG00000039139.9        Adipose - Subcutaneous    male  0.074\n",
       "2  ENSG00000039139.9  Adipose - Visceral (Omentum)  female  0.053\n",
       "3  ENSG00000039139.9  Adipose - Visceral (Omentum)    male  0.064\n",
       "4  ENSG00000039139.9                 Adrenal Gland  female  0.079"
      ]
     },
     "execution_count": 5,
     "metadata": {
      "tags": []
     },
     "output_type": "execute_result"
    }
   ],
   "source": [
    "tpms.head()"
   ]
  },
  {
   "cell_type": "markdown",
   "metadata": {
    "colab_type": "text",
    "id": "q8jWE34_nCRu"
   },
   "source": [
    "### Read tissues files with groups"
   ]
  },
  {
   "cell_type": "markdown",
   "metadata": {
    "colab_type": "text",
    "id": "2rmvTu5upzFs"
   },
   "source": [
    "### Read and merge gene symbols.\n",
    "File from https://www.ensembl.org/biomart, dataset human genes, fields Gene stable ID, Gene stable ID version,  NCBI gene ID, HGNC symbol."
   ]
  },
  {
   "cell_type": "code",
   "execution_count": 6,
   "metadata": {
    "colab": {
     "base_uri": "https://localhost:8080/",
     "height": 103,
     "resources": {
      "http://localhost:8080/nbextensions/google.colab/files.js": {
       "data": "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",
       "headers": [
        [
         "content-type",
         "application/javascript"
        ]
       ],
       "ok": true,
       "status": 200,
       "status_text": ""
      }
     }
    },
    "colab_type": "code",
    "id": "Xo2F7qVApyk0",
    "outputId": "36ac464f-5bb9-40a5-8197-c90e78f18fa9"
   },
   "outputs": [
    {
     "name": "stdout",
     "output_type": "stream",
     "text": [
      "Upload Biomart ENSG2NCBI genes datafile: \n"
     ]
    },
    {
     "data": {
      "text/html": [
       "\n",
       "     <input type=\"file\" id=\"files-7bc7562b-42ae-4c10-96d5-59107e7c11cc\" name=\"files[]\" multiple disabled />\n",
       "     <output id=\"result-7bc7562b-42ae-4c10-96d5-59107e7c11cc\">\n",
       "      Upload widget is only available when the cell has been executed in the\n",
       "      current browser session. Please rerun this cell to enable.\n",
       "      </output>\n",
       "      <script src=\"/nbextensions/google.colab/files.js\"></script> "
      ],
      "text/plain": [
       "<IPython.core.display.HTML object>"
      ]
     },
     "metadata": {
      "tags": []
     },
     "output_type": "display_data"
    },
    {
     "name": "stdout",
     "output_type": "stream",
     "text": [
      "Saving biomart_ENSG2NCBI.tsv to biomart_ENSG2NCBI (1).tsv\n",
      "Uploaded \"biomart_ENSG2NCBI.tsv\" with 2786143 bytes\n"
     ]
    }
   ],
   "source": [
    "print('Upload Biomart ENSG2NCBI genes datafile: ')\n",
    "uploaded = google.colab.files.upload()\n",
    "fn = list(uploaded.keys())[0]\n",
    "print('Uploaded \"{name}\" with {length} bytes'.format(name=fn, length=len(uploaded[fn])))\n",
    "genes = pandas.read_csv(io.StringIO(uploaded[fn].decode('utf8')), sep='\\t', usecols=[1,2,3], na_values=[''], dtype={2:str})\n",
    "genes.columns = ['ENSG','NCBI','HGNC']\n",
    "genes.dropna(inplace=True)"
   ]
  },
  {
   "cell_type": "code",
   "execution_count": 7,
   "metadata": {
    "colab": {
     "base_uri": "https://localhost:8080/",
     "height": 204
    },
    "colab_type": "code",
    "id": "fegRBFc-tO00",
    "outputId": "47e95f3b-0241-4dbe-ed5e-a5d61c06126e"
   },
   "outputs": [
    {
     "data": {
      "text/html": [
       "<div>\n",
       "<style scoped>\n",
       "    .dataframe tbody tr th:only-of-type {\n",
       "        vertical-align: middle;\n",
       "    }\n",
       "\n",
       "    .dataframe tbody tr th {\n",
       "        vertical-align: top;\n",
       "    }\n",
       "\n",
       "    .dataframe thead th {\n",
       "        text-align: right;\n",
       "    }\n",
       "</style>\n",
       "<table border=\"1\" class=\"dataframe\">\n",
       "  <thead>\n",
       "    <tr style=\"text-align: right;\">\n",
       "      <th></th>\n",
       "      <th>ENSG</th>\n",
       "      <th>NCBI</th>\n",
       "      <th>HGNC</th>\n",
       "    </tr>\n",
       "  </thead>\n",
       "  <tbody>\n",
       "    <tr>\n",
       "      <th>1</th>\n",
       "      <td>ENSG00000211459.2</td>\n",
       "      <td>4549</td>\n",
       "      <td>MT-RNR1</td>\n",
       "    </tr>\n",
       "    <tr>\n",
       "      <th>3</th>\n",
       "      <td>ENSG00000210082.2</td>\n",
       "      <td>4550</td>\n",
       "      <td>MT-RNR2</td>\n",
       "    </tr>\n",
       "    <tr>\n",
       "      <th>5</th>\n",
       "      <td>ENSG00000198888.2</td>\n",
       "      <td>4535</td>\n",
       "      <td>MT-ND1</td>\n",
       "    </tr>\n",
       "    <tr>\n",
       "      <th>9</th>\n",
       "      <td>ENSG00000198763.3</td>\n",
       "      <td>4536</td>\n",
       "      <td>MT-ND2</td>\n",
       "    </tr>\n",
       "    <tr>\n",
       "      <th>15</th>\n",
       "      <td>ENSG00000198804.2</td>\n",
       "      <td>4512</td>\n",
       "      <td>MT-CO1</td>\n",
       "    </tr>\n",
       "  </tbody>\n",
       "</table>\n",
       "</div>"
      ],
      "text/plain": [
       "                 ENSG  NCBI     HGNC\n",
       "1   ENSG00000211459.2  4549  MT-RNR1\n",
       "3   ENSG00000210082.2  4550  MT-RNR2\n",
       "5   ENSG00000198888.2  4535   MT-ND1\n",
       "9   ENSG00000198763.3  4536   MT-ND2\n",
       "15  ENSG00000198804.2  4512   MT-CO1"
      ]
     },
     "execution_count": 7,
     "metadata": {
      "tags": []
     },
     "output_type": "execute_result"
    }
   ],
   "source": [
    "genes.head()"
   ]
  },
  {
   "cell_type": "code",
   "execution_count": 8,
   "metadata": {
    "colab": {
     "base_uri": "https://localhost:8080/",
     "height": 204
    },
    "colab_type": "code",
    "id": "hBuzxwBw0ul7",
    "outputId": "d3d1f544-a88a-4f43-f863-100f1af5649f"
   },
   "outputs": [
    {
     "data": {
      "text/html": [
       "<div>\n",
       "<style scoped>\n",
       "    .dataframe tbody tr th:only-of-type {\n",
       "        vertical-align: middle;\n",
       "    }\n",
       "\n",
       "    .dataframe tbody tr th {\n",
       "        vertical-align: top;\n",
       "    }\n",
       "\n",
       "    .dataframe thead th {\n",
       "        text-align: right;\n",
       "    }\n",
       "</style>\n",
       "<table border=\"1\" class=\"dataframe\">\n",
       "  <thead>\n",
       "    <tr style=\"text-align: right;\">\n",
       "      <th></th>\n",
       "      <th>ENSG</th>\n",
       "      <th>SMTSD</th>\n",
       "      <th>SEX</th>\n",
       "      <th>TPM</th>\n",
       "      <th>NCBI</th>\n",
       "      <th>HGNC</th>\n",
       "    </tr>\n",
       "  </thead>\n",
       "  <tbody>\n",
       "    <tr>\n",
       "      <th>0</th>\n",
       "      <td>ENSG00000039139.9</td>\n",
       "      <td>Adipose - Subcutaneous</td>\n",
       "      <td>female</td>\n",
       "      <td>0.078</td>\n",
       "      <td>1767</td>\n",
       "      <td>DNAH5</td>\n",
       "    </tr>\n",
       "    <tr>\n",
       "      <th>1</th>\n",
       "      <td>ENSG00000039139.9</td>\n",
       "      <td>Adipose - Subcutaneous</td>\n",
       "      <td>male</td>\n",
       "      <td>0.074</td>\n",
       "      <td>1767</td>\n",
       "      <td>DNAH5</td>\n",
       "    </tr>\n",
       "    <tr>\n",
       "      <th>2</th>\n",
       "      <td>ENSG00000039139.9</td>\n",
       "      <td>Adipose - Visceral (Omentum)</td>\n",
       "      <td>female</td>\n",
       "      <td>0.053</td>\n",
       "      <td>1767</td>\n",
       "      <td>DNAH5</td>\n",
       "    </tr>\n",
       "    <tr>\n",
       "      <th>3</th>\n",
       "      <td>ENSG00000039139.9</td>\n",
       "      <td>Adipose - Visceral (Omentum)</td>\n",
       "      <td>male</td>\n",
       "      <td>0.064</td>\n",
       "      <td>1767</td>\n",
       "      <td>DNAH5</td>\n",
       "    </tr>\n",
       "    <tr>\n",
       "      <th>4</th>\n",
       "      <td>ENSG00000039139.9</td>\n",
       "      <td>Adrenal Gland</td>\n",
       "      <td>female</td>\n",
       "      <td>0.079</td>\n",
       "      <td>1767</td>\n",
       "      <td>DNAH5</td>\n",
       "    </tr>\n",
       "  </tbody>\n",
       "</table>\n",
       "</div>"
      ],
      "text/plain": [
       "                ENSG                         SMTSD     SEX    TPM  NCBI   HGNC\n",
       "0  ENSG00000039139.9        Adipose - Subcutaneous  female  0.078  1767  DNAH5\n",
       "1  ENSG00000039139.9        Adipose - Subcutaneous    male  0.074  1767  DNAH5\n",
       "2  ENSG00000039139.9  Adipose - Visceral (Omentum)  female  0.053  1767  DNAH5\n",
       "3  ENSG00000039139.9  Adipose - Visceral (Omentum)    male  0.064  1767  DNAH5\n",
       "4  ENSG00000039139.9                 Adrenal Gland  female  0.079  1767  DNAH5"
      ]
     },
     "execution_count": 8,
     "metadata": {
      "tags": []
     },
     "output_type": "execute_result"
    }
   ],
   "source": [
    "tpms = pandas.merge(tpms, genes, on=[\"ENSG\"], how=\"left\")\n",
    "tpms.head()"
   ]
  },
  {
   "cell_type": "markdown",
   "metadata": {
    "colab_type": "text",
    "id": "OIwpu3JXvv9D"
   },
   "source": [
    "### LOG10(TPM+1) useful transformation."
   ]
  },
  {
   "cell_type": "code",
   "execution_count": 0,
   "metadata": {
    "colab": {},
    "colab_type": "code",
    "id": "Xiy-KUA6p811"
   },
   "outputs": [],
   "source": [
    "tpms['LOG_TPM'] = tpms.TPM.apply(lambda x: numpy.log10(x+1))"
   ]
  },
  {
   "cell_type": "code",
   "execution_count": 11,
   "metadata": {
    "colab": {
     "base_uri": "https://localhost:8080/",
     "height": 297
    },
    "colab_type": "code",
    "id": "4Ch_ffkHeFUt",
    "outputId": "094e12ed-2a4c-49ea-b85c-ce426207760a"
   },
   "outputs": [
    {
     "data": {
      "text/html": [
       "<div>\n",
       "<style scoped>\n",
       "    .dataframe tbody tr th:only-of-type {\n",
       "        vertical-align: middle;\n",
       "    }\n",
       "\n",
       "    .dataframe tbody tr th {\n",
       "        vertical-align: top;\n",
       "    }\n",
       "\n",
       "    .dataframe thead th {\n",
       "        text-align: right;\n",
       "    }\n",
       "</style>\n",
       "<table border=\"1\" class=\"dataframe\">\n",
       "  <thead>\n",
       "    <tr style=\"text-align: right;\">\n",
       "      <th></th>\n",
       "      <th>TPM</th>\n",
       "      <th>LOG_TPM</th>\n",
       "    </tr>\n",
       "  </thead>\n",
       "  <tbody>\n",
       "    <tr>\n",
       "      <th>count</th>\n",
       "      <td>6656.000000</td>\n",
       "      <td>6656.000000</td>\n",
       "    </tr>\n",
       "    <tr>\n",
       "      <th>mean</th>\n",
       "      <td>22.228046</td>\n",
       "      <td>0.372169</td>\n",
       "    </tr>\n",
       "    <tr>\n",
       "      <th>std</th>\n",
       "      <td>643.466588</td>\n",
       "      <td>0.567178</td>\n",
       "    </tr>\n",
       "    <tr>\n",
       "      <th>min</th>\n",
       "      <td>0.000000</td>\n",
       "      <td>0.000000</td>\n",
       "    </tr>\n",
       "    <tr>\n",
       "      <th>25%</th>\n",
       "      <td>0.000000</td>\n",
       "      <td>0.000000</td>\n",
       "    </tr>\n",
       "    <tr>\n",
       "      <th>50%</th>\n",
       "      <td>0.136500</td>\n",
       "      <td>0.055569</td>\n",
       "    </tr>\n",
       "    <tr>\n",
       "      <th>75%</th>\n",
       "      <td>2.696500</td>\n",
       "      <td>0.567791</td>\n",
       "    </tr>\n",
       "    <tr>\n",
       "      <th>max</th>\n",
       "      <td>37325.000000</td>\n",
       "      <td>4.572011</td>\n",
       "    </tr>\n",
       "  </tbody>\n",
       "</table>\n",
       "</div>"
      ],
      "text/plain": [
       "                TPM      LOG_TPM\n",
       "count   6656.000000  6656.000000\n",
       "mean      22.228046     0.372169\n",
       "std      643.466588     0.567178\n",
       "min        0.000000     0.000000\n",
       "25%        0.000000     0.000000\n",
       "50%        0.136500     0.055569\n",
       "75%        2.696500     0.567791\n",
       "max    37325.000000     4.572011"
      ]
     },
     "execution_count": 11,
     "metadata": {
      "tags": []
     },
     "output_type": "execute_result"
    }
   ],
   "source": [
    "tpms.describe()"
   ]
  },
  {
   "cell_type": "code",
   "execution_count": 13,
   "metadata": {
    "colab": {
     "base_uri": "https://localhost:8080/",
     "height": 364
    },
    "colab_type": "code",
    "id": "4FNc-Y-k68GD",
    "outputId": "365f3542-277d-4536-b09f-3e6be0e781c4"
   },
   "outputs": [
    {
     "data": {
      "text/plain": [
       "<matplotlib.axes._subplots.AxesSubplot at 0x7ffaa8ba29b0>"
      ]
     },
     "execution_count": 13,
     "metadata": {
      "tags": []
     },
     "output_type": "execute_result"
    },
    {
     "data": {
      "image/png": "[encoded data removed]",
      "text/plain": [
       "<matplotlib.figure.Figure at 0x7ffaa8bdc198>"
      ]
     },
     "metadata": {
      "tags": []
     },
     "output_type": "display_data"
    }
   ],
   "source": [
    "tpms.plot.box(y='LOG_TPM')"
   ]
  },
  {
   "cell_type": "markdown",
   "metadata": {
    "colab_type": "text",
    "id": "fsVkfXPhw4Gy"
   },
   "source": [
    "### Compute TAU, tissue specificity index (Yanai et al., 2004), for each gene.\n",
    "\n",
    "> ## $ \\tau = \\frac{\\sum_{i=0}^N (1 - x_i)}{N - 1} $\n",
    "\n",
    "> * N = number of tissues\n",
    "> * x = expression profile component normalized by the maximal component value\n",
    "\n",
    "Validate with example vector from paper.  Should be 0.95.\n",
    "\n"
   ]
  },
  {
   "cell_type": "code",
   "execution_count": 14,
   "metadata": {
    "colab": {
     "base_uri": "https://localhost:8080/",
     "height": 34
    },
    "colab_type": "code",
    "id": "bHpiwd8qxBxS",
    "outputId": "b9d53200-c33d-4aad-bad7-9be815dcdfbf"
   },
   "outputs": [
    {
     "name": "stdout",
     "output_type": "stream",
     "text": [
      "0.95\n"
     ]
    }
   ],
   "source": [
    "def TAU(X):\n",
    "  N = len(X)\n",
    "  xmax = max(X)\n",
    "  if xmax==0: return(0.0)\n",
    "  tau = 0.0\n",
    "  for x in X:\n",
    "    tau += (1 - x/xmax)\n",
    "  tau /= (N - 1)\n",
    "  return(tau)\n",
    "print('%.2f'%TAU([0,8,0,0,0,2,0,2,0,0,0,0]))"
   ]
  },
  {
   "cell_type": "code",
   "execution_count": 15,
   "metadata": {
    "colab": {
     "base_uri": "https://localhost:8080/",
     "height": 204
    },
    "colab_type": "code",
    "id": "XQN09AmIz4M1",
    "outputId": "407d289c-69cf-456f-8b54-7ad49f059132"
   },
   "outputs": [
    {
     "data": {
      "text/html": [
       "<div>\n",
       "<style scoped>\n",
       "    .dataframe tbody tr th:only-of-type {\n",
       "        vertical-align: middle;\n",
       "    }\n",
       "\n",
       "    .dataframe tbody tr th {\n",
       "        vertical-align: top;\n",
       "    }\n",
       "\n",
       "    .dataframe thead th {\n",
       "        text-align: right;\n",
       "    }\n",
       "</style>\n",
       "<table border=\"1\" class=\"dataframe\">\n",
       "  <thead>\n",
       "    <tr style=\"text-align: right;\">\n",
       "      <th></th>\n",
       "      <th>ENSG</th>\n",
       "      <th>TAU</th>\n",
       "    </tr>\n",
       "  </thead>\n",
       "  <tbody>\n",
       "    <tr>\n",
       "      <th>0</th>\n",
       "      <td>ENSG00000039139.9</td>\n",
       "      <td>0.871812</td>\n",
       "    </tr>\n",
       "    <tr>\n",
       "      <th>1</th>\n",
       "      <td>ENSG00000082516.8</td>\n",
       "      <td>0.454276</td>\n",
       "    </tr>\n",
       "    <tr>\n",
       "      <th>2</th>\n",
       "      <td>ENSG00000100302.6</td>\n",
       "      <td>0.848097</td>\n",
       "    </tr>\n",
       "    <tr>\n",
       "      <th>3</th>\n",
       "      <td>ENSG00000100580.7</td>\n",
       "      <td>0.602530</td>\n",
       "    </tr>\n",
       "    <tr>\n",
       "      <th>4</th>\n",
       "      <td>ENSG00000101200.5</td>\n",
       "      <td>0.915924</td>\n",
       "    </tr>\n",
       "  </tbody>\n",
       "</table>\n",
       "</div>"
      ],
      "text/plain": [
       "                ENSG       TAU\n",
       "0  ENSG00000039139.9  0.871812\n",
       "1  ENSG00000082516.8  0.454276\n",
       "2  ENSG00000100302.6  0.848097\n",
       "3  ENSG00000100580.7  0.602530\n",
       "4  ENSG00000101200.5  0.915924"
      ]
     },
     "execution_count": 15,
     "metadata": {
      "tags": []
     },
     "output_type": "execute_result"
    }
   ],
   "source": [
    "tpms_tau = tpms.groupby(['ENSG']).TPM.agg(TAU)\n",
    "tpms_tau = pandas.DataFrame(tpms_tau).rename(columns={'TPM':'TAU'})\n",
    "tpms_tau = tpms_tau.reset_index(drop=False)\n",
    "tpms_tau.head()"
   ]
  },
  {
   "cell_type": "code",
   "execution_count": 16,
   "metadata": {
    "colab": {
     "base_uri": "https://localhost:8080/",
     "height": 364
    },
    "colab_type": "code",
    "id": "O-CdHZaY-Y0L",
    "outputId": "69a763d0-d4c5-493e-f8bf-3bbb03a61acd"
   },
   "outputs": [
    {
     "data": {
      "text/plain": [
       "<matplotlib.axes._subplots.AxesSubplot at 0x7ffaa8c05048>"
      ]
     },
     "execution_count": 16,
     "metadata": {
      "tags": []
     },
     "output_type": "execute_result"
    },
    {
     "data": {
      "image/png": "[encoded data removed]",
      "text/plain": [
       "<matplotlib.figure.Figure at 0x7ffaa8c080b8>"
      ]
     },
     "metadata": {
      "tags": []
     },
     "output_type": "display_data"
    }
   ],
   "source": [
    "tpms_tau.plot.hist(y='TAU')"
   ]
  },
  {
   "cell_type": "markdown",
   "metadata": {
    "colab_type": "text",
    "id": "UZhpN48Q2Qrg"
   },
   "source": [
    "### Assign gene-tissue rank (quantile) among tissues.\n",
    "Low-Med-High cutoff quantiles: .25 and .75.  These ranks measure, for a given gene, relative tissue expression from the gene-tissue TPMs."
   ]
  },
  {
   "cell_type": "code",
   "execution_count": 0,
   "metadata": {
    "colab": {},
    "colab_type": "code",
    "id": "FT2DcDCK2zaM"
   },
   "outputs": [],
   "source": [
    "def GTRanks(tpms, tpm_col):\n",
    "  tpm_rank = pandas.Series(dtype=\"float\", index=range(tpms.shape[0]))\n",
    "  for i in tpms.index:\n",
    "    ensg = tpms.ENSG[i]\n",
    "    val_this = tpms[tpm_col][i]\n",
    "    vals_ensg = tpms[tpm_col][tpms.ENSG==ensg]\n",
    "    vals_ensg = vals_ensg.sort_values().reset_index(drop=True)\n",
    "    j = vals_ensg[vals_ensg == val_this].index[0]\n",
    "    tpm_rank.iloc[i] = j/vals_ensg.size \n",
    "\n",
    "  tpms[tpm_col+'_RANK'] = tpm_rank\n",
    "  return(tpms)"
   ]
  },
  {
   "cell_type": "code",
   "execution_count": 18,
   "metadata": {
    "colab": {
     "base_uri": "https://localhost:8080/",
     "height": 221
    },
    "colab_type": "code",
    "id": "rtkZFKiuNIgA",
    "outputId": "f17830ec-4eba-49aa-a294-4bccf0187158"
   },
   "outputs": [
    {
     "name": "stdout",
     "output_type": "stream",
     "text": [
      "<class 'pandas.core.frame.DataFrame'>\n",
      "Int64Index: 6656 entries, 0 to 6655\n",
      "Data columns (total 7 columns):\n",
      "ENSG       6656 non-null object\n",
      "SMTSD      6656 non-null object\n",
      "SEX        6656 non-null object\n",
      "TPM        6656 non-null float64\n",
      "NCBI       6656 non-null object\n",
      "HGNC       6656 non-null object\n",
      "LOG_TPM    6656 non-null float64\n",
      "dtypes: float64(2), object(5)\n",
      "memory usage: 416.0+ KB\n"
     ]
    }
   ],
   "source": [
    "tpms.info()"
   ]
  },
  {
   "cell_type": "code",
   "execution_count": 19,
   "metadata": {
    "colab": {
     "base_uri": "https://localhost:8080/",
     "height": 221
    },
    "colab_type": "code",
    "id": "7EtulAR4z2Di",
    "outputId": "bfee0f29-041c-49f6-9d1a-bcfaab2d6cfe"
   },
   "outputs": [
    {
     "name": "stdout",
     "output_type": "stream",
     "text": [
      "Elapsed: 12s\n"
     ]
    },
    {
     "data": {
      "text/html": [
       "<div>\n",
       "<style scoped>\n",
       "    .dataframe tbody tr th:only-of-type {\n",
       "        vertical-align: middle;\n",
       "    }\n",
       "\n",
       "    .dataframe tbody tr th {\n",
       "        vertical-align: top;\n",
       "    }\n",
       "\n",
       "    .dataframe thead th {\n",
       "        text-align: right;\n",
       "    }\n",
       "</style>\n",
       "<table border=\"1\" class=\"dataframe\">\n",
       "  <thead>\n",
       "    <tr style=\"text-align: right;\">\n",
       "      <th></th>\n",
       "      <th>ENSG</th>\n",
       "      <th>SMTSD</th>\n",
       "      <th>SEX</th>\n",
       "      <th>TPM</th>\n",
       "      <th>NCBI</th>\n",
       "      <th>HGNC</th>\n",
       "      <th>LOG_TPM</th>\n",
       "      <th>TPM_RANK</th>\n",
       "    </tr>\n",
       "  </thead>\n",
       "  <tbody>\n",
       "    <tr>\n",
       "      <th>0</th>\n",
       "      <td>ENSG00000039139.9</td>\n",
       "      <td>Adipose - Subcutaneous</td>\n",
       "      <td>female</td>\n",
       "      <td>0.078</td>\n",
       "      <td>1767</td>\n",
       "      <td>DNAH5</td>\n",
       "      <td>0.032619</td>\n",
       "      <td>0.316667</td>\n",
       "    </tr>\n",
       "    <tr>\n",
       "      <th>1</th>\n",
       "      <td>ENSG00000039139.9</td>\n",
       "      <td>Adipose - Subcutaneous</td>\n",
       "      <td>male</td>\n",
       "      <td>0.074</td>\n",
       "      <td>1767</td>\n",
       "      <td>DNAH5</td>\n",
       "      <td>0.031004</td>\n",
       "      <td>0.250000</td>\n",
       "    </tr>\n",
       "    <tr>\n",
       "      <th>2</th>\n",
       "      <td>ENSG00000039139.9</td>\n",
       "      <td>Adipose - Visceral (Omentum)</td>\n",
       "      <td>female</td>\n",
       "      <td>0.053</td>\n",
       "      <td>1767</td>\n",
       "      <td>DNAH5</td>\n",
       "      <td>0.022428</td>\n",
       "      <td>0.116667</td>\n",
       "    </tr>\n",
       "    <tr>\n",
       "      <th>3</th>\n",
       "      <td>ENSG00000039139.9</td>\n",
       "      <td>Adipose - Visceral (Omentum)</td>\n",
       "      <td>male</td>\n",
       "      <td>0.064</td>\n",
       "      <td>1767</td>\n",
       "      <td>DNAH5</td>\n",
       "      <td>0.026942</td>\n",
       "      <td>0.150000</td>\n",
       "    </tr>\n",
       "    <tr>\n",
       "      <th>4</th>\n",
       "      <td>ENSG00000039139.9</td>\n",
       "      <td>Adrenal Gland</td>\n",
       "      <td>female</td>\n",
       "      <td>0.079</td>\n",
       "      <td>1767</td>\n",
       "      <td>DNAH5</td>\n",
       "      <td>0.033021</td>\n",
       "      <td>0.333333</td>\n",
       "    </tr>\n",
       "  </tbody>\n",
       "</table>\n",
       "</div>"
      ],
      "text/plain": [
       "                ENSG                         SMTSD     SEX    TPM  NCBI  \\\n",
       "0  ENSG00000039139.9        Adipose - Subcutaneous  female  0.078  1767   \n",
       "1  ENSG00000039139.9        Adipose - Subcutaneous    male  0.074  1767   \n",
       "2  ENSG00000039139.9  Adipose - Visceral (Omentum)  female  0.053  1767   \n",
       "3  ENSG00000039139.9  Adipose - Visceral (Omentum)    male  0.064  1767   \n",
       "4  ENSG00000039139.9                 Adrenal Gland  female  0.079  1767   \n",
       "\n",
       "    HGNC   LOG_TPM  TPM_RANK  \n",
       "0  DNAH5  0.032619  0.316667  \n",
       "1  DNAH5  0.031004  0.250000  \n",
       "2  DNAH5  0.022428  0.116667  \n",
       "3  DNAH5  0.026942  0.150000  \n",
       "4  DNAH5  0.033021  0.333333  "
      ]
     },
     "execution_count": 19,
     "metadata": {
      "tags": []
     },
     "output_type": "execute_result"
    }
   ],
   "source": [
    "t0 = time.time()\n",
    "tpms_ranks = GTRanks(tpms.copy(), 'TPM')\n",
    "print(\"Elapsed: %ds\"%(time.time()-t0))\n",
    "tpms_ranks.head()"
   ]
  },
  {
   "cell_type": "code",
   "execution_count": 21,
   "metadata": {
    "colab": {
     "base_uri": "https://localhost:8080/",
     "height": 364
    },
    "colab_type": "code",
    "id": "mBdoL0jWcc7p",
    "outputId": "219bf65e-ae6d-4576-c861-55c41b34bfca"
   },
   "outputs": [
    {
     "data": {
      "text/plain": [
       "<matplotlib.axes._subplots.AxesSubplot at 0x7ffaa8bcc9b0>"
      ]
     },
     "execution_count": 21,
     "metadata": {
      "tags": []
     },
     "output_type": "execute_result"
    },
    {
     "data": {
      "image/png": "[encoded data removed]",
      "text/plain": [
       "<matplotlib.figure.Figure at 0x7ffaaa90d240>"
      ]
     },
     "metadata": {
      "tags": []
     },
     "output_type": "display_data"
    }
   ],
   "source": [
    "tpms_ranks.plot.hist(y='TPM_RANK')"
   ]
  },
  {
   "cell_type": "code",
   "execution_count": 22,
   "metadata": {
    "colab": {
     "base_uri": "https://localhost:8080/",
     "height": 297
    },
    "colab_type": "code",
    "id": "U0ro00ZPczBL",
    "outputId": "62ba0a42-1622-44b3-fcc1-ccde78c997f9"
   },
   "outputs": [
    {
     "data": {
      "text/html": [
       "<div>\n",
       "<style scoped>\n",
       "    .dataframe tbody tr th:only-of-type {\n",
       "        vertical-align: middle;\n",
       "    }\n",
       "\n",
       "    .dataframe tbody tr th {\n",
       "        vertical-align: top;\n",
       "    }\n",
       "\n",
       "    .dataframe thead th {\n",
       "        text-align: right;\n",
       "    }\n",
       "</style>\n",
       "<table border=\"1\" class=\"dataframe\">\n",
       "  <thead>\n",
       "    <tr style=\"text-align: right;\">\n",
       "      <th></th>\n",
       "      <th>TPM</th>\n",
       "      <th>LOG_TPM</th>\n",
       "      <th>TPM_RANK</th>\n",
       "    </tr>\n",
       "  </thead>\n",
       "  <tbody>\n",
       "    <tr>\n",
       "      <th>count</th>\n",
       "      <td>6656.000000</td>\n",
       "      <td>6656.000000</td>\n",
       "      <td>6656.000000</td>\n",
       "    </tr>\n",
       "    <tr>\n",
       "      <th>mean</th>\n",
       "      <td>22.228046</td>\n",
       "      <td>0.372169</td>\n",
       "      <td>0.333636</td>\n",
       "    </tr>\n",
       "    <tr>\n",
       "      <th>std</th>\n",
       "      <td>643.466588</td>\n",
       "      <td>0.567178</td>\n",
       "      <td>0.344605</td>\n",
       "    </tr>\n",
       "    <tr>\n",
       "      <th>min</th>\n",
       "      <td>0.000000</td>\n",
       "      <td>0.000000</td>\n",
       "      <td>0.000000</td>\n",
       "    </tr>\n",
       "    <tr>\n",
       "      <th>25%</th>\n",
       "      <td>0.000000</td>\n",
       "      <td>0.000000</td>\n",
       "      <td>0.000000</td>\n",
       "    </tr>\n",
       "    <tr>\n",
       "      <th>50%</th>\n",
       "      <td>0.136500</td>\n",
       "      <td>0.055569</td>\n",
       "      <td>0.233333</td>\n",
       "    </tr>\n",
       "    <tr>\n",
       "      <th>75%</th>\n",
       "      <td>2.696500</td>\n",
       "      <td>0.567791</td>\n",
       "      <td>0.650000</td>\n",
       "    </tr>\n",
       "    <tr>\n",
       "      <th>max</th>\n",
       "      <td>37325.000000</td>\n",
       "      <td>4.572011</td>\n",
       "      <td>0.983333</td>\n",
       "    </tr>\n",
       "  </tbody>\n",
       "</table>\n",
       "</div>"
      ],
      "text/plain": [
       "                TPM      LOG_TPM     TPM_RANK\n",
       "count   6656.000000  6656.000000  6656.000000\n",
       "mean      22.228046     0.372169     0.333636\n",
       "std      643.466588     0.567178     0.344605\n",
       "min        0.000000     0.000000     0.000000\n",
       "25%        0.000000     0.000000     0.000000\n",
       "50%        0.136500     0.055569     0.233333\n",
       "75%        2.696500     0.567791     0.650000\n",
       "max    37325.000000     4.572011     0.983333"
      ]
     },
     "execution_count": 22,
     "metadata": {
      "tags": []
     },
     "output_type": "execute_result"
    }
   ],
   "source": [
    "tpms_ranks.describe()"
   ]
  },
  {
   "cell_type": "code",
   "execution_count": 23,
   "metadata": {
    "colab": {
     "base_uri": "https://localhost:8080/",
     "height": 204
    },
    "colab_type": "code",
    "id": "PMGtTxqyZfoM",
    "outputId": "c162332f-a177-4f2b-fb07-c393d2bb2bf9"
   },
   "outputs": [
    {
     "data": {
      "text/html": [
       "<div>\n",
       "<style scoped>\n",
       "    .dataframe tbody tr th:only-of-type {\n",
       "        vertical-align: middle;\n",
       "    }\n",
       "\n",
       "    .dataframe tbody tr th {\n",
       "        vertical-align: top;\n",
       "    }\n",
       "\n",
       "    .dataframe thead th {\n",
       "        text-align: right;\n",
       "    }\n",
       "</style>\n",
       "<table border=\"1\" class=\"dataframe\">\n",
       "  <thead>\n",
       "    <tr style=\"text-align: right;\">\n",
       "      <th></th>\n",
       "      <th>ENSG</th>\n",
       "      <th>SMTSD</th>\n",
       "      <th>SEX</th>\n",
       "      <th>TPM</th>\n",
       "      <th>NCBI</th>\n",
       "      <th>HGNC</th>\n",
       "      <th>LOG_TPM</th>\n",
       "      <th>TPM_RANK</th>\n",
       "      <th>LEVEL</th>\n",
       "      <th>AGE</th>\n",
       "    </tr>\n",
       "  </thead>\n",
       "  <tbody>\n",
       "    <tr>\n",
       "      <th>0</th>\n",
       "      <td>ENSG00000039139.9</td>\n",
       "      <td>Adipose - Subcutaneous</td>\n",
       "      <td>ALL</td>\n",
       "      <td>0.078</td>\n",
       "      <td>1767</td>\n",
       "      <td>DNAH5</td>\n",
       "      <td>0.032619</td>\n",
       "      <td>0.316667</td>\n",
       "      <td>Medium</td>\n",
       "      <td>ALL</td>\n",
       "    </tr>\n",
       "    <tr>\n",
       "      <th>1</th>\n",
       "      <td>ENSG00000039139.9</td>\n",
       "      <td>Adipose - Subcutaneous</td>\n",
       "      <td>ALL</td>\n",
       "      <td>0.074</td>\n",
       "      <td>1767</td>\n",
       "      <td>DNAH5</td>\n",
       "      <td>0.031004</td>\n",
       "      <td>0.250000</td>\n",
       "      <td>Medium</td>\n",
       "      <td>ALL</td>\n",
       "    </tr>\n",
       "    <tr>\n",
       "      <th>2</th>\n",
       "      <td>ENSG00000039139.9</td>\n",
       "      <td>Adipose - Visceral (Omentum)</td>\n",
       "      <td>ALL</td>\n",
       "      <td>0.053</td>\n",
       "      <td>1767</td>\n",
       "      <td>DNAH5</td>\n",
       "      <td>0.022428</td>\n",
       "      <td>0.116667</td>\n",
       "      <td>Low</td>\n",
       "      <td>ALL</td>\n",
       "    </tr>\n",
       "    <tr>\n",
       "      <th>3</th>\n",
       "      <td>ENSG00000039139.9</td>\n",
       "      <td>Adipose - Visceral (Omentum)</td>\n",
       "      <td>ALL</td>\n",
       "      <td>0.064</td>\n",
       "      <td>1767</td>\n",
       "      <td>DNAH5</td>\n",
       "      <td>0.026942</td>\n",
       "      <td>0.150000</td>\n",
       "      <td>Low</td>\n",
       "      <td>ALL</td>\n",
       "    </tr>\n",
       "    <tr>\n",
       "      <th>4</th>\n",
       "      <td>ENSG00000039139.9</td>\n",
       "      <td>Adrenal Gland</td>\n",
       "      <td>ALL</td>\n",
       "      <td>0.079</td>\n",
       "      <td>1767</td>\n",
       "      <td>DNAH5</td>\n",
       "      <td>0.033021</td>\n",
       "      <td>0.333333</td>\n",
       "      <td>Medium</td>\n",
       "      <td>ALL</td>\n",
       "    </tr>\n",
       "  </tbody>\n",
       "</table>\n",
       "</div>"
      ],
      "text/plain": [
       "                ENSG                         SMTSD  SEX    TPM  NCBI   HGNC  \\\n",
       "0  ENSG00000039139.9        Adipose - Subcutaneous  ALL  0.078  1767  DNAH5   \n",
       "1  ENSG00000039139.9        Adipose - Subcutaneous  ALL  0.074  1767  DNAH5   \n",
       "2  ENSG00000039139.9  Adipose - Visceral (Omentum)  ALL  0.053  1767  DNAH5   \n",
       "3  ENSG00000039139.9  Adipose - Visceral (Omentum)  ALL  0.064  1767  DNAH5   \n",
       "4  ENSG00000039139.9                 Adrenal Gland  ALL  0.079  1767  DNAH5   \n",
       "\n",
       "    LOG_TPM  TPM_RANK   LEVEL  AGE  \n",
       "0  0.032619  0.316667  Medium  ALL  \n",
       "1  0.031004  0.250000  Medium  ALL  \n",
       "2  0.022428  0.116667     Low  ALL  \n",
       "3  0.026942  0.150000     Low  ALL  \n",
       "4  0.033021  0.333333  Medium  ALL  "
      ]
     },
     "execution_count": 23,
     "metadata": {
      "tags": []
     },
     "output_type": "execute_result"
    }
   ],
   "source": [
    "tpms_ranks['LEVEL'] = tpms_ranks.TPM_RANK.apply(lambda x: 'Not detected' if x==0 else 'Low' if x<.25 else 'Medium' if x<.75 else 'High')\n",
    "tpms_ranks['AGE'] = 'ALL'\n",
    "tpms_ranks['SEX'] = 'ALL'\n",
    "tpms_ranks.head()"
   ]
  },
  {
   "cell_type": "code",
   "execution_count": 24,
   "metadata": {
    "colab": {
     "base_uri": "https://localhost:8080/",
     "height": 102
    },
    "colab_type": "code",
    "id": "ZuwizN20dPOc",
    "outputId": "55313030-ffa3-4cab-ceba-5213287162f6"
   },
   "outputs": [
    {
     "data": {
      "text/plain": [
       "High            1251\n",
       "Low              804\n",
       "Medium          2050\n",
       "Not detected    2551\n",
       "Name: LEVEL, dtype: int64"
      ]
     },
     "execution_count": 24,
     "metadata": {
      "tags": []
     },
     "output_type": "execute_result"
    }
   ],
   "source": [
    "tpms_ranks.LEVEL.value_counts().sort_index()"
   ]
  },
  {
   "cell_type": "markdown",
   "metadata": {
    "colab_type": "text",
    "id": "kF2A5Ee3r6qU"
   },
   "source": [
    "### Compute TAU for each gene, stratified by sex:"
   ]
  },
  {
   "cell_type": "code",
   "execution_count": 25,
   "metadata": {
    "colab": {
     "base_uri": "https://localhost:8080/",
     "height": 235
    },
    "colab_type": "code",
    "id": "kPcAEy1Nr_Aq",
    "outputId": "0db4761b-a32f-46a8-ccec-d27c7cce7bdb"
   },
   "outputs": [
    {
     "data": {
      "text/html": [
       "<div>\n",
       "<style scoped>\n",
       "    .dataframe tbody tr th:only-of-type {\n",
       "        vertical-align: middle;\n",
       "    }\n",
       "\n",
       "    .dataframe tbody tr th {\n",
       "        vertical-align: top;\n",
       "    }\n",
       "\n",
       "    .dataframe thead th {\n",
       "        text-align: right;\n",
       "    }\n",
       "</style>\n",
       "<table border=\"1\" class=\"dataframe\">\n",
       "  <thead>\n",
       "    <tr style=\"text-align: right;\">\n",
       "      <th></th>\n",
       "      <th>TAU_F</th>\n",
       "    </tr>\n",
       "    <tr>\n",
       "      <th>ENSG</th>\n",
       "      <th></th>\n",
       "    </tr>\n",
       "  </thead>\n",
       "  <tbody>\n",
       "    <tr>\n",
       "      <th>ENSG00000039139.9</th>\n",
       "      <td>0.881320</td>\n",
       "    </tr>\n",
       "    <tr>\n",
       "      <th>ENSG00000082516.8</th>\n",
       "      <td>0.412861</td>\n",
       "    </tr>\n",
       "    <tr>\n",
       "      <th>ENSG00000100302.6</th>\n",
       "      <td>0.857392</td>\n",
       "    </tr>\n",
       "    <tr>\n",
       "      <th>ENSG00000100580.7</th>\n",
       "      <td>0.609194</td>\n",
       "    </tr>\n",
       "    <tr>\n",
       "      <th>ENSG00000101200.5</th>\n",
       "      <td>0.899435</td>\n",
       "    </tr>\n",
       "  </tbody>\n",
       "</table>\n",
       "</div>"
      ],
      "text/plain": [
       "                      TAU_F\n",
       "ENSG                       \n",
       "ENSG00000039139.9  0.881320\n",
       "ENSG00000082516.8  0.412861\n",
       "ENSG00000100302.6  0.857392\n",
       "ENSG00000100580.7  0.609194\n",
       "ENSG00000101200.5  0.899435"
      ]
     },
     "execution_count": 25,
     "metadata": {
      "tags": []
     },
     "output_type": "execute_result"
    }
   ],
   "source": [
    "tpms_tau_f = tpms.loc[tpms.SEX=='female'].groupby(['ENSG']).TPM.agg(TAU)\n",
    "tpms_tau_f = pandas.DataFrame(tpms_tau_f).rename(columns={'TPM':'TAU_F'})\n",
    "tpms_tau_f.head()"
   ]
  },
  {
   "cell_type": "code",
   "execution_count": 26,
   "metadata": {
    "colab": {
     "base_uri": "https://localhost:8080/",
     "height": 235
    },
    "colab_type": "code",
    "id": "XFPcmw94MF0r",
    "outputId": "fe77b52c-5094-4ce6-bef2-1ce48fa61bdd"
   },
   "outputs": [
    {
     "data": {
      "text/html": [
       "<div>\n",
       "<style scoped>\n",
       "    .dataframe tbody tr th:only-of-type {\n",
       "        vertical-align: middle;\n",
       "    }\n",
       "\n",
       "    .dataframe tbody tr th {\n",
       "        vertical-align: top;\n",
       "    }\n",
       "\n",
       "    .dataframe thead th {\n",
       "        text-align: right;\n",
       "    }\n",
       "</style>\n",
       "<table border=\"1\" class=\"dataframe\">\n",
       "  <thead>\n",
       "    <tr style=\"text-align: right;\">\n",
       "      <th></th>\n",
       "      <th>TAU_M</th>\n",
       "    </tr>\n",
       "    <tr>\n",
       "      <th>ENSG</th>\n",
       "      <th></th>\n",
       "    </tr>\n",
       "  </thead>\n",
       "  <tbody>\n",
       "    <tr>\n",
       "      <th>ENSG00000039139.9</th>\n",
       "      <td>0.866073</td>\n",
       "    </tr>\n",
       "    <tr>\n",
       "      <th>ENSG00000082516.8</th>\n",
       "      <td>0.470625</td>\n",
       "    </tr>\n",
       "    <tr>\n",
       "      <th>ENSG00000100302.6</th>\n",
       "      <td>0.862967</td>\n",
       "    </tr>\n",
       "    <tr>\n",
       "      <th>ENSG00000100580.7</th>\n",
       "      <td>0.610741</td>\n",
       "    </tr>\n",
       "    <tr>\n",
       "      <th>ENSG00000101200.5</th>\n",
       "      <td>0.937310</td>\n",
       "    </tr>\n",
       "  </tbody>\n",
       "</table>\n",
       "</div>"
      ],
      "text/plain": [
       "                      TAU_M\n",
       "ENSG                       \n",
       "ENSG00000039139.9  0.866073\n",
       "ENSG00000082516.8  0.470625\n",
       "ENSG00000100302.6  0.862967\n",
       "ENSG00000100580.7  0.610741\n",
       "ENSG00000101200.5  0.937310"
      ]
     },
     "execution_count": 26,
     "metadata": {
      "tags": []
     },
     "output_type": "execute_result"
    }
   ],
   "source": [
    "tpms_tau_m = tpms.loc[tpms.SEX=='male'].groupby(['ENSG']).TPM.agg(TAU)\n",
    "tpms_tau_m = pandas.DataFrame(tpms_tau_m).rename(columns={'TPM':'TAU_M'})\n",
    "tpms_tau_m.head()"
   ]
  },
  {
   "cell_type": "code",
   "execution_count": 27,
   "metadata": {
    "colab": {
     "base_uri": "https://localhost:8080/",
     "height": 204
    },
    "colab_type": "code",
    "id": "dSeqvfepMTbl",
    "outputId": "494f3abe-05b1-4673-b385-cb665cfedc1f"
   },
   "outputs": [
    {
     "data": {
      "text/html": [
       "<div>\n",
       "<style scoped>\n",
       "    .dataframe tbody tr th:only-of-type {\n",
       "        vertical-align: middle;\n",
       "    }\n",
       "\n",
       "    .dataframe tbody tr th {\n",
       "        vertical-align: top;\n",
       "    }\n",
       "\n",
       "    .dataframe thead th {\n",
       "        text-align: right;\n",
       "    }\n",
       "</style>\n",
       "<table border=\"1\" class=\"dataframe\">\n",
       "  <thead>\n",
       "    <tr style=\"text-align: right;\">\n",
       "      <th></th>\n",
       "      <th>ENSG</th>\n",
       "      <th>TAU_F</th>\n",
       "      <th>TAU_M</th>\n",
       "    </tr>\n",
       "  </thead>\n",
       "  <tbody>\n",
       "    <tr>\n",
       "      <th>0</th>\n",
       "      <td>ENSG00000039139.9</td>\n",
       "      <td>0.881320</td>\n",
       "      <td>0.866073</td>\n",
       "    </tr>\n",
       "    <tr>\n",
       "      <th>1</th>\n",
       "      <td>ENSG00000082516.8</td>\n",
       "      <td>0.412861</td>\n",
       "      <td>0.470625</td>\n",
       "    </tr>\n",
       "    <tr>\n",
       "      <th>2</th>\n",
       "      <td>ENSG00000100302.6</td>\n",
       "      <td>0.857392</td>\n",
       "      <td>0.862967</td>\n",
       "    </tr>\n",
       "    <tr>\n",
       "      <th>3</th>\n",
       "      <td>ENSG00000100580.7</td>\n",
       "      <td>0.609194</td>\n",
       "      <td>0.610741</td>\n",
       "    </tr>\n",
       "    <tr>\n",
       "      <th>4</th>\n",
       "      <td>ENSG00000101200.5</td>\n",
       "      <td>0.899435</td>\n",
       "      <td>0.937310</td>\n",
       "    </tr>\n",
       "  </tbody>\n",
       "</table>\n",
       "</div>"
      ],
      "text/plain": [
       "                ENSG     TAU_F     TAU_M\n",
       "0  ENSG00000039139.9  0.881320  0.866073\n",
       "1  ENSG00000082516.8  0.412861  0.470625\n",
       "2  ENSG00000100302.6  0.857392  0.862967\n",
       "3  ENSG00000100580.7  0.609194  0.610741\n",
       "4  ENSG00000101200.5  0.899435  0.937310"
      ]
     },
     "execution_count": 27,
     "metadata": {
      "tags": []
     },
     "output_type": "execute_result"
    }
   ],
   "source": [
    "tpms_tau = pandas.merge(tpms_tau_f, tpms_tau_m, left_index=True, right_index=True)\n",
    "tpms_tau = tpms_tau.reset_index(drop=False)\n",
    "tpms_tau.head()"
   ]
  },
  {
   "cell_type": "markdown",
   "metadata": {
    "colab_type": "text",
    "id": "4UuYZjZcrUU5"
   },
   "source": [
    "### Combine rows into one row per gene+tissue, cols for M and F TPM."
   ]
  },
  {
   "cell_type": "code",
   "execution_count": 28,
   "metadata": {
    "colab": {
     "base_uri": "https://localhost:8080/",
     "height": 204
    },
    "colab_type": "code",
    "id": "W_huvO_NrbTl",
    "outputId": "cc145b6b-79b8-4ba9-a632-d72d519439cd"
   },
   "outputs": [
    {
     "data": {
      "text/html": [
       "<div>\n",
       "<style scoped>\n",
       "    .dataframe tbody tr th:only-of-type {\n",
       "        vertical-align: middle;\n",
       "    }\n",
       "\n",
       "    .dataframe tbody tr th {\n",
       "        vertical-align: top;\n",
       "    }\n",
       "\n",
       "    .dataframe thead th {\n",
       "        text-align: right;\n",
       "    }\n",
       "</style>\n",
       "<table border=\"1\" class=\"dataframe\">\n",
       "  <thead>\n",
       "    <tr style=\"text-align: right;\">\n",
       "      <th></th>\n",
       "      <th>ENSG</th>\n",
       "      <th>SMTSD</th>\n",
       "      <th>TPM_F</th>\n",
       "      <th>TPM_M</th>\n",
       "    </tr>\n",
       "  </thead>\n",
       "  <tbody>\n",
       "    <tr>\n",
       "      <th>0</th>\n",
       "      <td>ENSG00000039139.9</td>\n",
       "      <td>Adipose - Subcutaneous</td>\n",
       "      <td>0.078</td>\n",
       "      <td>0.074</td>\n",
       "    </tr>\n",
       "    <tr>\n",
       "      <th>1</th>\n",
       "      <td>ENSG00000039139.9</td>\n",
       "      <td>Adipose - Visceral (Omentum)</td>\n",
       "      <td>0.053</td>\n",
       "      <td>0.064</td>\n",
       "    </tr>\n",
       "    <tr>\n",
       "      <th>2</th>\n",
       "      <td>ENSG00000039139.9</td>\n",
       "      <td>Adrenal Gland</td>\n",
       "      <td>0.079</td>\n",
       "      <td>0.079</td>\n",
       "    </tr>\n",
       "    <tr>\n",
       "      <th>3</th>\n",
       "      <td>ENSG00000039139.9</td>\n",
       "      <td>Artery - Aorta</td>\n",
       "      <td>0.083</td>\n",
       "      <td>0.072</td>\n",
       "    </tr>\n",
       "    <tr>\n",
       "      <th>4</th>\n",
       "      <td>ENSG00000039139.9</td>\n",
       "      <td>Artery - Coronary</td>\n",
       "      <td>0.064</td>\n",
       "      <td>0.066</td>\n",
       "    </tr>\n",
       "  </tbody>\n",
       "</table>\n",
       "</div>"
      ],
      "text/plain": [
       "                ENSG                         SMTSD  TPM_F  TPM_M\n",
       "0  ENSG00000039139.9        Adipose - Subcutaneous  0.078  0.074\n",
       "1  ENSG00000039139.9  Adipose - Visceral (Omentum)  0.053  0.064\n",
       "2  ENSG00000039139.9                 Adrenal Gland  0.079  0.079\n",
       "3  ENSG00000039139.9                Artery - Aorta  0.083  0.072\n",
       "4  ENSG00000039139.9             Artery - Coronary  0.064  0.066"
      ]
     },
     "execution_count": 28,
     "metadata": {
      "tags": []
     },
     "output_type": "execute_result"
    }
   ],
   "source": [
    "tpms_f = tpms.loc[tpms['SEX'] == 'female']\n",
    "tpms_f = tpms_f[['ENSG', 'SMTSD', 'TPM']].rename(columns={'TPM':'TPM_F'})\n",
    "tpms_m = tpms.loc[tpms['SEX'] == 'male']\n",
    "tpms_m = tpms_m[['ENSG', 'SMTSD', 'TPM']].rename(columns={'TPM':'TPM_M'})\n",
    "tpms_sex = pandas.merge(tpms_f, tpms_m, how='inner', on=['ENSG','SMTSD'])\n",
    "tpms_sex.head()"
   ]
  },
  {
   "cell_type": "code",
   "execution_count": 29,
   "metadata": {
    "colab": {
     "base_uri": "https://localhost:8080/",
     "height": 221
    },
    "colab_type": "code",
    "id": "UNujtYxQtu3o",
    "outputId": "a89eaa0f-4415-4d50-91a7-21efa61cd172"
   },
   "outputs": [
    {
     "name": "stdout",
     "output_type": "stream",
     "text": [
      "Elapsed: 4s\n"
     ]
    },
    {
     "data": {
      "text/html": [
       "<div>\n",
       "<style scoped>\n",
       "    .dataframe tbody tr th:only-of-type {\n",
       "        vertical-align: middle;\n",
       "    }\n",
       "\n",
       "    .dataframe tbody tr th {\n",
       "        vertical-align: top;\n",
       "    }\n",
       "\n",
       "    .dataframe thead th {\n",
       "        text-align: right;\n",
       "    }\n",
       "</style>\n",
       "<table border=\"1\" class=\"dataframe\">\n",
       "  <thead>\n",
       "    <tr style=\"text-align: right;\">\n",
       "      <th></th>\n",
       "      <th>ENSG</th>\n",
       "      <th>SMTSD</th>\n",
       "      <th>TPM_F</th>\n",
       "      <th>TPM_F_RANK</th>\n",
       "      <th>LEVEL_F</th>\n",
       "    </tr>\n",
       "  </thead>\n",
       "  <tbody>\n",
       "    <tr>\n",
       "      <th>0</th>\n",
       "      <td>ENSG00000039139.9</td>\n",
       "      <td>Adipose - Subcutaneous</td>\n",
       "      <td>0.078</td>\n",
       "      <td>0.266667</td>\n",
       "      <td>Medium</td>\n",
       "    </tr>\n",
       "    <tr>\n",
       "      <th>1</th>\n",
       "      <td>ENSG00000039139.9</td>\n",
       "      <td>Adipose - Visceral (Omentum)</td>\n",
       "      <td>0.053</td>\n",
       "      <td>0.133333</td>\n",
       "      <td>Low</td>\n",
       "    </tr>\n",
       "    <tr>\n",
       "      <th>2</th>\n",
       "      <td>ENSG00000039139.9</td>\n",
       "      <td>Adrenal Gland</td>\n",
       "      <td>0.079</td>\n",
       "      <td>0.300000</td>\n",
       "      <td>Medium</td>\n",
       "    </tr>\n",
       "    <tr>\n",
       "      <th>3</th>\n",
       "      <td>ENSG00000039139.9</td>\n",
       "      <td>Artery - Aorta</td>\n",
       "      <td>0.083</td>\n",
       "      <td>0.333333</td>\n",
       "      <td>Medium</td>\n",
       "    </tr>\n",
       "    <tr>\n",
       "      <th>4</th>\n",
       "      <td>ENSG00000039139.9</td>\n",
       "      <td>Artery - Coronary</td>\n",
       "      <td>0.064</td>\n",
       "      <td>0.166667</td>\n",
       "      <td>Low</td>\n",
       "    </tr>\n",
       "  </tbody>\n",
       "</table>\n",
       "</div>"
      ],
      "text/plain": [
       "                ENSG                         SMTSD  TPM_F  TPM_F_RANK LEVEL_F\n",
       "0  ENSG00000039139.9        Adipose - Subcutaneous  0.078    0.266667  Medium\n",
       "1  ENSG00000039139.9  Adipose - Visceral (Omentum)  0.053    0.133333     Low\n",
       "2  ENSG00000039139.9                 Adrenal Gland  0.079    0.300000  Medium\n",
       "3  ENSG00000039139.9                Artery - Aorta  0.083    0.333333  Medium\n",
       "4  ENSG00000039139.9             Artery - Coronary  0.064    0.166667     Low"
      ]
     },
     "execution_count": 29,
     "metadata": {
      "tags": []
     },
     "output_type": "execute_result"
    }
   ],
   "source": [
    "t0 = time.time()\n",
    "tpms_ranks_f = GTRanks(tpms_sex[['ENSG','SMTSD','TPM_F']].copy(), 'TPM_F')\n",
    "print(\"Elapsed: %ds\"%(time.time()-t0))\n",
    "tpms_ranks_f['LEVEL_F'] = tpms_ranks_f.TPM_F_RANK.apply(lambda x: 'Not detected' if x==0 else 'Low' if x<.25 else 'Medium' if x<.75 else 'High')\n",
    "tpms_ranks_f.head()"
   ]
  },
  {
   "cell_type": "code",
   "execution_count": 30,
   "metadata": {
    "colab": {
     "base_uri": "https://localhost:8080/",
     "height": 221
    },
    "colab_type": "code",
    "id": "oTZA7hKiKwAQ",
    "outputId": "fac1c46b-9c9a-4e11-d782-9d9e6290abe8"
   },
   "outputs": [
    {
     "name": "stdout",
     "output_type": "stream",
     "text": [
      "Elapsed: 4s\n"
     ]
    },
    {
     "data": {
      "text/html": [
       "<div>\n",
       "<style scoped>\n",
       "    .dataframe tbody tr th:only-of-type {\n",
       "        vertical-align: middle;\n",
       "    }\n",
       "\n",
       "    .dataframe tbody tr th {\n",
       "        vertical-align: top;\n",
       "    }\n",
       "\n",
       "    .dataframe thead th {\n",
       "        text-align: right;\n",
       "    }\n",
       "</style>\n",
       "<table border=\"1\" class=\"dataframe\">\n",
       "  <thead>\n",
       "    <tr style=\"text-align: right;\">\n",
       "      <th></th>\n",
       "      <th>ENSG</th>\n",
       "      <th>SMTSD</th>\n",
       "      <th>TPM_M</th>\n",
       "      <th>TPM_M_RANK</th>\n",
       "      <th>LEVEL_M</th>\n",
       "    </tr>\n",
       "  </thead>\n",
       "  <tbody>\n",
       "    <tr>\n",
       "      <th>0</th>\n",
       "      <td>ENSG00000039139.9</td>\n",
       "      <td>Adipose - Subcutaneous</td>\n",
       "      <td>0.074</td>\n",
       "      <td>0.266667</td>\n",
       "      <td>Medium</td>\n",
       "    </tr>\n",
       "    <tr>\n",
       "      <th>1</th>\n",
       "      <td>ENSG00000039139.9</td>\n",
       "      <td>Adipose - Visceral (Omentum)</td>\n",
       "      <td>0.064</td>\n",
       "      <td>0.133333</td>\n",
       "      <td>Low</td>\n",
       "    </tr>\n",
       "    <tr>\n",
       "      <th>2</th>\n",
       "      <td>ENSG00000039139.9</td>\n",
       "      <td>Adrenal Gland</td>\n",
       "      <td>0.079</td>\n",
       "      <td>0.366667</td>\n",
       "      <td>Medium</td>\n",
       "    </tr>\n",
       "    <tr>\n",
       "      <th>3</th>\n",
       "      <td>ENSG00000039139.9</td>\n",
       "      <td>Artery - Aorta</td>\n",
       "      <td>0.072</td>\n",
       "      <td>0.200000</td>\n",
       "      <td>Low</td>\n",
       "    </tr>\n",
       "    <tr>\n",
       "      <th>4</th>\n",
       "      <td>ENSG00000039139.9</td>\n",
       "      <td>Artery - Coronary</td>\n",
       "      <td>0.066</td>\n",
       "      <td>0.166667</td>\n",
       "      <td>Low</td>\n",
       "    </tr>\n",
       "  </tbody>\n",
       "</table>\n",
       "</div>"
      ],
      "text/plain": [
       "                ENSG                         SMTSD  TPM_M  TPM_M_RANK LEVEL_M\n",
       "0  ENSG00000039139.9        Adipose - Subcutaneous  0.074    0.266667  Medium\n",
       "1  ENSG00000039139.9  Adipose - Visceral (Omentum)  0.064    0.133333     Low\n",
       "2  ENSG00000039139.9                 Adrenal Gland  0.079    0.366667  Medium\n",
       "3  ENSG00000039139.9                Artery - Aorta  0.072    0.200000     Low\n",
       "4  ENSG00000039139.9             Artery - Coronary  0.066    0.166667     Low"
      ]
     },
     "execution_count": 30,
     "metadata": {
      "tags": []
     },
     "output_type": "execute_result"
    }
   ],
   "source": [
    "t0 = time.time()\n",
    "tpms_ranks_m = GTRanks(tpms_sex[['ENSG','SMTSD','TPM_M']].copy(), 'TPM_M')\n",
    "print(\"Elapsed: %ds\"%(time.time()-t0))\n",
    "tpms_ranks_m['LEVEL_M'] = tpms_ranks_m.TPM_M_RANK.apply(lambda x: 'Not detected' if x==0 else 'Low' if x<.25 else 'Medium' if x<.75 else 'High')\n",
    "tpms_ranks_m.head()"
   ]
  },
  {
   "cell_type": "code",
   "execution_count": 31,
   "metadata": {
    "colab": {
     "base_uri": "https://localhost:8080/",
     "height": 204
    },
    "colab_type": "code",
    "id": "dVrKuPwOipdx",
    "outputId": "f0ca8e31-3452-46b9-8d0e-23191245ec64"
   },
   "outputs": [
    {
     "data": {
      "text/html": [
       "<div>\n",
       "<style scoped>\n",
       "    .dataframe tbody tr th:only-of-type {\n",
       "        vertical-align: middle;\n",
       "    }\n",
       "\n",
       "    .dataframe tbody tr th {\n",
       "        vertical-align: top;\n",
       "    }\n",
       "\n",
       "    .dataframe thead th {\n",
       "        text-align: right;\n",
       "    }\n",
       "</style>\n",
       "<table border=\"1\" class=\"dataframe\">\n",
       "  <thead>\n",
       "    <tr style=\"text-align: right;\">\n",
       "      <th></th>\n",
       "      <th>ENSG</th>\n",
       "      <th>SMTSD</th>\n",
       "      <th>TPM_F</th>\n",
       "      <th>TPM_F_RANK</th>\n",
       "      <th>LEVEL_F</th>\n",
       "      <th>TPM_M</th>\n",
       "      <th>TPM_M_RANK</th>\n",
       "      <th>LEVEL_M</th>\n",
       "    </tr>\n",
       "  </thead>\n",
       "  <tbody>\n",
       "    <tr>\n",
       "      <th>0</th>\n",
       "      <td>ENSG00000039139.9</td>\n",
       "      <td>Adipose - Subcutaneous</td>\n",
       "      <td>0.078</td>\n",
       "      <td>0.266667</td>\n",
       "      <td>Medium</td>\n",
       "      <td>0.074</td>\n",
       "      <td>0.266667</td>\n",
       "      <td>Medium</td>\n",
       "    </tr>\n",
       "    <tr>\n",
       "      <th>1</th>\n",
       "      <td>ENSG00000039139.9</td>\n",
       "      <td>Adipose - Visceral (Omentum)</td>\n",
       "      <td>0.053</td>\n",
       "      <td>0.133333</td>\n",
       "      <td>Low</td>\n",
       "      <td>0.064</td>\n",
       "      <td>0.133333</td>\n",
       "      <td>Low</td>\n",
       "    </tr>\n",
       "    <tr>\n",
       "      <th>2</th>\n",
       "      <td>ENSG00000039139.9</td>\n",
       "      <td>Adrenal Gland</td>\n",
       "      <td>0.079</td>\n",
       "      <td>0.300000</td>\n",
       "      <td>Medium</td>\n",
       "      <td>0.079</td>\n",
       "      <td>0.366667</td>\n",
       "      <td>Medium</td>\n",
       "    </tr>\n",
       "    <tr>\n",
       "      <th>3</th>\n",
       "      <td>ENSG00000039139.9</td>\n",
       "      <td>Artery - Aorta</td>\n",
       "      <td>0.083</td>\n",
       "      <td>0.333333</td>\n",
       "      <td>Medium</td>\n",
       "      <td>0.072</td>\n",
       "      <td>0.200000</td>\n",
       "      <td>Low</td>\n",
       "    </tr>\n",
       "    <tr>\n",
       "      <th>4</th>\n",
       "      <td>ENSG00000039139.9</td>\n",
       "      <td>Artery - Coronary</td>\n",
       "      <td>0.064</td>\n",
       "      <td>0.166667</td>\n",
       "      <td>Low</td>\n",
       "      <td>0.066</td>\n",
       "      <td>0.166667</td>\n",
       "      <td>Low</td>\n",
       "    </tr>\n",
       "  </tbody>\n",
       "</table>\n",
       "</div>"
      ],
      "text/plain": [
       "                ENSG                         SMTSD  TPM_F  TPM_F_RANK LEVEL_F  \\\n",
       "0  ENSG00000039139.9        Adipose - Subcutaneous  0.078    0.266667  Medium   \n",
       "1  ENSG00000039139.9  Adipose - Visceral (Omentum)  0.053    0.133333     Low   \n",
       "2  ENSG00000039139.9                 Adrenal Gland  0.079    0.300000  Medium   \n",
       "3  ENSG00000039139.9                Artery - Aorta  0.083    0.333333  Medium   \n",
       "4  ENSG00000039139.9             Artery - Coronary  0.064    0.166667     Low   \n",
       "\n",
       "   TPM_M  TPM_M_RANK LEVEL_M  \n",
       "0  0.074    0.266667  Medium  \n",
       "1  0.064    0.133333     Low  \n",
       "2  0.079    0.366667  Medium  \n",
       "3  0.072    0.200000     Low  \n",
       "4  0.066    0.166667     Low  "
      ]
     },
     "execution_count": 31,
     "metadata": {
      "tags": []
     },
     "output_type": "execute_result"
    }
   ],
   "source": [
    "tpms_ranks = pandas.merge(tpms_ranks_f, tpms_ranks_m, on=['ENSG','SMTSD'], how='inner')\n",
    "tpms_ranks.head()"
   ]
  },
  {
   "cell_type": "markdown",
   "metadata": {
    "colab_type": "text",
    "id": "R3CrnrZy0usJ"
   },
   "source": [
    "### Log fold-change is log of ratio."
   ]
  },
  {
   "cell_type": "code",
   "execution_count": 32,
   "metadata": {
    "colab": {
     "base_uri": "https://localhost:8080/",
     "height": 204
    },
    "colab_type": "code",
    "id": "vYRobAfenAvd",
    "outputId": "0bc55ff4-131a-4841-e398-56538fbc9a66"
   },
   "outputs": [
    {
     "data": {
      "text/html": [
       "<div>\n",
       "<style scoped>\n",
       "    .dataframe tbody tr th:only-of-type {\n",
       "        vertical-align: middle;\n",
       "    }\n",
       "\n",
       "    .dataframe tbody tr th {\n",
       "        vertical-align: top;\n",
       "    }\n",
       "\n",
       "    .dataframe thead th {\n",
       "        text-align: right;\n",
       "    }\n",
       "</style>\n",
       "<table border=\"1\" class=\"dataframe\">\n",
       "  <thead>\n",
       "    <tr style=\"text-align: right;\">\n",
       "      <th></th>\n",
       "      <th>ENSG</th>\n",
       "      <th>SMTSD</th>\n",
       "      <th>TPM_F</th>\n",
       "      <th>TPM_F_RANK</th>\n",
       "      <th>LEVEL_F</th>\n",
       "      <th>TPM_M</th>\n",
       "      <th>TPM_M_RANK</th>\n",
       "      <th>LEVEL_M</th>\n",
       "      <th>log2foldchange</th>\n",
       "      <th>log2foldchange_abs</th>\n",
       "    </tr>\n",
       "  </thead>\n",
       "  <tbody>\n",
       "    <tr>\n",
       "      <th>0</th>\n",
       "      <td>ENSG00000039139.9</td>\n",
       "      <td>Adipose - Subcutaneous</td>\n",
       "      <td>0.078</td>\n",
       "      <td>0.266667</td>\n",
       "      <td>Medium</td>\n",
       "      <td>0.074</td>\n",
       "      <td>0.266667</td>\n",
       "      <td>Medium</td>\n",
       "      <td>0.005363</td>\n",
       "      <td>0.005363</td>\n",
       "    </tr>\n",
       "    <tr>\n",
       "      <th>1</th>\n",
       "      <td>ENSG00000039139.9</td>\n",
       "      <td>Adipose - Visceral (Omentum)</td>\n",
       "      <td>0.053</td>\n",
       "      <td>0.133333</td>\n",
       "      <td>Low</td>\n",
       "      <td>0.064</td>\n",
       "      <td>0.133333</td>\n",
       "      <td>Low</td>\n",
       "      <td>-0.014993</td>\n",
       "      <td>0.014993</td>\n",
       "    </tr>\n",
       "    <tr>\n",
       "      <th>2</th>\n",
       "      <td>ENSG00000039139.9</td>\n",
       "      <td>Adrenal Gland</td>\n",
       "      <td>0.079</td>\n",
       "      <td>0.300000</td>\n",
       "      <td>Medium</td>\n",
       "      <td>0.079</td>\n",
       "      <td>0.366667</td>\n",
       "      <td>Medium</td>\n",
       "      <td>0.000000</td>\n",
       "      <td>0.000000</td>\n",
       "    </tr>\n",
       "    <tr>\n",
       "      <th>3</th>\n",
       "      <td>ENSG00000039139.9</td>\n",
       "      <td>Artery - Aorta</td>\n",
       "      <td>0.083</td>\n",
       "      <td>0.333333</td>\n",
       "      <td>Medium</td>\n",
       "      <td>0.072</td>\n",
       "      <td>0.200000</td>\n",
       "      <td>Low</td>\n",
       "      <td>0.014728</td>\n",
       "      <td>0.014728</td>\n",
       "    </tr>\n",
       "    <tr>\n",
       "      <th>4</th>\n",
       "      <td>ENSG00000039139.9</td>\n",
       "      <td>Artery - Coronary</td>\n",
       "      <td>0.064</td>\n",
       "      <td>0.166667</td>\n",
       "      <td>Low</td>\n",
       "      <td>0.066</td>\n",
       "      <td>0.166667</td>\n",
       "      <td>Low</td>\n",
       "      <td>-0.002709</td>\n",
       "      <td>0.002709</td>\n",
       "    </tr>\n",
       "  </tbody>\n",
       "</table>\n",
       "</div>"
      ],
      "text/plain": [
       "                ENSG                         SMTSD  TPM_F  TPM_F_RANK LEVEL_F  \\\n",
       "0  ENSG00000039139.9        Adipose - Subcutaneous  0.078    0.266667  Medium   \n",
       "1  ENSG00000039139.9  Adipose - Visceral (Omentum)  0.053    0.133333     Low   \n",
       "2  ENSG00000039139.9                 Adrenal Gland  0.079    0.300000  Medium   \n",
       "3  ENSG00000039139.9                Artery - Aorta  0.083    0.333333  Medium   \n",
       "4  ENSG00000039139.9             Artery - Coronary  0.064    0.166667     Low   \n",
       "\n",
       "   TPM_M  TPM_M_RANK LEVEL_M  log2foldchange  log2foldchange_abs  \n",
       "0  0.074    0.266667  Medium        0.005363            0.005363  \n",
       "1  0.064    0.133333     Low       -0.014993            0.014993  \n",
       "2  0.079    0.366667  Medium        0.000000            0.000000  \n",
       "3  0.072    0.200000     Low        0.014728            0.014728  \n",
       "4  0.066    0.166667     Low       -0.002709            0.002709  "
      ]
     },
     "execution_count": 32,
     "metadata": {
      "tags": []
     },
     "output_type": "execute_result"
    }
   ],
   "source": [
    "tpms_ranks['log2foldchange'] = ((tpms_ranks.TPM_F+1) / (tpms_ranks.TPM_M+1)).apply(numpy.log2)\n",
    "tpms_ranks['log2foldchange_abs'] = tpms_ranks.log2foldchange.apply(numpy.abs)\n",
    "tpms_ranks.head()"
   ]
  },
  {
   "cell_type": "code",
   "execution_count": 33,
   "metadata": {
    "colab": {
     "base_uri": "https://localhost:8080/",
     "height": 364
    },
    "colab_type": "code",
    "id": "V3mSYzgio-w2",
    "outputId": "2baaa419-17f1-44ee-a08f-a04e1cda489f"
   },
   "outputs": [
    {
     "data": {
      "text/plain": [
       "<matplotlib.axes._subplots.AxesSubplot at 0x7ffaa60b12e8>"
      ]
     },
     "execution_count": 33,
     "metadata": {
      "tags": []
     },
     "output_type": "execute_result"
    },
    {
     "data": {
      "image/png": "[encoded data removed]",
      "text/plain": [
       "<matplotlib.figure.Figure at 0x7ffaa60a8160>"
      ]
     },
     "metadata": {
      "tags": []
     },
     "output_type": "display_data"
    }
   ],
   "source": [
    "tpms_ranks.plot.hist(y='log2foldchange', logy=True)"
   ]
  },
  {
   "cell_type": "markdown",
   "metadata": {
    "colab_type": "text",
    "id": "vNAb00bOQmgY"
   },
   "source": [
    "### For selected tissue, sort genes by sex-difference magnitude:"
   ]
  },
  {
   "cell_type": "code",
   "execution_count": 38,
   "metadata": {
    "colab": {
     "base_uri": "https://localhost:8080/",
     "height": 359
    },
    "colab_type": "code",
    "id": "-yuvosEFQm5J",
    "outputId": "ffaf07b6-e729-465c-f242-9907272a69ad"
   },
   "outputs": [
    {
     "data": {
      "text/html": [
       "<div>\n",
       "<style scoped>\n",
       "    .dataframe tbody tr th:only-of-type {\n",
       "        vertical-align: middle;\n",
       "    }\n",
       "\n",
       "    .dataframe tbody tr th {\n",
       "        vertical-align: top;\n",
       "    }\n",
       "\n",
       "    .dataframe thead th {\n",
       "        text-align: right;\n",
       "    }\n",
       "</style>\n",
       "<table border=\"1\" class=\"dataframe\">\n",
       "  <thead>\n",
       "    <tr style=\"text-align: right;\">\n",
       "      <th></th>\n",
       "      <th>ENSG</th>\n",
       "      <th>SMTSD</th>\n",
       "      <th>TPM_F</th>\n",
       "      <th>TPM_F_RANK</th>\n",
       "      <th>LEVEL_F</th>\n",
       "      <th>TPM_M</th>\n",
       "      <th>TPM_M_RANK</th>\n",
       "      <th>LEVEL_M</th>\n",
       "      <th>log2foldchange</th>\n",
       "      <th>NCBI</th>\n",
       "      <th>HGNC</th>\n",
       "    </tr>\n",
       "  </thead>\n",
       "  <tbody>\n",
       "    <tr>\n",
       "      <th>0</th>\n",
       "      <td>ENSG00000163501.6</td>\n",
       "      <td>Bladder</td>\n",
       "      <td>0.963</td>\n",
       "      <td>0.766667</td>\n",
       "      <td>High</td>\n",
       "      <td>4.090</td>\n",
       "      <td>0.833333</td>\n",
       "      <td>High</td>\n",
       "      <td>-1.374605</td>\n",
       "      <td>3549</td>\n",
       "      <td>IHH</td>\n",
       "    </tr>\n",
       "    <tr>\n",
       "      <th>1</th>\n",
       "      <td>ENSG00000174807.3</td>\n",
       "      <td>Bladder</td>\n",
       "      <td>80.055</td>\n",
       "      <td>0.833333</td>\n",
       "      <td>High</td>\n",
       "      <td>38.685</td>\n",
       "      <td>0.533333</td>\n",
       "      <td>Medium</td>\n",
       "      <td>1.030307</td>\n",
       "      <td>57124</td>\n",
       "      <td>CD248</td>\n",
       "    </tr>\n",
       "    <tr>\n",
       "      <th>2</th>\n",
       "      <td>ENSG00000255398.2</td>\n",
       "      <td>Bladder</td>\n",
       "      <td>3.194</td>\n",
       "      <td>0.833333</td>\n",
       "      <td>High</td>\n",
       "      <td>6.316</td>\n",
       "      <td>0.833333</td>\n",
       "      <td>High</td>\n",
       "      <td>-0.802728</td>\n",
       "      <td>8843</td>\n",
       "      <td>HCAR3</td>\n",
       "    </tr>\n",
       "    <tr>\n",
       "      <th>3</th>\n",
       "      <td>ENSG00000152128.13</td>\n",
       "      <td>Bladder</td>\n",
       "      <td>3.030</td>\n",
       "      <td>0.700000</td>\n",
       "      <td>Medium</td>\n",
       "      <td>5.500</td>\n",
       "      <td>0.766667</td>\n",
       "      <td>High</td>\n",
       "      <td>-0.689660</td>\n",
       "      <td>81615</td>\n",
       "      <td>TMEM163</td>\n",
       "    </tr>\n",
       "    <tr>\n",
       "      <th>4</th>\n",
       "      <td>ENSG00000142619.4</td>\n",
       "      <td>Bladder</td>\n",
       "      <td>58.136</td>\n",
       "      <td>0.966667</td>\n",
       "      <td>High</td>\n",
       "      <td>89.910</td>\n",
       "      <td>0.966667</td>\n",
       "      <td>High</td>\n",
       "      <td>-0.620402</td>\n",
       "      <td>51702</td>\n",
       "      <td>PADI3</td>\n",
       "    </tr>\n",
       "    <tr>\n",
       "      <th>5</th>\n",
       "      <td>ENSG00000111432.4</td>\n",
       "      <td>Bladder</td>\n",
       "      <td>2.607</td>\n",
       "      <td>0.833333</td>\n",
       "      <td>High</td>\n",
       "      <td>4.409</td>\n",
       "      <td>0.866667</td>\n",
       "      <td>High</td>\n",
       "      <td>-0.584562</td>\n",
       "      <td>11211</td>\n",
       "      <td>FZD10</td>\n",
       "    </tr>\n",
       "    <tr>\n",
       "      <th>6</th>\n",
       "      <td>ENSG00000126458.3</td>\n",
       "      <td>Bladder</td>\n",
       "      <td>304.200</td>\n",
       "      <td>0.733333</td>\n",
       "      <td>Medium</td>\n",
       "      <td>205.800</td>\n",
       "      <td>0.633333</td>\n",
       "      <td>Medium</td>\n",
       "      <td>0.561519</td>\n",
       "      <td>6237</td>\n",
       "      <td>RRAS</td>\n",
       "    </tr>\n",
       "    <tr>\n",
       "      <th>7</th>\n",
       "      <td>ENSG00000235191.1</td>\n",
       "      <td>Bladder</td>\n",
       "      <td>0.698</td>\n",
       "      <td>0.900000</td>\n",
       "      <td>High</td>\n",
       "      <td>0.183</td>\n",
       "      <td>0.300000</td>\n",
       "      <td>Medium</td>\n",
       "      <td>0.521386</td>\n",
       "      <td>100874085</td>\n",
       "      <td>NUCB1-AS1</td>\n",
       "    </tr>\n",
       "    <tr>\n",
       "      <th>8</th>\n",
       "      <td>ENSG00000163132.6</td>\n",
       "      <td>Bladder</td>\n",
       "      <td>6.337</td>\n",
       "      <td>0.566667</td>\n",
       "      <td>Medium</td>\n",
       "      <td>9.371</td>\n",
       "      <td>0.700000</td>\n",
       "      <td>Medium</td>\n",
       "      <td>-0.499293</td>\n",
       "      <td>4487</td>\n",
       "      <td>MSX1</td>\n",
       "    </tr>\n",
       "    <tr>\n",
       "      <th>9</th>\n",
       "      <td>ENSG00000172938.3</td>\n",
       "      <td>Bladder</td>\n",
       "      <td>0.174</td>\n",
       "      <td>0.733333</td>\n",
       "      <td>Medium</td>\n",
       "      <td>0.547</td>\n",
       "      <td>0.866667</td>\n",
       "      <td>High</td>\n",
       "      <td>-0.398041</td>\n",
       "      <td>116512</td>\n",
       "      <td>MRGPRD</td>\n",
       "    </tr>\n",
       "  </tbody>\n",
       "</table>\n",
       "</div>"
      ],
      "text/plain": [
       "                 ENSG    SMTSD    TPM_F  TPM_F_RANK LEVEL_F    TPM_M  \\\n",
       "0   ENSG00000163501.6  Bladder    0.963    0.766667    High    4.090   \n",
       "1   ENSG00000174807.3  Bladder   80.055    0.833333    High   38.685   \n",
       "2   ENSG00000255398.2  Bladder    3.194    0.833333    High    6.316   \n",
       "3  ENSG00000152128.13  Bladder    3.030    0.700000  Medium    5.500   \n",
       "4   ENSG00000142619.4  Bladder   58.136    0.966667    High   89.910   \n",
       "5   ENSG00000111432.4  Bladder    2.607    0.833333    High    4.409   \n",
       "6   ENSG00000126458.3  Bladder  304.200    0.733333  Medium  205.800   \n",
       "7   ENSG00000235191.1  Bladder    0.698    0.900000    High    0.183   \n",
       "8   ENSG00000163132.6  Bladder    6.337    0.566667  Medium    9.371   \n",
       "9   ENSG00000172938.3  Bladder    0.174    0.733333  Medium    0.547   \n",
       "\n",
       "   TPM_M_RANK LEVEL_M  log2foldchange       NCBI       HGNC  \n",
       "0    0.833333    High       -1.374605       3549        IHH  \n",
       "1    0.533333  Medium        1.030307      57124      CD248  \n",
       "2    0.833333    High       -0.802728       8843      HCAR3  \n",
       "3    0.766667    High       -0.689660      81615    TMEM163  \n",
       "4    0.966667    High       -0.620402      51702      PADI3  \n",
       "5    0.866667    High       -0.584562      11211      FZD10  \n",
       "6    0.633333  Medium        0.561519       6237       RRAS  \n",
       "7    0.300000  Medium        0.521386  100874085  NUCB1-AS1  \n",
       "8    0.700000  Medium       -0.499293       4487       MSX1  \n",
       "9    0.866667    High       -0.398041     116512     MRGPRD  "
      ]
     },
     "execution_count": 38,
     "metadata": {
      "tags": []
     },
     "output_type": "execute_result"
    }
   ],
   "source": [
    "tpms_bladder = tpms_ranks[tpms_ranks.SMTSD==\"Bladder\"]\n",
    "tpms_bladder = tpms_bladder.sort_values(by=[\"log2foldchange_abs\"], ascending=False)\n",
    "tpms_bladder.drop(columns=['log2foldchange_abs'], inplace=True)\n",
    "tpms_bladder = pandas.merge(tpms_bladder, genes, on=\"ENSG\", how=\"left\")\n",
    "tpms_bladder = tpms_bladder.reset_index(drop=True)\n",
    "tpms_bladder.head(10)\n"
   ]
  },
  {
   "cell_type": "code",
   "execution_count": 40,
   "metadata": {
    "colab": {
     "base_uri": "https://localhost:8080/",
     "height": 424
    },
    "colab_type": "code",
    "id": "3ELJOGT6e5tO",
    "outputId": "eb0c20ff-8bf5-4e5e-e896-0ce4c6709ab2"
   },
   "outputs": [
    {
     "data": {
      "text/plain": [
       "<matplotlib.axes._subplots.AxesSubplot at 0x7ffaa5fcfa20>"
      ]
     },
     "execution_count": 40,
     "metadata": {
      "tags": []
     },
     "output_type": "execute_result"
    },
    {
     "data": {
      "image/png": "[encoded data removed]",
      "text/plain": [
       "<matplotlib.figure.Figure at 0x7ffaa5fc64a8>"
      ]
     },
     "metadata": {
      "tags": []
     },
     "output_type": "display_data"
    }
   ],
   "source": [
    "plotdata = tpms_bladder.iloc[0:10]\n",
    "plotdata.plot.bar(y='log2foldchange', x='HGNC')"
   ]
  },
  {
   "cell_type": "markdown",
   "metadata": {
    "colab_type": "text",
    "id": "8Th6MzQ6yndd"
   },
   "source": [
    "### For each gene, compute sex difference via Wilcoxon signed-rank test:\n",
    "(Wilcoxon signed-rank test, with Wilcox treatment, discarding all zero-differences.)"
   ]
  },
  {
   "cell_type": "code",
   "execution_count": 41,
   "metadata": {
    "colab": {
     "base_uri": "https://localhost:8080/",
     "height": 238
    },
    "colab_type": "code",
    "id": "6HNxmpqWk_Sf",
    "outputId": "5233a4f0-346b-4cc9-d0a0-e8e203dd14ff"
   },
   "outputs": [
    {
     "name": "stderr",
     "output_type": "stream",
     "text": [
      "/usr/local/lib/python3.6/dist-packages/scipy/stats/morestats.py:2397: UserWarning: Warning: sample size too small for normal approximation.\n",
      "  warnings.warn(\"Warning: sample size too small for normal approximation.\")\n"
     ]
    },
    {
     "data": {
      "text/html": [
       "<div>\n",
       "<style scoped>\n",
       "    .dataframe tbody tr th:only-of-type {\n",
       "        vertical-align: middle;\n",
       "    }\n",
       "\n",
       "    .dataframe tbody tr th {\n",
       "        vertical-align: top;\n",
       "    }\n",
       "\n",
       "    .dataframe thead th {\n",
       "        text-align: right;\n",
       "    }\n",
       "</style>\n",
       "<table border=\"1\" class=\"dataframe\">\n",
       "  <thead>\n",
       "    <tr style=\"text-align: right;\">\n",
       "      <th></th>\n",
       "      <th>ENSG</th>\n",
       "      <th>WilcoxonSignedRank_pval</th>\n",
       "      <th>WilcoxonSignedRank_stat</th>\n",
       "    </tr>\n",
       "  </thead>\n",
       "  <tbody>\n",
       "    <tr>\n",
       "      <th>0</th>\n",
       "      <td>ENSG00000039139.9</td>\n",
       "      <td>0.910825</td>\n",
       "      <td>102</td>\n",
       "    </tr>\n",
       "    <tr>\n",
       "      <th>1</th>\n",
       "      <td>ENSG00000082516.8</td>\n",
       "      <td>0.219233</td>\n",
       "      <td>107</td>\n",
       "    </tr>\n",
       "    <tr>\n",
       "      <th>2</th>\n",
       "      <td>ENSG00000100302.6</td>\n",
       "      <td>0.78258</td>\n",
       "      <td>118</td>\n",
       "    </tr>\n",
       "    <tr>\n",
       "      <th>3</th>\n",
       "      <td>ENSG00000100580.7</td>\n",
       "      <td>0.696412</td>\n",
       "      <td>148</td>\n",
       "    </tr>\n",
       "    <tr>\n",
       "      <th>4</th>\n",
       "      <td>ENSG00000101200.5</td>\n",
       "      <td>0.303659</td>\n",
       "      <td>135</td>\n",
       "    </tr>\n",
       "  </tbody>\n",
       "</table>\n",
       "</div>"
      ],
      "text/plain": [
       "                ENSG WilcoxonSignedRank_pval WilcoxonSignedRank_stat\n",
       "0  ENSG00000039139.9                0.910825                     102\n",
       "1  ENSG00000082516.8                0.219233                     107\n",
       "2  ENSG00000100302.6                 0.78258                     118\n",
       "3  ENSG00000100580.7                0.696412                     148\n",
       "4  ENSG00000101200.5                0.303659                     135"
      ]
     },
     "execution_count": 41,
     "metadata": {
      "tags": []
     },
     "output_type": "execute_result"
    }
   ],
   "source": [
    "results = pandas.DataFrame({'ENSG':tpms_sex.ENSG.drop_duplicates().sort_values(), 'WilcoxonSignedRank_stat':None, 'WilcoxonSignedRank_pval':None}).reset_index(drop=True)\n",
    "\n",
    "for i in range(results.shape[0]):\n",
    "  tpm_f_this = tpms_sex.TPM_F[tpms_ranks.ENSG==results.ENSG[i]]\n",
    "  tpm_m_this = tpms_sex.TPM_M[tpms_ranks.ENSG==results.ENSG[i]]\n",
    "  # Sample size must be sufficient.\n",
    "  if tpm_f_this[tpm_f_this>0].size<8 or tpm_m_this[tpm_m_this>0].size<8:\n",
    "    continue\n",
    "  stat, pval = scipy.stats.wilcoxon(x=tpm_f_this, y=tpm_m_this, zero_method='wilcox')\n",
    "  results.WilcoxonSignedRank_stat.iloc[i] = stat\n",
    "  results.WilcoxonSignedRank_pval.iloc[i] = pval \n",
    "results.head()"
   ]
  }
 ],
 "metadata": {
  "colab": {
   "collapsed_sections": [],
   "name": "gtex_rnaseq_sabv.ipynb",
   "provenance": [],
   "version": "0.3.2"
  },
  "kernelspec": {
   "display_name": "Python 3",
   "language": "python",
   "name": "python3"
  },
  "language_info": {
   "codemirror_mode": {
    "name": "ipython",
    "version": 3
   },
   "file_extension": ".py",
   "mimetype": "text/x-python",
   "name": "python",
   "nbconvert_exporter": "python",
   "pygments_lexer": "ipython3",
   "version": "3.7.1"
  }
 },
 "nbformat": 4,
 "nbformat_minor": 1
}
