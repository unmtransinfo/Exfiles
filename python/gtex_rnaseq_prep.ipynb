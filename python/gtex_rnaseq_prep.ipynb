{
 "cells": [
  {
   "cell_type": "markdown",
   "metadata": {
    "colab_type": "text",
    "id": "vB7J5P7Vszpg"
   },
   "source": [
    "<table width=\"100%\" style=\"border:none\">\n",
    "  <tr>\n",
    "    <td valign=\"top\">\n",
    "      <h1>GTEx RNAseq Preprocessing</h1>\n",
    "      <ul>\n",
    "<li>Author: Jeremy Yang\n",
    "<li>Based on R code by Oleg Ursu.\n",
    "<li>Required: Python3, Pandas 0.22+\n",
    "<li>Clean, tidy, reshape RNAseq expression data.\n",
    "<li>Save aggregated-samples median TPM file for downstream co-expression analysis.\n",
    "<li>Save expression profiles (exfiles) TPM file for downstream co-expression analysis.\n",
    "      </ul>\n",
    "      [About Colaboratory](https://research.google.com/colaboratory/faq.html).\n",
    "    </td>\n",
    "    <td align=\"right\">\n",
    "        <p>NIH Data Commons: Team Helium</p>\n",
    "<img style=\"float:right\" width=\"100\" src=\"https://avatars2.githubusercontent.com/u/33356654?s=200&v=4\" alt=\"HeliumDataCommons Logo\" />\n",
    "    </td>\n",
    "  </tr>\n",
    "  </table>\n",
    " "
   ]
  },
  {
   "cell_type": "code",
   "execution_count": 1,
   "metadata": {
    "colab": {
     "base_uri": "https://localhost:8080/",
     "height": 34
    },
    "colab_type": "code",
    "id": "StWvpEEEef7p",
    "outputId": "ee2f683a-6b70-423f-b11f-b69129a58b7a"
   },
   "outputs": [
    {
     "name": "stdout",
     "output_type": "stream",
     "text": [
      "Python: 3.6.3; Pandas: 0.22.0; Scipy: 0.19.1 ; Numpy: 1.14.5\n"
     ]
    }
   ],
   "source": [
    "import sys,os,re,time,io\n",
    "import urllib.request\n",
    "import google.colab\n",
    "import numpy,scipy\n",
    "import pandas\n",
    "print('Python: %s; Pandas: %s; Scipy: %s ; Numpy: %s'%(sys.version.split()[0],pandas.__version__,scipy.__version__,numpy.__version__))"
   ]
  },
  {
   "cell_type": "markdown",
   "metadata": {
    "colab_type": "text",
    "id": "cwKhzyFo1L21"
   },
   "source": [
    "### Upload subjects datafile:\n",
    "(GTEx_v7_Annotations_SubjectPhenotypesDS.txt)"
   ]
  },
  {
   "cell_type": "code",
   "execution_count": 2,
   "metadata": {
    "colab": {
     "base_uri": "https://localhost:8080/",
     "height": 120,
     "resources": {
      "http://localhost:8080/nbextensions/google.colab/files.js": {
       "data": "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",
       "headers": [
        [
         "content-type",
         "application/javascript"
        ]
       ],
       "ok": true,
       "status": 200,
       "status_text": ""
      }
     }
    },
    "colab_type": "code",
    "id": "1SMOnt2P1Zfv",
    "outputId": "4400a534-5a80-445a-bbcd-adf939cc9a0b"
   },
   "outputs": [
    {
     "name": "stdout",
     "output_type": "stream",
     "text": [
      "Upload GTEx Subjects datafile: \n"
     ]
    },
    {
     "data": {
      "text/html": [
       "\n",
       "     <input type=\"file\" id=\"files-e5692181-1cbd-4aad-909f-4bfc8ae7098e\" name=\"files[]\" multiple disabled />\n",
       "     <output id=\"result-e5692181-1cbd-4aad-909f-4bfc8ae7098e\">\n",
       "      Upload widget is only available when the cell has been executed in the\n",
       "      current browser session. Please rerun this cell to enable.\n",
       "      </output>\n",
       "      <script src=\"/nbextensions/google.colab/files.js\"></script> "
      ],
      "text/plain": [
       "<IPython.core.display.HTML object>"
      ]
     },
     "metadata": {
      "tags": []
     },
     "output_type": "display_data"
    },
    {
     "name": "stdout",
     "output_type": "stream",
     "text": [
      "Saving GTEx_v7_Annotations_SubjectPhenotypesDS.txt to GTEx_v7_Annotations_SubjectPhenotypesDS.txt\n",
      "Uploaded \"GTEx_v7_Annotations_SubjectPhenotypesDS.txt\" with 15485 bytes\n"
     ]
    },
    {
     "name": "stderr",
     "output_type": "stream",
     "text": [
      "dataset nrows: 752 ; ncols: 4:\n"
     ]
    }
   ],
   "source": [
    "print('Upload GTEx Subjects datafile: ')\n",
    "uploaded = google.colab.files.upload()\n",
    "fn = list(uploaded.keys())[0]\n",
    "print('Uploaded \"{name}\" with {length} bytes'.format(name=fn, length=len(uploaded[fn])))\n",
    "subjects = pandas.read_csv(io.StringIO(uploaded[fn].decode('utf8')), sep='\\t')\n",
    "print(\"dataset nrows: %d ; ncols: %d:\"%(subjects.shape[0],subjects.shape[1]), file=sys.stderr)"
   ]
  },
  {
   "cell_type": "code",
   "execution_count": 3,
   "metadata": {
    "colab": {
     "base_uri": "https://localhost:8080/",
     "height": 204
    },
    "colab_type": "code",
    "id": "zLyV_boFRtSO",
    "outputId": "fcec9c5c-e02a-4080-b6ce-e1844ee601ee"
   },
   "outputs": [
    {
     "data": {
      "text/html": [
       "<div>\n",
       "<style scoped>\n",
       "    .dataframe tbody tr th:only-of-type {\n",
       "        vertical-align: middle;\n",
       "    }\n",
       "\n",
       "    .dataframe tbody tr th {\n",
       "        vertical-align: top;\n",
       "    }\n",
       "\n",
       "    .dataframe thead th {\n",
       "        text-align: right;\n",
       "    }\n",
       "</style>\n",
       "<table border=\"1\" class=\"dataframe\">\n",
       "  <thead>\n",
       "    <tr style=\"text-align: right;\">\n",
       "      <th></th>\n",
       "      <th>SUBJID</th>\n",
       "      <th>SEX</th>\n",
       "      <th>AGE</th>\n",
       "      <th>DTHHRDY</th>\n",
       "    </tr>\n",
       "  </thead>\n",
       "  <tbody>\n",
       "    <tr>\n",
       "      <th>0</th>\n",
       "      <td>GTEX-1117F</td>\n",
       "      <td>2</td>\n",
       "      <td>60-69</td>\n",
       "      <td>4.0</td>\n",
       "    </tr>\n",
       "    <tr>\n",
       "      <th>1</th>\n",
       "      <td>GTEX-111CU</td>\n",
       "      <td>1</td>\n",
       "      <td>50-59</td>\n",
       "      <td>0.0</td>\n",
       "    </tr>\n",
       "    <tr>\n",
       "      <th>2</th>\n",
       "      <td>GTEX-111FC</td>\n",
       "      <td>1</td>\n",
       "      <td>60-69</td>\n",
       "      <td>1.0</td>\n",
       "    </tr>\n",
       "    <tr>\n",
       "      <th>3</th>\n",
       "      <td>GTEX-111VG</td>\n",
       "      <td>1</td>\n",
       "      <td>60-69</td>\n",
       "      <td>3.0</td>\n",
       "    </tr>\n",
       "    <tr>\n",
       "      <th>4</th>\n",
       "      <td>GTEX-111YS</td>\n",
       "      <td>1</td>\n",
       "      <td>60-69</td>\n",
       "      <td>0.0</td>\n",
       "    </tr>\n",
       "  </tbody>\n",
       "</table>\n",
       "</div>"
      ],
      "text/plain": [
       "       SUBJID  SEX    AGE  DTHHRDY\n",
       "0  GTEX-1117F    2  60-69      4.0\n",
       "1  GTEX-111CU    1  50-59      0.0\n",
       "2  GTEX-111FC    1  60-69      1.0\n",
       "3  GTEX-111VG    1  60-69      3.0\n",
       "4  GTEX-111YS    1  60-69      0.0"
      ]
     },
     "execution_count": 3,
     "metadata": {
      "tags": []
     },
     "output_type": "execute_result"
    }
   ],
   "source": [
    "subjects.head()"
   ]
  },
  {
   "cell_type": "code",
   "execution_count": 4,
   "metadata": {
    "colab": {
     "base_uri": "https://localhost:8080/",
     "height": 136
    },
    "colab_type": "code",
    "id": "XDjnIBHN6PC2",
    "outputId": "d935354f-4638-4a76-bca9-8e6d001f2c34"
   },
   "outputs": [
    {
     "data": {
      "text/plain": [
       "20-29     58\n",
       "30-39     53\n",
       "40-49    124\n",
       "50-59    253\n",
       "60-69    241\n",
       "70-79     23\n",
       "Name: AGE, dtype: int64"
      ]
     },
     "execution_count": 4,
     "metadata": {
      "tags": []
     },
     "output_type": "execute_result"
    }
   ],
   "source": [
    "subjects.AGE.value_counts().sort_index()"
   ]
  },
  {
   "cell_type": "markdown",
   "metadata": {
    "colab_type": "text",
    "id": "00ru0X8O1yRw"
   },
   "source": [
    "### Remove less healthy subjects: \n",
    "(DTHHRDY = 4-point Hardy Scale Death Classification.)"
   ]
  },
  {
   "cell_type": "code",
   "execution_count": 5,
   "metadata": {
    "colab": {
     "base_uri": "https://localhost:8080/",
     "height": 119
    },
    "colab_type": "code",
    "id": "DOhgbLkGBD3A",
    "outputId": "fb8317ea-fc8f-4ae0-b139-9ad14fe6d5a9"
   },
   "outputs": [
    {
     "name": "stderr",
     "output_type": "stream",
     "text": [
      "Subjects with Hardy score > 2 or NA: 124 (removing)\n",
      "dataset ncols: 609 ; nrows: 4:\n"
     ]
    },
    {
     "data": {
      "text/plain": [
       "0.0    390\n",
       "1.0     29\n",
       "2.0    190\n",
       "Name: DTHHRDY, dtype: int64"
      ]
     },
     "execution_count": 5,
     "metadata": {
      "tags": []
     },
     "output_type": "execute_result"
    }
   ],
   "source": [
    "print(\"Subjects with Hardy score > 2 or NA: %d (removing)\"%(subjects.query('DTHHRDY > 2').shape[0]), file=sys.stderr)\n",
    "subjects = subjects.query('DTHHRDY <= 2')\n",
    "print(\"dataset ncols: %d ; nrows: %d:\"%(subjects.shape[0],subjects.shape[1]), file=sys.stderr)\n",
    "subjects.DTHHRDY.value_counts(sort=True, dropna=False).sort_index()"
   ]
  },
  {
   "cell_type": "markdown",
   "metadata": {
    "colab_type": "text",
    "id": "DQV5a6eVplg5"
   },
   "source": [
    "### Upload samples datafile:\n",
    "(GTEx_v7_Annotations_SampleAttributesDS.txt)"
   ]
  },
  {
   "cell_type": "code",
   "execution_count": 17,
   "metadata": {
    "colab": {
     "base_uri": "https://localhost:8080/",
     "height": 120,
     "resources": {
      "http://localhost:8080/nbextensions/google.colab/files.js": {
       "data": "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",
       "headers": [
        [
         "content-type",
         "application/javascript"
        ]
       ],
       "ok": true,
       "status": 200,
       "status_text": ""
      }
     }
    },
    "colab_type": "code",
    "id": "xfMAdBTnexYS",
    "outputId": "e32e14b7-0844-4024-c928-f7ded99b8e5b"
   },
   "outputs": [
    {
     "name": "stdout",
     "output_type": "stream",
     "text": [
      "Upload GTEx Samples datafile: \n"
     ]
    },
    {
     "data": {
      "text/html": [
       "\n",
       "     <input type=\"file\" id=\"files-a296a6f5-01b2-4260-b65a-fea792250ac4\" name=\"files[]\" multiple disabled />\n",
       "     <output id=\"result-a296a6f5-01b2-4260-b65a-fea792250ac4\">\n",
       "      Upload widget is only available when the cell has been executed in the\n",
       "      current browser session. Please rerun this cell to enable.\n",
       "      </output>\n",
       "      <script src=\"/nbextensions/google.colab/files.js\"></script> "
      ],
      "text/plain": [
       "<IPython.core.display.HTML object>"
      ]
     },
     "metadata": {
      "tags": []
     },
     "output_type": "display_data"
    },
    {
     "name": "stdout",
     "output_type": "stream",
     "text": [
      "Saving GTEx_v7_Annotations_SampleAttributesDS.txt to GTEx_v7_Annotations_SampleAttributesDS (3).txt\n",
      "Uploaded \"GTEx_v7_Annotations_SampleAttributesDS.txt\" with 8281415 bytes\n"
     ]
    },
    {
     "name": "stderr",
     "output_type": "stream",
     "text": [
      "dataset nrows: 15598 ; ncols: 5:\n"
     ]
    }
   ],
   "source": [
    "print('Upload GTEx Samples datafile: ')\n",
    "uploaded = google.colab.files.upload()\n",
    "fn = list(uploaded.keys())[0]\n",
    "print('Uploaded \"{name}\" with {length} bytes'.format(name=fn, length=len(uploaded[fn])))\n",
    "samples = pandas.read_csv(io.StringIO(uploaded[fn].decode('utf8')), sep='\\t')\n",
    "samples = samples[['SAMPID', 'SMATSSCR', 'SMTS', 'SMTSD', 'SMUBRID']]\n",
    "print(\"dataset nrows: %d ; ncols: %d:\"%(samples.shape[0],samples.shape[1]), file=sys.stderr)"
   ]
  },
  {
   "cell_type": "markdown",
   "metadata": {
    "colab_type": "text",
    "id": "JVR2KlrrxPFk"
   },
   "source": [
    " * SMTS = Tissue Type (parent of SMTSD)\n",
    " * SMTSD = Tissue Type, more specific\n",
    " * SMATSSCR = Autolysis Score, 0=None, 1=Mild, 2=Moderate, 3=Severe\n",
    " * Note that other sample attributes may be suitable for quality criteria.\n",
    " * SMUBRID = Uberon ID, anatomical location\n",
    " * SUBJID is first two hyphen-delimted fields of SAMPID."
   ]
  },
  {
   "cell_type": "code",
   "execution_count": 0,
   "metadata": {
    "colab": {},
    "colab_type": "code",
    "id": "GUPSF541upk0"
   },
   "outputs": [],
   "source": [
    "samples['SUBJID'] = samples.SAMPID.str.extract('^([^-]+-[^-]+)-', expand=True)"
   ]
  },
  {
   "cell_type": "code",
   "execution_count": 19,
   "metadata": {
    "colab": {
     "base_uri": "https://localhost:8080/",
     "height": 204
    },
    "colab_type": "code",
    "id": "YZJjVYIWR27k",
    "outputId": "1f47e7e8-3336-478b-eace-9e8522e7fdad"
   },
   "outputs": [
    {
     "data": {
      "text/html": [
       "<div>\n",
       "<style scoped>\n",
       "    .dataframe tbody tr th:only-of-type {\n",
       "        vertical-align: middle;\n",
       "    }\n",
       "\n",
       "    .dataframe tbody tr th {\n",
       "        vertical-align: top;\n",
       "    }\n",
       "\n",
       "    .dataframe thead th {\n",
       "        text-align: right;\n",
       "    }\n",
       "</style>\n",
       "<table border=\"1\" class=\"dataframe\">\n",
       "  <thead>\n",
       "    <tr style=\"text-align: right;\">\n",
       "      <th></th>\n",
       "      <th>SAMPID</th>\n",
       "      <th>SMATSSCR</th>\n",
       "      <th>SMTS</th>\n",
       "      <th>SMTSD</th>\n",
       "      <th>SMUBRID</th>\n",
       "      <th>SUBJID</th>\n",
       "    </tr>\n",
       "  </thead>\n",
       "  <tbody>\n",
       "    <tr>\n",
       "      <th>0</th>\n",
       "      <td>GTEX-1117F-0003-SM-58Q7G</td>\n",
       "      <td>NaN</td>\n",
       "      <td>Blood</td>\n",
       "      <td>Whole Blood</td>\n",
       "      <td>0013756</td>\n",
       "      <td>GTEX-1117F</td>\n",
       "    </tr>\n",
       "    <tr>\n",
       "      <th>1</th>\n",
       "      <td>GTEX-1117F-0003-SM-5DWSB</td>\n",
       "      <td>NaN</td>\n",
       "      <td>Blood</td>\n",
       "      <td>Whole Blood</td>\n",
       "      <td>0013756</td>\n",
       "      <td>GTEX-1117F</td>\n",
       "    </tr>\n",
       "    <tr>\n",
       "      <th>2</th>\n",
       "      <td>GTEX-1117F-0003-SM-6WBT7</td>\n",
       "      <td>NaN</td>\n",
       "      <td>Blood</td>\n",
       "      <td>Whole Blood</td>\n",
       "      <td>0013756</td>\n",
       "      <td>GTEX-1117F</td>\n",
       "    </tr>\n",
       "    <tr>\n",
       "      <th>3</th>\n",
       "      <td>GTEX-1117F-0226-SM-5GZZ7</td>\n",
       "      <td>0.0</td>\n",
       "      <td>Adipose Tissue</td>\n",
       "      <td>Adipose - Subcutaneous</td>\n",
       "      <td>0002190</td>\n",
       "      <td>GTEX-1117F</td>\n",
       "    </tr>\n",
       "    <tr>\n",
       "      <th>4</th>\n",
       "      <td>GTEX-1117F-0426-SM-5EGHI</td>\n",
       "      <td>0.0</td>\n",
       "      <td>Muscle</td>\n",
       "      <td>Muscle - Skeletal</td>\n",
       "      <td>0011907</td>\n",
       "      <td>GTEX-1117F</td>\n",
       "    </tr>\n",
       "  </tbody>\n",
       "</table>\n",
       "</div>"
      ],
      "text/plain": [
       "                     SAMPID  SMATSSCR            SMTS                   SMTSD  \\\n",
       "0  GTEX-1117F-0003-SM-58Q7G       NaN           Blood             Whole Blood   \n",
       "1  GTEX-1117F-0003-SM-5DWSB       NaN           Blood             Whole Blood   \n",
       "2  GTEX-1117F-0003-SM-6WBT7       NaN           Blood             Whole Blood   \n",
       "3  GTEX-1117F-0226-SM-5GZZ7       0.0  Adipose Tissue  Adipose - Subcutaneous   \n",
       "4  GTEX-1117F-0426-SM-5EGHI       0.0          Muscle       Muscle - Skeletal   \n",
       "\n",
       "   SMUBRID      SUBJID  \n",
       "0  0013756  GTEX-1117F  \n",
       "1  0013756  GTEX-1117F  \n",
       "2  0013756  GTEX-1117F  \n",
       "3  0002190  GTEX-1117F  \n",
       "4  0011907  GTEX-1117F  "
      ]
     },
     "execution_count": 19,
     "metadata": {
      "tags": []
     },
     "output_type": "execute_result"
    }
   ],
   "source": [
    "samples.head()"
   ]
  },
  {
   "cell_type": "code",
   "execution_count": 22,
   "metadata": {
    "colab": {
     "base_uri": "https://localhost:8080/",
     "height": 119
    },
    "colab_type": "code",
    "id": "DzjmyqoEXAiL",
    "outputId": "62577f83-d474-4e63-814f-1c13c255f054"
   },
   "outputs": [
    {
     "data": {
      "text/plain": [
       " 0.0    2533\n",
       " 1.0    7127\n",
       " 2.0    1046\n",
       " 3.0     118\n",
       "NaN     4774\n",
       "Name: SMATSSCR, dtype: int64"
      ]
     },
     "execution_count": 22,
     "metadata": {
      "tags": []
     },
     "output_type": "execute_result"
    }
   ],
   "source": [
    "samples.SMATSSCR.value_counts(dropna=False).sort_index()"
   ]
  },
  {
   "cell_type": "markdown",
   "metadata": {
    "colab_type": "text",
    "id": "LjMKpFc7zJMd"
   },
   "source": [
    "### Remove samples with high degree of autolysis (self-digestion).\n"
   ]
  },
  {
   "cell_type": "code",
   "execution_count": 26,
   "metadata": {
    "colab": {
     "base_uri": "https://localhost:8080/",
     "height": 34
    },
    "colab_type": "code",
    "id": "pwZ284GA2S8I",
    "outputId": "a1e99d8d-5daa-483f-8232-ce62b968afa4"
   },
   "outputs": [
    {
     "name": "stdout",
     "output_type": "stream",
     "text": [
      "Removing 5938/15598 (38.1%)\n"
     ]
    }
   ],
   "source": [
    "print(\"Removing %d/%d (%.1f%%)\"%((~(samples.SMATSSCR<2)).sum(), samples.SMATSSCR.size, 100*(~(samples.SMATSSCR<2)).sum()/samples.SMATSSCR.size))"
   ]
  },
  {
   "cell_type": "code",
   "execution_count": 27,
   "metadata": {
    "colab": {
     "base_uri": "https://localhost:8080/",
     "height": 34
    },
    "colab_type": "code",
    "id": "2chak03tWICs",
    "outputId": "f8147a18-f2b8-44a4-e65f-36c336f15995"
   },
   "outputs": [
    {
     "name": "stdout",
     "output_type": "stream",
     "text": [
      "Remaining samples 9660\n"
     ]
    }
   ],
   "source": [
    "samples = samples[samples.SMATSSCR < 2]\n",
    "print(\"Remaining samples %d\"%(samples.SMATSSCR.size))"
   ]
  },
  {
   "cell_type": "markdown",
   "metadata": {
    "colab_type": "text",
    "id": "W_5vX8JGEg-R"
   },
   "source": [
    "### Clean & tidy cols. "
   ]
  },
  {
   "cell_type": "code",
   "execution_count": 0,
   "metadata": {
    "colab": {},
    "colab_type": "code",
    "id": "fkZ3s4ZPLWKl"
   },
   "outputs": [],
   "source": [
    "samples.loc[(samples.SMTS.str.strip() == '') & samples.SMTSD.str.startswith(\"Skin -\"), 'SMTS'] = 'Skin'"
   ]
  },
  {
   "cell_type": "code",
   "execution_count": 29,
   "metadata": {
    "colab": {
     "base_uri": "https://localhost:8080/",
     "height": 697
    },
    "colab_type": "code",
    "id": "4yzccK8flH02",
    "outputId": "d86aa8eb-5a15-48b3-f702-df9314054e77"
   },
   "outputs": [
    {
     "data": {
      "text/plain": [
       "Adipose Tissue : Adipose - Subcutaneous               517\n",
       "Adipose Tissue : Adipose - Visceral (Omentum)         360\n",
       "Adrenal Gland : Adrenal Gland                         164\n",
       "Bladder : Bladder                                       8\n",
       "Blood Vessel : Artery - Aorta                         310\n",
       "Blood Vessel : Artery - Coronary                      181\n",
       "Blood Vessel : Artery - Tibial                        534\n",
       "Brain : Brain - Cerebellum                            153\n",
       "Brain : Brain - Cortex                                152\n",
       "Breast : Breast - Mammary Tissue                      292\n",
       "Cervix Uteri : Cervix - Ectocervix                      5\n",
       "Cervix Uteri : Cervix - Endocervix                      3\n",
       "Colon : Colon - Sigmoid                               216\n",
       "Colon : Colon - Transverse                            187\n",
       "Esophagus : Esophagus - Gastroesophageal Junction     254\n",
       "Esophagus : Esophagus - Mucosa                        408\n",
       "Esophagus : Esophagus - Muscularis                    389\n",
       "Fallopian Tube : Fallopian Tube                         7\n",
       "Heart : Heart - Atrial Appendage                      299\n",
       "Heart : Heart - Left Ventricle                        410\n",
       "Kidney : Kidney - Cortex                               17\n",
       "Liver : Liver                                         165\n",
       "Lung : Lung                                           438\n",
       "Muscle : Muscle - Skeletal                            703\n",
       "Nerve : Nerve - Tibial                                491\n",
       "Ovary : Ovary                                         135\n",
       "Pancreas : Pancreas                                   232\n",
       "Pituitary : Pituitary                                 114\n",
       "Prostate : Prostate                                   111\n",
       "Salivary Gland : Minor Salivary Gland                 103\n",
       "Skin : Skin - Not Sun Exposed (Suprapubic)            399\n",
       "Skin : Skin - Sun Exposed (Lower leg)                 578\n",
       "Small Intestine : Small Intestine - Terminal Ileum    112\n",
       "Spleen : Spleen                                       146\n",
       "Stomach : Stomach                                     205\n",
       "Testis : Testis                                       206\n",
       "Thyroid : Thyroid                                     444\n",
       "Uterus : Uterus                                       105\n",
       "Vagina : Vagina                                       107\n",
       "dtype: int64"
      ]
     },
     "execution_count": 29,
     "metadata": {
      "tags": []
     },
     "output_type": "execute_result"
    }
   ],
   "source": [
    "(samples.SMTS+\" : \"+samples.SMTSD).value_counts().sort_index()"
   ]
  },
  {
   "cell_type": "markdown",
   "metadata": {
    "colab_type": "text",
    "id": "zrITfg3v3iQ1"
   },
   "source": [
    "### MERGE samples with subjects:"
   ]
  },
  {
   "cell_type": "code",
   "execution_count": 30,
   "metadata": {
    "colab": {
     "base_uri": "https://localhost:8080/",
     "height": 204
    },
    "colab_type": "code",
    "id": "fhQuOfNr3vo_",
    "outputId": "fb577f4e-c79a-46c4-882e-9a97a0a2e6a3"
   },
   "outputs": [
    {
     "data": {
      "text/html": [
       "<div>\n",
       "<style scoped>\n",
       "    .dataframe tbody tr th:only-of-type {\n",
       "        vertical-align: middle;\n",
       "    }\n",
       "\n",
       "    .dataframe tbody tr th {\n",
       "        vertical-align: top;\n",
       "    }\n",
       "\n",
       "    .dataframe thead th {\n",
       "        text-align: right;\n",
       "    }\n",
       "</style>\n",
       "<table border=\"1\" class=\"dataframe\">\n",
       "  <thead>\n",
       "    <tr style=\"text-align: right;\">\n",
       "      <th></th>\n",
       "      <th>SAMPID</th>\n",
       "      <th>SMATSSCR</th>\n",
       "      <th>SMTS</th>\n",
       "      <th>SMTSD</th>\n",
       "      <th>SMUBRID</th>\n",
       "      <th>SUBJID</th>\n",
       "      <th>SEX</th>\n",
       "      <th>AGE</th>\n",
       "      <th>DTHHRDY</th>\n",
       "    </tr>\n",
       "  </thead>\n",
       "  <tbody>\n",
       "    <tr>\n",
       "      <th>0</th>\n",
       "      <td>GTEX-111CU-0126-SM-5GZWZ</td>\n",
       "      <td>0.0</td>\n",
       "      <td>Adrenal Gland</td>\n",
       "      <td>Adrenal Gland</td>\n",
       "      <td>0002369</td>\n",
       "      <td>GTEX-111CU</td>\n",
       "      <td>1</td>\n",
       "      <td>50-59</td>\n",
       "      <td>0.0</td>\n",
       "    </tr>\n",
       "    <tr>\n",
       "      <th>1</th>\n",
       "      <td>GTEX-111CU-0226-SM-5GZXC</td>\n",
       "      <td>0.0</td>\n",
       "      <td>Thyroid</td>\n",
       "      <td>Thyroid</td>\n",
       "      <td>0002046</td>\n",
       "      <td>GTEX-111CU</td>\n",
       "      <td>1</td>\n",
       "      <td>50-59</td>\n",
       "      <td>0.0</td>\n",
       "    </tr>\n",
       "    <tr>\n",
       "      <th>2</th>\n",
       "      <td>GTEX-111CU-0326-SM-5GZXO</td>\n",
       "      <td>0.0</td>\n",
       "      <td>Lung</td>\n",
       "      <td>Lung</td>\n",
       "      <td>0008952</td>\n",
       "      <td>GTEX-111CU</td>\n",
       "      <td>1</td>\n",
       "      <td>50-59</td>\n",
       "      <td>0.0</td>\n",
       "    </tr>\n",
       "    <tr>\n",
       "      <th>3</th>\n",
       "      <td>GTEX-111CU-0426-SM-5GZY1</td>\n",
       "      <td>0.0</td>\n",
       "      <td>Spleen</td>\n",
       "      <td>Spleen</td>\n",
       "      <td>0002106</td>\n",
       "      <td>GTEX-111CU</td>\n",
       "      <td>1</td>\n",
       "      <td>50-59</td>\n",
       "      <td>0.0</td>\n",
       "    </tr>\n",
       "    <tr>\n",
       "      <th>4</th>\n",
       "      <td>GTEX-111CU-0526-SM-5EGHK</td>\n",
       "      <td>1.0</td>\n",
       "      <td>Pancreas</td>\n",
       "      <td>Pancreas</td>\n",
       "      <td>0001150</td>\n",
       "      <td>GTEX-111CU</td>\n",
       "      <td>1</td>\n",
       "      <td>50-59</td>\n",
       "      <td>0.0</td>\n",
       "    </tr>\n",
       "  </tbody>\n",
       "</table>\n",
       "</div>"
      ],
      "text/plain": [
       "                     SAMPID  SMATSSCR           SMTS          SMTSD  SMUBRID  \\\n",
       "0  GTEX-111CU-0126-SM-5GZWZ       0.0  Adrenal Gland  Adrenal Gland  0002369   \n",
       "1  GTEX-111CU-0226-SM-5GZXC       0.0        Thyroid        Thyroid  0002046   \n",
       "2  GTEX-111CU-0326-SM-5GZXO       0.0           Lung           Lung  0008952   \n",
       "3  GTEX-111CU-0426-SM-5GZY1       0.0         Spleen         Spleen  0002106   \n",
       "4  GTEX-111CU-0526-SM-5EGHK       1.0       Pancreas       Pancreas  0001150   \n",
       "\n",
       "       SUBJID  SEX    AGE  DTHHRDY  \n",
       "0  GTEX-111CU    1  50-59      0.0  \n",
       "1  GTEX-111CU    1  50-59      0.0  \n",
       "2  GTEX-111CU    1  50-59      0.0  \n",
       "3  GTEX-111CU    1  50-59      0.0  \n",
       "4  GTEX-111CU    1  50-59      0.0  "
      ]
     },
     "execution_count": 30,
     "metadata": {
      "tags": []
     },
     "output_type": "execute_result"
    }
   ],
   "source": [
    "samples = pandas.merge(samples, subjects, how='inner', on='SUBJID')\n",
    "samples.head()"
   ]
  },
  {
   "cell_type": "markdown",
   "metadata": {
    "colab_type": "text",
    "id": "awHczCpk0B4w"
   },
   "source": [
    "### Clean & tidy:"
   ]
  },
  {
   "cell_type": "code",
   "execution_count": 31,
   "metadata": {
    "colab": {
     "base_uri": "https://localhost:8080/",
     "height": 85
    },
    "colab_type": "code",
    "id": "NLqHEPzFFGwL",
    "outputId": "617d0900-b650-4efb-abfa-d2a190846f01"
   },
   "outputs": [
    {
     "name": "stdout",
     "output_type": "stream",
     "text": [
      "(8422, 9)\n"
     ]
    },
    {
     "data": {
      "text/plain": [
       "female    3061\n",
       "male      5361\n",
       "Name: SEX, dtype: int64"
      ]
     },
     "execution_count": 31,
     "metadata": {
      "tags": []
     },
     "output_type": "execute_result"
    }
   ],
   "source": [
    "samples.dropna(how='any', inplace=True)\n",
    "print(samples.shape)\n",
    "samples.SEX = samples.SEX.apply(lambda x: 'female' if x==2 else 'male' if x==1 else None)\n",
    "samples.SEX.value_counts().sort_index()"
   ]
  },
  {
   "cell_type": "markdown",
   "metadata": {
    "colab_type": "text",
    "id": "ZetBwy5jqOQk"
   },
   "source": [
    "### READ GENE TPMs (full or demo subset)\n",
    "Full file is ~56k rows, 2.6GB uncompressed.  Demo ~1k rows.\n",
    "\n",
    "*   GTEx_Analysis_2016-01-15_v7_RNASeQCv1.1.8_gene_tpm.gct.gz\n",
    "*   GTEx_Analysis_2016-01-15_v7_RNASeQCv1.1.8_gene_tpm_demo.gct.gz\n"
   ]
  },
  {
   "cell_type": "code",
   "execution_count": 32,
   "metadata": {
    "colab": {
     "base_uri": "https://localhost:8080/",
     "height": 137,
     "resources": {
      "http://localhost:8080/nbextensions/google.colab/files.js": {
       "data": "Ly8gQ29weXJpZ2h0IDIwMTcgR29vZ2xlIExMQwovLwovLyBMaWNlbnNlZCB1bmRlciB0aGUgQXBhY2hlIExpY2Vuc2UsIFZlcnNpb24gMi4wICh0aGUgIkxpY2Vuc2UiKTsKLy8geW91IG1heSBub3QgdXNlIHRoaXMgZmlsZSBleGNlcHQgaW4gY29tcGxpYW5jZSB3aXRoIHRoZSBMaWNlbnNlLgovLyBZb3UgbWF5IG9idGFpbiBhIGNvcHkgb2YgdGhlIExpY2Vuc2UgYXQKLy8KLy8gICAgICBodHRwOi8vd3d3LmFwYWNoZS5vcmcvbGljZW5zZXMvTElDRU5TRS0yLjAKLy8KLy8gVW5sZXNzIHJlcXVpcmVkIGJ5IGFwcGxpY2FibGUgbGF3IG9yIGFncmVlZCB0byBpbiB3cml0aW5nLCBzb2Z0d2FyZQovLyBkaXN0cmlidXRlZCB1bmRlciB0aGUgTGljZW5zZSBpcyBkaXN0cmlidXRlZCBvbiBhbiAiQVMgSVMiIEJBU0lTLAovLyBXSVRIT1VUIFdBUlJBTlRJRVMgT1IgQ09ORElUSU9OUyBPRiBBTlkgS0lORCwgZWl0aGVyIGV4cHJlc3Mgb3IgaW1wbGllZC4KLy8gU2VlIHRoZSBMaWNlbnNlIGZvciB0aGUgc3BlY2lmaWMgbGFuZ3VhZ2UgZ292ZXJuaW5nIHBlcm1pc3Npb25zIGFuZAovLyBsaW1pdGF0aW9ucyB1bmRlciB0aGUgTGljZW5zZS4KCi8qKgogKiBAZmlsZW92ZXJ2aWV3IEhlbHBlcnMgZm9yIGdvb2dsZS5jb2xhYiBQeXRob24gbW9kdWxlLgogKi8KKGZ1bmN0aW9uKHNjb3BlKSB7CmZ1bmN0aW9uIHNwYW4odGV4dCwgc3R5bGVBdHRyaWJ1dGVzID0ge30pIHsKICBjb25zdCBlbGVtZW50ID0gZG9jdW1lbnQuY3JlYXRlRWxlbWVudCgnc3BhbicpOwogIGVsZW1lbnQudGV4dENvbnRlbnQgPSB0ZXh0OwogIGZvciAoY29uc3Qga2V5IG9mIE9iamVjdC5rZXlzKHN0eWxlQXR0cmlidXRlcykpIHsKICAgIGVsZW1lbnQuc3R5bGVba2V5XSA9IHN0eWxlQXR0cmlidXRlc1trZXldOwogIH0KICByZXR1cm4gZWxlbWVudDsKfQoKLy8gTWF4IG51bWJlciBvZiBieXRlcyB3aGljaCB3aWxsIGJlIHVwbG9hZGVkIGF0IGEgdGltZS4KY29uc3QgTUFYX1BBWUxPQURfU0laRSA9IDEwMCAqIDEwMjQ7Ci8vIE1heCBhbW91bnQgb2YgdGltZSB0byBibG9jayB3YWl0aW5nIGZvciB0aGUgdXNlci4KY29uc3QgRklMRV9DSEFOR0VfVElNRU9VVF9NUyA9IDMwICogMTAwMDsKCmZ1bmN0aW9uIF91cGxvYWRGaWxlcyhpbnB1dElkLCBvdXRwdXRJZCkgewogIGNvbnN0IHN0ZXBzID0gdXBsb2FkRmlsZXNTdGVwKGlucHV0SWQsIG91dHB1dElkKTsKICBjb25zdCBvdXRwdXRFbGVtZW50ID0gZG9jdW1lbnQuZ2V0RWxlbWVudEJ5SWQob3V0cHV0SWQpOwogIC8vIENhY2hlIHN0ZXBzIG9uIHRoZSBvdXRwdXRFbGVtZW50IHRvIG1ha2UgaXQgYXZhaWxhYmxlIGZvciB0aGUgbmV4dCBjYWxsCiAgLy8gdG8gdXBsb2FkRmlsZXNDb250aW51ZSBmcm9tIFB5dGhvbi4KICBvdXRwdXRFbGVtZW50LnN0ZXBzID0gc3RlcHM7CgogIHJldHVybiBfdXBsb2FkRmlsZXNDb250aW51ZShvdXRwdXRJZCk7Cn0KCi8vIFRoaXMgaXMgcm91Z2hseSBhbiBhc3luYyBnZW5lcmF0b3IgKG5vdCBzdXBwb3J0ZWQgaW4gdGhlIGJyb3dzZXIgeWV0KSwKLy8gd2hlcmUgdGhlcmUgYXJlIG11bHRpcGxlIGFzeW5jaHJvbm91cyBzdGVwcyBhbmQgdGhlIFB5dGhvbiBzaWRlIGlzIGdvaW5nCi8vIHRvIHBvbGwgZm9yIGNvbXBsZXRpb24gb2YgZWFjaCBzdGVwLgovLyBUaGlzIHVzZXMgYSBQcm9taXNlIHRvIGJsb2NrIHRoZSBweXRob24gc2lkZSBvbiBjb21wbGV0aW9uIG9mIGVhY2ggc3RlcCwKLy8gdGhlbiBwYXNzZXMgdGhlIHJlc3VsdCBvZiB0aGUgcHJldmlvdXMgc3RlcCBhcyB0aGUgaW5wdXQgdG8gdGhlIG5leHQgc3RlcC4KZnVuY3Rpb24gX3VwbG9hZEZpbGVzQ29udGludWUob3V0cHV0SWQpIHsKICBjb25zdCBvdXRwdXRFbGVtZW50ID0gZG9jdW1lbnQuZ2V0RWxlbWVudEJ5SWQob3V0cHV0SWQpOwogIGNvbnN0IHN0ZXBzID0gb3V0cHV0RWxlbWVudC5zdGVwczsKCiAgY29uc3QgbmV4dCA9IHN0ZXBzLm5leHQob3V0cHV0RWxlbWVudC5sYXN0UHJvbWlzZVZhbHVlKTsKICByZXR1cm4gUHJvbWlzZS5yZXNvbHZlKG5leHQudmFsdWUucHJvbWlzZSkudGhlbigodmFsdWUpID0+IHsKICAgIC8vIENhY2hlIHRoZSBsYXN0IHByb21pc2UgdmFsdWUgdG8gbWFrZSBpdCBhdmFpbGFibGUgdG8gdGhlIG5leHQKICAgIC8vIHN0ZXAgb2YgdGhlIGdlbmVyYXRvci4KICAgIG91dHB1dEVsZW1lbnQubGFzdFByb21pc2VWYWx1ZSA9IHZhbHVlOwogICAgcmV0dXJuIG5leHQudmFsdWUucmVzcG9uc2U7CiAgfSk7Cn0KCi8qKgogKiBHZW5lcmF0b3IgZnVuY3Rpb24gd2hpY2ggaXMgY2FsbGVkIGJldHdlZW4gZWFjaCBhc3luYyBzdGVwIG9mIHRoZSB1cGxvYWQKICogcHJvY2Vzcy4KICogQHBhcmFtIHtzdHJpbmd9IGlucHV0SWQgRWxlbWVudCBJRCBvZiB0aGUgaW5wdXQgZmlsZSBwaWNrZXIgZWxlbWVudC4KICogQHBhcmFtIHtzdHJpbmd9IG91dHB1dElkIEVsZW1lbnQgSUQgb2YgdGhlIG91dHB1dCBkaXNwbGF5LgogKiBAcmV0dXJuIHshSXRlcmFibGU8IU9iamVjdD59IEl0ZXJhYmxlIG9mIG5leHQgc3RlcHMuCiAqLwpmdW5jdGlvbiogdXBsb2FkRmlsZXNTdGVwKGlucHV0SWQsIG91dHB1dElkKSB7CiAgY29uc3QgaW5wdXRFbGVtZW50ID0gZG9jdW1lbnQuZ2V0RWxlbWVudEJ5SWQoaW5wdXRJZCk7CiAgaW5wdXRFbGVtZW50LmRpc2FibGVkID0gZmFsc2U7CgogIGNvbnN0IG91dHB1dEVsZW1lbnQgPSBkb2N1bWVudC5nZXRFbGVtZW50QnlJZChvdXRwdXRJZCk7CiAgb3V0cHV0RWxlbWVudC5pbm5lckhUTUwgPSAnJzsKCiAgY29uc3QgcGlja2VkUHJvbWlzZSA9IG5ldyBQcm9taXNlKChyZXNvbHZlKSA9PiB7CiAgICBpbnB1dEVsZW1lbnQuYWRkRXZlbnRMaXN0ZW5lcignY2hhbmdlJywgKGUpID0+IHsKICAgICAgcmVzb2x2ZShlLnRhcmdldC5maWxlcyk7CiAgICB9KTsKICB9KTsKCiAgY29uc3QgY2FuY2VsID0gZG9jdW1lbnQuY3JlYXRlRWxlbWVudCgnYnV0dG9uJyk7CiAgaW5wdXRFbGVtZW50LnBhcmVudEVsZW1lbnQuYXBwZW5kQ2hpbGQoY2FuY2VsKTsKICBjYW5jZWwudGV4dENvbnRlbnQgPSAnQ2FuY2VsIHVwbG9hZCc7CiAgY29uc3QgY2FuY2VsUHJvbWlzZSA9IG5ldyBQcm9taXNlKChyZXNvbHZlKSA9PiB7CiAgICBjYW5jZWwub25jbGljayA9ICgpID0+IHsKICAgICAgcmVzb2x2ZShudWxsKTsKICAgIH07CiAgfSk7CgogIC8vIENhbmNlbCB1cGxvYWQgaWYgdXNlciBoYXNuJ3QgcGlja2VkIGFueXRoaW5nIGluIHRpbWVvdXQuCiAgY29uc3QgdGltZW91dFByb21pc2UgPSBuZXcgUHJvbWlzZSgocmVzb2x2ZSkgPT4gewogICAgc2V0VGltZW91dCgoKSA9PiB7CiAgICAgIHJlc29sdmUobnVsbCk7CiAgICB9LCBGSUxFX0NIQU5HRV9USU1FT1VUX01TKTsKICB9KTsKCiAgLy8gV2FpdCBmb3IgdGhlIHVzZXIgdG8gcGljayB0aGUgZmlsZXMuCiAgY29uc3QgZmlsZXMgPSB5aWVsZCB7CiAgICBwcm9taXNlOiBQcm9taXNlLnJhY2UoW3BpY2tlZFByb21pc2UsIHRpbWVvdXRQcm9taXNlLCBjYW5jZWxQcm9taXNlXSksCiAgICByZXNwb25zZTogewogICAgICBhY3Rpb246ICdzdGFydGluZycsCiAgICB9CiAgfTsKCiAgaWYgKCFmaWxlcykgewogICAgcmV0dXJuIHsKICAgICAgcmVzcG9uc2U6IHsKICAgICAgICBhY3Rpb246ICdjb21wbGV0ZScsCiAgICAgIH0KICAgIH07CiAgfQoKICBjYW5jZWwucmVtb3ZlKCk7CgogIC8vIERpc2FibGUgdGhlIGlucHV0IGVsZW1lbnQgc2luY2UgZnVydGhlciBwaWNrcyBhcmUgbm90IGFsbG93ZWQuCiAgaW5wdXRFbGVtZW50LmRpc2FibGVkID0gdHJ1ZTsKCiAgZm9yIChjb25zdCBmaWxlIG9mIGZpbGVzKSB7CiAgICBjb25zdCBsaSA9IGRvY3VtZW50LmNyZWF0ZUVsZW1lbnQoJ2xpJyk7CiAgICBsaS5hcHBlbmQoc3BhbihmaWxlLm5hbWUsIHtmb250V2VpZ2h0OiAnYm9sZCd9KSk7CiAgICBsaS5hcHBlbmQoc3BhbigKICAgICAgICBgKCR7ZmlsZS50eXBlIHx8ICduL2EnfSkgLSAke2ZpbGUuc2l6ZX0gYnl0ZXMsIGAgKwogICAgICAgIGBsYXN0IG1vZGlmaWVkOiAkewogICAgICAgICAgICBmaWxlLmxhc3RNb2RpZmllZERhdGUgPyBmaWxlLmxhc3RNb2RpZmllZERhdGUudG9Mb2NhbGVEYXRlU3RyaW5nKCkgOgogICAgICAgICAgICAgICAgICAgICAgICAgICAgICAgICAgICAnbi9hJ30gLSBgKSk7CiAgICBjb25zdCBwZXJjZW50ID0gc3BhbignMCUgZG9uZScpOwogICAgbGkuYXBwZW5kQ2hpbGQocGVyY2VudCk7CgogICAgb3V0cHV0RWxlbWVudC5hcHBlbmRDaGlsZChsaSk7CgogICAgY29uc3QgZmlsZURhdGFQcm9taXNlID0gbmV3IFByb21pc2UoKHJlc29sdmUpID0+IHsKICAgICAgY29uc3QgcmVhZGVyID0gbmV3IEZpbGVSZWFkZXIoKTsKICAgICAgcmVhZGVyLm9ubG9hZCA9IChlKSA9PiB7CiAgICAgICAgcmVzb2x2ZShlLnRhcmdldC5yZXN1bHQpOwogICAgICB9OwogICAgICByZWFkZXIucmVhZEFzQXJyYXlCdWZmZXIoZmlsZSk7CiAgICB9KTsKICAgIC8vIFdhaXQgZm9yIHRoZSBkYXRhIHRvIGJlIHJlYWR5LgogICAgbGV0IGZpbGVEYXRhID0geWllbGQgewogICAgICBwcm9taXNlOiBmaWxlRGF0YVByb21pc2UsCiAgICAgIHJlc3BvbnNlOiB7CiAgICAgICAgYWN0aW9uOiAnY29udGludWUnLAogICAgICB9CiAgICB9OwoKICAgIC8vIFVzZSBhIGNodW5rZWQgc2VuZGluZyB0byBhdm9pZCBtZXNzYWdlIHNpemUgbGltaXRzLiBTZWUgYi82MjExNTY2MC4KICAgIGxldCBwb3NpdGlvbiA9IDA7CiAgICB3aGlsZSAocG9zaXRpb24gPCBmaWxlRGF0YS5ieXRlTGVuZ3RoKSB7CiAgICAgIGNvbnN0IGxlbmd0aCA9IE1hdGgubWluKGZpbGVEYXRhLmJ5dGVMZW5ndGggLSBwb3NpdGlvbiwgTUFYX1BBWUxPQURfU0laRSk7CiAgICAgIGNvbnN0IGNodW5rID0gbmV3IFVpbnQ4QXJyYXkoZmlsZURhdGEsIHBvc2l0aW9uLCBsZW5ndGgpOwogICAgICBwb3NpdGlvbiArPSBsZW5ndGg7CgogICAgICBjb25zdCBiYXNlNjQgPSBidG9hKFN0cmluZy5mcm9tQ2hhckNvZGUuYXBwbHkobnVsbCwgY2h1bmspKTsKICAgICAgeWllbGQgewogICAgICAgIHJlc3BvbnNlOiB7CiAgICAgICAgICBhY3Rpb246ICdhcHBlbmQnLAogICAgICAgICAgZmlsZTogZmlsZS5uYW1lLAogICAgICAgICAgZGF0YTogYmFzZTY0LAogICAgICAgIH0sCiAgICAgIH07CiAgICAgIHBlcmNlbnQudGV4dENvbnRlbnQgPQogICAgICAgICAgYCR7TWF0aC5yb3VuZCgocG9zaXRpb24gLyBmaWxlRGF0YS5ieXRlTGVuZ3RoKSAqIDEwMCl9JSBkb25lYDsKICAgIH0KICB9CgogIC8vIEFsbCBkb25lLgogIHlpZWxkIHsKICAgIHJlc3BvbnNlOiB7CiAgICAgIGFjdGlvbjogJ2NvbXBsZXRlJywKICAgIH0KICB9Owp9CgpzY29wZS5nb29nbGUgPSBzY29wZS5nb29nbGUgfHwge307CnNjb3BlLmdvb2dsZS5jb2xhYiA9IHNjb3BlLmdvb2dsZS5jb2xhYiB8fCB7fTsKc2NvcGUuZ29vZ2xlLmNvbGFiLl9maWxlcyA9IHsKICBfdXBsb2FkRmlsZXMsCiAgX3VwbG9hZEZpbGVzQ29udGludWUsCn07Cn0pKHNlbGYpOwo=",
       "headers": [
        [
         "content-type",
         "application/javascript"
        ]
       ],
       "ok": true,
       "status": 200,
       "status_text": ""
      }
     }
    },
    "colab_type": "code",
    "id": "iAwlsefpq4dx",
    "outputId": "22a061ed-9d29-480e-c7fc-218625c5e6a8"
   },
   "outputs": [
    {
     "name": "stdout",
     "output_type": "stream",
     "text": [
      "Upload GTEx RNAseq TPM datafile: \n"
     ]
    },
    {
     "data": {
      "text/html": [
       "\n",
       "     <input type=\"file\" id=\"files-ff8073d5-4224-4af0-b01b-e3d51f00eccc\" name=\"files[]\" multiple disabled />\n",
       "     <output id=\"result-ff8073d5-4224-4af0-b01b-e3d51f00eccc\">\n",
       "      Upload widget is only available when the cell has been executed in the\n",
       "      current browser session. Please rerun this cell to enable.\n",
       "      </output>\n",
       "      <script src=\"/nbextensions/google.colab/files.js\"></script> "
      ],
      "text/plain": [
       "<IPython.core.display.HTML object>"
      ]
     },
     "metadata": {
      "tags": []
     },
     "output_type": "display_data"
    },
    {
     "name": "stdout",
     "output_type": "stream",
     "text": [
      "Saving GTEx_Analysis_2016-01-15_v7_RNASeQCv1.1.8_gene_tpm_demo.gct.gz to GTEx_Analysis_2016-01-15_v7_RNASeQCv1.1.8_gene_tpm_demo.gct.gz\n",
      "Uploaded \"GTEx_Analysis_2016-01-15_v7_RNASeQCv1.1.8_gene_tpm_demo.gct.gz\" with 18560824 bytes\n",
      "Elapsed: 174s\n"
     ]
    },
    {
     "name": "stderr",
     "output_type": "stream",
     "text": [
      "dataset nrows: 1154 ; ncols: 11690:\n"
     ]
    }
   ],
   "source": [
    "print('Upload GTEx RNAseq TPM datafile: ')\n",
    "t0 = time.time()\n",
    "uploaded = google.colab.files.upload()\n",
    "fn = list(uploaded.keys())[0]\n",
    "print('Uploaded \"{name}\" with {length} bytes'.format(name=fn, length=len(uploaded[fn])))\n",
    "rnaseq = pandas.read_table(io.BytesIO(uploaded[fn]), compression='gzip', sep='\\t', skiprows=2)\n",
    "print(\"dataset nrows: %d ; ncols: %d:\"%(rnaseq.shape[0],rnaseq.shape[1]), file=sys.stderr)\n",
    "print(\"Elapsed: %ds\"%(time.time()-t0))"
   ]
  },
  {
   "cell_type": "code",
   "execution_count": 33,
   "metadata": {
    "colab": {
     "base_uri": "https://localhost:8080/",
     "height": 102
    },
    "colab_type": "code",
    "id": "TMVeLSeH3CwZ",
    "outputId": "6a65a318-fde4-45d5-abec-068012c98884"
   },
   "outputs": [
    {
     "name": "stdout",
     "output_type": "stream",
     "text": [
      "<class 'pandas.core.frame.DataFrame'>\n",
      "RangeIndex: 1154 entries, 0 to 1153\n",
      "Columns: 11690 entries, Name to GTEX-ZXG5-0005-SM-57WCN\n",
      "dtypes: float64(11688), object(2)\n",
      "memory usage: 102.9+ MB\n"
     ]
    }
   ],
   "source": [
    "rnaseq.info()"
   ]
  },
  {
   "cell_type": "code",
   "execution_count": 34,
   "metadata": {
    "colab": {
     "base_uri": "https://localhost:8080/",
     "height": 221
    },
    "colab_type": "code",
    "id": "g0t_4RBswccq",
    "outputId": "994bd51e-4239-453f-c08f-df5dcc57e295"
   },
   "outputs": [
    {
     "data": {
      "text/plain": [
       "Index(['ENSG', 'GTEX-1117F-0226-SM-5GZZ7', 'GTEX-111CU-1826-SM-5GZYN',\n",
       "       'GTEX-111FC-0226-SM-5N9B8', 'GTEX-111VG-2326-SM-5N9BK',\n",
       "       'GTEX-111YS-2426-SM-5GZZQ', 'GTEX-1122O-2026-SM-5NQ91',\n",
       "       'GTEX-1128S-2126-SM-5H12U', 'GTEX-113IC-0226-SM-5HL5C',\n",
       "       'GTEX-117YX-2226-SM-5EGJJ',\n",
       "       ...\n",
       "       'GTEX-ZVE2-0006-SM-51MRW', 'GTEX-ZVP2-0005-SM-51MRK',\n",
       "       'GTEX-ZVT2-0005-SM-57WBW', 'GTEX-ZVT3-0006-SM-51MT9',\n",
       "       'GTEX-ZVT4-0006-SM-57WB8', 'GTEX-ZVTK-0006-SM-57WBK',\n",
       "       'GTEX-ZVZP-0006-SM-51MSW', 'GTEX-ZVZQ-0006-SM-51MR8',\n",
       "       'GTEX-ZXES-0005-SM-57WCB', 'GTEX-ZXG5-0005-SM-57WCN'],\n",
       "      dtype='object', length=11689)"
      ]
     },
     "execution_count": 34,
     "metadata": {
      "tags": []
     },
     "output_type": "execute_result"
    }
   ],
   "source": [
    "rnaseq = rnaseq.drop(columns=['Description'])\n",
    "rnaseq = rnaseq.rename(columns={'Name':'ENSG'})\n",
    "rnaseq.columns"
   ]
  },
  {
   "cell_type": "markdown",
   "metadata": {
    "colab_type": "text",
    "id": "1LsGqo2Fxtp1"
   },
   "source": [
    "### MELT: One row per ENSG+SAMPID+TPM triplet:\n",
    "Easier to handle but ~3x storage."
   ]
  },
  {
   "cell_type": "code",
   "execution_count": 0,
   "metadata": {
    "colab": {},
    "colab_type": "code",
    "id": "bSaZOsP_xkQ2"
   },
   "outputs": [],
   "source": [
    "rnaseq = rnaseq.melt(id_vars = \"ENSG\", var_name = \"SAMPID\", value_name = \"TPM\")"
   ]
  },
  {
   "cell_type": "code",
   "execution_count": 36,
   "metadata": {
    "colab": {
     "base_uri": "https://localhost:8080/",
     "height": 204
    },
    "colab_type": "code",
    "id": "3E0h4B2jzoK5",
    "outputId": "a088b102-649b-442d-c58c-ccb9786a8ab9"
   },
   "outputs": [
    {
     "data": {
      "text/html": [
       "<div>\n",
       "<style scoped>\n",
       "    .dataframe tbody tr th:only-of-type {\n",
       "        vertical-align: middle;\n",
       "    }\n",
       "\n",
       "    .dataframe tbody tr th {\n",
       "        vertical-align: top;\n",
       "    }\n",
       "\n",
       "    .dataframe thead th {\n",
       "        text-align: right;\n",
       "    }\n",
       "</style>\n",
       "<table border=\"1\" class=\"dataframe\">\n",
       "  <thead>\n",
       "    <tr style=\"text-align: right;\">\n",
       "      <th></th>\n",
       "      <th>ENSG</th>\n",
       "      <th>SAMPID</th>\n",
       "      <th>TPM</th>\n",
       "    </tr>\n",
       "  </thead>\n",
       "  <tbody>\n",
       "    <tr>\n",
       "      <th>0</th>\n",
       "      <td>ENSG00000229344.1</td>\n",
       "      <td>GTEX-1117F-0226-SM-5GZZ7</td>\n",
       "      <td>13.2600</td>\n",
       "    </tr>\n",
       "    <tr>\n",
       "      <th>1</th>\n",
       "      <td>ENSG00000160072.15</td>\n",
       "      <td>GTEX-1117F-0226-SM-5GZZ7</td>\n",
       "      <td>35.9100</td>\n",
       "    </tr>\n",
       "    <tr>\n",
       "      <th>2</th>\n",
       "      <td>ENSG00000178642.5</td>\n",
       "      <td>GTEX-1117F-0226-SM-5GZZ7</td>\n",
       "      <td>0.5973</td>\n",
       "    </tr>\n",
       "    <tr>\n",
       "      <th>3</th>\n",
       "      <td>ENSG00000158292.6</td>\n",
       "      <td>GTEX-1117F-0226-SM-5GZZ7</td>\n",
       "      <td>18.9400</td>\n",
       "    </tr>\n",
       "    <tr>\n",
       "      <th>4</th>\n",
       "      <td>ENSG00000162444.11</td>\n",
       "      <td>GTEX-1117F-0226-SM-5GZZ7</td>\n",
       "      <td>238.4000</td>\n",
       "    </tr>\n",
       "  </tbody>\n",
       "</table>\n",
       "</div>"
      ],
      "text/plain": [
       "                 ENSG                    SAMPID       TPM\n",
       "0   ENSG00000229344.1  GTEX-1117F-0226-SM-5GZZ7   13.2600\n",
       "1  ENSG00000160072.15  GTEX-1117F-0226-SM-5GZZ7   35.9100\n",
       "2   ENSG00000178642.5  GTEX-1117F-0226-SM-5GZZ7    0.5973\n",
       "3   ENSG00000158292.6  GTEX-1117F-0226-SM-5GZZ7   18.9400\n",
       "4  ENSG00000162444.11  GTEX-1117F-0226-SM-5GZZ7  238.4000"
      ]
     },
     "execution_count": 36,
     "metadata": {
      "tags": []
     },
     "output_type": "execute_result"
    }
   ],
   "source": [
    "rnaseq.head()"
   ]
  },
  {
   "cell_type": "code",
   "execution_count": 37,
   "metadata": {
    "colab": {
     "base_uri": "https://localhost:8080/",
     "height": 153
    },
    "colab_type": "code",
    "id": "X17IFQ43pg3i",
    "outputId": "e920d7a8-65e6-43ff-81a7-4eabb43de08e"
   },
   "outputs": [
    {
     "name": "stdout",
     "output_type": "stream",
     "text": [
      "<class 'pandas.core.frame.DataFrame'>\n",
      "RangeIndex: 13487952 entries, 0 to 13487951\n",
      "Data columns (total 3 columns):\n",
      "ENSG      object\n",
      "SAMPID    object\n",
      "TPM       float64\n",
      "dtypes: float64(1), object(2)\n",
      "memory usage: 308.7+ MB\n"
     ]
    }
   ],
   "source": [
    "rnaseq.info()"
   ]
  },
  {
   "cell_type": "markdown",
   "metadata": {
    "colab_type": "text",
    "id": "2rmvTu5upzFs"
   },
   "source": [
    "### Read and merge gene symbols.\n",
    "File from https://www.ensembl.org/biomart, dataset human genes, fields Gene stable ID, Gene stable ID version,  NCBI gene ID, HGNC symbol."
   ]
  },
  {
   "cell_type": "code",
   "execution_count": 38,
   "metadata": {
    "colab": {
     "base_uri": "https://localhost:8080/",
     "height": 103,
     "resources": {
      "http://localhost:8080/nbextensions/google.colab/files.js": {
       "data": "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",
       "headers": [
        [
         "content-type",
         "application/javascript"
        ]
       ],
       "ok": true,
       "status": 200,
       "status_text": ""
      }
     }
    },
    "colab_type": "code",
    "id": "Xo2F7qVApyk0",
    "outputId": "84a7efe9-cf17-471a-8732-fc8a77459a33"
   },
   "outputs": [
    {
     "name": "stdout",
     "output_type": "stream",
     "text": [
      "Upload Biomart ENSG2NCBI genes datafile: \n"
     ]
    },
    {
     "data": {
      "text/html": [
       "\n",
       "     <input type=\"file\" id=\"files-1c2b7a29-a5e2-4650-b5e1-865f43a8068d\" name=\"files[]\" multiple disabled />\n",
       "     <output id=\"result-1c2b7a29-a5e2-4650-b5e1-865f43a8068d\">\n",
       "      Upload widget is only available when the cell has been executed in the\n",
       "      current browser session. Please rerun this cell to enable.\n",
       "      </output>\n",
       "      <script src=\"/nbextensions/google.colab/files.js\"></script> "
      ],
      "text/plain": [
       "<IPython.core.display.HTML object>"
      ]
     },
     "metadata": {
      "tags": []
     },
     "output_type": "display_data"
    },
    {
     "name": "stdout",
     "output_type": "stream",
     "text": [
      "Saving biomart_ENSG2NCBI.tsv to biomart_ENSG2NCBI.tsv\n",
      "Uploaded \"biomart_ENSG2NCBI.tsv\" with 2786143 bytes\n"
     ]
    }
   ],
   "source": [
    "print('Upload Biomart ENSG2NCBI genes datafile: ')\n",
    "uploaded = google.colab.files.upload()\n",
    "fn = list(uploaded.keys())[0]\n",
    "print('Uploaded \"{name}\" with {length} bytes'.format(name=fn, length=len(uploaded[fn])))\n",
    "genes = pandas.read_csv(io.StringIO(uploaded[fn].decode('utf8')), sep='\\t', usecols=[1,2,3], na_values=[''], dtype={2:str})\n",
    "genes.columns = ['ENSG','NCBI','HGNC']\n",
    "genes.dropna(inplace=True)"
   ]
  },
  {
   "cell_type": "code",
   "execution_count": 39,
   "metadata": {
    "colab": {
     "base_uri": "https://localhost:8080/",
     "height": 204
    },
    "colab_type": "code",
    "id": "fegRBFc-tO00",
    "outputId": "50903796-b91f-4cad-c2bf-dbed598fc235"
   },
   "outputs": [
    {
     "data": {
      "text/html": [
       "<div>\n",
       "<style scoped>\n",
       "    .dataframe tbody tr th:only-of-type {\n",
       "        vertical-align: middle;\n",
       "    }\n",
       "\n",
       "    .dataframe tbody tr th {\n",
       "        vertical-align: top;\n",
       "    }\n",
       "\n",
       "    .dataframe thead th {\n",
       "        text-align: right;\n",
       "    }\n",
       "</style>\n",
       "<table border=\"1\" class=\"dataframe\">\n",
       "  <thead>\n",
       "    <tr style=\"text-align: right;\">\n",
       "      <th></th>\n",
       "      <th>ENSG</th>\n",
       "      <th>NCBI</th>\n",
       "      <th>HGNC</th>\n",
       "    </tr>\n",
       "  </thead>\n",
       "  <tbody>\n",
       "    <tr>\n",
       "      <th>1</th>\n",
       "      <td>ENSG00000211459.2</td>\n",
       "      <td>4549</td>\n",
       "      <td>MT-RNR1</td>\n",
       "    </tr>\n",
       "    <tr>\n",
       "      <th>3</th>\n",
       "      <td>ENSG00000210082.2</td>\n",
       "      <td>4550</td>\n",
       "      <td>MT-RNR2</td>\n",
       "    </tr>\n",
       "    <tr>\n",
       "      <th>5</th>\n",
       "      <td>ENSG00000198888.2</td>\n",
       "      <td>4535</td>\n",
       "      <td>MT-ND1</td>\n",
       "    </tr>\n",
       "    <tr>\n",
       "      <th>9</th>\n",
       "      <td>ENSG00000198763.3</td>\n",
       "      <td>4536</td>\n",
       "      <td>MT-ND2</td>\n",
       "    </tr>\n",
       "    <tr>\n",
       "      <th>15</th>\n",
       "      <td>ENSG00000198804.2</td>\n",
       "      <td>4512</td>\n",
       "      <td>MT-CO1</td>\n",
       "    </tr>\n",
       "  </tbody>\n",
       "</table>\n",
       "</div>"
      ],
      "text/plain": [
       "                 ENSG  NCBI     HGNC\n",
       "1   ENSG00000211459.2  4549  MT-RNR1\n",
       "3   ENSG00000210082.2  4550  MT-RNR2\n",
       "5   ENSG00000198888.2  4535   MT-ND1\n",
       "9   ENSG00000198763.3  4536   MT-ND2\n",
       "15  ENSG00000198804.2  4512   MT-CO1"
      ]
     },
     "execution_count": 39,
     "metadata": {
      "tags": []
     },
     "output_type": "execute_result"
    }
   ],
   "source": [
    "genes.head()"
   ]
  },
  {
   "cell_type": "code",
   "execution_count": 0,
   "metadata": {
    "colab": {},
    "colab_type": "code",
    "id": "RSyD7C4Nt9vS"
   },
   "outputs": [],
   "source": [
    "rnaseq = pandas.merge(rnaseq, genes, on='ENSG', how='inner')"
   ]
  },
  {
   "cell_type": "code",
   "execution_count": 41,
   "metadata": {
    "colab": {
     "base_uri": "https://localhost:8080/",
     "height": 204
    },
    "colab_type": "code",
    "id": "jwWCN2ZxLUVs",
    "outputId": "834aab57-0266-4001-b2d7-b96efaec5876"
   },
   "outputs": [
    {
     "data": {
      "text/html": [
       "<div>\n",
       "<style scoped>\n",
       "    .dataframe tbody tr th:only-of-type {\n",
       "        vertical-align: middle;\n",
       "    }\n",
       "\n",
       "    .dataframe tbody tr th {\n",
       "        vertical-align: top;\n",
       "    }\n",
       "\n",
       "    .dataframe thead th {\n",
       "        text-align: right;\n",
       "    }\n",
       "</style>\n",
       "<table border=\"1\" class=\"dataframe\">\n",
       "  <thead>\n",
       "    <tr style=\"text-align: right;\">\n",
       "      <th></th>\n",
       "      <th>ENSG</th>\n",
       "      <th>SAMPID</th>\n",
       "      <th>TPM</th>\n",
       "      <th>NCBI</th>\n",
       "      <th>HGNC</th>\n",
       "    </tr>\n",
       "  </thead>\n",
       "  <tbody>\n",
       "    <tr>\n",
       "      <th>0</th>\n",
       "      <td>ENSG00000158292.6</td>\n",
       "      <td>GTEX-1117F-0226-SM-5GZZ7</td>\n",
       "      <td>18.940</td>\n",
       "      <td>387509</td>\n",
       "      <td>GPR153</td>\n",
       "    </tr>\n",
       "    <tr>\n",
       "      <th>1</th>\n",
       "      <td>ENSG00000158292.6</td>\n",
       "      <td>GTEX-111CU-1826-SM-5GZYN</td>\n",
       "      <td>44.340</td>\n",
       "      <td>387509</td>\n",
       "      <td>GPR153</td>\n",
       "    </tr>\n",
       "    <tr>\n",
       "      <th>2</th>\n",
       "      <td>ENSG00000158292.6</td>\n",
       "      <td>GTEX-111FC-0226-SM-5N9B8</td>\n",
       "      <td>9.884</td>\n",
       "      <td>387509</td>\n",
       "      <td>GPR153</td>\n",
       "    </tr>\n",
       "    <tr>\n",
       "      <th>3</th>\n",
       "      <td>ENSG00000158292.6</td>\n",
       "      <td>GTEX-111VG-2326-SM-5N9BK</td>\n",
       "      <td>13.780</td>\n",
       "      <td>387509</td>\n",
       "      <td>GPR153</td>\n",
       "    </tr>\n",
       "    <tr>\n",
       "      <th>4</th>\n",
       "      <td>ENSG00000158292.6</td>\n",
       "      <td>GTEX-111YS-2426-SM-5GZZQ</td>\n",
       "      <td>22.030</td>\n",
       "      <td>387509</td>\n",
       "      <td>GPR153</td>\n",
       "    </tr>\n",
       "  </tbody>\n",
       "</table>\n",
       "</div>"
      ],
      "text/plain": [
       "                ENSG                    SAMPID     TPM    NCBI    HGNC\n",
       "0  ENSG00000158292.6  GTEX-1117F-0226-SM-5GZZ7  18.940  387509  GPR153\n",
       "1  ENSG00000158292.6  GTEX-111CU-1826-SM-5GZYN  44.340  387509  GPR153\n",
       "2  ENSG00000158292.6  GTEX-111FC-0226-SM-5N9B8   9.884  387509  GPR153\n",
       "3  ENSG00000158292.6  GTEX-111VG-2326-SM-5N9BK  13.780  387509  GPR153\n",
       "4  ENSG00000158292.6  GTEX-111YS-2426-SM-5GZZQ  22.030  387509  GPR153"
      ]
     },
     "execution_count": 41,
     "metadata": {
      "tags": []
     },
     "output_type": "execute_result"
    }
   ],
   "source": [
    "rnaseq.head()"
   ]
  },
  {
   "cell_type": "markdown",
   "metadata": {
    "colab_type": "text",
    "id": "jma3YSsCzxr7"
   },
   "source": [
    "### Remove genes in pseudoautosomal regions (PAR) of chromosome Y (\"ENSGR\")."
   ]
  },
  {
   "cell_type": "code",
   "execution_count": 42,
   "metadata": {
    "colab": {
     "base_uri": "https://localhost:8080/",
     "height": 34
    },
    "colab_type": "code",
    "id": "iuJLi_nVzuFM",
    "outputId": "41488150-6321-433b-f79c-239ca64a901a"
   },
   "outputs": [
    {
     "name": "stdout",
     "output_type": "stream",
     "text": [
      "ENSGR gene TPMs: 0 (0.00%)\n"
     ]
    }
   ],
   "source": [
    "n_ensgr = rnaseq.ENSG.str.startswith('ENSGR').sum()\n",
    "print('ENSGR gene TPMs: %d (%.2f%%)'%(n_ensgr,100*n_ensgr/rnaseq.shape[0]))"
   ]
  },
  {
   "cell_type": "code",
   "execution_count": 0,
   "metadata": {
    "colab": {},
    "colab_type": "code",
    "id": "bSTgB436XZLq"
   },
   "outputs": [],
   "source": [
    "rnaseq = rnaseq[~rnaseq.ENSG.str.startswith('ENSGR')]"
   ]
  },
  {
   "cell_type": "markdown",
   "metadata": {
    "colab_type": "text",
    "id": "DF1bdb1ct3vi"
   },
   "source": [
    "### Merge with samples:"
   ]
  },
  {
   "cell_type": "code",
   "execution_count": 0,
   "metadata": {
    "colab": {},
    "colab_type": "code",
    "id": "KPzImSwat7Mi"
   },
   "outputs": [],
   "source": [
    "rnaseq = pandas.merge(rnaseq, samples, how=\"inner\", on=\"SAMPID\")\n",
    "rnaseq = rnaseq.reset_index(drop=True)"
   ]
  },
  {
   "cell_type": "code",
   "execution_count": 45,
   "metadata": {
    "colab": {
     "base_uri": "https://localhost:8080/",
     "height": 289
    },
    "colab_type": "code",
    "id": "qaWd-f4nVBgo",
    "outputId": "154549f6-2dbe-42f3-8f26-1d3de0e7311f"
   },
   "outputs": [
    {
     "data": {
      "text/html": [
       "<div>\n",
       "<style scoped>\n",
       "    .dataframe tbody tr th:only-of-type {\n",
       "        vertical-align: middle;\n",
       "    }\n",
       "\n",
       "    .dataframe tbody tr th {\n",
       "        vertical-align: top;\n",
       "    }\n",
       "\n",
       "    .dataframe thead th {\n",
       "        text-align: right;\n",
       "    }\n",
       "</style>\n",
       "<table border=\"1\" class=\"dataframe\">\n",
       "  <thead>\n",
       "    <tr style=\"text-align: right;\">\n",
       "      <th></th>\n",
       "      <th>ENSG</th>\n",
       "      <th>SAMPID</th>\n",
       "      <th>TPM</th>\n",
       "      <th>NCBI</th>\n",
       "      <th>HGNC</th>\n",
       "      <th>SMATSSCR</th>\n",
       "      <th>SMTS</th>\n",
       "      <th>SMTSD</th>\n",
       "      <th>SMUBRID</th>\n",
       "      <th>SUBJID</th>\n",
       "      <th>SEX</th>\n",
       "      <th>AGE</th>\n",
       "      <th>DTHHRDY</th>\n",
       "    </tr>\n",
       "  </thead>\n",
       "  <tbody>\n",
       "    <tr>\n",
       "      <th>0</th>\n",
       "      <td>ENSG00000158292.6</td>\n",
       "      <td>GTEX-111CU-1826-SM-5GZYN</td>\n",
       "      <td>44.340</td>\n",
       "      <td>387509</td>\n",
       "      <td>GPR153</td>\n",
       "      <td>0.0</td>\n",
       "      <td>Adipose Tissue</td>\n",
       "      <td>Adipose - Subcutaneous</td>\n",
       "      <td>0002190</td>\n",
       "      <td>GTEX-111CU</td>\n",
       "      <td>male</td>\n",
       "      <td>50-59</td>\n",
       "      <td>0.0</td>\n",
       "    </tr>\n",
       "    <tr>\n",
       "      <th>1</th>\n",
       "      <td>ENSG00000162444.11</td>\n",
       "      <td>GTEX-111CU-1826-SM-5GZYN</td>\n",
       "      <td>72.300</td>\n",
       "      <td>116362</td>\n",
       "      <td>RBP7</td>\n",
       "      <td>0.0</td>\n",
       "      <td>Adipose Tissue</td>\n",
       "      <td>Adipose - Subcutaneous</td>\n",
       "      <td>0002190</td>\n",
       "      <td>GTEX-111CU</td>\n",
       "      <td>male</td>\n",
       "      <td>50-59</td>\n",
       "      <td>0.0</td>\n",
       "    </tr>\n",
       "    <tr>\n",
       "      <th>2</th>\n",
       "      <td>ENSG00000142619.4</td>\n",
       "      <td>GTEX-111CU-1826-SM-5GZYN</td>\n",
       "      <td>0.000</td>\n",
       "      <td>51702</td>\n",
       "      <td>PADI3</td>\n",
       "      <td>0.0</td>\n",
       "      <td>Adipose Tissue</td>\n",
       "      <td>Adipose - Subcutaneous</td>\n",
       "      <td>0002190</td>\n",
       "      <td>GTEX-111CU</td>\n",
       "      <td>male</td>\n",
       "      <td>50-59</td>\n",
       "      <td>0.0</td>\n",
       "    </tr>\n",
       "    <tr>\n",
       "      <th>3</th>\n",
       "      <td>ENSG00000162415.6</td>\n",
       "      <td>GTEX-111CU-1826-SM-5GZYN</td>\n",
       "      <td>1.634</td>\n",
       "      <td>57643</td>\n",
       "      <td>ZSWIM5</td>\n",
       "      <td>0.0</td>\n",
       "      <td>Adipose Tissue</td>\n",
       "      <td>Adipose - Subcutaneous</td>\n",
       "      <td>0002190</td>\n",
       "      <td>GTEX-111CU</td>\n",
       "      <td>male</td>\n",
       "      <td>50-59</td>\n",
       "      <td>0.0</td>\n",
       "    </tr>\n",
       "    <tr>\n",
       "      <th>4</th>\n",
       "      <td>ENSG00000137976.7</td>\n",
       "      <td>GTEX-111CU-1826-SM-5GZYN</td>\n",
       "      <td>0.000</td>\n",
       "      <td>58511</td>\n",
       "      <td>DNASE2B</td>\n",
       "      <td>0.0</td>\n",
       "      <td>Adipose Tissue</td>\n",
       "      <td>Adipose - Subcutaneous</td>\n",
       "      <td>0002190</td>\n",
       "      <td>GTEX-111CU</td>\n",
       "      <td>male</td>\n",
       "      <td>50-59</td>\n",
       "      <td>0.0</td>\n",
       "    </tr>\n",
       "  </tbody>\n",
       "</table>\n",
       "</div>"
      ],
      "text/plain": [
       "                 ENSG                    SAMPID     TPM    NCBI     HGNC  \\\n",
       "0   ENSG00000158292.6  GTEX-111CU-1826-SM-5GZYN  44.340  387509   GPR153   \n",
       "1  ENSG00000162444.11  GTEX-111CU-1826-SM-5GZYN  72.300  116362     RBP7   \n",
       "2   ENSG00000142619.4  GTEX-111CU-1826-SM-5GZYN   0.000   51702    PADI3   \n",
       "3   ENSG00000162415.6  GTEX-111CU-1826-SM-5GZYN   1.634   57643   ZSWIM5   \n",
       "4   ENSG00000137976.7  GTEX-111CU-1826-SM-5GZYN   0.000   58511  DNASE2B   \n",
       "\n",
       "   SMATSSCR            SMTS                   SMTSD  SMUBRID      SUBJID  \\\n",
       "0       0.0  Adipose Tissue  Adipose - Subcutaneous  0002190  GTEX-111CU   \n",
       "1       0.0  Adipose Tissue  Adipose - Subcutaneous  0002190  GTEX-111CU   \n",
       "2       0.0  Adipose Tissue  Adipose - Subcutaneous  0002190  GTEX-111CU   \n",
       "3       0.0  Adipose Tissue  Adipose - Subcutaneous  0002190  GTEX-111CU   \n",
       "4       0.0  Adipose Tissue  Adipose - Subcutaneous  0002190  GTEX-111CU   \n",
       "\n",
       "    SEX    AGE  DTHHRDY  \n",
       "0  male  50-59      0.0  \n",
       "1  male  50-59      0.0  \n",
       "2  male  50-59      0.0  \n",
       "3  male  50-59      0.0  \n",
       "4  male  50-59      0.0  "
      ]
     },
     "execution_count": 45,
     "metadata": {
      "tags": []
     },
     "output_type": "execute_result"
    }
   ],
   "source": [
    "rnaseq.head()"
   ]
  },
  {
   "cell_type": "code",
   "execution_count": 46,
   "metadata": {
    "colab": {
     "base_uri": "https://localhost:8080/",
     "height": 323
    },
    "colab_type": "code",
    "id": "OyxdvWw_ZN5i",
    "outputId": "f6c5794d-68d2-4cb4-ca50-a351970f1aab"
   },
   "outputs": [
    {
     "name": "stdout",
     "output_type": "stream",
     "text": [
      "<class 'pandas.core.frame.DataFrame'>\n",
      "RangeIndex: 921692 entries, 0 to 921691\n",
      "Data columns (total 13 columns):\n",
      "ENSG        921692 non-null object\n",
      "SAMPID      921692 non-null object\n",
      "TPM         921692 non-null float64\n",
      "NCBI        921692 non-null object\n",
      "HGNC        921692 non-null object\n",
      "SMATSSCR    921692 non-null float64\n",
      "SMTS        921692 non-null object\n",
      "SMTSD       921692 non-null object\n",
      "SMUBRID     921692 non-null object\n",
      "SUBJID      921692 non-null object\n",
      "SEX         921692 non-null object\n",
      "AGE         921692 non-null object\n",
      "DTHHRDY     921692 non-null float64\n",
      "dtypes: float64(3), object(10)\n",
      "memory usage: 91.4+ MB\n"
     ]
    }
   ],
   "source": [
    "rnaseq.info()"
   ]
  },
  {
   "cell_type": "markdown",
   "metadata": {
    "colab_type": "text",
    "id": "GNWwsSrNOAzX"
   },
   "source": [
    "### Remove data for gene-tissue pairs with all zero expression."
   ]
  },
  {
   "cell_type": "code",
   "execution_count": 48,
   "metadata": {
    "colab": {
     "base_uri": "https://localhost:8080/",
     "height": 68
    },
    "colab_type": "code",
    "id": "zl5wT1nQMGrn",
    "outputId": "003535d4-9ac8-46ba-d007-599aec6d9ad9"
   },
   "outputs": [
    {
     "name": "stdout",
     "output_type": "stream",
     "text": [
      "False    4266\n",
      "True      570\n",
      "Name: maxtpm_0, dtype: int64\n"
     ]
    }
   ],
   "source": [
    "maxtpm_0 = (rnaseq[['ENSG', 'SMTSD', 'TPM']].groupby(by=['ENSG','SMTSD'], as_index=True).max() == 0).rename(columns={'TPM':'maxtpm_0'})\n",
    "print(maxtpm_0.maxtpm_0.value_counts(dropna=False))"
   ]
  },
  {
   "cell_type": "code",
   "execution_count": 49,
   "metadata": {
    "colab": {
     "base_uri": "https://localhost:8080/",
     "height": 119
    },
    "colab_type": "code",
    "id": "AaxrLbUeavh_",
    "outputId": "a3ea88ec-86fd-4232-9f8d-1c03c3639e22"
   },
   "outputs": [
    {
     "name": "stdout",
     "output_type": "stream",
     "text": [
      "<class 'pandas.core.frame.DataFrame'>\n",
      "MultiIndex: 4836 entries, (ENSG00000039139.9, Adipose - Subcutaneous) to (ENSG00000270084.1, Vagina)\n",
      "Data columns (total 1 columns):\n",
      "maxtpm_0    4836 non-null bool\n",
      "dtypes: bool(1)\n",
      "memory usage: 15.6+ KB\n"
     ]
    }
   ],
   "source": [
    "maxtpm_0.info()"
   ]
  },
  {
   "cell_type": "code",
   "execution_count": 50,
   "metadata": {
    "colab": {
     "base_uri": "https://localhost:8080/",
     "height": 289
    },
    "colab_type": "code",
    "id": "8aj_IzoKMN0k",
    "outputId": "7443153c-a7ec-4682-f81e-0ea9db4d7b43"
   },
   "outputs": [
    {
     "data": {
      "text/html": [
       "<div>\n",
       "<style scoped>\n",
       "    .dataframe tbody tr th:only-of-type {\n",
       "        vertical-align: middle;\n",
       "    }\n",
       "\n",
       "    .dataframe tbody tr th {\n",
       "        vertical-align: top;\n",
       "    }\n",
       "\n",
       "    .dataframe thead th {\n",
       "        text-align: right;\n",
       "    }\n",
       "</style>\n",
       "<table border=\"1\" class=\"dataframe\">\n",
       "  <thead>\n",
       "    <tr style=\"text-align: right;\">\n",
       "      <th></th>\n",
       "      <th>ENSG</th>\n",
       "      <th>SAMPID</th>\n",
       "      <th>TPM</th>\n",
       "      <th>NCBI</th>\n",
       "      <th>HGNC</th>\n",
       "      <th>SMATSSCR</th>\n",
       "      <th>SMTS</th>\n",
       "      <th>SMTSD</th>\n",
       "      <th>SMUBRID</th>\n",
       "      <th>SUBJID</th>\n",
       "      <th>SEX</th>\n",
       "      <th>AGE</th>\n",
       "      <th>DTHHRDY</th>\n",
       "      <th>maxtpm_0</th>\n",
       "    </tr>\n",
       "  </thead>\n",
       "  <tbody>\n",
       "    <tr>\n",
       "      <th>0</th>\n",
       "      <td>ENSG00000158292.6</td>\n",
       "      <td>GTEX-111CU-1826-SM-5GZYN</td>\n",
       "      <td>44.34</td>\n",
       "      <td>387509</td>\n",
       "      <td>GPR153</td>\n",
       "      <td>0.0</td>\n",
       "      <td>Adipose Tissue</td>\n",
       "      <td>Adipose - Subcutaneous</td>\n",
       "      <td>0002190</td>\n",
       "      <td>GTEX-111CU</td>\n",
       "      <td>male</td>\n",
       "      <td>50-59</td>\n",
       "      <td>0.0</td>\n",
       "      <td>False</td>\n",
       "    </tr>\n",
       "    <tr>\n",
       "      <th>124</th>\n",
       "      <td>ENSG00000158292.6</td>\n",
       "      <td>GTEX-111YS-2426-SM-5GZZQ</td>\n",
       "      <td>22.03</td>\n",
       "      <td>387509</td>\n",
       "      <td>GPR153</td>\n",
       "      <td>0.0</td>\n",
       "      <td>Adipose Tissue</td>\n",
       "      <td>Adipose - Subcutaneous</td>\n",
       "      <td>0002190</td>\n",
       "      <td>GTEX-111YS</td>\n",
       "      <td>male</td>\n",
       "      <td>60-69</td>\n",
       "      <td>0.0</td>\n",
       "      <td>False</td>\n",
       "    </tr>\n",
       "    <tr>\n",
       "      <th>248</th>\n",
       "      <td>ENSG00000158292.6</td>\n",
       "      <td>GTEX-1122O-2026-SM-5NQ91</td>\n",
       "      <td>32.41</td>\n",
       "      <td>387509</td>\n",
       "      <td>GPR153</td>\n",
       "      <td>0.0</td>\n",
       "      <td>Adipose Tissue</td>\n",
       "      <td>Adipose - Subcutaneous</td>\n",
       "      <td>0002190</td>\n",
       "      <td>GTEX-1122O</td>\n",
       "      <td>female</td>\n",
       "      <td>60-69</td>\n",
       "      <td>0.0</td>\n",
       "      <td>False</td>\n",
       "    </tr>\n",
       "    <tr>\n",
       "      <th>372</th>\n",
       "      <td>ENSG00000158292.6</td>\n",
       "      <td>GTEX-1128S-2126-SM-5H12U</td>\n",
       "      <td>26.06</td>\n",
       "      <td>387509</td>\n",
       "      <td>GPR153</td>\n",
       "      <td>0.0</td>\n",
       "      <td>Adipose Tissue</td>\n",
       "      <td>Adipose - Subcutaneous</td>\n",
       "      <td>0002190</td>\n",
       "      <td>GTEX-1128S</td>\n",
       "      <td>female</td>\n",
       "      <td>60-69</td>\n",
       "      <td>2.0</td>\n",
       "      <td>False</td>\n",
       "    </tr>\n",
       "    <tr>\n",
       "      <th>496</th>\n",
       "      <td>ENSG00000158292.6</td>\n",
       "      <td>GTEX-117YX-2226-SM-5EGJJ</td>\n",
       "      <td>63.49</td>\n",
       "      <td>387509</td>\n",
       "      <td>GPR153</td>\n",
       "      <td>0.0</td>\n",
       "      <td>Adipose Tissue</td>\n",
       "      <td>Adipose - Subcutaneous</td>\n",
       "      <td>0002190</td>\n",
       "      <td>GTEX-117YX</td>\n",
       "      <td>male</td>\n",
       "      <td>50-59</td>\n",
       "      <td>0.0</td>\n",
       "      <td>False</td>\n",
       "    </tr>\n",
       "  </tbody>\n",
       "</table>\n",
       "</div>"
      ],
      "text/plain": [
       "                  ENSG                    SAMPID    TPM    NCBI    HGNC  \\\n",
       "0    ENSG00000158292.6  GTEX-111CU-1826-SM-5GZYN  44.34  387509  GPR153   \n",
       "124  ENSG00000158292.6  GTEX-111YS-2426-SM-5GZZQ  22.03  387509  GPR153   \n",
       "248  ENSG00000158292.6  GTEX-1122O-2026-SM-5NQ91  32.41  387509  GPR153   \n",
       "372  ENSG00000158292.6  GTEX-1128S-2126-SM-5H12U  26.06  387509  GPR153   \n",
       "496  ENSG00000158292.6  GTEX-117YX-2226-SM-5EGJJ  63.49  387509  GPR153   \n",
       "\n",
       "     SMATSSCR            SMTS                   SMTSD  SMUBRID      SUBJID  \\\n",
       "0         0.0  Adipose Tissue  Adipose - Subcutaneous  0002190  GTEX-111CU   \n",
       "124       0.0  Adipose Tissue  Adipose - Subcutaneous  0002190  GTEX-111YS   \n",
       "248       0.0  Adipose Tissue  Adipose - Subcutaneous  0002190  GTEX-1122O   \n",
       "372       0.0  Adipose Tissue  Adipose - Subcutaneous  0002190  GTEX-1128S   \n",
       "496       0.0  Adipose Tissue  Adipose - Subcutaneous  0002190  GTEX-117YX   \n",
       "\n",
       "        SEX    AGE  DTHHRDY  maxtpm_0  \n",
       "0      male  50-59      0.0     False  \n",
       "124    male  60-69      0.0     False  \n",
       "248  female  60-69      0.0     False  \n",
       "372  female  60-69      2.0     False  \n",
       "496    male  50-59      0.0     False  "
      ]
     },
     "execution_count": 50,
     "metadata": {
      "tags": []
     },
     "output_type": "execute_result"
    }
   ],
   "source": [
    "rnaseq = pandas.merge(rnaseq, maxtpm_0, left_on=['ENSG', 'SMTSD'], right_index=True)\n",
    "rnaseq.head()"
   ]
  },
  {
   "cell_type": "code",
   "execution_count": 51,
   "metadata": {
    "colab": {
     "base_uri": "https://localhost:8080/",
     "height": 289
    },
    "colab_type": "code",
    "id": "3kAiTBrD0jfz",
    "outputId": "4453b080-9c8b-4a82-dfb2-f4fb19839313"
   },
   "outputs": [
    {
     "data": {
      "text/html": [
       "<div>\n",
       "<style scoped>\n",
       "    .dataframe tbody tr th:only-of-type {\n",
       "        vertical-align: middle;\n",
       "    }\n",
       "\n",
       "    .dataframe tbody tr th {\n",
       "        vertical-align: top;\n",
       "    }\n",
       "\n",
       "    .dataframe thead th {\n",
       "        text-align: right;\n",
       "    }\n",
       "</style>\n",
       "<table border=\"1\" class=\"dataframe\">\n",
       "  <thead>\n",
       "    <tr style=\"text-align: right;\">\n",
       "      <th></th>\n",
       "      <th>ENSG</th>\n",
       "      <th>SAMPID</th>\n",
       "      <th>TPM</th>\n",
       "      <th>NCBI</th>\n",
       "      <th>HGNC</th>\n",
       "      <th>SMATSSCR</th>\n",
       "      <th>SMTS</th>\n",
       "      <th>SMTSD</th>\n",
       "      <th>SMUBRID</th>\n",
       "      <th>SUBJID</th>\n",
       "      <th>SEX</th>\n",
       "      <th>AGE</th>\n",
       "      <th>DTHHRDY</th>\n",
       "    </tr>\n",
       "  </thead>\n",
       "  <tbody>\n",
       "    <tr>\n",
       "      <th>0</th>\n",
       "      <td>ENSG00000158292.6</td>\n",
       "      <td>GTEX-111CU-1826-SM-5GZYN</td>\n",
       "      <td>44.34</td>\n",
       "      <td>387509</td>\n",
       "      <td>GPR153</td>\n",
       "      <td>0.0</td>\n",
       "      <td>Adipose Tissue</td>\n",
       "      <td>Adipose - Subcutaneous</td>\n",
       "      <td>0002190</td>\n",
       "      <td>GTEX-111CU</td>\n",
       "      <td>male</td>\n",
       "      <td>50-59</td>\n",
       "      <td>0.0</td>\n",
       "    </tr>\n",
       "    <tr>\n",
       "      <th>124</th>\n",
       "      <td>ENSG00000158292.6</td>\n",
       "      <td>GTEX-111YS-2426-SM-5GZZQ</td>\n",
       "      <td>22.03</td>\n",
       "      <td>387509</td>\n",
       "      <td>GPR153</td>\n",
       "      <td>0.0</td>\n",
       "      <td>Adipose Tissue</td>\n",
       "      <td>Adipose - Subcutaneous</td>\n",
       "      <td>0002190</td>\n",
       "      <td>GTEX-111YS</td>\n",
       "      <td>male</td>\n",
       "      <td>60-69</td>\n",
       "      <td>0.0</td>\n",
       "    </tr>\n",
       "    <tr>\n",
       "      <th>248</th>\n",
       "      <td>ENSG00000158292.6</td>\n",
       "      <td>GTEX-1122O-2026-SM-5NQ91</td>\n",
       "      <td>32.41</td>\n",
       "      <td>387509</td>\n",
       "      <td>GPR153</td>\n",
       "      <td>0.0</td>\n",
       "      <td>Adipose Tissue</td>\n",
       "      <td>Adipose - Subcutaneous</td>\n",
       "      <td>0002190</td>\n",
       "      <td>GTEX-1122O</td>\n",
       "      <td>female</td>\n",
       "      <td>60-69</td>\n",
       "      <td>0.0</td>\n",
       "    </tr>\n",
       "    <tr>\n",
       "      <th>372</th>\n",
       "      <td>ENSG00000158292.6</td>\n",
       "      <td>GTEX-1128S-2126-SM-5H12U</td>\n",
       "      <td>26.06</td>\n",
       "      <td>387509</td>\n",
       "      <td>GPR153</td>\n",
       "      <td>0.0</td>\n",
       "      <td>Adipose Tissue</td>\n",
       "      <td>Adipose - Subcutaneous</td>\n",
       "      <td>0002190</td>\n",
       "      <td>GTEX-1128S</td>\n",
       "      <td>female</td>\n",
       "      <td>60-69</td>\n",
       "      <td>2.0</td>\n",
       "    </tr>\n",
       "    <tr>\n",
       "      <th>496</th>\n",
       "      <td>ENSG00000158292.6</td>\n",
       "      <td>GTEX-117YX-2226-SM-5EGJJ</td>\n",
       "      <td>63.49</td>\n",
       "      <td>387509</td>\n",
       "      <td>GPR153</td>\n",
       "      <td>0.0</td>\n",
       "      <td>Adipose Tissue</td>\n",
       "      <td>Adipose - Subcutaneous</td>\n",
       "      <td>0002190</td>\n",
       "      <td>GTEX-117YX</td>\n",
       "      <td>male</td>\n",
       "      <td>50-59</td>\n",
       "      <td>0.0</td>\n",
       "    </tr>\n",
       "  </tbody>\n",
       "</table>\n",
       "</div>"
      ],
      "text/plain": [
       "                  ENSG                    SAMPID    TPM    NCBI    HGNC  \\\n",
       "0    ENSG00000158292.6  GTEX-111CU-1826-SM-5GZYN  44.34  387509  GPR153   \n",
       "124  ENSG00000158292.6  GTEX-111YS-2426-SM-5GZZQ  22.03  387509  GPR153   \n",
       "248  ENSG00000158292.6  GTEX-1122O-2026-SM-5NQ91  32.41  387509  GPR153   \n",
       "372  ENSG00000158292.6  GTEX-1128S-2126-SM-5H12U  26.06  387509  GPR153   \n",
       "496  ENSG00000158292.6  GTEX-117YX-2226-SM-5EGJJ  63.49  387509  GPR153   \n",
       "\n",
       "     SMATSSCR            SMTS                   SMTSD  SMUBRID      SUBJID  \\\n",
       "0         0.0  Adipose Tissue  Adipose - Subcutaneous  0002190  GTEX-111CU   \n",
       "124       0.0  Adipose Tissue  Adipose - Subcutaneous  0002190  GTEX-111YS   \n",
       "248       0.0  Adipose Tissue  Adipose - Subcutaneous  0002190  GTEX-1122O   \n",
       "372       0.0  Adipose Tissue  Adipose - Subcutaneous  0002190  GTEX-1128S   \n",
       "496       0.0  Adipose Tissue  Adipose - Subcutaneous  0002190  GTEX-117YX   \n",
       "\n",
       "        SEX    AGE  DTHHRDY  \n",
       "0      male  50-59      0.0  \n",
       "124    male  60-69      0.0  \n",
       "248  female  60-69      0.0  \n",
       "372  female  60-69      2.0  \n",
       "496    male  50-59      0.0  "
      ]
     },
     "execution_count": 51,
     "metadata": {
      "tags": []
     },
     "output_type": "execute_result"
    }
   ],
   "source": [
    "rnaseq = rnaseq[~rnaseq['maxtpm_0']]\n",
    "rnaseq.drop(columns=['maxtpm_0'], inplace=True)\n",
    "rnaseq.head()"
   ]
  },
  {
   "cell_type": "code",
   "execution_count": 52,
   "metadata": {
    "colab": {
     "base_uri": "https://localhost:8080/",
     "height": 323
    },
    "colab_type": "code",
    "id": "Z3NZZv1uPfkS",
    "outputId": "a83b64ac-b6a8-4e31-b484-5d49d9b07de8"
   },
   "outputs": [
    {
     "name": "stdout",
     "output_type": "stream",
     "text": [
      "<class 'pandas.core.frame.DataFrame'>\n",
      "Int64Index: 840847 entries, 0 to 921691\n",
      "Data columns (total 13 columns):\n",
      "ENSG        840847 non-null object\n",
      "SAMPID      840847 non-null object\n",
      "TPM         840847 non-null float64\n",
      "NCBI        840847 non-null object\n",
      "HGNC        840847 non-null object\n",
      "SMATSSCR    840847 non-null float64\n",
      "SMTS        840847 non-null object\n",
      "SMTSD       840847 non-null object\n",
      "SMUBRID     840847 non-null object\n",
      "SUBJID      840847 non-null object\n",
      "SEX         840847 non-null object\n",
      "AGE         840847 non-null object\n",
      "DTHHRDY     840847 non-null float64\n",
      "dtypes: float64(3), object(10)\n",
      "memory usage: 89.8+ MB\n"
     ]
    }
   ],
   "source": [
    "rnaseq.info()"
   ]
  },
  {
   "cell_type": "markdown",
   "metadata": {
    "colab_type": "text",
    "id": "Fo25DP6F5nSS"
   },
   "source": [
    "### Remove data for gene-tissue pairs not present in both sexes. (This removes most sex specific tissues.)"
   ]
  },
  {
   "cell_type": "code",
   "execution_count": 54,
   "metadata": {
    "colab": {
     "base_uri": "https://localhost:8080/",
     "height": 68
    },
    "colab_type": "code",
    "id": "nAIemJ8LNJ-Y",
    "outputId": "9b2db937-03d9-45be-cc1f-acaf15e72d43"
   },
   "outputs": [
    {
     "name": "stdout",
     "output_type": "stream",
     "text": [
      "2    3442\n",
      "1     824\n",
      "Name: sex_count, dtype: int64\n"
     ]
    }
   ],
   "source": [
    "sex_count = (rnaseq[['ENSG', 'SMTSD', 'SEX']].groupby(by=['ENSG','SMTSD'], as_index=True).nunique()).rename(columns={'SEX':'sex_count'})\n",
    "print(sex_count.sex_count.value_counts())"
   ]
  },
  {
   "cell_type": "code",
   "execution_count": 55,
   "metadata": {
    "colab": {
     "base_uri": "https://localhost:8080/",
     "height": 153
    },
    "colab_type": "code",
    "id": "uzfK2XPdOAJT",
    "outputId": "e73c0b72-3020-4919-8b48-44e857c3af28"
   },
   "outputs": [
    {
     "name": "stdout",
     "output_type": "stream",
     "text": [
      "<class 'pandas.core.frame.DataFrame'>\n",
      "MultiIndex: 4266 entries, (ENSG00000039139.9, Adipose - Subcutaneous) to (ENSG00000270084.1, Vagina)\n",
      "Data columns (total 3 columns):\n",
      "ENSG         4266 non-null int64\n",
      "SMTSD        4266 non-null int64\n",
      "sex_count    4266 non-null int64\n",
      "dtypes: int64(3)\n",
      "memory usage: 109.7+ KB\n"
     ]
    }
   ],
   "source": [
    "sex_count.info()"
   ]
  },
  {
   "cell_type": "code",
   "execution_count": 56,
   "metadata": {
    "colab": {
     "base_uri": "https://localhost:8080/",
     "height": 119
    },
    "colab_type": "code",
    "id": "wtLAFrfgcExT",
    "outputId": "b2fd00ac-e043-4440-a0eb-204531a18417"
   },
   "outputs": [
    {
     "name": "stdout",
     "output_type": "stream",
     "text": [
      "<class 'pandas.core.frame.DataFrame'>\n",
      "MultiIndex: 4266 entries, (ENSG00000039139.9, Adipose - Subcutaneous) to (ENSG00000270084.1, Vagina)\n",
      "Data columns (total 1 columns):\n",
      "sex_count    4266 non-null int64\n",
      "dtypes: int64(1)\n",
      "memory usage: 43.1+ KB\n"
     ]
    }
   ],
   "source": [
    "sex_count = sex_count[['sex_count']] #Why needed?\n",
    "sex_count.info()"
   ]
  },
  {
   "cell_type": "code",
   "execution_count": 57,
   "metadata": {
    "colab": {
     "base_uri": "https://localhost:8080/",
     "height": 289
    },
    "colab_type": "code",
    "id": "lP7meXxz4lAY",
    "outputId": "0673c63f-091e-460d-b10e-54f89afcfa13"
   },
   "outputs": [
    {
     "data": {
      "text/html": [
       "<div>\n",
       "<style scoped>\n",
       "    .dataframe tbody tr th:only-of-type {\n",
       "        vertical-align: middle;\n",
       "    }\n",
       "\n",
       "    .dataframe tbody tr th {\n",
       "        vertical-align: top;\n",
       "    }\n",
       "\n",
       "    .dataframe thead th {\n",
       "        text-align: right;\n",
       "    }\n",
       "</style>\n",
       "<table border=\"1\" class=\"dataframe\">\n",
       "  <thead>\n",
       "    <tr style=\"text-align: right;\">\n",
       "      <th></th>\n",
       "      <th>ENSG</th>\n",
       "      <th>SAMPID</th>\n",
       "      <th>TPM</th>\n",
       "      <th>NCBI</th>\n",
       "      <th>HGNC</th>\n",
       "      <th>SMATSSCR</th>\n",
       "      <th>SMTS</th>\n",
       "      <th>SMTSD</th>\n",
       "      <th>SMUBRID</th>\n",
       "      <th>SUBJID</th>\n",
       "      <th>SEX</th>\n",
       "      <th>AGE</th>\n",
       "      <th>DTHHRDY</th>\n",
       "      <th>sex_count</th>\n",
       "    </tr>\n",
       "  </thead>\n",
       "  <tbody>\n",
       "    <tr>\n",
       "      <th>0</th>\n",
       "      <td>ENSG00000158292.6</td>\n",
       "      <td>GTEX-111CU-1826-SM-5GZYN</td>\n",
       "      <td>44.34</td>\n",
       "      <td>387509</td>\n",
       "      <td>GPR153</td>\n",
       "      <td>0.0</td>\n",
       "      <td>Adipose Tissue</td>\n",
       "      <td>Adipose - Subcutaneous</td>\n",
       "      <td>0002190</td>\n",
       "      <td>GTEX-111CU</td>\n",
       "      <td>male</td>\n",
       "      <td>50-59</td>\n",
       "      <td>0.0</td>\n",
       "      <td>2</td>\n",
       "    </tr>\n",
       "    <tr>\n",
       "      <th>124</th>\n",
       "      <td>ENSG00000158292.6</td>\n",
       "      <td>GTEX-111YS-2426-SM-5GZZQ</td>\n",
       "      <td>22.03</td>\n",
       "      <td>387509</td>\n",
       "      <td>GPR153</td>\n",
       "      <td>0.0</td>\n",
       "      <td>Adipose Tissue</td>\n",
       "      <td>Adipose - Subcutaneous</td>\n",
       "      <td>0002190</td>\n",
       "      <td>GTEX-111YS</td>\n",
       "      <td>male</td>\n",
       "      <td>60-69</td>\n",
       "      <td>0.0</td>\n",
       "      <td>2</td>\n",
       "    </tr>\n",
       "    <tr>\n",
       "      <th>248</th>\n",
       "      <td>ENSG00000158292.6</td>\n",
       "      <td>GTEX-1122O-2026-SM-5NQ91</td>\n",
       "      <td>32.41</td>\n",
       "      <td>387509</td>\n",
       "      <td>GPR153</td>\n",
       "      <td>0.0</td>\n",
       "      <td>Adipose Tissue</td>\n",
       "      <td>Adipose - Subcutaneous</td>\n",
       "      <td>0002190</td>\n",
       "      <td>GTEX-1122O</td>\n",
       "      <td>female</td>\n",
       "      <td>60-69</td>\n",
       "      <td>0.0</td>\n",
       "      <td>2</td>\n",
       "    </tr>\n",
       "    <tr>\n",
       "      <th>372</th>\n",
       "      <td>ENSG00000158292.6</td>\n",
       "      <td>GTEX-1128S-2126-SM-5H12U</td>\n",
       "      <td>26.06</td>\n",
       "      <td>387509</td>\n",
       "      <td>GPR153</td>\n",
       "      <td>0.0</td>\n",
       "      <td>Adipose Tissue</td>\n",
       "      <td>Adipose - Subcutaneous</td>\n",
       "      <td>0002190</td>\n",
       "      <td>GTEX-1128S</td>\n",
       "      <td>female</td>\n",
       "      <td>60-69</td>\n",
       "      <td>2.0</td>\n",
       "      <td>2</td>\n",
       "    </tr>\n",
       "    <tr>\n",
       "      <th>496</th>\n",
       "      <td>ENSG00000158292.6</td>\n",
       "      <td>GTEX-117YX-2226-SM-5EGJJ</td>\n",
       "      <td>63.49</td>\n",
       "      <td>387509</td>\n",
       "      <td>GPR153</td>\n",
       "      <td>0.0</td>\n",
       "      <td>Adipose Tissue</td>\n",
       "      <td>Adipose - Subcutaneous</td>\n",
       "      <td>0002190</td>\n",
       "      <td>GTEX-117YX</td>\n",
       "      <td>male</td>\n",
       "      <td>50-59</td>\n",
       "      <td>0.0</td>\n",
       "      <td>2</td>\n",
       "    </tr>\n",
       "  </tbody>\n",
       "</table>\n",
       "</div>"
      ],
      "text/plain": [
       "                  ENSG                    SAMPID    TPM    NCBI    HGNC  \\\n",
       "0    ENSG00000158292.6  GTEX-111CU-1826-SM-5GZYN  44.34  387509  GPR153   \n",
       "124  ENSG00000158292.6  GTEX-111YS-2426-SM-5GZZQ  22.03  387509  GPR153   \n",
       "248  ENSG00000158292.6  GTEX-1122O-2026-SM-5NQ91  32.41  387509  GPR153   \n",
       "372  ENSG00000158292.6  GTEX-1128S-2126-SM-5H12U  26.06  387509  GPR153   \n",
       "496  ENSG00000158292.6  GTEX-117YX-2226-SM-5EGJJ  63.49  387509  GPR153   \n",
       "\n",
       "     SMATSSCR            SMTS                   SMTSD  SMUBRID      SUBJID  \\\n",
       "0         0.0  Adipose Tissue  Adipose - Subcutaneous  0002190  GTEX-111CU   \n",
       "124       0.0  Adipose Tissue  Adipose - Subcutaneous  0002190  GTEX-111YS   \n",
       "248       0.0  Adipose Tissue  Adipose - Subcutaneous  0002190  GTEX-1122O   \n",
       "372       0.0  Adipose Tissue  Adipose - Subcutaneous  0002190  GTEX-1128S   \n",
       "496       0.0  Adipose Tissue  Adipose - Subcutaneous  0002190  GTEX-117YX   \n",
       "\n",
       "        SEX    AGE  DTHHRDY  sex_count  \n",
       "0      male  50-59      0.0          2  \n",
       "124    male  60-69      0.0          2  \n",
       "248  female  60-69      0.0          2  \n",
       "372  female  60-69      2.0          2  \n",
       "496    male  50-59      0.0          2  "
      ]
     },
     "execution_count": 57,
     "metadata": {
      "tags": []
     },
     "output_type": "execute_result"
    }
   ],
   "source": [
    "rnaseq = pandas.merge(rnaseq, sex_count, left_on=['ENSG', 'SMTSD'], right_index=True, how=\"inner\")\n",
    "rnaseq.head()"
   ]
  },
  {
   "cell_type": "code",
   "execution_count": 0,
   "metadata": {
    "colab": {},
    "colab_type": "code",
    "id": "UGmkPRINNNt6"
   },
   "outputs": [],
   "source": [
    "rnaseq = rnaseq[rnaseq['sex_count'] == 2]\n",
    "rnaseq.drop(columns=['sex_count'], inplace=True)"
   ]
  },
  {
   "cell_type": "code",
   "execution_count": 59,
   "metadata": {
    "colab": {
     "base_uri": "https://localhost:8080/",
     "height": 323
    },
    "colab_type": "code",
    "id": "68vSaB3pPs3E",
    "outputId": "5abb4b9e-143e-42bc-fb22-637ba343f60e"
   },
   "outputs": [
    {
     "name": "stdout",
     "output_type": "stream",
     "text": [
      "<class 'pandas.core.frame.DataFrame'>\n",
      "Int64Index: 775641 entries, 0 to 899247\n",
      "Data columns (total 13 columns):\n",
      "ENSG        775641 non-null object\n",
      "SAMPID      775641 non-null object\n",
      "TPM         775641 non-null float64\n",
      "NCBI        775641 non-null object\n",
      "HGNC        775641 non-null object\n",
      "SMATSSCR    775641 non-null float64\n",
      "SMTS        775641 non-null object\n",
      "SMTSD       775641 non-null object\n",
      "SMUBRID     775641 non-null object\n",
      "SUBJID      775641 non-null object\n",
      "SEX         775641 non-null object\n",
      "AGE         775641 non-null object\n",
      "DTHHRDY     775641 non-null float64\n",
      "dtypes: float64(3), object(10)\n",
      "memory usage: 82.8+ MB\n"
     ]
    }
   ],
   "source": [
    "rnaseq.info()"
   ]
  },
  {
   "cell_type": "code",
   "execution_count": 60,
   "metadata": {
    "colab": {
     "base_uri": "https://localhost:8080/",
     "height": 561
    },
    "colab_type": "code",
    "id": "7XcMeIvPTAGi",
    "outputId": "3d9d29f7-725a-4928-acf8-69a48420bf5c"
   },
   "outputs": [
    {
     "data": {
      "text/plain": [
       "Muscle - Skeletal                        51870\n",
       "Skin - Sun Exposed (Lower leg)           44312\n",
       "Adipose - Subcutaneous                   43056\n",
       "Artery - Tibial                          41697\n",
       "Esophagus - Mucosa                       39788\n",
       "Nerve - Tibial                           39445\n",
       "Esophagus - Muscularis                   36838\n",
       "Skin - Not Sun Exposed (Suprapubic)      36772\n",
       "Thyroid                                  36504\n",
       "Adipose - Visceral (Omentum)             35340\n",
       "Lung                                     32592\n",
       "Heart - Left Ventricle                   29640\n",
       "Artery - Aorta                           29412\n",
       "Breast - Mammary Tissue                  27246\n",
       "Heart - Atrial Appendage                 27246\n",
       "Esophagus - Gastroesophageal Junction    25199\n",
       "Pancreas                                 23310\n",
       "Stomach                                  22310\n",
       "Colon - Transverse                       20520\n",
       "Colon - Sigmoid                          19775\n",
       "Artery - Coronary                        16786\n",
       "Adrenal Gland                            16610\n",
       "Spleen                                   14659\n",
       "Liver                                    13860\n",
       "Small Intestine - Terminal Ileum         12208\n",
       "Brain - Cerebellum                        9984\n",
       "Minor Salivary Gland                      9328\n",
       "Pituitary                                 8829\n",
       "Brain - Cortex                            8505\n",
       "Kidney - Cortex                           1248\n",
       "Bladder                                    752\n",
       "Name: SMTSD, dtype: int64"
      ]
     },
     "execution_count": 60,
     "metadata": {
      "tags": []
     },
     "output_type": "execute_result"
    }
   ],
   "source": [
    "rnaseq.SMTSD.value_counts()"
   ]
  },
  {
   "cell_type": "markdown",
   "metadata": {
    "colab_type": "text",
    "id": "pTofwlsHT3vI"
   },
   "source": [
    "### Remove mammary tissue, although males have some too."
   ]
  },
  {
   "cell_type": "code",
   "execution_count": 0,
   "metadata": {
    "colab": {},
    "colab_type": "code",
    "id": "iYePilvsTdKl"
   },
   "outputs": [],
   "source": [
    "rnaseq = rnaseq[~rnaseq.SMTSD.str.match(\"^Breast\")]"
   ]
  },
  {
   "cell_type": "markdown",
   "metadata": {
    "colab_type": "text",
    "id": "uYN-z_adiKwz"
   },
   "source": [
    "### Aggregate samples, compute median TPM by gene+tissue+sex:"
   ]
  },
  {
   "cell_type": "code",
   "execution_count": 62,
   "metadata": {
    "colab": {
     "base_uri": "https://localhost:8080/",
     "height": 221
    },
    "colab_type": "code",
    "id": "1d_9a09mpI3Q",
    "outputId": "ee7729a6-d1df-4b5f-a0ab-fec1701c5aa1"
   },
   "outputs": [
    {
     "name": "stdout",
     "output_type": "stream",
     "text": [
      "(6656, 4)\n"
     ]
    },
    {
     "data": {
      "text/html": [
       "<div>\n",
       "<style scoped>\n",
       "    .dataframe tbody tr th:only-of-type {\n",
       "        vertical-align: middle;\n",
       "    }\n",
       "\n",
       "    .dataframe tbody tr th {\n",
       "        vertical-align: top;\n",
       "    }\n",
       "\n",
       "    .dataframe thead th {\n",
       "        text-align: right;\n",
       "    }\n",
       "</style>\n",
       "<table border=\"1\" class=\"dataframe\">\n",
       "  <thead>\n",
       "    <tr style=\"text-align: right;\">\n",
       "      <th></th>\n",
       "      <th>ENSG</th>\n",
       "      <th>SMTSD</th>\n",
       "      <th>SEX</th>\n",
       "      <th>TPM</th>\n",
       "    </tr>\n",
       "  </thead>\n",
       "  <tbody>\n",
       "    <tr>\n",
       "      <th>0</th>\n",
       "      <td>ENSG00000039139.9</td>\n",
       "      <td>Adipose - Subcutaneous</td>\n",
       "      <td>female</td>\n",
       "      <td>0.077910</td>\n",
       "    </tr>\n",
       "    <tr>\n",
       "      <th>1</th>\n",
       "      <td>ENSG00000039139.9</td>\n",
       "      <td>Adipose - Subcutaneous</td>\n",
       "      <td>male</td>\n",
       "      <td>0.074290</td>\n",
       "    </tr>\n",
       "    <tr>\n",
       "      <th>2</th>\n",
       "      <td>ENSG00000039139.9</td>\n",
       "      <td>Adipose - Visceral (Omentum)</td>\n",
       "      <td>female</td>\n",
       "      <td>0.052615</td>\n",
       "    </tr>\n",
       "    <tr>\n",
       "      <th>3</th>\n",
       "      <td>ENSG00000039139.9</td>\n",
       "      <td>Adipose - Visceral (Omentum)</td>\n",
       "      <td>male</td>\n",
       "      <td>0.064320</td>\n",
       "    </tr>\n",
       "    <tr>\n",
       "      <th>4</th>\n",
       "      <td>ENSG00000039139.9</td>\n",
       "      <td>Adrenal Gland</td>\n",
       "      <td>female</td>\n",
       "      <td>0.079170</td>\n",
       "    </tr>\n",
       "  </tbody>\n",
       "</table>\n",
       "</div>"
      ],
      "text/plain": [
       "                ENSG                         SMTSD     SEX       TPM\n",
       "0  ENSG00000039139.9        Adipose - Subcutaneous  female  0.077910\n",
       "1  ENSG00000039139.9        Adipose - Subcutaneous    male  0.074290\n",
       "2  ENSG00000039139.9  Adipose - Visceral (Omentum)  female  0.052615\n",
       "3  ENSG00000039139.9  Adipose - Visceral (Omentum)    male  0.064320\n",
       "4  ENSG00000039139.9                 Adrenal Gland  female  0.079170"
      ]
     },
     "execution_count": 62,
     "metadata": {
      "tags": []
     },
     "output_type": "execute_result"
    }
   ],
   "source": [
    "rnaseq = rnaseq[['ENSG', 'SMTSD', 'SEX', 'TPM']].groupby(by=['ENSG','SMTSD','SEX'], as_index=False).median()\n",
    "print(rnaseq.shape)\n",
    "rnaseq.head()"
   ]
  },
  {
   "cell_type": "markdown",
   "metadata": {
    "colab_type": "text",
    "id": "blUTzPb6KwQp"
   },
   "source": [
    "### Save median TPMs file for analysis, 1-row per gene+tissue+sex:"
   ]
  },
  {
   "cell_type": "code",
   "execution_count": 0,
   "metadata": {
    "colab": {},
    "colab_type": "code",
    "id": "I8aLhmVuKqIN"
   },
   "outputs": [],
   "source": [
    "rnaseq.round(3).to_csv('gtex_rnaseq_prep_median.tsv', sep='\\t', index=False)\n",
    "google.colab.files.download('gtex_rnaseq_prep_median.tsv')"
   ]
  },
  {
   "cell_type": "markdown",
   "metadata": {
    "colab_type": "text",
    "id": "_LNh8CQeGhHq"
   },
   "source": [
    "### Pivot TPMs to generate gene profiles:"
   ]
  },
  {
   "cell_type": "code",
   "execution_count": 0,
   "metadata": {
    "colab": {},
    "colab_type": "code",
    "id": "oj7EVdEqHuPv"
   },
   "outputs": [],
   "source": [
    "tissues = pandas.Series(pandas.unique(rnaseq.SMTSD.sort_values()))\n"
   ]
  },
  {
   "cell_type": "code",
   "execution_count": 65,
   "metadata": {
    "colab": {
     "base_uri": "https://localhost:8080/",
     "height": 321
    },
    "colab_type": "code",
    "id": "xwSCxutLGdhT",
    "outputId": "11ed8a25-4017-42eb-ecfe-f70be3192ac7"
   },
   "outputs": [
    {
     "data": {
      "text/html": [
       "<div>\n",
       "<style scoped>\n",
       "    .dataframe tbody tr th:only-of-type {\n",
       "        vertical-align: middle;\n",
       "    }\n",
       "\n",
       "    .dataframe tbody tr th {\n",
       "        vertical-align: top;\n",
       "    }\n",
       "\n",
       "    .dataframe thead th {\n",
       "        text-align: right;\n",
       "    }\n",
       "</style>\n",
       "<table border=\"1\" class=\"dataframe\">\n",
       "  <thead>\n",
       "    <tr style=\"text-align: right;\">\n",
       "      <th>SMTSD</th>\n",
       "      <th>ENSG</th>\n",
       "      <th>Adipose - Subcutaneous</th>\n",
       "      <th>Adipose - Visceral (Omentum)</th>\n",
       "      <th>Adrenal Gland</th>\n",
       "      <th>Artery - Aorta</th>\n",
       "      <th>Artery - Coronary</th>\n",
       "      <th>Artery - Tibial</th>\n",
       "      <th>Bladder</th>\n",
       "      <th>Brain - Cerebellum</th>\n",
       "      <th>Brain - Cortex</th>\n",
       "      <th>...</th>\n",
       "      <th>Nerve - Tibial</th>\n",
       "      <th>Pancreas</th>\n",
       "      <th>Pituitary</th>\n",
       "      <th>Skin - Not Sun Exposed (Suprapubic)</th>\n",
       "      <th>Skin - Sun Exposed (Lower leg)</th>\n",
       "      <th>Small Intestine - Terminal Ileum</th>\n",
       "      <th>Spleen</th>\n",
       "      <th>Stomach</th>\n",
       "      <th>Thyroid</th>\n",
       "      <th>SEX</th>\n",
       "    </tr>\n",
       "  </thead>\n",
       "  <tbody>\n",
       "    <tr>\n",
       "      <th>0</th>\n",
       "      <td>ENSG00000039139.9</td>\n",
       "      <td>0.07791</td>\n",
       "      <td>0.052615</td>\n",
       "      <td>0.07917</td>\n",
       "      <td>0.08334</td>\n",
       "      <td>0.06381</td>\n",
       "      <td>0.04626</td>\n",
       "      <td>0.61330</td>\n",
       "      <td>0.38585</td>\n",
       "      <td>0.2860</td>\n",
       "      <td>...</td>\n",
       "      <td>0.144800</td>\n",
       "      <td>0.56865</td>\n",
       "      <td>3.3370</td>\n",
       "      <td>0.07157</td>\n",
       "      <td>0.090805</td>\n",
       "      <td>0.14690</td>\n",
       "      <td>0.09615</td>\n",
       "      <td>0.6284</td>\n",
       "      <td>1.0750</td>\n",
       "      <td>female</td>\n",
       "    </tr>\n",
       "    <tr>\n",
       "      <th>1</th>\n",
       "      <td>ENSG00000082516.8</td>\n",
       "      <td>15.57000</td>\n",
       "      <td>11.120000</td>\n",
       "      <td>7.94000</td>\n",
       "      <td>10.42000</td>\n",
       "      <td>10.57000</td>\n",
       "      <td>12.92000</td>\n",
       "      <td>13.78000</td>\n",
       "      <td>9.52950</td>\n",
       "      <td>5.9380</td>\n",
       "      <td>...</td>\n",
       "      <td>15.830000</td>\n",
       "      <td>3.41200</td>\n",
       "      <td>10.5600</td>\n",
       "      <td>11.28000</td>\n",
       "      <td>13.910000</td>\n",
       "      <td>6.42450</td>\n",
       "      <td>9.68800</td>\n",
       "      <td>5.1860</td>\n",
       "      <td>10.8300</td>\n",
       "      <td>female</td>\n",
       "    </tr>\n",
       "    <tr>\n",
       "      <th>2</th>\n",
       "      <td>ENSG00000100302.6</td>\n",
       "      <td>2.32900</td>\n",
       "      <td>2.001500</td>\n",
       "      <td>2.87300</td>\n",
       "      <td>18.81000</td>\n",
       "      <td>6.09000</td>\n",
       "      <td>3.98200</td>\n",
       "      <td>5.71250</td>\n",
       "      <td>8.44500</td>\n",
       "      <td>49.5100</td>\n",
       "      <td>...</td>\n",
       "      <td>1.768500</td>\n",
       "      <td>1.03100</td>\n",
       "      <td>4.5250</td>\n",
       "      <td>2.01500</td>\n",
       "      <td>2.481000</td>\n",
       "      <td>6.01500</td>\n",
       "      <td>0.41745</td>\n",
       "      <td>1.7725</td>\n",
       "      <td>2.3060</td>\n",
       "      <td>female</td>\n",
       "    </tr>\n",
       "    <tr>\n",
       "      <th>3</th>\n",
       "      <td>ENSG00000100580.7</td>\n",
       "      <td>7.47000</td>\n",
       "      <td>7.313500</td>\n",
       "      <td>11.33000</td>\n",
       "      <td>7.12700</td>\n",
       "      <td>7.60000</td>\n",
       "      <td>9.40600</td>\n",
       "      <td>10.05050</td>\n",
       "      <td>12.98000</td>\n",
       "      <td>9.5710</td>\n",
       "      <td>...</td>\n",
       "      <td>10.265000</td>\n",
       "      <td>3.32100</td>\n",
       "      <td>19.7400</td>\n",
       "      <td>6.60400</td>\n",
       "      <td>6.659000</td>\n",
       "      <td>7.21000</td>\n",
       "      <td>14.51000</td>\n",
       "      <td>5.2520</td>\n",
       "      <td>15.1600</td>\n",
       "      <td>female</td>\n",
       "    </tr>\n",
       "    <tr>\n",
       "      <th>4</th>\n",
       "      <td>ENSG00000101200.5</td>\n",
       "      <td>0.69610</td>\n",
       "      <td>0.142700</td>\n",
       "      <td>0.29530</td>\n",
       "      <td>0.00000</td>\n",
       "      <td>0.05195</td>\n",
       "      <td>0.00000</td>\n",
       "      <td>0.19445</td>\n",
       "      <td>0.32035</td>\n",
       "      <td>0.2374</td>\n",
       "      <td>...</td>\n",
       "      <td>0.025665</td>\n",
       "      <td>0.00000</td>\n",
       "      <td>0.2779</td>\n",
       "      <td>0.00000</td>\n",
       "      <td>0.000000</td>\n",
       "      <td>0.02317</td>\n",
       "      <td>0.05532</td>\n",
       "      <td>0.0000</td>\n",
       "      <td>0.0754</td>\n",
       "      <td>female</td>\n",
       "    </tr>\n",
       "  </tbody>\n",
       "</table>\n",
       "<p>5 rows × 32 columns</p>\n",
       "</div>"
      ],
      "text/plain": [
       "SMTSD               ENSG  Adipose - Subcutaneous  \\\n",
       "0      ENSG00000039139.9                 0.07791   \n",
       "1      ENSG00000082516.8                15.57000   \n",
       "2      ENSG00000100302.6                 2.32900   \n",
       "3      ENSG00000100580.7                 7.47000   \n",
       "4      ENSG00000101200.5                 0.69610   \n",
       "\n",
       "SMTSD  Adipose - Visceral (Omentum)  Adrenal Gland  Artery - Aorta  \\\n",
       "0                          0.052615        0.07917         0.08334   \n",
       "1                         11.120000        7.94000        10.42000   \n",
       "2                          2.001500        2.87300        18.81000   \n",
       "3                          7.313500       11.33000         7.12700   \n",
       "4                          0.142700        0.29530         0.00000   \n",
       "\n",
       "SMTSD  Artery - Coronary  Artery - Tibial   Bladder  Brain - Cerebellum  \\\n",
       "0                0.06381          0.04626   0.61330             0.38585   \n",
       "1               10.57000         12.92000  13.78000             9.52950   \n",
       "2                6.09000          3.98200   5.71250             8.44500   \n",
       "3                7.60000          9.40600  10.05050            12.98000   \n",
       "4                0.05195          0.00000   0.19445             0.32035   \n",
       "\n",
       "SMTSD  Brain - Cortex   ...    Nerve - Tibial  Pancreas  Pituitary  \\\n",
       "0              0.2860   ...          0.144800   0.56865     3.3370   \n",
       "1              5.9380   ...         15.830000   3.41200    10.5600   \n",
       "2             49.5100   ...          1.768500   1.03100     4.5250   \n",
       "3              9.5710   ...         10.265000   3.32100    19.7400   \n",
       "4              0.2374   ...          0.025665   0.00000     0.2779   \n",
       "\n",
       "SMTSD  Skin - Not Sun Exposed (Suprapubic)  Skin - Sun Exposed (Lower leg)  \\\n",
       "0                                  0.07157                        0.090805   \n",
       "1                                 11.28000                       13.910000   \n",
       "2                                  2.01500                        2.481000   \n",
       "3                                  6.60400                        6.659000   \n",
       "4                                  0.00000                        0.000000   \n",
       "\n",
       "SMTSD  Small Intestine - Terminal Ileum    Spleen  Stomach  Thyroid     SEX  \n",
       "0                               0.14690   0.09615   0.6284   1.0750  female  \n",
       "1                               6.42450   9.68800   5.1860  10.8300  female  \n",
       "2                               6.01500   0.41745   1.7725   2.3060  female  \n",
       "3                               7.21000  14.51000   5.2520  15.1600  female  \n",
       "4                               0.02317   0.05532   0.0000   0.0754  female  \n",
       "\n",
       "[5 rows x 32 columns]"
      ]
     },
     "execution_count": 65,
     "metadata": {
      "tags": []
     },
     "output_type": "execute_result"
    }
   ],
   "source": [
    "rnaseq_f = rnaseq[rnaseq.SEX=='female'].drop(columns=['SEX'])\n",
    "rnaseq_f = rnaseq_f[['ENSG','SMTSD','TPM']]\n",
    "exfiles_f = rnaseq_f.pivot(index='ENSG', columns='SMTSD')\n",
    "exfiles_f.columns = exfiles_f.columns.get_level_values(1)\n",
    "exfiles_f = exfiles_f.reset_index(drop=False)\n",
    "exfiles_f['SEX'] = 'female'\n",
    "exfiles_f.head()"
   ]
  },
  {
   "cell_type": "code",
   "execution_count": 66,
   "metadata": {
    "colab": {
     "base_uri": "https://localhost:8080/",
     "height": 321
    },
    "colab_type": "code",
    "id": "u3nARXHgIAzx",
    "outputId": "d3dedd2d-b106-459c-c5dd-277d967da97d"
   },
   "outputs": [
    {
     "data": {
      "text/html": [
       "<div>\n",
       "<style scoped>\n",
       "    .dataframe tbody tr th:only-of-type {\n",
       "        vertical-align: middle;\n",
       "    }\n",
       "\n",
       "    .dataframe tbody tr th {\n",
       "        vertical-align: top;\n",
       "    }\n",
       "\n",
       "    .dataframe thead th {\n",
       "        text-align: right;\n",
       "    }\n",
       "</style>\n",
       "<table border=\"1\" class=\"dataframe\">\n",
       "  <thead>\n",
       "    <tr style=\"text-align: right;\">\n",
       "      <th>SMTSD</th>\n",
       "      <th>ENSG</th>\n",
       "      <th>Adipose - Subcutaneous</th>\n",
       "      <th>Adipose - Visceral (Omentum)</th>\n",
       "      <th>Adrenal Gland</th>\n",
       "      <th>Artery - Aorta</th>\n",
       "      <th>Artery - Coronary</th>\n",
       "      <th>Artery - Tibial</th>\n",
       "      <th>Bladder</th>\n",
       "      <th>Brain - Cerebellum</th>\n",
       "      <th>Brain - Cortex</th>\n",
       "      <th>...</th>\n",
       "      <th>Nerve - Tibial</th>\n",
       "      <th>Pancreas</th>\n",
       "      <th>Pituitary</th>\n",
       "      <th>Skin - Not Sun Exposed (Suprapubic)</th>\n",
       "      <th>Skin - Sun Exposed (Lower leg)</th>\n",
       "      <th>Small Intestine - Terminal Ileum</th>\n",
       "      <th>Spleen</th>\n",
       "      <th>Stomach</th>\n",
       "      <th>Thyroid</th>\n",
       "      <th>SEX</th>\n",
       "    </tr>\n",
       "  </thead>\n",
       "  <tbody>\n",
       "    <tr>\n",
       "      <th>0</th>\n",
       "      <td>ENSG00000039139.9</td>\n",
       "      <td>0.07429</td>\n",
       "      <td>0.06432</td>\n",
       "      <td>0.079345</td>\n",
       "      <td>0.07173</td>\n",
       "      <td>0.06564</td>\n",
       "      <td>0.057975</td>\n",
       "      <td>0.9218</td>\n",
       "      <td>0.4645</td>\n",
       "      <td>0.26985</td>\n",
       "      <td>...</td>\n",
       "      <td>0.1655</td>\n",
       "      <td>0.59615</td>\n",
       "      <td>2.81550</td>\n",
       "      <td>0.072565</td>\n",
       "      <td>0.11255</td>\n",
       "      <td>0.1305</td>\n",
       "      <td>0.07748</td>\n",
       "      <td>0.6789</td>\n",
       "      <td>1.096</td>\n",
       "      <td>male</td>\n",
       "    </tr>\n",
       "    <tr>\n",
       "      <th>1</th>\n",
       "      <td>ENSG00000082516.8</td>\n",
       "      <td>16.94000</td>\n",
       "      <td>10.31000</td>\n",
       "      <td>7.612500</td>\n",
       "      <td>10.32000</td>\n",
       "      <td>10.43000</td>\n",
       "      <td>12.480000</td>\n",
       "      <td>13.3850</td>\n",
       "      <td>9.9115</td>\n",
       "      <td>5.93300</td>\n",
       "      <td>...</td>\n",
       "      <td>16.2200</td>\n",
       "      <td>3.76450</td>\n",
       "      <td>9.51200</td>\n",
       "      <td>10.125000</td>\n",
       "      <td>13.09500</td>\n",
       "      <td>6.3670</td>\n",
       "      <td>9.67900</td>\n",
       "      <td>5.7030</td>\n",
       "      <td>12.010</td>\n",
       "      <td>male</td>\n",
       "    </tr>\n",
       "    <tr>\n",
       "      <th>2</th>\n",
       "      <td>ENSG00000100302.6</td>\n",
       "      <td>3.26100</td>\n",
       "      <td>2.18450</td>\n",
       "      <td>2.553000</td>\n",
       "      <td>19.86000</td>\n",
       "      <td>7.35300</td>\n",
       "      <td>3.634000</td>\n",
       "      <td>6.5190</td>\n",
       "      <td>7.9985</td>\n",
       "      <td>48.08000</td>\n",
       "      <td>...</td>\n",
       "      <td>1.9130</td>\n",
       "      <td>1.16300</td>\n",
       "      <td>3.49800</td>\n",
       "      <td>2.437500</td>\n",
       "      <td>2.75150</td>\n",
       "      <td>6.0210</td>\n",
       "      <td>0.42500</td>\n",
       "      <td>1.6800</td>\n",
       "      <td>2.704</td>\n",
       "      <td>male</td>\n",
       "    </tr>\n",
       "    <tr>\n",
       "      <th>3</th>\n",
       "      <td>ENSG00000100580.7</td>\n",
       "      <td>7.33700</td>\n",
       "      <td>7.54200</td>\n",
       "      <td>10.550000</td>\n",
       "      <td>6.99000</td>\n",
       "      <td>7.84900</td>\n",
       "      <td>9.184500</td>\n",
       "      <td>11.9300</td>\n",
       "      <td>13.8600</td>\n",
       "      <td>9.33600</td>\n",
       "      <td>...</td>\n",
       "      <td>10.1700</td>\n",
       "      <td>3.46100</td>\n",
       "      <td>19.46500</td>\n",
       "      <td>6.239000</td>\n",
       "      <td>6.70800</td>\n",
       "      <td>6.6690</td>\n",
       "      <td>13.54000</td>\n",
       "      <td>5.1980</td>\n",
       "      <td>15.100</td>\n",
       "      <td>male</td>\n",
       "    </tr>\n",
       "    <tr>\n",
       "      <th>4</th>\n",
       "      <td>ENSG00000101200.5</td>\n",
       "      <td>0.60200</td>\n",
       "      <td>0.10039</td>\n",
       "      <td>0.334750</td>\n",
       "      <td>0.00000</td>\n",
       "      <td>0.00000</td>\n",
       "      <td>0.000000</td>\n",
       "      <td>0.0000</td>\n",
       "      <td>0.4107</td>\n",
       "      <td>0.22565</td>\n",
       "      <td>...</td>\n",
       "      <td>0.0000</td>\n",
       "      <td>0.00000</td>\n",
       "      <td>0.14225</td>\n",
       "      <td>0.000000</td>\n",
       "      <td>0.00000</td>\n",
       "      <td>0.0000</td>\n",
       "      <td>0.00000</td>\n",
       "      <td>0.0000</td>\n",
       "      <td>0.000</td>\n",
       "      <td>male</td>\n",
       "    </tr>\n",
       "  </tbody>\n",
       "</table>\n",
       "<p>5 rows × 32 columns</p>\n",
       "</div>"
      ],
      "text/plain": [
       "SMTSD               ENSG  Adipose - Subcutaneous  \\\n",
       "0      ENSG00000039139.9                 0.07429   \n",
       "1      ENSG00000082516.8                16.94000   \n",
       "2      ENSG00000100302.6                 3.26100   \n",
       "3      ENSG00000100580.7                 7.33700   \n",
       "4      ENSG00000101200.5                 0.60200   \n",
       "\n",
       "SMTSD  Adipose - Visceral (Omentum)  Adrenal Gland  Artery - Aorta  \\\n",
       "0                           0.06432       0.079345         0.07173   \n",
       "1                          10.31000       7.612500        10.32000   \n",
       "2                           2.18450       2.553000        19.86000   \n",
       "3                           7.54200      10.550000         6.99000   \n",
       "4                           0.10039       0.334750         0.00000   \n",
       "\n",
       "SMTSD  Artery - Coronary  Artery - Tibial  Bladder  Brain - Cerebellum  \\\n",
       "0                0.06564         0.057975   0.9218              0.4645   \n",
       "1               10.43000        12.480000  13.3850              9.9115   \n",
       "2                7.35300         3.634000   6.5190              7.9985   \n",
       "3                7.84900         9.184500  11.9300             13.8600   \n",
       "4                0.00000         0.000000   0.0000              0.4107   \n",
       "\n",
       "SMTSD  Brain - Cortex  ...   Nerve - Tibial  Pancreas  Pituitary  \\\n",
       "0             0.26985  ...           0.1655   0.59615    2.81550   \n",
       "1             5.93300  ...          16.2200   3.76450    9.51200   \n",
       "2            48.08000  ...           1.9130   1.16300    3.49800   \n",
       "3             9.33600  ...          10.1700   3.46100   19.46500   \n",
       "4             0.22565  ...           0.0000   0.00000    0.14225   \n",
       "\n",
       "SMTSD  Skin - Not Sun Exposed (Suprapubic)  Skin - Sun Exposed (Lower leg)  \\\n",
       "0                                 0.072565                         0.11255   \n",
       "1                                10.125000                        13.09500   \n",
       "2                                 2.437500                         2.75150   \n",
       "3                                 6.239000                         6.70800   \n",
       "4                                 0.000000                         0.00000   \n",
       "\n",
       "SMTSD  Small Intestine - Terminal Ileum    Spleen  Stomach  Thyroid   SEX  \n",
       "0                                0.1305   0.07748   0.6789    1.096  male  \n",
       "1                                6.3670   9.67900   5.7030   12.010  male  \n",
       "2                                6.0210   0.42500   1.6800    2.704  male  \n",
       "3                                6.6690  13.54000   5.1980   15.100  male  \n",
       "4                                0.0000   0.00000   0.0000    0.000  male  \n",
       "\n",
       "[5 rows x 32 columns]"
      ]
     },
     "execution_count": 66,
     "metadata": {
      "tags": []
     },
     "output_type": "execute_result"
    }
   ],
   "source": [
    "rnaseq_m = rnaseq[rnaseq.SEX=='male'].drop(columns=['SEX'])\n",
    "rnaseq_m = rnaseq_m[['ENSG','SMTSD','TPM']]\n",
    "exfiles_m = rnaseq_m.pivot(index='ENSG', columns='SMTSD')\n",
    "exfiles_m.columns = exfiles_m.columns.get_level_values(1)\n",
    "exfiles_m = exfiles_m.reset_index(drop=False)\n",
    "exfiles_m['SEX'] = 'male'\n",
    "exfiles_m.head()"
   ]
  },
  {
   "cell_type": "code",
   "execution_count": 67,
   "metadata": {
    "colab": {
     "base_uri": "https://localhost:8080/",
     "height": 321
    },
    "colab_type": "code",
    "id": "j8Ws0J9FH754",
    "outputId": "b4e7ab5f-8e42-4d25-d73e-98aeb32dd2ee"
   },
   "outputs": [
    {
     "data": {
      "text/html": [
       "<div>\n",
       "<style scoped>\n",
       "    .dataframe tbody tr th:only-of-type {\n",
       "        vertical-align: middle;\n",
       "    }\n",
       "\n",
       "    .dataframe tbody tr th {\n",
       "        vertical-align: top;\n",
       "    }\n",
       "\n",
       "    .dataframe thead th {\n",
       "        text-align: right;\n",
       "    }\n",
       "</style>\n",
       "<table border=\"1\" class=\"dataframe\">\n",
       "  <thead>\n",
       "    <tr style=\"text-align: right;\">\n",
       "      <th>SMTSD</th>\n",
       "      <th>ENSG</th>\n",
       "      <th>SEX</th>\n",
       "      <th>Adipose - Subcutaneous</th>\n",
       "      <th>Adipose - Visceral (Omentum)</th>\n",
       "      <th>Adrenal Gland</th>\n",
       "      <th>Artery - Aorta</th>\n",
       "      <th>Artery - Coronary</th>\n",
       "      <th>Artery - Tibial</th>\n",
       "      <th>Bladder</th>\n",
       "      <th>Brain - Cerebellum</th>\n",
       "      <th>...</th>\n",
       "      <th>Muscle - Skeletal</th>\n",
       "      <th>Nerve - Tibial</th>\n",
       "      <th>Pancreas</th>\n",
       "      <th>Pituitary</th>\n",
       "      <th>Skin - Not Sun Exposed (Suprapubic)</th>\n",
       "      <th>Skin - Sun Exposed (Lower leg)</th>\n",
       "      <th>Small Intestine - Terminal Ileum</th>\n",
       "      <th>Spleen</th>\n",
       "      <th>Stomach</th>\n",
       "      <th>Thyroid</th>\n",
       "    </tr>\n",
       "  </thead>\n",
       "  <tbody>\n",
       "    <tr>\n",
       "      <th>0</th>\n",
       "      <td>ENSG00000039139.9</td>\n",
       "      <td>female</td>\n",
       "      <td>0.07791</td>\n",
       "      <td>0.052615</td>\n",
       "      <td>0.07917</td>\n",
       "      <td>0.08334</td>\n",
       "      <td>0.06381</td>\n",
       "      <td>0.04626</td>\n",
       "      <td>0.61330</td>\n",
       "      <td>0.38585</td>\n",
       "      <td>...</td>\n",
       "      <td>0.01151</td>\n",
       "      <td>0.144800</td>\n",
       "      <td>0.56865</td>\n",
       "      <td>3.3370</td>\n",
       "      <td>0.07157</td>\n",
       "      <td>0.090805</td>\n",
       "      <td>0.14690</td>\n",
       "      <td>0.09615</td>\n",
       "      <td>0.6284</td>\n",
       "      <td>1.0750</td>\n",
       "    </tr>\n",
       "    <tr>\n",
       "      <th>1</th>\n",
       "      <td>ENSG00000082516.8</td>\n",
       "      <td>female</td>\n",
       "      <td>15.57000</td>\n",
       "      <td>11.120000</td>\n",
       "      <td>7.94000</td>\n",
       "      <td>10.42000</td>\n",
       "      <td>10.57000</td>\n",
       "      <td>12.92000</td>\n",
       "      <td>13.78000</td>\n",
       "      <td>9.52950</td>\n",
       "      <td>...</td>\n",
       "      <td>10.22000</td>\n",
       "      <td>15.830000</td>\n",
       "      <td>3.41200</td>\n",
       "      <td>10.5600</td>\n",
       "      <td>11.28000</td>\n",
       "      <td>13.910000</td>\n",
       "      <td>6.42450</td>\n",
       "      <td>9.68800</td>\n",
       "      <td>5.1860</td>\n",
       "      <td>10.8300</td>\n",
       "    </tr>\n",
       "    <tr>\n",
       "      <th>2</th>\n",
       "      <td>ENSG00000100302.6</td>\n",
       "      <td>female</td>\n",
       "      <td>2.32900</td>\n",
       "      <td>2.001500</td>\n",
       "      <td>2.87300</td>\n",
       "      <td>18.81000</td>\n",
       "      <td>6.09000</td>\n",
       "      <td>3.98200</td>\n",
       "      <td>5.71250</td>\n",
       "      <td>8.44500</td>\n",
       "      <td>...</td>\n",
       "      <td>6.11800</td>\n",
       "      <td>1.768500</td>\n",
       "      <td>1.03100</td>\n",
       "      <td>4.5250</td>\n",
       "      <td>2.01500</td>\n",
       "      <td>2.481000</td>\n",
       "      <td>6.01500</td>\n",
       "      <td>0.41745</td>\n",
       "      <td>1.7725</td>\n",
       "      <td>2.3060</td>\n",
       "    </tr>\n",
       "    <tr>\n",
       "      <th>3</th>\n",
       "      <td>ENSG00000100580.7</td>\n",
       "      <td>female</td>\n",
       "      <td>7.47000</td>\n",
       "      <td>7.313500</td>\n",
       "      <td>11.33000</td>\n",
       "      <td>7.12700</td>\n",
       "      <td>7.60000</td>\n",
       "      <td>9.40600</td>\n",
       "      <td>10.05050</td>\n",
       "      <td>12.98000</td>\n",
       "      <td>...</td>\n",
       "      <td>2.06500</td>\n",
       "      <td>10.265000</td>\n",
       "      <td>3.32100</td>\n",
       "      <td>19.7400</td>\n",
       "      <td>6.60400</td>\n",
       "      <td>6.659000</td>\n",
       "      <td>7.21000</td>\n",
       "      <td>14.51000</td>\n",
       "      <td>5.2520</td>\n",
       "      <td>15.1600</td>\n",
       "    </tr>\n",
       "    <tr>\n",
       "      <th>4</th>\n",
       "      <td>ENSG00000101200.5</td>\n",
       "      <td>female</td>\n",
       "      <td>0.69610</td>\n",
       "      <td>0.142700</td>\n",
       "      <td>0.29530</td>\n",
       "      <td>0.00000</td>\n",
       "      <td>0.05195</td>\n",
       "      <td>0.00000</td>\n",
       "      <td>0.19445</td>\n",
       "      <td>0.32035</td>\n",
       "      <td>...</td>\n",
       "      <td>0.02967</td>\n",
       "      <td>0.025665</td>\n",
       "      <td>0.00000</td>\n",
       "      <td>0.2779</td>\n",
       "      <td>0.00000</td>\n",
       "      <td>0.000000</td>\n",
       "      <td>0.02317</td>\n",
       "      <td>0.05532</td>\n",
       "      <td>0.0000</td>\n",
       "      <td>0.0754</td>\n",
       "    </tr>\n",
       "  </tbody>\n",
       "</table>\n",
       "<p>5 rows × 32 columns</p>\n",
       "</div>"
      ],
      "text/plain": [
       "SMTSD               ENSG     SEX  Adipose - Subcutaneous  \\\n",
       "0      ENSG00000039139.9  female                 0.07791   \n",
       "1      ENSG00000082516.8  female                15.57000   \n",
       "2      ENSG00000100302.6  female                 2.32900   \n",
       "3      ENSG00000100580.7  female                 7.47000   \n",
       "4      ENSG00000101200.5  female                 0.69610   \n",
       "\n",
       "SMTSD  Adipose - Visceral (Omentum)  Adrenal Gland  Artery - Aorta  \\\n",
       "0                          0.052615        0.07917         0.08334   \n",
       "1                         11.120000        7.94000        10.42000   \n",
       "2                          2.001500        2.87300        18.81000   \n",
       "3                          7.313500       11.33000         7.12700   \n",
       "4                          0.142700        0.29530         0.00000   \n",
       "\n",
       "SMTSD  Artery - Coronary  Artery - Tibial   Bladder  Brain - Cerebellum  \\\n",
       "0                0.06381          0.04626   0.61330             0.38585   \n",
       "1               10.57000         12.92000  13.78000             9.52950   \n",
       "2                6.09000          3.98200   5.71250             8.44500   \n",
       "3                7.60000          9.40600  10.05050            12.98000   \n",
       "4                0.05195          0.00000   0.19445             0.32035   \n",
       "\n",
       "SMTSD   ...     Muscle - Skeletal  Nerve - Tibial  Pancreas  Pituitary  \\\n",
       "0       ...               0.01151        0.144800   0.56865     3.3370   \n",
       "1       ...              10.22000       15.830000   3.41200    10.5600   \n",
       "2       ...               6.11800        1.768500   1.03100     4.5250   \n",
       "3       ...               2.06500       10.265000   3.32100    19.7400   \n",
       "4       ...               0.02967        0.025665   0.00000     0.2779   \n",
       "\n",
       "SMTSD  Skin - Not Sun Exposed (Suprapubic)  Skin - Sun Exposed (Lower leg)  \\\n",
       "0                                  0.07157                        0.090805   \n",
       "1                                 11.28000                       13.910000   \n",
       "2                                  2.01500                        2.481000   \n",
       "3                                  6.60400                        6.659000   \n",
       "4                                  0.00000                        0.000000   \n",
       "\n",
       "SMTSD  Small Intestine - Terminal Ileum    Spleen  Stomach  Thyroid  \n",
       "0                               0.14690   0.09615   0.6284   1.0750  \n",
       "1                               6.42450   9.68800   5.1860  10.8300  \n",
       "2                               6.01500   0.41745   1.7725   2.3060  \n",
       "3                               7.21000  14.51000   5.2520  15.1600  \n",
       "4                               0.02317   0.05532   0.0000   0.0754  \n",
       "\n",
       "[5 rows x 32 columns]"
      ]
     },
     "execution_count": 67,
     "metadata": {
      "tags": []
     },
     "output_type": "execute_result"
    }
   ],
   "source": [
    "exfiles = pandas.concat([exfiles_f, exfiles_m])\n",
    "cols = ['ENSG','SEX']+tissues.tolist()\n",
    "exfiles = exfiles[cols]\n",
    "exfiles.head()"
   ]
  },
  {
   "cell_type": "code",
   "execution_count": 68,
   "metadata": {
    "colab": {
     "base_uri": "https://localhost:8080/",
     "height": 646
    },
    "colab_type": "code",
    "id": "OhoyTNEWHnb6",
    "outputId": "c651d1ad-ad97-4946-b8f1-3b77868aefe3"
   },
   "outputs": [
    {
     "name": "stdout",
     "output_type": "stream",
     "text": [
      "<class 'pandas.core.frame.DataFrame'>\n",
      "Int64Index: 246 entries, 0 to 122\n",
      "Data columns (total 32 columns):\n",
      "ENSG                                     246 non-null object\n",
      "SEX                                      246 non-null object\n",
      "Adipose - Subcutaneous                   234 non-null float64\n",
      "Adipose - Visceral (Omentum)             228 non-null float64\n",
      "Adrenal Gland                            220 non-null float64\n",
      "Artery - Aorta                           228 non-null float64\n",
      "Artery - Coronary                        218 non-null float64\n",
      "Artery - Tibial                          226 non-null float64\n",
      "Bladder                                  188 non-null float64\n",
      "Brain - Cerebellum                       208 non-null float64\n",
      "Brain - Cortex                           210 non-null float64\n",
      "Colon - Sigmoid                          226 non-null float64\n",
      "Colon - Transverse                       228 non-null float64\n",
      "Esophagus - Gastroesophageal Junction    226 non-null float64\n",
      "Esophagus - Mucosa                       232 non-null float64\n",
      "Esophagus - Muscularis                   226 non-null float64\n",
      "Heart - Atrial Appendage                 228 non-null float64\n",
      "Heart - Left Ventricle                   228 non-null float64\n",
      "Kidney - Cortex                          192 non-null float64\n",
      "Liver                                    210 non-null float64\n",
      "Lung                                     224 non-null float64\n",
      "Minor Salivary Gland                     212 non-null float64\n",
      "Muscle - Skeletal                        228 non-null float64\n",
      "Nerve - Tibial                           230 non-null float64\n",
      "Pancreas                                 222 non-null float64\n",
      "Pituitary                                218 non-null float64\n",
      "Skin - Not Sun Exposed (Suprapubic)      232 non-null float64\n",
      "Skin - Sun Exposed (Lower leg)           232 non-null float64\n",
      "Small Intestine - Terminal Ileum         224 non-null float64\n",
      "Spleen                                   214 non-null float64\n",
      "Stomach                                  230 non-null float64\n",
      "Thyroid                                  234 non-null float64\n",
      "dtypes: float64(30), object(2)\n",
      "memory usage: 63.4+ KB\n"
     ]
    }
   ],
   "source": [
    "exfiles.info()"
   ]
  },
  {
   "cell_type": "markdown",
   "metadata": {
    "colab_type": "text",
    "id": "yzgXes3SI8gL"
   },
   "source": [
    "### Save expression profiles:"
   ]
  },
  {
   "cell_type": "code",
   "execution_count": 0,
   "metadata": {
    "colab": {},
    "colab_type": "code",
    "id": "nefUHaiKIvHf"
   },
   "outputs": [],
   "source": [
    "exfiles.round(3).to_csv('gtex_rnaseq_prep_profiles.tsv', sep='\\t', index=False)\n",
    "google.colab.files.download('gtex_rnaseq_prep_profiles.tsv')"
   ]
  }
 ],
 "metadata": {
  "colab": {
   "collapsed_sections": [],
   "name": "gtex_rnaseq_prep.ipynb",
   "provenance": [],
   "version": "0.3.2"
  },
  "kernelspec": {
   "display_name": "Python 3",
   "language": "python",
   "name": "python3"
  },
  "language_info": {
   "codemirror_mode": {
    "name": "ipython",
    "version": 3
   },
   "file_extension": ".py",
   "mimetype": "text/x-python",
   "name": "python",
   "nbconvert_exporter": "python",
   "pygments_lexer": "ipython3",
   "version": "3.7.1"
  }
 },
 "nbformat": 4,
 "nbformat_minor": 1
}
