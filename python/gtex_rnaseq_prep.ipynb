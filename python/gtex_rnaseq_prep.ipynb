{
 "cells": [
  {
   "cell_type": "markdown",
   "metadata": {
    "colab_type": "text",
    "id": "vB7J5P7Vszpg"
   },
   "source": [
    "<table width=\"100%\" style=\"border:none\">\n",
    "  <tr>\n",
    "    <td valign=\"top\">\n",
    "      <h1>GTEx RNAseq Preprocessing</h1>\n",
    "      <ul>\n",
    "<li>Author: Jeremy Yang\n",
    "<li>Based on R code by Oleg Ursu.\n",
    "<li>Required: Python3, Pandas 0.22+\n",
    "<li>Clean, tidy, reshape RNAseq expression data.\n",
    "<li>Save aggregated-samples median TPM file for downstream co-expression analysis.\n",
    "<li>Save expression profiles (exfiles) TPM file for downstream co-expression analysis.\n",
    "      </ul>\n",
    "      [About Colaboratory](https://research.google.com/colaboratory/faq.html).\n",
    "    </td>\n",
    "    <td align=\"right\">\n",
    "        <p>NIH Data Commons: Team Helium</p>\n",
    "<img style=\"float:right\" width=\"100\" src=\"https://avatars2.githubusercontent.com/u/33356654?s=200&v=4\" alt=\"HeliumDataCommons Logo\" />\n",
    "    </td>\n",
    "  </tr>\n",
    "  </table>\n",
    " "
   ]
  },
  {
   "cell_type": "code",
   "execution_count": 1,
   "metadata": {
    "colab": {
     "base_uri": "https://localhost:8080/",
     "height": 34
    },
    "colab_type": "code",
    "id": "StWvpEEEef7p",
    "outputId": "ee2f683a-6b70-423f-b11f-b69129a58b7a"
   },
   "outputs": [
    {
     "name": "stdout",
     "output_type": "stream",
     "text": [
      "Python: 3.7.4; Pandas: 0.25.1; Scipy: 1.3.1 ; Numpy: 1.17.2\n"
     ]
    }
   ],
   "source": [
    "import sys,os,re,time,io\n",
    "import urllib.request\n",
    "try:\n",
    "    import google.colab\n",
    "except:\n",
    "    pass\n",
    "import numpy,scipy\n",
    "import pandas as pd\n",
    "print('Python: %s; Pandas: %s; Scipy: %s ; Numpy: %s'%(sys.version.split()[0],pd.__version__,scipy.__version__,numpy.__version__))"
   ]
  },
  {
   "cell_type": "markdown",
   "metadata": {
    "colab_type": "text",
    "id": "cwKhzyFo1L21"
   },
   "source": [
    "### Get subjects datafile:\n",
    "(GTEx_Analysis_v8_Annotations_SubjectPhenotypesDS.txt)"
   ]
  },
  {
   "cell_type": "code",
   "execution_count": 2,
   "metadata": {
    "colab": {
     "base_uri": "https://localhost:8080/",
     "height": 120,
     "resources": {
      "http://localhost:8080/nbextensions/google.colab/files.js": {
       "data": "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",
       "headers": [
        [
         "content-type",
         "application/javascript"
        ]
       ],
       "ok": true,
       "status": 200,
       "status_text": ""
      }
     }
    },
    "colab_type": "code",
    "id": "1SMOnt2P1Zfv",
    "outputId": "4400a534-5a80-445a-bbcd-adf939cc9a0b"
   },
   "outputs": [
    {
     "name": "stderr",
     "output_type": "stream",
     "text": [
      "dataset nrows: 980 ; ncols: 4:\n"
     ]
    }
   ],
   "source": [
    "url = \"https://storage.googleapis.com/gtex_analysis_v8/annotations/GTEx_Analysis_v8_Annotations_SubjectPhenotypesDS.txt\"\n",
    "subjects = pd.read_csv(url, sep=\"\\t\")\n",
    "print(\"dataset nrows: %d ; ncols: %d:\"%(subjects.shape[0],subjects.shape[1]), file=sys.stderr)"
   ]
  },
  {
   "cell_type": "code",
   "execution_count": 3,
   "metadata": {
    "colab": {
     "base_uri": "https://localhost:8080/",
     "height": 204
    },
    "colab_type": "code",
    "id": "zLyV_boFRtSO",
    "outputId": "fcec9c5c-e02a-4080-b6ce-e1844ee601ee"
   },
   "outputs": [
    {
     "data": {
      "text/html": [
       "<div>\n",
       "<style scoped>\n",
       "    .dataframe tbody tr th:only-of-type {\n",
       "        vertical-align: middle;\n",
       "    }\n",
       "\n",
       "    .dataframe tbody tr th {\n",
       "        vertical-align: top;\n",
       "    }\n",
       "\n",
       "    .dataframe thead th {\n",
       "        text-align: right;\n",
       "    }\n",
       "</style>\n",
       "<table border=\"1\" class=\"dataframe\">\n",
       "  <thead>\n",
       "    <tr style=\"text-align: right;\">\n",
       "      <th></th>\n",
       "      <th>SUBJID</th>\n",
       "      <th>SEX</th>\n",
       "      <th>AGE</th>\n",
       "      <th>DTHHRDY</th>\n",
       "    </tr>\n",
       "  </thead>\n",
       "  <tbody>\n",
       "    <tr>\n",
       "      <td>0</td>\n",
       "      <td>GTEX-1117F</td>\n",
       "      <td>2</td>\n",
       "      <td>60-69</td>\n",
       "      <td>4.0</td>\n",
       "    </tr>\n",
       "    <tr>\n",
       "      <td>1</td>\n",
       "      <td>GTEX-111CU</td>\n",
       "      <td>1</td>\n",
       "      <td>50-59</td>\n",
       "      <td>0.0</td>\n",
       "    </tr>\n",
       "    <tr>\n",
       "      <td>2</td>\n",
       "      <td>GTEX-111FC</td>\n",
       "      <td>1</td>\n",
       "      <td>60-69</td>\n",
       "      <td>1.0</td>\n",
       "    </tr>\n",
       "    <tr>\n",
       "      <td>3</td>\n",
       "      <td>GTEX-111VG</td>\n",
       "      <td>1</td>\n",
       "      <td>60-69</td>\n",
       "      <td>3.0</td>\n",
       "    </tr>\n",
       "    <tr>\n",
       "      <td>4</td>\n",
       "      <td>GTEX-111YS</td>\n",
       "      <td>1</td>\n",
       "      <td>60-69</td>\n",
       "      <td>0.0</td>\n",
       "    </tr>\n",
       "  </tbody>\n",
       "</table>\n",
       "</div>"
      ],
      "text/plain": [
       "       SUBJID  SEX    AGE  DTHHRDY\n",
       "0  GTEX-1117F    2  60-69      4.0\n",
       "1  GTEX-111CU    1  50-59      0.0\n",
       "2  GTEX-111FC    1  60-69      1.0\n",
       "3  GTEX-111VG    1  60-69      3.0\n",
       "4  GTEX-111YS    1  60-69      0.0"
      ]
     },
     "execution_count": 3,
     "metadata": {},
     "output_type": "execute_result"
    }
   ],
   "source": [
    "subjects.head()"
   ]
  },
  {
   "cell_type": "code",
   "execution_count": 4,
   "metadata": {
    "colab": {
     "base_uri": "https://localhost:8080/",
     "height": 136
    },
    "colab_type": "code",
    "id": "XDjnIBHN6PC2",
    "outputId": "d935354f-4638-4a76-bca9-8e6d001f2c34"
   },
   "outputs": [
    {
     "data": {
      "text/plain": [
       "20-29     84\n",
       "30-39     78\n",
       "40-49    153\n",
       "50-59    315\n",
       "60-69    317\n",
       "70-79     33\n",
       "Name: AGE, dtype: int64"
      ]
     },
     "execution_count": 4,
     "metadata": {},
     "output_type": "execute_result"
    }
   ],
   "source": [
    "subjects.AGE.value_counts().sort_index()"
   ]
  },
  {
   "cell_type": "markdown",
   "metadata": {
    "colab_type": "text",
    "id": "00ru0X8O1yRw"
   },
   "source": [
    "### Remove less healthy subjects: \n",
    "(DTHHRDY = 4-point Hardy Scale Death Classification.)"
   ]
  },
  {
   "cell_type": "code",
   "execution_count": 5,
   "metadata": {
    "colab": {
     "base_uri": "https://localhost:8080/",
     "height": 119
    },
    "colab_type": "code",
    "id": "DOhgbLkGBD3A",
    "outputId": "fb8317ea-fc8f-4ae0-b139-9ad14fe6d5a9"
   },
   "outputs": [
    {
     "name": "stderr",
     "output_type": "stream",
     "text": [
      "Subjects with Hardy score > 2 or NA: 176 (removing)\n",
      "dataset ncols: 785 ; nrows: 4:\n"
     ]
    },
    {
     "data": {
      "text/plain": [
       "0.0    511\n",
       "1.0     35\n",
       "2.0    239\n",
       "Name: DTHHRDY, dtype: int64"
      ]
     },
     "execution_count": 5,
     "metadata": {},
     "output_type": "execute_result"
    }
   ],
   "source": [
    "print(\"Subjects with Hardy score > 2 or NA: %d (removing)\"%(subjects.query('DTHHRDY > 2').shape[0]), file=sys.stderr)\n",
    "subjects = subjects.query('DTHHRDY <= 2')\n",
    "print(\"dataset ncols: %d ; nrows: %d:\"%(subjects.shape[0],subjects.shape[1]), file=sys.stderr)\n",
    "subjects.DTHHRDY.value_counts(sort=True, dropna=False).sort_index()"
   ]
  },
  {
   "cell_type": "markdown",
   "metadata": {
    "colab_type": "text",
    "id": "DQV5a6eVplg5"
   },
   "source": [
    "### Get samples datafile:\n",
    "(GTEx_Analysis_v8_Annotations_SampleAttributesDS.txt)"
   ]
  },
  {
   "cell_type": "code",
   "execution_count": 6,
   "metadata": {
    "colab": {
     "base_uri": "https://localhost:8080/",
     "height": 120,
     "resources": {
      "http://localhost:8080/nbextensions/google.colab/files.js": {
       "data": "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",
       "headers": [
        [
         "content-type",
         "application/javascript"
        ]
       ],
       "ok": true,
       "status": 200,
       "status_text": ""
      }
     }
    },
    "colab_type": "code",
    "id": "xfMAdBTnexYS",
    "outputId": "e32e14b7-0844-4024-c928-f7ded99b8e5b"
   },
   "outputs": [
    {
     "name": "stderr",
     "output_type": "stream",
     "text": [
      "dataset nrows: 22951 ; ncols: 5:\n"
     ]
    }
   ],
   "source": [
    "url = \"https://storage.googleapis.com/gtex_analysis_v8/annotations/GTEx_Analysis_v8_Annotations_SampleAttributesDS.txt\"\n",
    "samples = pd.read_csv(url, sep=\"\\t\")\n",
    "samples = samples[['SAMPID', 'SMATSSCR', 'SMTS', 'SMTSD', 'SMUBRID']]\n",
    "print(\"dataset nrows: %d ; ncols: %d:\"%(samples.shape[0],samples.shape[1]), file=sys.stderr)"
   ]
  },
  {
   "cell_type": "markdown",
   "metadata": {
    "colab_type": "text",
    "id": "JVR2KlrrxPFk"
   },
   "source": [
    " * SMTS = Tissue Type (parent of SMTSD)\n",
    " * SMTSD = Tissue Type, more specific\n",
    " * SMATSSCR = Autolysis Score, 0=None, 1=Mild, 2=Moderate, 3=Severe\n",
    " * Note that other sample attributes may be suitable for quality criteria.\n",
    " * SMUBRID = Uberon ID, anatomical location\n",
    " * SUBJID is first two hyphen-delimted fields of SAMPID."
   ]
  },
  {
   "cell_type": "code",
   "execution_count": 7,
   "metadata": {
    "colab": {},
    "colab_type": "code",
    "id": "GUPSF541upk0"
   },
   "outputs": [],
   "source": [
    "samples['SUBJID'] = samples.SAMPID.str.extract('^([^-]+-[^-]+)-', expand=True)"
   ]
  },
  {
   "cell_type": "code",
   "execution_count": 8,
   "metadata": {
    "colab": {
     "base_uri": "https://localhost:8080/",
     "height": 204
    },
    "colab_type": "code",
    "id": "YZJjVYIWR27k",
    "outputId": "1f47e7e8-3336-478b-eace-9e8522e7fdad"
   },
   "outputs": [
    {
     "data": {
      "text/html": [
       "<div>\n",
       "<style scoped>\n",
       "    .dataframe tbody tr th:only-of-type {\n",
       "        vertical-align: middle;\n",
       "    }\n",
       "\n",
       "    .dataframe tbody tr th {\n",
       "        vertical-align: top;\n",
       "    }\n",
       "\n",
       "    .dataframe thead th {\n",
       "        text-align: right;\n",
       "    }\n",
       "</style>\n",
       "<table border=\"1\" class=\"dataframe\">\n",
       "  <thead>\n",
       "    <tr style=\"text-align: right;\">\n",
       "      <th></th>\n",
       "      <th>SAMPID</th>\n",
       "      <th>SMATSSCR</th>\n",
       "      <th>SMTS</th>\n",
       "      <th>SMTSD</th>\n",
       "      <th>SMUBRID</th>\n",
       "      <th>SUBJID</th>\n",
       "    </tr>\n",
       "  </thead>\n",
       "  <tbody>\n",
       "    <tr>\n",
       "      <td>0</td>\n",
       "      <td>GTEX-1117F-0003-SM-58Q7G</td>\n",
       "      <td>NaN</td>\n",
       "      <td>Blood</td>\n",
       "      <td>Whole Blood</td>\n",
       "      <td>0013756</td>\n",
       "      <td>GTEX-1117F</td>\n",
       "    </tr>\n",
       "    <tr>\n",
       "      <td>1</td>\n",
       "      <td>GTEX-1117F-0003-SM-5DWSB</td>\n",
       "      <td>NaN</td>\n",
       "      <td>Blood</td>\n",
       "      <td>Whole Blood</td>\n",
       "      <td>0013756</td>\n",
       "      <td>GTEX-1117F</td>\n",
       "    </tr>\n",
       "    <tr>\n",
       "      <td>2</td>\n",
       "      <td>GTEX-1117F-0003-SM-6WBT7</td>\n",
       "      <td>NaN</td>\n",
       "      <td>Blood</td>\n",
       "      <td>Whole Blood</td>\n",
       "      <td>0013756</td>\n",
       "      <td>GTEX-1117F</td>\n",
       "    </tr>\n",
       "    <tr>\n",
       "      <td>3</td>\n",
       "      <td>GTEX-1117F-0011-R10a-SM-AHZ7F</td>\n",
       "      <td>NaN</td>\n",
       "      <td>Brain</td>\n",
       "      <td>Brain - Frontal Cortex (BA9)</td>\n",
       "      <td>0009834</td>\n",
       "      <td>GTEX-1117F</td>\n",
       "    </tr>\n",
       "    <tr>\n",
       "      <td>4</td>\n",
       "      <td>GTEX-1117F-0011-R10b-SM-CYKQ8</td>\n",
       "      <td>NaN</td>\n",
       "      <td>Brain</td>\n",
       "      <td>Brain - Frontal Cortex (BA9)</td>\n",
       "      <td>0009834</td>\n",
       "      <td>GTEX-1117F</td>\n",
       "    </tr>\n",
       "  </tbody>\n",
       "</table>\n",
       "</div>"
      ],
      "text/plain": [
       "                          SAMPID  SMATSSCR   SMTS  \\\n",
       "0       GTEX-1117F-0003-SM-58Q7G       NaN  Blood   \n",
       "1       GTEX-1117F-0003-SM-5DWSB       NaN  Blood   \n",
       "2       GTEX-1117F-0003-SM-6WBT7       NaN  Blood   \n",
       "3  GTEX-1117F-0011-R10a-SM-AHZ7F       NaN  Brain   \n",
       "4  GTEX-1117F-0011-R10b-SM-CYKQ8       NaN  Brain   \n",
       "\n",
       "                          SMTSD  SMUBRID      SUBJID  \n",
       "0                   Whole Blood  0013756  GTEX-1117F  \n",
       "1                   Whole Blood  0013756  GTEX-1117F  \n",
       "2                   Whole Blood  0013756  GTEX-1117F  \n",
       "3  Brain - Frontal Cortex (BA9)  0009834  GTEX-1117F  \n",
       "4  Brain - Frontal Cortex (BA9)  0009834  GTEX-1117F  "
      ]
     },
     "execution_count": 8,
     "metadata": {},
     "output_type": "execute_result"
    }
   ],
   "source": [
    "samples.head()"
   ]
  },
  {
   "cell_type": "code",
   "execution_count": 9,
   "metadata": {
    "colab": {
     "base_uri": "https://localhost:8080/",
     "height": 119
    },
    "colab_type": "code",
    "id": "DzjmyqoEXAiL",
    "outputId": "62577f83-d474-4e63-814f-1c13c255f054"
   },
   "outputs": [
    {
     "data": {
      "text/plain": [
       "0.0     3554\n",
       "1.0    10410\n",
       "2.0     1582\n",
       "3.0      193\n",
       "NaN     7212\n",
       "Name: SMATSSCR, dtype: int64"
      ]
     },
     "execution_count": 9,
     "metadata": {},
     "output_type": "execute_result"
    }
   ],
   "source": [
    "samples.SMATSSCR.value_counts(dropna=False).sort_index()"
   ]
  },
  {
   "cell_type": "markdown",
   "metadata": {
    "colab_type": "text",
    "id": "LjMKpFc7zJMd"
   },
   "source": [
    "### Remove samples with high degree of autolysis (self-digestion).\n"
   ]
  },
  {
   "cell_type": "code",
   "execution_count": 10,
   "metadata": {
    "colab": {
     "base_uri": "https://localhost:8080/",
     "height": 34
    },
    "colab_type": "code",
    "id": "pwZ284GA2S8I",
    "outputId": "a1e99d8d-5daa-483f-8232-ce62b968afa4"
   },
   "outputs": [
    {
     "name": "stdout",
     "output_type": "stream",
     "text": [
      "Removing 8987/22951 (39.2%)\n"
     ]
    }
   ],
   "source": [
    "print(\"Removing %d/%d (%.1f%%)\"%((~(samples.SMATSSCR<2)).sum(), samples.SMATSSCR.size, 100*(~(samples.SMATSSCR<2)).sum()/samples.SMATSSCR.size))"
   ]
  },
  {
   "cell_type": "code",
   "execution_count": 11,
   "metadata": {
    "colab": {
     "base_uri": "https://localhost:8080/",
     "height": 34
    },
    "colab_type": "code",
    "id": "2chak03tWICs",
    "outputId": "f8147a18-f2b8-44a4-e65f-36c336f15995"
   },
   "outputs": [
    {
     "name": "stdout",
     "output_type": "stream",
     "text": [
      "Remaining samples 13964\n"
     ]
    }
   ],
   "source": [
    "samples = samples[samples.SMATSSCR < 2]\n",
    "print(\"Remaining samples %d\"%(samples.SMATSSCR.size))"
   ]
  },
  {
   "cell_type": "markdown",
   "metadata": {
    "colab_type": "text",
    "id": "W_5vX8JGEg-R"
   },
   "source": [
    "### Clean & tidy cols. "
   ]
  },
  {
   "cell_type": "code",
   "execution_count": 12,
   "metadata": {
    "colab": {},
    "colab_type": "code",
    "id": "fkZ3s4ZPLWKl"
   },
   "outputs": [],
   "source": [
    "samples.loc[(samples.SMTS.str.strip() == '') & samples.SMTSD.str.startswith(\"Skin -\"), 'SMTS'] = 'Skin'"
   ]
  },
  {
   "cell_type": "code",
   "execution_count": 13,
   "metadata": {
    "colab": {
     "base_uri": "https://localhost:8080/",
     "height": 697
    },
    "colab_type": "code",
    "id": "4yzccK8flH02",
    "outputId": "d86aa8eb-5a15-48b3-f702-df9314054e77"
   },
   "outputs": [
    {
     "data": {
      "text/plain": [
       "Adipose Tissue : Adipose - Subcutaneous                752\n",
       "Adipose Tissue : Adipose - Visceral (Omentum)          560\n",
       "Adrenal Gland : Adrenal Gland                          209\n",
       "Bladder : Bladder                                        8\n",
       "Blood Vessel : Artery - Aorta                          444\n",
       "Blood Vessel : Artery - Coronary                       251\n",
       "Blood Vessel : Artery - Tibial                         757\n",
       "Brain : Brain - Cerebellum                             226\n",
       "Brain : Brain - Cortex                                 268\n",
       "Breast : Breast - Mammary Tissue                       460\n",
       "Cervix Uteri : Cervix - Ectocervix                       7\n",
       "Cervix Uteri : Cervix - Endocervix                       7\n",
       "Colon : Colon - Sigmoid                                342\n",
       "Colon : Colon - Transverse                             260\n",
       "Esophagus : Esophagus - Gastroesophageal Junction      384\n",
       "Esophagus : Esophagus - Mucosa                         559\n",
       "Esophagus : Esophagus - Muscularis                     530\n",
       "Fallopian Tube : Fallopian Tube                          7\n",
       "Heart : Heart - Atrial Appendage                       440\n",
       "Heart : Heart - Left Ventricle                         578\n",
       "Kidney : Kidney - Cortex                                33\n",
       "Kidney : Kidney - Medulla                                2\n",
       "Liver : Liver                                          218\n",
       "Lung : Lung                                            598\n",
       "Muscle : Muscle - Skeletal                            1002\n",
       "Nerve : Nerve - Tibial                                 713\n",
       "Ovary : Ovary                                          191\n",
       "Pancreas : Pancreas                                    300\n",
       "Pituitary : Pituitary                                  187\n",
       "Prostate : Prostate                                    169\n",
       "Salivary Gland : Minor Salivary Gland                  179\n",
       "Skin : Skin - Not Sun Exposed (Suprapubic)             627\n",
       "Skin : Skin - Sun Exposed (Lower leg)                  830\n",
       "Small Intestine : Small Intestine - Terminal Ileum     147\n",
       "Spleen : Spleen                                        217\n",
       "Stomach : Stomach                                      277\n",
       "Testis : Testis                                        283\n",
       "Thyroid : Thyroid                                      646\n",
       "Uterus : Uterus                                        149\n",
       "Vagina : Vagina                                        147\n",
       "dtype: int64"
      ]
     },
     "execution_count": 13,
     "metadata": {},
     "output_type": "execute_result"
    }
   ],
   "source": [
    "(samples.SMTS+\" : \"+samples.SMTSD).value_counts().sort_index()"
   ]
  },
  {
   "cell_type": "markdown",
   "metadata": {
    "colab_type": "text",
    "id": "zrITfg3v3iQ1"
   },
   "source": [
    "### MERGE samples with subjects:"
   ]
  },
  {
   "cell_type": "code",
   "execution_count": 14,
   "metadata": {
    "colab": {
     "base_uri": "https://localhost:8080/",
     "height": 204
    },
    "colab_type": "code",
    "id": "fhQuOfNr3vo_",
    "outputId": "fb577f4e-c79a-46c4-882e-9a97a0a2e6a3"
   },
   "outputs": [
    {
     "data": {
      "text/html": [
       "<div>\n",
       "<style scoped>\n",
       "    .dataframe tbody tr th:only-of-type {\n",
       "        vertical-align: middle;\n",
       "    }\n",
       "\n",
       "    .dataframe tbody tr th {\n",
       "        vertical-align: top;\n",
       "    }\n",
       "\n",
       "    .dataframe thead th {\n",
       "        text-align: right;\n",
       "    }\n",
       "</style>\n",
       "<table border=\"1\" class=\"dataframe\">\n",
       "  <thead>\n",
       "    <tr style=\"text-align: right;\">\n",
       "      <th></th>\n",
       "      <th>SAMPID</th>\n",
       "      <th>SMATSSCR</th>\n",
       "      <th>SMTS</th>\n",
       "      <th>SMTSD</th>\n",
       "      <th>SMUBRID</th>\n",
       "      <th>SUBJID</th>\n",
       "      <th>SEX</th>\n",
       "      <th>AGE</th>\n",
       "      <th>DTHHRDY</th>\n",
       "    </tr>\n",
       "  </thead>\n",
       "  <tbody>\n",
       "    <tr>\n",
       "      <td>0</td>\n",
       "      <td>GTEX-111CU-0126-SM-5GZWZ</td>\n",
       "      <td>0.0</td>\n",
       "      <td>Adrenal Gland</td>\n",
       "      <td>Adrenal Gland</td>\n",
       "      <td>0002369</td>\n",
       "      <td>GTEX-111CU</td>\n",
       "      <td>1</td>\n",
       "      <td>50-59</td>\n",
       "      <td>0.0</td>\n",
       "    </tr>\n",
       "    <tr>\n",
       "      <td>1</td>\n",
       "      <td>GTEX-111CU-0226-SM-5GZXC</td>\n",
       "      <td>0.0</td>\n",
       "      <td>Thyroid</td>\n",
       "      <td>Thyroid</td>\n",
       "      <td>0002046</td>\n",
       "      <td>GTEX-111CU</td>\n",
       "      <td>1</td>\n",
       "      <td>50-59</td>\n",
       "      <td>0.0</td>\n",
       "    </tr>\n",
       "    <tr>\n",
       "      <td>2</td>\n",
       "      <td>GTEX-111CU-0326-SM-5GZXO</td>\n",
       "      <td>0.0</td>\n",
       "      <td>Lung</td>\n",
       "      <td>Lung</td>\n",
       "      <td>0008952</td>\n",
       "      <td>GTEX-111CU</td>\n",
       "      <td>1</td>\n",
       "      <td>50-59</td>\n",
       "      <td>0.0</td>\n",
       "    </tr>\n",
       "    <tr>\n",
       "      <td>3</td>\n",
       "      <td>GTEX-111CU-0426-SM-5GZY1</td>\n",
       "      <td>0.0</td>\n",
       "      <td>Spleen</td>\n",
       "      <td>Spleen</td>\n",
       "      <td>0002106</td>\n",
       "      <td>GTEX-111CU</td>\n",
       "      <td>1</td>\n",
       "      <td>50-59</td>\n",
       "      <td>0.0</td>\n",
       "    </tr>\n",
       "    <tr>\n",
       "      <td>4</td>\n",
       "      <td>GTEX-111CU-0526-SM-5EGHK</td>\n",
       "      <td>1.0</td>\n",
       "      <td>Pancreas</td>\n",
       "      <td>Pancreas</td>\n",
       "      <td>0001150</td>\n",
       "      <td>GTEX-111CU</td>\n",
       "      <td>1</td>\n",
       "      <td>50-59</td>\n",
       "      <td>0.0</td>\n",
       "    </tr>\n",
       "  </tbody>\n",
       "</table>\n",
       "</div>"
      ],
      "text/plain": [
       "                     SAMPID  SMATSSCR           SMTS          SMTSD  SMUBRID  \\\n",
       "0  GTEX-111CU-0126-SM-5GZWZ       0.0  Adrenal Gland  Adrenal Gland  0002369   \n",
       "1  GTEX-111CU-0226-SM-5GZXC       0.0        Thyroid        Thyroid  0002046   \n",
       "2  GTEX-111CU-0326-SM-5GZXO       0.0           Lung           Lung  0008952   \n",
       "3  GTEX-111CU-0426-SM-5GZY1       0.0         Spleen         Spleen  0002106   \n",
       "4  GTEX-111CU-0526-SM-5EGHK       1.0       Pancreas       Pancreas  0001150   \n",
       "\n",
       "       SUBJID  SEX    AGE  DTHHRDY  \n",
       "0  GTEX-111CU    1  50-59      0.0  \n",
       "1  GTEX-111CU    1  50-59      0.0  \n",
       "2  GTEX-111CU    1  50-59      0.0  \n",
       "3  GTEX-111CU    1  50-59      0.0  \n",
       "4  GTEX-111CU    1  50-59      0.0  "
      ]
     },
     "execution_count": 14,
     "metadata": {},
     "output_type": "execute_result"
    }
   ],
   "source": [
    "samples = pd.merge(samples, subjects, how='inner', on='SUBJID')\n",
    "samples.head()"
   ]
  },
  {
   "cell_type": "markdown",
   "metadata": {
    "colab_type": "text",
    "id": "awHczCpk0B4w"
   },
   "source": [
    "### Clean & tidy:"
   ]
  },
  {
   "cell_type": "code",
   "execution_count": 15,
   "metadata": {
    "colab": {
     "base_uri": "https://localhost:8080/",
     "height": 85
    },
    "colab_type": "code",
    "id": "NLqHEPzFFGwL",
    "outputId": "617d0900-b650-4efb-abfa-d2a190846f01"
   },
   "outputs": [
    {
     "name": "stdout",
     "output_type": "stream",
     "text": [
      "(11984, 9)\n"
     ]
    },
    {
     "data": {
      "text/plain": [
       "female    4114\n",
       "male      7870\n",
       "Name: SEX, dtype: int64"
      ]
     },
     "execution_count": 15,
     "metadata": {},
     "output_type": "execute_result"
    }
   ],
   "source": [
    "samples.dropna(how='any', inplace=True)\n",
    "print(samples.shape)\n",
    "samples.SEX = samples.SEX.apply(lambda x: 'female' if x==2 else 'male' if x==1 else None)\n",
    "samples.SEX.value_counts().sort_index()"
   ]
  },
  {
   "cell_type": "markdown",
   "metadata": {
    "colab_type": "text",
    "id": "ZetBwy5jqOQk"
   },
   "source": [
    "### READ GENE TPMs (full or demo subset)\n",
    "Full file is ~56k rows, ~4GB uncompressed.  Demo ~1k rows.\n",
    "\n",
    "*   GTEx_Analysis_2017-06-05_v8_RNASeQCv1.1.9_gene_tpm.gct.gz\n",
    "*   GTEx_Analysis_2017-06-05_v8_RNASeQCv1.1.9_gene_tpm_DEMO-1000.gct.gz\n"
   ]
  },
  {
   "cell_type": "code",
   "execution_count": 16,
   "metadata": {
    "colab": {
     "base_uri": "https://localhost:8080/",
     "height": 137,
     "resources": {
      "http://localhost:8080/nbextensions/google.colab/files.js": {
       "data": "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",
       "headers": [
        [
         "content-type",
         "application/javascript"
        ]
       ],
       "ok": true,
       "status": 200,
       "status_text": ""
      }
     }
    },
    "colab_type": "code",
    "id": "iAwlsefpq4dx",
    "outputId": "22a061ed-9d29-480e-c7fc-218625c5e6a8"
   },
   "outputs": [
    {
     "name": "stdout",
     "output_type": "stream",
     "text": [
      "Elapsed: 25s\n"
     ]
    },
    {
     "name": "stderr",
     "output_type": "stream",
     "text": [
      "dataset nrows: 997 ; ncols: 17384:\n"
     ]
    }
   ],
   "source": [
    "t0 = time.time()\n",
    "try:\n",
    "    rnaseq = pd.read_table(\"/home/data/GTEx/exfiles_data/GTEx_Analysis_2017-06-05_v8_RNASeQCv1.1.9_gene_tpm_DEMO-1000.gct.gz\", compression='gzip', sep='\\t', skiprows=2)\n",
    "    print(\"dataset nrows: %d ; ncols: %d:\"%(rnaseq.shape[0],rnaseq.shape[1]), file=sys.stderr)\n",
    "except:\n",
    "    try:\n",
    "        print('Upload GTEx RNAseq TPM datafile: ')\n",
    "        uploaded = google.colab.files.upload()\n",
    "        fn = list(uploaded.keys())[0]\n",
    "        print('Uploaded \"{name}\" with {length} bytes'.format(name=fn, length=len(uploaded[fn])))\n",
    "        rnaseq = pd.read_table(io.BytesIO(uploaded[fn]), compression='gzip', sep='\\t', skiprows=2)\n",
    "        print(\"dataset nrows: %d ; ncols: %d:\"%(rnaseq.shape[0],rnaseq.shape[1]), file=sys.stderr)\n",
    "    except:\n",
    "        print(\"Failed.\")\n",
    "print(\"Elapsed: %ds\"%(time.time()-t0))"
   ]
  },
  {
   "cell_type": "code",
   "execution_count": 17,
   "metadata": {
    "colab": {
     "base_uri": "https://localhost:8080/",
     "height": 102
    },
    "colab_type": "code",
    "id": "TMVeLSeH3CwZ",
    "outputId": "6a65a318-fde4-45d5-abec-068012c98884"
   },
   "outputs": [
    {
     "name": "stdout",
     "output_type": "stream",
     "text": [
      "<class 'pandas.core.frame.DataFrame'>\n",
      "RangeIndex: 997 entries, 0 to 996\n",
      "Columns: 17384 entries, Name to GTEX-ZZPU-2726-SM-5NQ8O\n",
      "dtypes: float64(17382), object(2)\n",
      "memory usage: 132.2+ MB\n"
     ]
    }
   ],
   "source": [
    "rnaseq.info()"
   ]
  },
  {
   "cell_type": "code",
   "execution_count": 18,
   "metadata": {
    "colab": {
     "base_uri": "https://localhost:8080/",
     "height": 221
    },
    "colab_type": "code",
    "id": "g0t_4RBswccq",
    "outputId": "994bd51e-4239-453f-c08f-df5dcc57e295"
   },
   "outputs": [
    {
     "data": {
      "text/html": [
       "<div>\n",
       "<style scoped>\n",
       "    .dataframe tbody tr th:only-of-type {\n",
       "        vertical-align: middle;\n",
       "    }\n",
       "\n",
       "    .dataframe tbody tr th {\n",
       "        vertical-align: top;\n",
       "    }\n",
       "\n",
       "    .dataframe thead th {\n",
       "        text-align: right;\n",
       "    }\n",
       "</style>\n",
       "<table border=\"1\" class=\"dataframe\">\n",
       "  <thead>\n",
       "    <tr style=\"text-align: right;\">\n",
       "      <th></th>\n",
       "      <th>ENSG</th>\n",
       "      <th>GTEX-1117F-0226-SM-5GZZ7</th>\n",
       "      <th>GTEX-1117F-0426-SM-5EGHI</th>\n",
       "      <th>GTEX-1117F-0526-SM-5EGHJ</th>\n",
       "      <th>GTEX-1117F-0626-SM-5N9CS</th>\n",
       "      <th>GTEX-1117F-0726-SM-5GIEN</th>\n",
       "      <th>GTEX-1117F-1326-SM-5EGHH</th>\n",
       "      <th>GTEX-1117F-2426-SM-5EGGH</th>\n",
       "      <th>GTEX-1117F-2526-SM-5GZY6</th>\n",
       "      <th>GTEX-1117F-2826-SM-5GZXL</th>\n",
       "      <th>...</th>\n",
       "      <th>GTEX-ZZPU-1126-SM-5N9CW</th>\n",
       "      <th>GTEX-ZZPU-1226-SM-5N9CK</th>\n",
       "      <th>GTEX-ZZPU-1326-SM-5GZWS</th>\n",
       "      <th>GTEX-ZZPU-1426-SM-5GZZ6</th>\n",
       "      <th>GTEX-ZZPU-1826-SM-5E43L</th>\n",
       "      <th>GTEX-ZZPU-2126-SM-5EGIU</th>\n",
       "      <th>GTEX-ZZPU-2226-SM-5EGIV</th>\n",
       "      <th>GTEX-ZZPU-2426-SM-5E44I</th>\n",
       "      <th>GTEX-ZZPU-2626-SM-5E45Y</th>\n",
       "      <th>GTEX-ZZPU-2726-SM-5NQ8O</th>\n",
       "    </tr>\n",
       "  </thead>\n",
       "  <tbody>\n",
       "    <tr>\n",
       "      <td>0</td>\n",
       "      <td>ENSG00000223972.5</td>\n",
       "      <td>0.00000</td>\n",
       "      <td>0.000</td>\n",
       "      <td>0.000</td>\n",
       "      <td>0.00000</td>\n",
       "      <td>0.000</td>\n",
       "      <td>0.000</td>\n",
       "      <td>0.00</td>\n",
       "      <td>0.00000</td>\n",
       "      <td>0.00</td>\n",
       "      <td>...</td>\n",
       "      <td>0.00000</td>\n",
       "      <td>0.03629</td>\n",
       "      <td>0.00000</td>\n",
       "      <td>0.00</td>\n",
       "      <td>0.00000</td>\n",
       "      <td>0.0000</td>\n",
       "      <td>0.000</td>\n",
       "      <td>0.00000</td>\n",
       "      <td>0.01965</td>\n",
       "      <td>0.02522</td>\n",
       "    </tr>\n",
       "    <tr>\n",
       "      <td>1</td>\n",
       "      <td>ENSG00000227232.5</td>\n",
       "      <td>8.76400</td>\n",
       "      <td>3.861</td>\n",
       "      <td>7.349</td>\n",
       "      <td>11.07000</td>\n",
       "      <td>3.306</td>\n",
       "      <td>5.389</td>\n",
       "      <td>11.99</td>\n",
       "      <td>16.95000</td>\n",
       "      <td>10.04</td>\n",
       "      <td>...</td>\n",
       "      <td>1.60600</td>\n",
       "      <td>2.26800</td>\n",
       "      <td>5.38600</td>\n",
       "      <td>2.31</td>\n",
       "      <td>2.45600</td>\n",
       "      <td>4.0230</td>\n",
       "      <td>1.922</td>\n",
       "      <td>2.85700</td>\n",
       "      <td>0.86960</td>\n",
       "      <td>2.16700</td>\n",
       "    </tr>\n",
       "    <tr>\n",
       "      <td>2</td>\n",
       "      <td>ENSG00000278267.1</td>\n",
       "      <td>0.00000</td>\n",
       "      <td>0.000</td>\n",
       "      <td>1.004</td>\n",
       "      <td>0.00000</td>\n",
       "      <td>0.000</td>\n",
       "      <td>0.000</td>\n",
       "      <td>0.00</td>\n",
       "      <td>0.00000</td>\n",
       "      <td>0.00</td>\n",
       "      <td>...</td>\n",
       "      <td>0.00000</td>\n",
       "      <td>0.00000</td>\n",
       "      <td>0.00000</td>\n",
       "      <td>0.00</td>\n",
       "      <td>0.00000</td>\n",
       "      <td>0.0000</td>\n",
       "      <td>0.000</td>\n",
       "      <td>0.00000</td>\n",
       "      <td>0.00000</td>\n",
       "      <td>0.00000</td>\n",
       "    </tr>\n",
       "    <tr>\n",
       "      <td>3</td>\n",
       "      <td>ENSG00000243485.5</td>\n",
       "      <td>0.07187</td>\n",
       "      <td>0.000</td>\n",
       "      <td>0.000</td>\n",
       "      <td>0.06761</td>\n",
       "      <td>0.000</td>\n",
       "      <td>0.000</td>\n",
       "      <td>0.00</td>\n",
       "      <td>0.00000</td>\n",
       "      <td>0.00</td>\n",
       "      <td>...</td>\n",
       "      <td>0.00000</td>\n",
       "      <td>0.00000</td>\n",
       "      <td>0.06073</td>\n",
       "      <td>0.00</td>\n",
       "      <td>0.08464</td>\n",
       "      <td>0.1435</td>\n",
       "      <td>0.000</td>\n",
       "      <td>0.05216</td>\n",
       "      <td>0.00000</td>\n",
       "      <td>0.00000</td>\n",
       "    </tr>\n",
       "    <tr>\n",
       "      <td>4</td>\n",
       "      <td>ENSG00000237613.2</td>\n",
       "      <td>0.00000</td>\n",
       "      <td>0.000</td>\n",
       "      <td>0.000</td>\n",
       "      <td>0.00000</td>\n",
       "      <td>0.000</td>\n",
       "      <td>0.000</td>\n",
       "      <td>0.00</td>\n",
       "      <td>0.03904</td>\n",
       "      <td>0.00</td>\n",
       "      <td>...</td>\n",
       "      <td>0.02429</td>\n",
       "      <td>0.00000</td>\n",
       "      <td>0.00000</td>\n",
       "      <td>0.00</td>\n",
       "      <td>0.00000</td>\n",
       "      <td>0.0000</td>\n",
       "      <td>0.000</td>\n",
       "      <td>0.00000</td>\n",
       "      <td>0.00000</td>\n",
       "      <td>0.00000</td>\n",
       "    </tr>\n",
       "  </tbody>\n",
       "</table>\n",
       "<p>5 rows × 17383 columns</p>\n",
       "</div>"
      ],
      "text/plain": [
       "                ENSG  GTEX-1117F-0226-SM-5GZZ7  GTEX-1117F-0426-SM-5EGHI  \\\n",
       "0  ENSG00000223972.5                   0.00000                     0.000   \n",
       "1  ENSG00000227232.5                   8.76400                     3.861   \n",
       "2  ENSG00000278267.1                   0.00000                     0.000   \n",
       "3  ENSG00000243485.5                   0.07187                     0.000   \n",
       "4  ENSG00000237613.2                   0.00000                     0.000   \n",
       "\n",
       "   GTEX-1117F-0526-SM-5EGHJ  GTEX-1117F-0626-SM-5N9CS  \\\n",
       "0                     0.000                   0.00000   \n",
       "1                     7.349                  11.07000   \n",
       "2                     1.004                   0.00000   \n",
       "3                     0.000                   0.06761   \n",
       "4                     0.000                   0.00000   \n",
       "\n",
       "   GTEX-1117F-0726-SM-5GIEN  GTEX-1117F-1326-SM-5EGHH  \\\n",
       "0                     0.000                     0.000   \n",
       "1                     3.306                     5.389   \n",
       "2                     0.000                     0.000   \n",
       "3                     0.000                     0.000   \n",
       "4                     0.000                     0.000   \n",
       "\n",
       "   GTEX-1117F-2426-SM-5EGGH  GTEX-1117F-2526-SM-5GZY6  \\\n",
       "0                      0.00                   0.00000   \n",
       "1                     11.99                  16.95000   \n",
       "2                      0.00                   0.00000   \n",
       "3                      0.00                   0.00000   \n",
       "4                      0.00                   0.03904   \n",
       "\n",
       "   GTEX-1117F-2826-SM-5GZXL  ...  GTEX-ZZPU-1126-SM-5N9CW  \\\n",
       "0                      0.00  ...                  0.00000   \n",
       "1                     10.04  ...                  1.60600   \n",
       "2                      0.00  ...                  0.00000   \n",
       "3                      0.00  ...                  0.00000   \n",
       "4                      0.00  ...                  0.02429   \n",
       "\n",
       "   GTEX-ZZPU-1226-SM-5N9CK  GTEX-ZZPU-1326-SM-5GZWS  GTEX-ZZPU-1426-SM-5GZZ6  \\\n",
       "0                  0.03629                  0.00000                     0.00   \n",
       "1                  2.26800                  5.38600                     2.31   \n",
       "2                  0.00000                  0.00000                     0.00   \n",
       "3                  0.00000                  0.06073                     0.00   \n",
       "4                  0.00000                  0.00000                     0.00   \n",
       "\n",
       "   GTEX-ZZPU-1826-SM-5E43L  GTEX-ZZPU-2126-SM-5EGIU  GTEX-ZZPU-2226-SM-5EGIV  \\\n",
       "0                  0.00000                   0.0000                    0.000   \n",
       "1                  2.45600                   4.0230                    1.922   \n",
       "2                  0.00000                   0.0000                    0.000   \n",
       "3                  0.08464                   0.1435                    0.000   \n",
       "4                  0.00000                   0.0000                    0.000   \n",
       "\n",
       "   GTEX-ZZPU-2426-SM-5E44I  GTEX-ZZPU-2626-SM-5E45Y  GTEX-ZZPU-2726-SM-5NQ8O  \n",
       "0                  0.00000                  0.01965                  0.02522  \n",
       "1                  2.85700                  0.86960                  2.16700  \n",
       "2                  0.00000                  0.00000                  0.00000  \n",
       "3                  0.05216                  0.00000                  0.00000  \n",
       "4                  0.00000                  0.00000                  0.00000  \n",
       "\n",
       "[5 rows x 17383 columns]"
      ]
     },
     "execution_count": 18,
     "metadata": {},
     "output_type": "execute_result"
    }
   ],
   "source": [
    "rnaseq = rnaseq.drop(columns=['Description'])\n",
    "rnaseq = rnaseq.rename(columns={'Name':'ENSG'})\n",
    "rnaseq.head()"
   ]
  },
  {
   "cell_type": "markdown",
   "metadata": {
    "colab_type": "text",
    "id": "1LsGqo2Fxtp1"
   },
   "source": [
    "### MELT: One row per ENSG+SAMPID+TPM triplet:\n",
    "Easier to handle but ~3x storage."
   ]
  },
  {
   "cell_type": "code",
   "execution_count": 19,
   "metadata": {
    "colab": {},
    "colab_type": "code",
    "id": "bSaZOsP_xkQ2"
   },
   "outputs": [],
   "source": [
    "rnaseq = rnaseq.melt(id_vars = \"ENSG\", var_name = \"SAMPID\", value_name = \"TPM\")"
   ]
  },
  {
   "cell_type": "code",
   "execution_count": 20,
   "metadata": {
    "colab": {
     "base_uri": "https://localhost:8080/",
     "height": 204
    },
    "colab_type": "code",
    "id": "3E0h4B2jzoK5",
    "outputId": "a088b102-649b-442d-c58c-ccb9786a8ab9"
   },
   "outputs": [
    {
     "data": {
      "text/html": [
       "<div>\n",
       "<style scoped>\n",
       "    .dataframe tbody tr th:only-of-type {\n",
       "        vertical-align: middle;\n",
       "    }\n",
       "\n",
       "    .dataframe tbody tr th {\n",
       "        vertical-align: top;\n",
       "    }\n",
       "\n",
       "    .dataframe thead th {\n",
       "        text-align: right;\n",
       "    }\n",
       "</style>\n",
       "<table border=\"1\" class=\"dataframe\">\n",
       "  <thead>\n",
       "    <tr style=\"text-align: right;\">\n",
       "      <th></th>\n",
       "      <th>ENSG</th>\n",
       "      <th>SAMPID</th>\n",
       "      <th>TPM</th>\n",
       "    </tr>\n",
       "  </thead>\n",
       "  <tbody>\n",
       "    <tr>\n",
       "      <td>0</td>\n",
       "      <td>ENSG00000223972.5</td>\n",
       "      <td>GTEX-1117F-0226-SM-5GZZ7</td>\n",
       "      <td>0.00000</td>\n",
       "    </tr>\n",
       "    <tr>\n",
       "      <td>1</td>\n",
       "      <td>ENSG00000227232.5</td>\n",
       "      <td>GTEX-1117F-0226-SM-5GZZ7</td>\n",
       "      <td>8.76400</td>\n",
       "    </tr>\n",
       "    <tr>\n",
       "      <td>2</td>\n",
       "      <td>ENSG00000278267.1</td>\n",
       "      <td>GTEX-1117F-0226-SM-5GZZ7</td>\n",
       "      <td>0.00000</td>\n",
       "    </tr>\n",
       "    <tr>\n",
       "      <td>3</td>\n",
       "      <td>ENSG00000243485.5</td>\n",
       "      <td>GTEX-1117F-0226-SM-5GZZ7</td>\n",
       "      <td>0.07187</td>\n",
       "    </tr>\n",
       "    <tr>\n",
       "      <td>4</td>\n",
       "      <td>ENSG00000237613.2</td>\n",
       "      <td>GTEX-1117F-0226-SM-5GZZ7</td>\n",
       "      <td>0.00000</td>\n",
       "    </tr>\n",
       "  </tbody>\n",
       "</table>\n",
       "</div>"
      ],
      "text/plain": [
       "                ENSG                    SAMPID      TPM\n",
       "0  ENSG00000223972.5  GTEX-1117F-0226-SM-5GZZ7  0.00000\n",
       "1  ENSG00000227232.5  GTEX-1117F-0226-SM-5GZZ7  8.76400\n",
       "2  ENSG00000278267.1  GTEX-1117F-0226-SM-5GZZ7  0.00000\n",
       "3  ENSG00000243485.5  GTEX-1117F-0226-SM-5GZZ7  0.07187\n",
       "4  ENSG00000237613.2  GTEX-1117F-0226-SM-5GZZ7  0.00000"
      ]
     },
     "execution_count": 20,
     "metadata": {},
     "output_type": "execute_result"
    }
   ],
   "source": [
    "rnaseq.head()"
   ]
  },
  {
   "cell_type": "code",
   "execution_count": 21,
   "metadata": {
    "colab": {
     "base_uri": "https://localhost:8080/",
     "height": 153
    },
    "colab_type": "code",
    "id": "X17IFQ43pg3i",
    "outputId": "e920d7a8-65e6-43ff-81a7-4eabb43de08e"
   },
   "outputs": [
    {
     "name": "stdout",
     "output_type": "stream",
     "text": [
      "<class 'pandas.core.frame.DataFrame'>\n",
      "RangeIndex: 17329854 entries, 0 to 17329853\n",
      "Data columns (total 3 columns):\n",
      "ENSG      object\n",
      "SAMPID    object\n",
      "TPM       float64\n",
      "dtypes: float64(1), object(2)\n",
      "memory usage: 396.6+ MB\n"
     ]
    }
   ],
   "source": [
    "rnaseq.info()"
   ]
  },
  {
   "cell_type": "markdown",
   "metadata": {
    "colab_type": "text",
    "id": "2rmvTu5upzFs"
   },
   "source": [
    "### Read and merge gene symbols.\n",
    "File from https://www.ensembl.org/biomart, dataset human genes, fields Gene stable ID, Gene stable ID version,  NCBI gene ID, HGNC symbol."
   ]
  },
  {
   "cell_type": "code",
   "execution_count": 22,
   "metadata": {
    "colab": {
     "base_uri": "https://localhost:8080/",
     "height": 103,
     "resources": {
      "http://localhost:8080/nbextensions/google.colab/files.js": {
       "data": "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",
       "headers": [
        [
         "content-type",
         "application/javascript"
        ]
       ],
       "ok": true,
       "status": 200,
       "status_text": ""
      }
     }
    },
    "colab_type": "code",
    "id": "Xo2F7qVApyk0",
    "outputId": "84a7efe9-cf17-471a-8732-fc8a77459a33"
   },
   "outputs": [],
   "source": [
    "try:\n",
    "    genes = pd.read_csv(\"/home/data/GTEx/exfiles_data/biomart_ENSG2xrefs_human.tsv\", sep='\\t', usecols=[1,2,4], na_values=[''], dtype={2:str})\n",
    "except Exception as e:\n",
    "    print(e)\n",
    "    try:\n",
    "        print('Upload Biomart ENSG2NCBI genes datafile: ')\n",
    "        uploaded = google.colab.files.upload()\n",
    "        fn = list(uploaded.keys())[0]\n",
    "        print('Uploaded \"{name}\" with {length} bytes'.format(name=fn, length=len(uploaded[fn])))\n",
    "        genes = pandas.read_csv(io.StringIO(uploaded[fn].decode('utf8')), sep='\\t', usecols=[1,2,4], na_values=[''], dtype={2:str})\n",
    "    except:\n",
    "        print(\"Failed.\")\n",
    "genes.columns = ['ENSG', 'NCBI', 'HGNC']\n",
    "genes.dropna(inplace=True)"
   ]
  },
  {
   "cell_type": "code",
   "execution_count": 23,
   "metadata": {
    "colab": {
     "base_uri": "https://localhost:8080/",
     "height": 204
    },
    "colab_type": "code",
    "id": "fegRBFc-tO00",
    "outputId": "50903796-b91f-4cad-c2bf-dbed598fc235"
   },
   "outputs": [
    {
     "data": {
      "text/html": [
       "<div>\n",
       "<style scoped>\n",
       "    .dataframe tbody tr th:only-of-type {\n",
       "        vertical-align: middle;\n",
       "    }\n",
       "\n",
       "    .dataframe tbody tr th {\n",
       "        vertical-align: top;\n",
       "    }\n",
       "\n",
       "    .dataframe thead th {\n",
       "        text-align: right;\n",
       "    }\n",
       "</style>\n",
       "<table border=\"1\" class=\"dataframe\">\n",
       "  <thead>\n",
       "    <tr style=\"text-align: right;\">\n",
       "      <th></th>\n",
       "      <th>ENSG</th>\n",
       "      <th>NCBI</th>\n",
       "      <th>HGNC</th>\n",
       "    </tr>\n",
       "  </thead>\n",
       "  <tbody>\n",
       "    <tr>\n",
       "      <td>0</td>\n",
       "      <td>ENSG00000198888.2</td>\n",
       "      <td>4535</td>\n",
       "      <td>MT-ND1</td>\n",
       "    </tr>\n",
       "    <tr>\n",
       "      <td>1</td>\n",
       "      <td>ENSG00000198763.3</td>\n",
       "      <td>4536</td>\n",
       "      <td>MT-ND2</td>\n",
       "    </tr>\n",
       "    <tr>\n",
       "      <td>2</td>\n",
       "      <td>ENSG00000198804.2</td>\n",
       "      <td>4512</td>\n",
       "      <td>MT-CO1</td>\n",
       "    </tr>\n",
       "    <tr>\n",
       "      <td>3</td>\n",
       "      <td>ENSG00000198712.1</td>\n",
       "      <td>4513</td>\n",
       "      <td>MT-CO2</td>\n",
       "    </tr>\n",
       "    <tr>\n",
       "      <td>4</td>\n",
       "      <td>ENSG00000228253.1</td>\n",
       "      <td>4509</td>\n",
       "      <td>MT-ATP8</td>\n",
       "    </tr>\n",
       "  </tbody>\n",
       "</table>\n",
       "</div>"
      ],
      "text/plain": [
       "                ENSG  NCBI     HGNC\n",
       "0  ENSG00000198888.2  4535   MT-ND1\n",
       "1  ENSG00000198763.3  4536   MT-ND2\n",
       "2  ENSG00000198804.2  4512   MT-CO1\n",
       "3  ENSG00000198712.1  4513   MT-CO2\n",
       "4  ENSG00000228253.1  4509  MT-ATP8"
      ]
     },
     "execution_count": 23,
     "metadata": {},
     "output_type": "execute_result"
    }
   ],
   "source": [
    "genes.head()"
   ]
  },
  {
   "cell_type": "code",
   "execution_count": 24,
   "metadata": {
    "colab": {},
    "colab_type": "code",
    "id": "RSyD7C4Nt9vS"
   },
   "outputs": [],
   "source": [
    "rnaseq = pd.merge(rnaseq, genes, on='ENSG', how='inner')"
   ]
  },
  {
   "cell_type": "code",
   "execution_count": 25,
   "metadata": {
    "colab": {
     "base_uri": "https://localhost:8080/",
     "height": 204
    },
    "colab_type": "code",
    "id": "jwWCN2ZxLUVs",
    "outputId": "834aab57-0266-4001-b2d7-b96efaec5876"
   },
   "outputs": [
    {
     "data": {
      "text/html": [
       "<div>\n",
       "<style scoped>\n",
       "    .dataframe tbody tr th:only-of-type {\n",
       "        vertical-align: middle;\n",
       "    }\n",
       "\n",
       "    .dataframe tbody tr th {\n",
       "        vertical-align: top;\n",
       "    }\n",
       "\n",
       "    .dataframe thead th {\n",
       "        text-align: right;\n",
       "    }\n",
       "</style>\n",
       "<table border=\"1\" class=\"dataframe\">\n",
       "  <thead>\n",
       "    <tr style=\"text-align: right;\">\n",
       "      <th></th>\n",
       "      <th>ENSG</th>\n",
       "      <th>SAMPID</th>\n",
       "      <th>TPM</th>\n",
       "      <th>NCBI</th>\n",
       "      <th>HGNC</th>\n",
       "    </tr>\n",
       "  </thead>\n",
       "  <tbody>\n",
       "    <tr>\n",
       "      <td>0</td>\n",
       "      <td>ENSG00000187642.9</td>\n",
       "      <td>GTEX-1117F-0226-SM-5GZZ7</td>\n",
       "      <td>1.2820</td>\n",
       "      <td>84808</td>\n",
       "      <td>PERM1</td>\n",
       "    </tr>\n",
       "    <tr>\n",
       "      <td>1</td>\n",
       "      <td>ENSG00000187642.9</td>\n",
       "      <td>GTEX-1117F-0426-SM-5EGHI</td>\n",
       "      <td>19.6900</td>\n",
       "      <td>84808</td>\n",
       "      <td>PERM1</td>\n",
       "    </tr>\n",
       "    <tr>\n",
       "      <td>2</td>\n",
       "      <td>ENSG00000187642.9</td>\n",
       "      <td>GTEX-1117F-0526-SM-5EGHJ</td>\n",
       "      <td>2.2660</td>\n",
       "      <td>84808</td>\n",
       "      <td>PERM1</td>\n",
       "    </tr>\n",
       "    <tr>\n",
       "      <td>3</td>\n",
       "      <td>ENSG00000187642.9</td>\n",
       "      <td>GTEX-1117F-0626-SM-5N9CS</td>\n",
       "      <td>0.7919</td>\n",
       "      <td>84808</td>\n",
       "      <td>PERM1</td>\n",
       "    </tr>\n",
       "    <tr>\n",
       "      <td>4</td>\n",
       "      <td>ENSG00000187642.9</td>\n",
       "      <td>GTEX-1117F-0726-SM-5GIEN</td>\n",
       "      <td>47.8000</td>\n",
       "      <td>84808</td>\n",
       "      <td>PERM1</td>\n",
       "    </tr>\n",
       "  </tbody>\n",
       "</table>\n",
       "</div>"
      ],
      "text/plain": [
       "                ENSG                    SAMPID      TPM   NCBI   HGNC\n",
       "0  ENSG00000187642.9  GTEX-1117F-0226-SM-5GZZ7   1.2820  84808  PERM1\n",
       "1  ENSG00000187642.9  GTEX-1117F-0426-SM-5EGHI  19.6900  84808  PERM1\n",
       "2  ENSG00000187642.9  GTEX-1117F-0526-SM-5EGHJ   2.2660  84808  PERM1\n",
       "3  ENSG00000187642.9  GTEX-1117F-0626-SM-5N9CS   0.7919  84808  PERM1\n",
       "4  ENSG00000187642.9  GTEX-1117F-0726-SM-5GIEN  47.8000  84808  PERM1"
      ]
     },
     "execution_count": 25,
     "metadata": {},
     "output_type": "execute_result"
    }
   ],
   "source": [
    "rnaseq.head()"
   ]
  },
  {
   "cell_type": "markdown",
   "metadata": {
    "colab_type": "text",
    "id": "jma3YSsCzxr7"
   },
   "source": [
    "### Remove genes in pseudoautosomal regions (PAR) of chromosome Y (\"ENSGR\")."
   ]
  },
  {
   "cell_type": "code",
   "execution_count": 26,
   "metadata": {
    "colab": {
     "base_uri": "https://localhost:8080/",
     "height": 34
    },
    "colab_type": "code",
    "id": "iuJLi_nVzuFM",
    "outputId": "41488150-6321-433b-f79c-239ca64a901a"
   },
   "outputs": [
    {
     "name": "stdout",
     "output_type": "stream",
     "text": [
      "ENSGR gene TPMs: 0 (0.00%)\n"
     ]
    }
   ],
   "source": [
    "n_ensgr = rnaseq.ENSG.str.startswith('ENSGR').sum()\n",
    "print('ENSGR gene TPMs: %d (%.2f%%)'%(n_ensgr,100*n_ensgr/rnaseq.shape[0]))"
   ]
  },
  {
   "cell_type": "code",
   "execution_count": 27,
   "metadata": {
    "colab": {},
    "colab_type": "code",
    "id": "bSTgB436XZLq"
   },
   "outputs": [],
   "source": [
    "rnaseq = rnaseq[~rnaseq.ENSG.str.startswith('ENSGR')]"
   ]
  },
  {
   "cell_type": "markdown",
   "metadata": {
    "colab_type": "text",
    "id": "DF1bdb1ct3vi"
   },
   "source": [
    "### Merge with samples:"
   ]
  },
  {
   "cell_type": "code",
   "execution_count": 28,
   "metadata": {
    "colab": {},
    "colab_type": "code",
    "id": "KPzImSwat7Mi"
   },
   "outputs": [],
   "source": [
    "rnaseq = pd.merge(rnaseq, samples, how=\"inner\", on=\"SAMPID\")\n",
    "rnaseq = rnaseq.reset_index(drop=True)"
   ]
  },
  {
   "cell_type": "code",
   "execution_count": 29,
   "metadata": {
    "colab": {
     "base_uri": "https://localhost:8080/",
     "height": 289
    },
    "colab_type": "code",
    "id": "qaWd-f4nVBgo",
    "outputId": "154549f6-2dbe-42f3-8f26-1d3de0e7311f"
   },
   "outputs": [
    {
     "data": {
      "text/html": [
       "<div>\n",
       "<style scoped>\n",
       "    .dataframe tbody tr th:only-of-type {\n",
       "        vertical-align: middle;\n",
       "    }\n",
       "\n",
       "    .dataframe tbody tr th {\n",
       "        vertical-align: top;\n",
       "    }\n",
       "\n",
       "    .dataframe thead th {\n",
       "        text-align: right;\n",
       "    }\n",
       "</style>\n",
       "<table border=\"1\" class=\"dataframe\">\n",
       "  <thead>\n",
       "    <tr style=\"text-align: right;\">\n",
       "      <th></th>\n",
       "      <th>ENSG</th>\n",
       "      <th>SAMPID</th>\n",
       "      <th>TPM</th>\n",
       "      <th>NCBI</th>\n",
       "      <th>HGNC</th>\n",
       "      <th>SMATSSCR</th>\n",
       "      <th>SMTS</th>\n",
       "      <th>SMTSD</th>\n",
       "      <th>SMUBRID</th>\n",
       "      <th>SUBJID</th>\n",
       "      <th>SEX</th>\n",
       "      <th>AGE</th>\n",
       "      <th>DTHHRDY</th>\n",
       "    </tr>\n",
       "  </thead>\n",
       "  <tbody>\n",
       "    <tr>\n",
       "      <td>0</td>\n",
       "      <td>ENSG00000187642.9</td>\n",
       "      <td>GTEX-111CU-0126-SM-5GZWZ</td>\n",
       "      <td>0.6690</td>\n",
       "      <td>84808</td>\n",
       "      <td>PERM1</td>\n",
       "      <td>0.0</td>\n",
       "      <td>Adrenal Gland</td>\n",
       "      <td>Adrenal Gland</td>\n",
       "      <td>0002369</td>\n",
       "      <td>GTEX-111CU</td>\n",
       "      <td>male</td>\n",
       "      <td>50-59</td>\n",
       "      <td>0.0</td>\n",
       "    </tr>\n",
       "    <tr>\n",
       "      <td>1</td>\n",
       "      <td>ENSG00000131591.17</td>\n",
       "      <td>GTEX-111CU-0126-SM-5GZWZ</td>\n",
       "      <td>4.0280</td>\n",
       "      <td>54991</td>\n",
       "      <td>C1orf159</td>\n",
       "      <td>0.0</td>\n",
       "      <td>Adrenal Gland</td>\n",
       "      <td>Adrenal Gland</td>\n",
       "      <td>0002369</td>\n",
       "      <td>GTEX-111CU</td>\n",
       "      <td>male</td>\n",
       "      <td>50-59</td>\n",
       "      <td>0.0</td>\n",
       "    </tr>\n",
       "    <tr>\n",
       "      <td>2</td>\n",
       "      <td>ENSG00000184163.3</td>\n",
       "      <td>GTEX-111CU-0126-SM-5GZWZ</td>\n",
       "      <td>0.7839</td>\n",
       "      <td>388581</td>\n",
       "      <td>C1QTNF12</td>\n",
       "      <td>0.0</td>\n",
       "      <td>Adrenal Gland</td>\n",
       "      <td>Adrenal Gland</td>\n",
       "      <td>0002369</td>\n",
       "      <td>GTEX-111CU</td>\n",
       "      <td>male</td>\n",
       "      <td>50-59</td>\n",
       "      <td>0.0</td>\n",
       "    </tr>\n",
       "    <tr>\n",
       "      <td>3</td>\n",
       "      <td>ENSG00000175756.13</td>\n",
       "      <td>GTEX-111CU-0126-SM-5GZWZ</td>\n",
       "      <td>74.1500</td>\n",
       "      <td>54998</td>\n",
       "      <td>AURKAIP1</td>\n",
       "      <td>0.0</td>\n",
       "      <td>Adrenal Gland</td>\n",
       "      <td>Adrenal Gland</td>\n",
       "      <td>0002369</td>\n",
       "      <td>GTEX-111CU</td>\n",
       "      <td>male</td>\n",
       "      <td>50-59</td>\n",
       "      <td>0.0</td>\n",
       "    </tr>\n",
       "    <tr>\n",
       "      <td>4</td>\n",
       "      <td>ENSG00000235098.8</td>\n",
       "      <td>GTEX-111CU-0126-SM-5GZWZ</td>\n",
       "      <td>0.8247</td>\n",
       "      <td>441869</td>\n",
       "      <td>ANKRD65</td>\n",
       "      <td>0.0</td>\n",
       "      <td>Adrenal Gland</td>\n",
       "      <td>Adrenal Gland</td>\n",
       "      <td>0002369</td>\n",
       "      <td>GTEX-111CU</td>\n",
       "      <td>male</td>\n",
       "      <td>50-59</td>\n",
       "      <td>0.0</td>\n",
       "    </tr>\n",
       "  </tbody>\n",
       "</table>\n",
       "</div>"
      ],
      "text/plain": [
       "                 ENSG                    SAMPID      TPM    NCBI      HGNC  \\\n",
       "0   ENSG00000187642.9  GTEX-111CU-0126-SM-5GZWZ   0.6690   84808     PERM1   \n",
       "1  ENSG00000131591.17  GTEX-111CU-0126-SM-5GZWZ   4.0280   54991  C1orf159   \n",
       "2   ENSG00000184163.3  GTEX-111CU-0126-SM-5GZWZ   0.7839  388581  C1QTNF12   \n",
       "3  ENSG00000175756.13  GTEX-111CU-0126-SM-5GZWZ  74.1500   54998  AURKAIP1   \n",
       "4   ENSG00000235098.8  GTEX-111CU-0126-SM-5GZWZ   0.8247  441869   ANKRD65   \n",
       "\n",
       "   SMATSSCR           SMTS          SMTSD  SMUBRID      SUBJID   SEX    AGE  \\\n",
       "0       0.0  Adrenal Gland  Adrenal Gland  0002369  GTEX-111CU  male  50-59   \n",
       "1       0.0  Adrenal Gland  Adrenal Gland  0002369  GTEX-111CU  male  50-59   \n",
       "2       0.0  Adrenal Gland  Adrenal Gland  0002369  GTEX-111CU  male  50-59   \n",
       "3       0.0  Adrenal Gland  Adrenal Gland  0002369  GTEX-111CU  male  50-59   \n",
       "4       0.0  Adrenal Gland  Adrenal Gland  0002369  GTEX-111CU  male  50-59   \n",
       "\n",
       "   DTHHRDY  \n",
       "0      0.0  \n",
       "1      0.0  \n",
       "2      0.0  \n",
       "3      0.0  \n",
       "4      0.0  "
      ]
     },
     "execution_count": 29,
     "metadata": {},
     "output_type": "execute_result"
    }
   ],
   "source": [
    "rnaseq.head()"
   ]
  },
  {
   "cell_type": "code",
   "execution_count": 30,
   "metadata": {
    "colab": {
     "base_uri": "https://localhost:8080/",
     "height": 323
    },
    "colab_type": "code",
    "id": "OyxdvWw_ZN5i",
    "outputId": "f6c5794d-68d2-4cb4-ca50-a351970f1aab"
   },
   "outputs": [
    {
     "name": "stdout",
     "output_type": "stream",
     "text": [
      "<class 'pandas.core.frame.DataFrame'>\n",
      "RangeIndex: 848240 entries, 0 to 848239\n",
      "Data columns (total 13 columns):\n",
      "ENSG        848240 non-null object\n",
      "SAMPID      848240 non-null object\n",
      "TPM         848240 non-null float64\n",
      "NCBI        848240 non-null object\n",
      "HGNC        848240 non-null object\n",
      "SMATSSCR    848240 non-null float64\n",
      "SMTS        848240 non-null object\n",
      "SMTSD       848240 non-null object\n",
      "SMUBRID     848240 non-null object\n",
      "SUBJID      848240 non-null object\n",
      "SEX         848240 non-null object\n",
      "AGE         848240 non-null object\n",
      "DTHHRDY     848240 non-null float64\n",
      "dtypes: float64(3), object(10)\n",
      "memory usage: 84.1+ MB\n"
     ]
    }
   ],
   "source": [
    "rnaseq.info()"
   ]
  },
  {
   "cell_type": "markdown",
   "metadata": {
    "colab_type": "text",
    "id": "GNWwsSrNOAzX"
   },
   "source": [
    "### Remove data for gene-tissue pairs with all zero expression."
   ]
  },
  {
   "cell_type": "code",
   "execution_count": 31,
   "metadata": {
    "colab": {
     "base_uri": "https://localhost:8080/",
     "height": 68
    },
    "colab_type": "code",
    "id": "zl5wT1nQMGrn",
    "outputId": "003535d4-9ac8-46ba-d007-599aec6d9ad9"
   },
   "outputs": [
    {
     "name": "stdout",
     "output_type": "stream",
     "text": [
      "False    3083\n",
      "True       77\n",
      "Name: maxtpm_0, dtype: int64\n"
     ]
    }
   ],
   "source": [
    "maxtpm_0 = (rnaseq[['ENSG', 'SMTSD', 'TPM']].groupby(by=['ENSG','SMTSD'], as_index=True).max() == 0).rename(columns={'TPM':'maxtpm_0'})\n",
    "print(maxtpm_0.maxtpm_0.value_counts(dropna=False))"
   ]
  },
  {
   "cell_type": "code",
   "execution_count": 32,
   "metadata": {
    "colab": {
     "base_uri": "https://localhost:8080/",
     "height": 119
    },
    "colab_type": "code",
    "id": "AaxrLbUeavh_",
    "outputId": "a3ea88ec-86fd-4232-9f8d-1c03c3639e22"
   },
   "outputs": [
    {
     "name": "stdout",
     "output_type": "stream",
     "text": [
      "<class 'pandas.core.frame.DataFrame'>\n",
      "MultiIndex: 3160 entries, (ENSG00000008130.15, Adipose - Subcutaneous) to (ENSG00000280267.4, Vagina)\n",
      "Data columns (total 1 columns):\n",
      "maxtpm_0    3160 non-null bool\n",
      "dtypes: bool(1)\n",
      "memory usage: 10.3+ KB\n"
     ]
    }
   ],
   "source": [
    "maxtpm_0.info()"
   ]
  },
  {
   "cell_type": "code",
   "execution_count": 33,
   "metadata": {
    "colab": {
     "base_uri": "https://localhost:8080/",
     "height": 289
    },
    "colab_type": "code",
    "id": "8aj_IzoKMN0k",
    "outputId": "7443153c-a7ec-4682-f81e-0ea9db4d7b43"
   },
   "outputs": [
    {
     "data": {
      "text/html": [
       "<div>\n",
       "<style scoped>\n",
       "    .dataframe tbody tr th:only-of-type {\n",
       "        vertical-align: middle;\n",
       "    }\n",
       "\n",
       "    .dataframe tbody tr th {\n",
       "        vertical-align: top;\n",
       "    }\n",
       "\n",
       "    .dataframe thead th {\n",
       "        text-align: right;\n",
       "    }\n",
       "</style>\n",
       "<table border=\"1\" class=\"dataframe\">\n",
       "  <thead>\n",
       "    <tr style=\"text-align: right;\">\n",
       "      <th></th>\n",
       "      <th>ENSG</th>\n",
       "      <th>SAMPID</th>\n",
       "      <th>TPM</th>\n",
       "      <th>NCBI</th>\n",
       "      <th>HGNC</th>\n",
       "      <th>SMATSSCR</th>\n",
       "      <th>SMTS</th>\n",
       "      <th>SMTSD</th>\n",
       "      <th>SMUBRID</th>\n",
       "      <th>SUBJID</th>\n",
       "      <th>SEX</th>\n",
       "      <th>AGE</th>\n",
       "      <th>DTHHRDY</th>\n",
       "      <th>maxtpm_0</th>\n",
       "    </tr>\n",
       "  </thead>\n",
       "  <tbody>\n",
       "    <tr>\n",
       "      <td>0</td>\n",
       "      <td>ENSG00000187642.9</td>\n",
       "      <td>GTEX-111CU-0126-SM-5GZWZ</td>\n",
       "      <td>0.6690</td>\n",
       "      <td>84808</td>\n",
       "      <td>PERM1</td>\n",
       "      <td>0.0</td>\n",
       "      <td>Adrenal Gland</td>\n",
       "      <td>Adrenal Gland</td>\n",
       "      <td>0002369</td>\n",
       "      <td>GTEX-111CU</td>\n",
       "      <td>male</td>\n",
       "      <td>50-59</td>\n",
       "      <td>0.0</td>\n",
       "      <td>False</td>\n",
       "    </tr>\n",
       "    <tr>\n",
       "      <td>2320</td>\n",
       "      <td>ENSG00000187642.9</td>\n",
       "      <td>GTEX-111YS-0126-SM-5987T</td>\n",
       "      <td>0.3483</td>\n",
       "      <td>84808</td>\n",
       "      <td>PERM1</td>\n",
       "      <td>1.0</td>\n",
       "      <td>Adrenal Gland</td>\n",
       "      <td>Adrenal Gland</td>\n",
       "      <td>0002369</td>\n",
       "      <td>GTEX-111YS</td>\n",
       "      <td>male</td>\n",
       "      <td>60-69</td>\n",
       "      <td>0.0</td>\n",
       "      <td>False</td>\n",
       "    </tr>\n",
       "    <tr>\n",
       "      <td>4320</td>\n",
       "      <td>ENSG00000187642.9</td>\n",
       "      <td>GTEX-1122O-0326-SM-5H124</td>\n",
       "      <td>0.1945</td>\n",
       "      <td>84808</td>\n",
       "      <td>PERM1</td>\n",
       "      <td>0.0</td>\n",
       "      <td>Adrenal Gland</td>\n",
       "      <td>Adrenal Gland</td>\n",
       "      <td>0002369</td>\n",
       "      <td>GTEX-1122O</td>\n",
       "      <td>female</td>\n",
       "      <td>60-69</td>\n",
       "      <td>0.0</td>\n",
       "      <td>False</td>\n",
       "    </tr>\n",
       "    <tr>\n",
       "      <td>8160</td>\n",
       "      <td>ENSG00000187642.9</td>\n",
       "      <td>GTEX-117YX-0126-SM-5EGH5</td>\n",
       "      <td>0.7508</td>\n",
       "      <td>84808</td>\n",
       "      <td>PERM1</td>\n",
       "      <td>1.0</td>\n",
       "      <td>Adrenal Gland</td>\n",
       "      <td>Adrenal Gland</td>\n",
       "      <td>0002369</td>\n",
       "      <td>GTEX-117YX</td>\n",
       "      <td>male</td>\n",
       "      <td>50-59</td>\n",
       "      <td>0.0</td>\n",
       "      <td>False</td>\n",
       "    </tr>\n",
       "    <tr>\n",
       "      <td>11120</td>\n",
       "      <td>ENSG00000187642.9</td>\n",
       "      <td>GTEX-11DXX-0126-SM-5EGH7</td>\n",
       "      <td>0.2936</td>\n",
       "      <td>84808</td>\n",
       "      <td>PERM1</td>\n",
       "      <td>0.0</td>\n",
       "      <td>Adrenal Gland</td>\n",
       "      <td>Adrenal Gland</td>\n",
       "      <td>0002369</td>\n",
       "      <td>GTEX-11DXX</td>\n",
       "      <td>female</td>\n",
       "      <td>60-69</td>\n",
       "      <td>0.0</td>\n",
       "      <td>False</td>\n",
       "    </tr>\n",
       "  </tbody>\n",
       "</table>\n",
       "</div>"
      ],
      "text/plain": [
       "                    ENSG                    SAMPID     TPM   NCBI   HGNC  \\\n",
       "0      ENSG00000187642.9  GTEX-111CU-0126-SM-5GZWZ  0.6690  84808  PERM1   \n",
       "2320   ENSG00000187642.9  GTEX-111YS-0126-SM-5987T  0.3483  84808  PERM1   \n",
       "4320   ENSG00000187642.9  GTEX-1122O-0326-SM-5H124  0.1945  84808  PERM1   \n",
       "8160   ENSG00000187642.9  GTEX-117YX-0126-SM-5EGH5  0.7508  84808  PERM1   \n",
       "11120  ENSG00000187642.9  GTEX-11DXX-0126-SM-5EGH7  0.2936  84808  PERM1   \n",
       "\n",
       "       SMATSSCR           SMTS          SMTSD  SMUBRID      SUBJID     SEX  \\\n",
       "0           0.0  Adrenal Gland  Adrenal Gland  0002369  GTEX-111CU    male   \n",
       "2320        1.0  Adrenal Gland  Adrenal Gland  0002369  GTEX-111YS    male   \n",
       "4320        0.0  Adrenal Gland  Adrenal Gland  0002369  GTEX-1122O  female   \n",
       "8160        1.0  Adrenal Gland  Adrenal Gland  0002369  GTEX-117YX    male   \n",
       "11120       0.0  Adrenal Gland  Adrenal Gland  0002369  GTEX-11DXX  female   \n",
       "\n",
       "         AGE  DTHHRDY  maxtpm_0  \n",
       "0      50-59      0.0     False  \n",
       "2320   60-69      0.0     False  \n",
       "4320   60-69      0.0     False  \n",
       "8160   50-59      0.0     False  \n",
       "11120  60-69      0.0     False  "
      ]
     },
     "execution_count": 33,
     "metadata": {},
     "output_type": "execute_result"
    }
   ],
   "source": [
    "rnaseq = pd.merge(rnaseq, maxtpm_0, left_on=['ENSG', 'SMTSD'], right_index=True)\n",
    "rnaseq.head()"
   ]
  },
  {
   "cell_type": "code",
   "execution_count": 34,
   "metadata": {
    "colab": {
     "base_uri": "https://localhost:8080/",
     "height": 289
    },
    "colab_type": "code",
    "id": "3kAiTBrD0jfz",
    "outputId": "4453b080-9c8b-4a82-dfb2-f4fb19839313"
   },
   "outputs": [
    {
     "data": {
      "text/html": [
       "<div>\n",
       "<style scoped>\n",
       "    .dataframe tbody tr th:only-of-type {\n",
       "        vertical-align: middle;\n",
       "    }\n",
       "\n",
       "    .dataframe tbody tr th {\n",
       "        vertical-align: top;\n",
       "    }\n",
       "\n",
       "    .dataframe thead th {\n",
       "        text-align: right;\n",
       "    }\n",
       "</style>\n",
       "<table border=\"1\" class=\"dataframe\">\n",
       "  <thead>\n",
       "    <tr style=\"text-align: right;\">\n",
       "      <th></th>\n",
       "      <th>ENSG</th>\n",
       "      <th>SAMPID</th>\n",
       "      <th>TPM</th>\n",
       "      <th>NCBI</th>\n",
       "      <th>HGNC</th>\n",
       "      <th>SMATSSCR</th>\n",
       "      <th>SMTS</th>\n",
       "      <th>SMTSD</th>\n",
       "      <th>SMUBRID</th>\n",
       "      <th>SUBJID</th>\n",
       "      <th>SEX</th>\n",
       "      <th>AGE</th>\n",
       "      <th>DTHHRDY</th>\n",
       "    </tr>\n",
       "  </thead>\n",
       "  <tbody>\n",
       "    <tr>\n",
       "      <td>0</td>\n",
       "      <td>ENSG00000187642.9</td>\n",
       "      <td>GTEX-111CU-0126-SM-5GZWZ</td>\n",
       "      <td>0.6690</td>\n",
       "      <td>84808</td>\n",
       "      <td>PERM1</td>\n",
       "      <td>0.0</td>\n",
       "      <td>Adrenal Gland</td>\n",
       "      <td>Adrenal Gland</td>\n",
       "      <td>0002369</td>\n",
       "      <td>GTEX-111CU</td>\n",
       "      <td>male</td>\n",
       "      <td>50-59</td>\n",
       "      <td>0.0</td>\n",
       "    </tr>\n",
       "    <tr>\n",
       "      <td>2320</td>\n",
       "      <td>ENSG00000187642.9</td>\n",
       "      <td>GTEX-111YS-0126-SM-5987T</td>\n",
       "      <td>0.3483</td>\n",
       "      <td>84808</td>\n",
       "      <td>PERM1</td>\n",
       "      <td>1.0</td>\n",
       "      <td>Adrenal Gland</td>\n",
       "      <td>Adrenal Gland</td>\n",
       "      <td>0002369</td>\n",
       "      <td>GTEX-111YS</td>\n",
       "      <td>male</td>\n",
       "      <td>60-69</td>\n",
       "      <td>0.0</td>\n",
       "    </tr>\n",
       "    <tr>\n",
       "      <td>4320</td>\n",
       "      <td>ENSG00000187642.9</td>\n",
       "      <td>GTEX-1122O-0326-SM-5H124</td>\n",
       "      <td>0.1945</td>\n",
       "      <td>84808</td>\n",
       "      <td>PERM1</td>\n",
       "      <td>0.0</td>\n",
       "      <td>Adrenal Gland</td>\n",
       "      <td>Adrenal Gland</td>\n",
       "      <td>0002369</td>\n",
       "      <td>GTEX-1122O</td>\n",
       "      <td>female</td>\n",
       "      <td>60-69</td>\n",
       "      <td>0.0</td>\n",
       "    </tr>\n",
       "    <tr>\n",
       "      <td>8160</td>\n",
       "      <td>ENSG00000187642.9</td>\n",
       "      <td>GTEX-117YX-0126-SM-5EGH5</td>\n",
       "      <td>0.7508</td>\n",
       "      <td>84808</td>\n",
       "      <td>PERM1</td>\n",
       "      <td>1.0</td>\n",
       "      <td>Adrenal Gland</td>\n",
       "      <td>Adrenal Gland</td>\n",
       "      <td>0002369</td>\n",
       "      <td>GTEX-117YX</td>\n",
       "      <td>male</td>\n",
       "      <td>50-59</td>\n",
       "      <td>0.0</td>\n",
       "    </tr>\n",
       "    <tr>\n",
       "      <td>11120</td>\n",
       "      <td>ENSG00000187642.9</td>\n",
       "      <td>GTEX-11DXX-0126-SM-5EGH7</td>\n",
       "      <td>0.2936</td>\n",
       "      <td>84808</td>\n",
       "      <td>PERM1</td>\n",
       "      <td>0.0</td>\n",
       "      <td>Adrenal Gland</td>\n",
       "      <td>Adrenal Gland</td>\n",
       "      <td>0002369</td>\n",
       "      <td>GTEX-11DXX</td>\n",
       "      <td>female</td>\n",
       "      <td>60-69</td>\n",
       "      <td>0.0</td>\n",
       "    </tr>\n",
       "  </tbody>\n",
       "</table>\n",
       "</div>"
      ],
      "text/plain": [
       "                    ENSG                    SAMPID     TPM   NCBI   HGNC  \\\n",
       "0      ENSG00000187642.9  GTEX-111CU-0126-SM-5GZWZ  0.6690  84808  PERM1   \n",
       "2320   ENSG00000187642.9  GTEX-111YS-0126-SM-5987T  0.3483  84808  PERM1   \n",
       "4320   ENSG00000187642.9  GTEX-1122O-0326-SM-5H124  0.1945  84808  PERM1   \n",
       "8160   ENSG00000187642.9  GTEX-117YX-0126-SM-5EGH5  0.7508  84808  PERM1   \n",
       "11120  ENSG00000187642.9  GTEX-11DXX-0126-SM-5EGH7  0.2936  84808  PERM1   \n",
       "\n",
       "       SMATSSCR           SMTS          SMTSD  SMUBRID      SUBJID     SEX  \\\n",
       "0           0.0  Adrenal Gland  Adrenal Gland  0002369  GTEX-111CU    male   \n",
       "2320        1.0  Adrenal Gland  Adrenal Gland  0002369  GTEX-111YS    male   \n",
       "4320        0.0  Adrenal Gland  Adrenal Gland  0002369  GTEX-1122O  female   \n",
       "8160        1.0  Adrenal Gland  Adrenal Gland  0002369  GTEX-117YX    male   \n",
       "11120       0.0  Adrenal Gland  Adrenal Gland  0002369  GTEX-11DXX  female   \n",
       "\n",
       "         AGE  DTHHRDY  \n",
       "0      50-59      0.0  \n",
       "2320   60-69      0.0  \n",
       "4320   60-69      0.0  \n",
       "8160   50-59      0.0  \n",
       "11120  60-69      0.0  "
      ]
     },
     "execution_count": 34,
     "metadata": {},
     "output_type": "execute_result"
    }
   ],
   "source": [
    "rnaseq = rnaseq[~rnaseq['maxtpm_0']]\n",
    "rnaseq.drop(columns=['maxtpm_0'], inplace=True)\n",
    "rnaseq.head()"
   ]
  },
  {
   "cell_type": "code",
   "execution_count": 35,
   "metadata": {
    "colab": {
     "base_uri": "https://localhost:8080/",
     "height": 323
    },
    "colab_type": "code",
    "id": "Z3NZZv1uPfkS",
    "outputId": "a83b64ac-b6a8-4e31-b484-5d49d9b07de8"
   },
   "outputs": [
    {
     "name": "stdout",
     "output_type": "stream",
     "text": [
      "<class 'pandas.core.frame.DataFrame'>\n",
      "Int64Index: 841134 entries, 0 to 687119\n",
      "Data columns (total 13 columns):\n",
      "ENSG        841134 non-null object\n",
      "SAMPID      841134 non-null object\n",
      "TPM         841134 non-null float64\n",
      "NCBI        841134 non-null object\n",
      "HGNC        841134 non-null object\n",
      "SMATSSCR    841134 non-null float64\n",
      "SMTS        841134 non-null object\n",
      "SMTSD       841134 non-null object\n",
      "SMUBRID     841134 non-null object\n",
      "SUBJID      841134 non-null object\n",
      "SEX         841134 non-null object\n",
      "AGE         841134 non-null object\n",
      "DTHHRDY     841134 non-null float64\n",
      "dtypes: float64(3), object(10)\n",
      "memory usage: 89.8+ MB\n"
     ]
    }
   ],
   "source": [
    "rnaseq.info()"
   ]
  },
  {
   "cell_type": "markdown",
   "metadata": {
    "colab_type": "text",
    "id": "Fo25DP6F5nSS"
   },
   "source": [
    "### Remove data for gene-tissue pairs not present in both sexes. (This removes most sex specific tissues.)"
   ]
  },
  {
   "cell_type": "code",
   "execution_count": 36,
   "metadata": {
    "colab": {
     "base_uri": "https://localhost:8080/",
     "height": 68
    },
    "colab_type": "code",
    "id": "nAIemJ8LNJ-Y",
    "outputId": "9b2db937-03d9-45be-cc1f-acaf15e72d43"
   },
   "outputs": [
    {
     "name": "stdout",
     "output_type": "stream",
     "text": [
      "2    2414\n",
      "1     669\n",
      "Name: sex_count, dtype: int64\n"
     ]
    }
   ],
   "source": [
    "sex_count = (rnaseq[['ENSG', 'SMTSD', 'SEX']].groupby(by=['ENSG','SMTSD'], as_index=True).nunique()).rename(columns={'SEX':'sex_count'})\n",
    "print(sex_count.sex_count.value_counts())"
   ]
  },
  {
   "cell_type": "code",
   "execution_count": 37,
   "metadata": {
    "colab": {
     "base_uri": "https://localhost:8080/",
     "height": 153
    },
    "colab_type": "code",
    "id": "uzfK2XPdOAJT",
    "outputId": "e73c0b72-3020-4919-8b48-44e857c3af28"
   },
   "outputs": [
    {
     "name": "stdout",
     "output_type": "stream",
     "text": [
      "<class 'pandas.core.frame.DataFrame'>\n",
      "MultiIndex: 3083 entries, (ENSG00000008130.15, Adipose - Subcutaneous) to (ENSG00000280267.4, Vagina)\n",
      "Data columns (total 3 columns):\n",
      "ENSG         3083 non-null int64\n",
      "SMTSD        3083 non-null int64\n",
      "sex_count    3083 non-null int64\n",
      "dtypes: int64(3)\n",
      "memory usage: 79.4+ KB\n"
     ]
    }
   ],
   "source": [
    "sex_count.info()"
   ]
  },
  {
   "cell_type": "code",
   "execution_count": 38,
   "metadata": {
    "colab": {
     "base_uri": "https://localhost:8080/",
     "height": 119
    },
    "colab_type": "code",
    "id": "wtLAFrfgcExT",
    "outputId": "b2fd00ac-e043-4440-a0eb-204531a18417"
   },
   "outputs": [
    {
     "name": "stdout",
     "output_type": "stream",
     "text": [
      "<class 'pandas.core.frame.DataFrame'>\n",
      "MultiIndex: 3083 entries, (ENSG00000008130.15, Adipose - Subcutaneous) to (ENSG00000280267.4, Vagina)\n",
      "Data columns (total 1 columns):\n",
      "sex_count    3083 non-null int64\n",
      "dtypes: int64(1)\n",
      "memory usage: 31.2+ KB\n"
     ]
    }
   ],
   "source": [
    "sex_count = sex_count[['sex_count']] #Why needed?\n",
    "sex_count.info()"
   ]
  },
  {
   "cell_type": "code",
   "execution_count": 39,
   "metadata": {
    "colab": {
     "base_uri": "https://localhost:8080/",
     "height": 289
    },
    "colab_type": "code",
    "id": "lP7meXxz4lAY",
    "outputId": "0673c63f-091e-460d-b10e-54f89afcfa13"
   },
   "outputs": [
    {
     "data": {
      "text/html": [
       "<div>\n",
       "<style scoped>\n",
       "    .dataframe tbody tr th:only-of-type {\n",
       "        vertical-align: middle;\n",
       "    }\n",
       "\n",
       "    .dataframe tbody tr th {\n",
       "        vertical-align: top;\n",
       "    }\n",
       "\n",
       "    .dataframe thead th {\n",
       "        text-align: right;\n",
       "    }\n",
       "</style>\n",
       "<table border=\"1\" class=\"dataframe\">\n",
       "  <thead>\n",
       "    <tr style=\"text-align: right;\">\n",
       "      <th></th>\n",
       "      <th>ENSG</th>\n",
       "      <th>SAMPID</th>\n",
       "      <th>TPM</th>\n",
       "      <th>NCBI</th>\n",
       "      <th>HGNC</th>\n",
       "      <th>SMATSSCR</th>\n",
       "      <th>SMTS</th>\n",
       "      <th>SMTSD</th>\n",
       "      <th>SMUBRID</th>\n",
       "      <th>SUBJID</th>\n",
       "      <th>SEX</th>\n",
       "      <th>AGE</th>\n",
       "      <th>DTHHRDY</th>\n",
       "      <th>sex_count</th>\n",
       "    </tr>\n",
       "  </thead>\n",
       "  <tbody>\n",
       "    <tr>\n",
       "      <td>0</td>\n",
       "      <td>ENSG00000187642.9</td>\n",
       "      <td>GTEX-111CU-0126-SM-5GZWZ</td>\n",
       "      <td>0.6690</td>\n",
       "      <td>84808</td>\n",
       "      <td>PERM1</td>\n",
       "      <td>0.0</td>\n",
       "      <td>Adrenal Gland</td>\n",
       "      <td>Adrenal Gland</td>\n",
       "      <td>0002369</td>\n",
       "      <td>GTEX-111CU</td>\n",
       "      <td>male</td>\n",
       "      <td>50-59</td>\n",
       "      <td>0.0</td>\n",
       "      <td>2</td>\n",
       "    </tr>\n",
       "    <tr>\n",
       "      <td>2320</td>\n",
       "      <td>ENSG00000187642.9</td>\n",
       "      <td>GTEX-111YS-0126-SM-5987T</td>\n",
       "      <td>0.3483</td>\n",
       "      <td>84808</td>\n",
       "      <td>PERM1</td>\n",
       "      <td>1.0</td>\n",
       "      <td>Adrenal Gland</td>\n",
       "      <td>Adrenal Gland</td>\n",
       "      <td>0002369</td>\n",
       "      <td>GTEX-111YS</td>\n",
       "      <td>male</td>\n",
       "      <td>60-69</td>\n",
       "      <td>0.0</td>\n",
       "      <td>2</td>\n",
       "    </tr>\n",
       "    <tr>\n",
       "      <td>4320</td>\n",
       "      <td>ENSG00000187642.9</td>\n",
       "      <td>GTEX-1122O-0326-SM-5H124</td>\n",
       "      <td>0.1945</td>\n",
       "      <td>84808</td>\n",
       "      <td>PERM1</td>\n",
       "      <td>0.0</td>\n",
       "      <td>Adrenal Gland</td>\n",
       "      <td>Adrenal Gland</td>\n",
       "      <td>0002369</td>\n",
       "      <td>GTEX-1122O</td>\n",
       "      <td>female</td>\n",
       "      <td>60-69</td>\n",
       "      <td>0.0</td>\n",
       "      <td>2</td>\n",
       "    </tr>\n",
       "    <tr>\n",
       "      <td>8160</td>\n",
       "      <td>ENSG00000187642.9</td>\n",
       "      <td>GTEX-117YX-0126-SM-5EGH5</td>\n",
       "      <td>0.7508</td>\n",
       "      <td>84808</td>\n",
       "      <td>PERM1</td>\n",
       "      <td>1.0</td>\n",
       "      <td>Adrenal Gland</td>\n",
       "      <td>Adrenal Gland</td>\n",
       "      <td>0002369</td>\n",
       "      <td>GTEX-117YX</td>\n",
       "      <td>male</td>\n",
       "      <td>50-59</td>\n",
       "      <td>0.0</td>\n",
       "      <td>2</td>\n",
       "    </tr>\n",
       "    <tr>\n",
       "      <td>11120</td>\n",
       "      <td>ENSG00000187642.9</td>\n",
       "      <td>GTEX-11DXX-0126-SM-5EGH7</td>\n",
       "      <td>0.2936</td>\n",
       "      <td>84808</td>\n",
       "      <td>PERM1</td>\n",
       "      <td>0.0</td>\n",
       "      <td>Adrenal Gland</td>\n",
       "      <td>Adrenal Gland</td>\n",
       "      <td>0002369</td>\n",
       "      <td>GTEX-11DXX</td>\n",
       "      <td>female</td>\n",
       "      <td>60-69</td>\n",
       "      <td>0.0</td>\n",
       "      <td>2</td>\n",
       "    </tr>\n",
       "  </tbody>\n",
       "</table>\n",
       "</div>"
      ],
      "text/plain": [
       "                    ENSG                    SAMPID     TPM   NCBI   HGNC  \\\n",
       "0      ENSG00000187642.9  GTEX-111CU-0126-SM-5GZWZ  0.6690  84808  PERM1   \n",
       "2320   ENSG00000187642.9  GTEX-111YS-0126-SM-5987T  0.3483  84808  PERM1   \n",
       "4320   ENSG00000187642.9  GTEX-1122O-0326-SM-5H124  0.1945  84808  PERM1   \n",
       "8160   ENSG00000187642.9  GTEX-117YX-0126-SM-5EGH5  0.7508  84808  PERM1   \n",
       "11120  ENSG00000187642.9  GTEX-11DXX-0126-SM-5EGH7  0.2936  84808  PERM1   \n",
       "\n",
       "       SMATSSCR           SMTS          SMTSD  SMUBRID      SUBJID     SEX  \\\n",
       "0           0.0  Adrenal Gland  Adrenal Gland  0002369  GTEX-111CU    male   \n",
       "2320        1.0  Adrenal Gland  Adrenal Gland  0002369  GTEX-111YS    male   \n",
       "4320        0.0  Adrenal Gland  Adrenal Gland  0002369  GTEX-1122O  female   \n",
       "8160        1.0  Adrenal Gland  Adrenal Gland  0002369  GTEX-117YX    male   \n",
       "11120       0.0  Adrenal Gland  Adrenal Gland  0002369  GTEX-11DXX  female   \n",
       "\n",
       "         AGE  DTHHRDY  sex_count  \n",
       "0      50-59      0.0          2  \n",
       "2320   60-69      0.0          2  \n",
       "4320   60-69      0.0          2  \n",
       "8160   50-59      0.0          2  \n",
       "11120  60-69      0.0          2  "
      ]
     },
     "execution_count": 39,
     "metadata": {},
     "output_type": "execute_result"
    }
   ],
   "source": [
    "rnaseq = pd.merge(rnaseq, sex_count, left_on=['ENSG', 'SMTSD'], right_index=True, how=\"inner\")\n",
    "rnaseq.head()"
   ]
  },
  {
   "cell_type": "code",
   "execution_count": 40,
   "metadata": {
    "colab": {},
    "colab_type": "code",
    "id": "UGmkPRINNNt6"
   },
   "outputs": [],
   "source": [
    "rnaseq = rnaseq[rnaseq['sex_count'] == 2]\n",
    "rnaseq.drop(columns=['sex_count'], inplace=True)"
   ]
  },
  {
   "cell_type": "code",
   "execution_count": 41,
   "metadata": {
    "colab": {
     "base_uri": "https://localhost:8080/",
     "height": 323
    },
    "colab_type": "code",
    "id": "68vSaB3pPs3E",
    "outputId": "5abb4b9e-143e-42bc-fb22-637ba343f60e"
   },
   "outputs": [
    {
     "name": "stdout",
     "output_type": "stream",
     "text": [
      "<class 'pandas.core.frame.DataFrame'>\n",
      "Int64Index: 778809 entries, 0 to 688639\n",
      "Data columns (total 13 columns):\n",
      "ENSG        778809 non-null object\n",
      "SAMPID      778809 non-null object\n",
      "TPM         778809 non-null float64\n",
      "NCBI        778809 non-null object\n",
      "HGNC        778809 non-null object\n",
      "SMATSSCR    778809 non-null float64\n",
      "SMTS        778809 non-null object\n",
      "SMTSD       778809 non-null object\n",
      "SMUBRID     778809 non-null object\n",
      "SUBJID      778809 non-null object\n",
      "SEX         778809 non-null object\n",
      "AGE         778809 non-null object\n",
      "DTHHRDY     778809 non-null float64\n",
      "dtypes: float64(3), object(10)\n",
      "memory usage: 83.2+ MB\n"
     ]
    }
   ],
   "source": [
    "rnaseq.info()"
   ]
  },
  {
   "cell_type": "code",
   "execution_count": 42,
   "metadata": {
    "colab": {
     "base_uri": "https://localhost:8080/",
     "height": 561
    },
    "colab_type": "code",
    "id": "7XcMeIvPTAGi",
    "outputId": "3d9d29f7-725a-4928-acf8-69a48420bf5c"
   },
   "outputs": [
    {
     "data": {
      "text/plain": [
       "Muscle - Skeletal                        51520\n",
       "Artery - Tibial                          44320\n",
       "Skin - Sun Exposed (Lower leg)           43914\n",
       "Adipose - Subcutaneous                   43600\n",
       "Nerve - Tibial                           40800\n",
       "Skin - Not Sun Exposed (Suprapubic)      39200\n",
       "Adipose - Visceral (Omentum)             37120\n",
       "Esophagus - Mucosa                       36080\n",
       "Esophagus - Muscularis                   35120\n",
       "Thyroid                                  35022\n",
       "Lung                                     30731\n",
       "Breast - Mammary Tissue                  29680\n",
       "Artery - Aorta                           29600\n",
       "Heart - Left Ventricle                   28960\n",
       "Heart - Atrial Appendage                 27440\n",
       "Esophagus - Gastroesophageal Junction    26544\n",
       "Colon - Sigmoid                          23040\n",
       "Pancreas                                 21280\n",
       "Stomach                                  20560\n",
       "Colon - Transverse                       19118\n",
       "Artery - Coronary                        16720\n",
       "Spleen                                   15680\n",
       "Adrenal Gland                            15054\n",
       "Liver                                    13182\n",
       "Minor Salivary Gland                     11154\n",
       "Small Intestine - Terminal Ileum         11011\n",
       "Brain - Cortex                           10212\n",
       "Brain - Cerebellum                        9975\n",
       "Pituitary                                 9796\n",
       "Kidney - Cortex                           1768\n",
       "Bladder                                    608\n",
       "Name: SMTSD, dtype: int64"
      ]
     },
     "execution_count": 42,
     "metadata": {},
     "output_type": "execute_result"
    }
   ],
   "source": [
    "rnaseq.SMTSD.value_counts()"
   ]
  },
  {
   "cell_type": "markdown",
   "metadata": {
    "colab_type": "text",
    "id": "pTofwlsHT3vI"
   },
   "source": [
    "### Remove mammary tissue, although males have some too."
   ]
  },
  {
   "cell_type": "code",
   "execution_count": 43,
   "metadata": {
    "colab": {},
    "colab_type": "code",
    "id": "iYePilvsTdKl"
   },
   "outputs": [],
   "source": [
    "rnaseq = rnaseq[~rnaseq.SMTSD.str.match(\"^Breast\")]"
   ]
  },
  {
   "cell_type": "markdown",
   "metadata": {
    "colab_type": "text",
    "id": "uYN-z_adiKwz"
   },
   "source": [
    "### Aggregate samples, compute median TPM by gene+tissue+sex:"
   ]
  },
  {
   "cell_type": "code",
   "execution_count": 44,
   "metadata": {
    "colab": {
     "base_uri": "https://localhost:8080/",
     "height": 221
    },
    "colab_type": "code",
    "id": "1d_9a09mpI3Q",
    "outputId": "ee7729a6-d1df-4b5f-a0ab-fec1701c5aa1"
   },
   "outputs": [
    {
     "name": "stdout",
     "output_type": "stream",
     "text": [
      "(4670, 4)\n"
     ]
    },
    {
     "data": {
      "text/html": [
       "<div>\n",
       "<style scoped>\n",
       "    .dataframe tbody tr th:only-of-type {\n",
       "        vertical-align: middle;\n",
       "    }\n",
       "\n",
       "    .dataframe tbody tr th {\n",
       "        vertical-align: top;\n",
       "    }\n",
       "\n",
       "    .dataframe thead th {\n",
       "        text-align: right;\n",
       "    }\n",
       "</style>\n",
       "<table border=\"1\" class=\"dataframe\">\n",
       "  <thead>\n",
       "    <tr style=\"text-align: right;\">\n",
       "      <th></th>\n",
       "      <th>ENSG</th>\n",
       "      <th>SMTSD</th>\n",
       "      <th>SEX</th>\n",
       "      <th>TPM</th>\n",
       "    </tr>\n",
       "  </thead>\n",
       "  <tbody>\n",
       "    <tr>\n",
       "      <td>0</td>\n",
       "      <td>ENSG00000008130.15</td>\n",
       "      <td>Adipose - Subcutaneous</td>\n",
       "      <td>female</td>\n",
       "      <td>63.265</td>\n",
       "    </tr>\n",
       "    <tr>\n",
       "      <td>1</td>\n",
       "      <td>ENSG00000008130.15</td>\n",
       "      <td>Adipose - Subcutaneous</td>\n",
       "      <td>male</td>\n",
       "      <td>53.590</td>\n",
       "    </tr>\n",
       "    <tr>\n",
       "      <td>2</td>\n",
       "      <td>ENSG00000008130.15</td>\n",
       "      <td>Adipose - Visceral (Omentum)</td>\n",
       "      <td>female</td>\n",
       "      <td>58.310</td>\n",
       "    </tr>\n",
       "    <tr>\n",
       "      <td>3</td>\n",
       "      <td>ENSG00000008130.15</td>\n",
       "      <td>Adipose - Visceral (Omentum)</td>\n",
       "      <td>male</td>\n",
       "      <td>51.745</td>\n",
       "    </tr>\n",
       "    <tr>\n",
       "      <td>4</td>\n",
       "      <td>ENSG00000008130.15</td>\n",
       "      <td>Adrenal Gland</td>\n",
       "      <td>female</td>\n",
       "      <td>67.880</td>\n",
       "    </tr>\n",
       "  </tbody>\n",
       "</table>\n",
       "</div>"
      ],
      "text/plain": [
       "                 ENSG                         SMTSD     SEX     TPM\n",
       "0  ENSG00000008130.15        Adipose - Subcutaneous  female  63.265\n",
       "1  ENSG00000008130.15        Adipose - Subcutaneous    male  53.590\n",
       "2  ENSG00000008130.15  Adipose - Visceral (Omentum)  female  58.310\n",
       "3  ENSG00000008130.15  Adipose - Visceral (Omentum)    male  51.745\n",
       "4  ENSG00000008130.15                 Adrenal Gland  female  67.880"
      ]
     },
     "execution_count": 44,
     "metadata": {},
     "output_type": "execute_result"
    }
   ],
   "source": [
    "rnaseq = rnaseq[['ENSG', 'SMTSD', 'SEX', 'TPM']].groupby(by=['ENSG','SMTSD','SEX'], as_index=False).median()\n",
    "print(rnaseq.shape)\n",
    "rnaseq.head()"
   ]
  },
  {
   "cell_type": "markdown",
   "metadata": {
    "colab_type": "text",
    "id": "blUTzPb6KwQp"
   },
   "source": [
    "### Save median TPMs file for analysis, 1-row per gene+tissue+sex:"
   ]
  },
  {
   "cell_type": "code",
   "execution_count": 45,
   "metadata": {
    "colab": {},
    "colab_type": "code",
    "id": "I8aLhmVuKqIN"
   },
   "outputs": [],
   "source": [
    "rnaseq.round(3).to_csv('gtex_rnaseq_prep_median.tsv', sep='\\t', index=False)\n",
    "try:\n",
    "    google.colab.files.download('gtex_rnaseq_prep_median.tsv')\n",
    "except:\n",
    "    pass"
   ]
  },
  {
   "cell_type": "markdown",
   "metadata": {
    "colab_type": "text",
    "id": "_LNh8CQeGhHq"
   },
   "source": [
    "### Pivot TPMs to generate gene profiles:"
   ]
  },
  {
   "cell_type": "code",
   "execution_count": 46,
   "metadata": {
    "colab": {},
    "colab_type": "code",
    "id": "oj7EVdEqHuPv"
   },
   "outputs": [],
   "source": [
    "tissues = pd.Series(pd.unique(rnaseq.SMTSD.sort_values()))"
   ]
  },
  {
   "cell_type": "code",
   "execution_count": 47,
   "metadata": {
    "colab": {
     "base_uri": "https://localhost:8080/",
     "height": 321
    },
    "colab_type": "code",
    "id": "xwSCxutLGdhT",
    "outputId": "11ed8a25-4017-42eb-ecfe-f70be3192ac7"
   },
   "outputs": [
    {
     "data": {
      "text/html": [
       "<div>\n",
       "<style scoped>\n",
       "    .dataframe tbody tr th:only-of-type {\n",
       "        vertical-align: middle;\n",
       "    }\n",
       "\n",
       "    .dataframe tbody tr th {\n",
       "        vertical-align: top;\n",
       "    }\n",
       "\n",
       "    .dataframe thead th {\n",
       "        text-align: right;\n",
       "    }\n",
       "</style>\n",
       "<table border=\"1\" class=\"dataframe\">\n",
       "  <thead>\n",
       "    <tr style=\"text-align: right;\">\n",
       "      <th>SMTSD</th>\n",
       "      <th>ENSG</th>\n",
       "      <th>Adipose - Subcutaneous</th>\n",
       "      <th>Adipose - Visceral (Omentum)</th>\n",
       "      <th>Adrenal Gland</th>\n",
       "      <th>Artery - Aorta</th>\n",
       "      <th>Artery - Coronary</th>\n",
       "      <th>Artery - Tibial</th>\n",
       "      <th>Bladder</th>\n",
       "      <th>Brain - Cerebellum</th>\n",
       "      <th>Brain - Cortex</th>\n",
       "      <th>...</th>\n",
       "      <th>Nerve - Tibial</th>\n",
       "      <th>Pancreas</th>\n",
       "      <th>Pituitary</th>\n",
       "      <th>Skin - Not Sun Exposed (Suprapubic)</th>\n",
       "      <th>Skin - Sun Exposed (Lower leg)</th>\n",
       "      <th>Small Intestine - Terminal Ileum</th>\n",
       "      <th>Spleen</th>\n",
       "      <th>Stomach</th>\n",
       "      <th>Thyroid</th>\n",
       "      <th>SEX</th>\n",
       "    </tr>\n",
       "  </thead>\n",
       "  <tbody>\n",
       "    <tr>\n",
       "      <td>0</td>\n",
       "      <td>ENSG00000008130.15</td>\n",
       "      <td>63.265</td>\n",
       "      <td>58.310</td>\n",
       "      <td>67.880</td>\n",
       "      <td>52.91</td>\n",
       "      <td>55.63</td>\n",
       "      <td>64.275</td>\n",
       "      <td>41.735</td>\n",
       "      <td>23.725</td>\n",
       "      <td>15.0500</td>\n",
       "      <td>...</td>\n",
       "      <td>50.225</td>\n",
       "      <td>15.850</td>\n",
       "      <td>30.73</td>\n",
       "      <td>30.165</td>\n",
       "      <td>31.61</td>\n",
       "      <td>45.9500</td>\n",
       "      <td>91.190</td>\n",
       "      <td>36.190</td>\n",
       "      <td>42.065</td>\n",
       "      <td>female</td>\n",
       "    </tr>\n",
       "    <tr>\n",
       "      <td>1</td>\n",
       "      <td>ENSG00000011007.12</td>\n",
       "      <td>28.490</td>\n",
       "      <td>28.155</td>\n",
       "      <td>16.300</td>\n",
       "      <td>22.59</td>\n",
       "      <td>23.80</td>\n",
       "      <td>21.980</td>\n",
       "      <td>28.805</td>\n",
       "      <td>20.820</td>\n",
       "      <td>8.9170</td>\n",
       "      <td>...</td>\n",
       "      <td>24.460</td>\n",
       "      <td>13.880</td>\n",
       "      <td>20.60</td>\n",
       "      <td>27.905</td>\n",
       "      <td>28.11</td>\n",
       "      <td>20.5500</td>\n",
       "      <td>23.110</td>\n",
       "      <td>31.000</td>\n",
       "      <td>28.050</td>\n",
       "      <td>female</td>\n",
       "    </tr>\n",
       "    <tr>\n",
       "      <td>2</td>\n",
       "      <td>ENSG00000041988.15</td>\n",
       "      <td>15.130</td>\n",
       "      <td>11.910</td>\n",
       "      <td>12.200</td>\n",
       "      <td>16.90</td>\n",
       "      <td>16.21</td>\n",
       "      <td>18.935</td>\n",
       "      <td>16.975</td>\n",
       "      <td>18.310</td>\n",
       "      <td>9.9845</td>\n",
       "      <td>...</td>\n",
       "      <td>19.890</td>\n",
       "      <td>5.858</td>\n",
       "      <td>15.11</td>\n",
       "      <td>11.265</td>\n",
       "      <td>12.22</td>\n",
       "      <td>8.8540</td>\n",
       "      <td>13.010</td>\n",
       "      <td>9.044</td>\n",
       "      <td>18.205</td>\n",
       "      <td>female</td>\n",
       "    </tr>\n",
       "    <tr>\n",
       "      <td>3</td>\n",
       "      <td>ENSG00000049246.14</td>\n",
       "      <td>14.630</td>\n",
       "      <td>6.434</td>\n",
       "      <td>9.508</td>\n",
       "      <td>12.72</td>\n",
       "      <td>12.08</td>\n",
       "      <td>21.875</td>\n",
       "      <td>20.825</td>\n",
       "      <td>64.960</td>\n",
       "      <td>12.7450</td>\n",
       "      <td>...</td>\n",
       "      <td>29.135</td>\n",
       "      <td>4.622</td>\n",
       "      <td>30.83</td>\n",
       "      <td>14.360</td>\n",
       "      <td>19.15</td>\n",
       "      <td>5.8585</td>\n",
       "      <td>5.333</td>\n",
       "      <td>9.725</td>\n",
       "      <td>13.635</td>\n",
       "      <td>female</td>\n",
       "    </tr>\n",
       "    <tr>\n",
       "      <td>4</td>\n",
       "      <td>ENSG00000053371.12</td>\n",
       "      <td>57.755</td>\n",
       "      <td>47.125</td>\n",
       "      <td>95.150</td>\n",
       "      <td>54.31</td>\n",
       "      <td>49.07</td>\n",
       "      <td>43.600</td>\n",
       "      <td>59.745</td>\n",
       "      <td>37.320</td>\n",
       "      <td>36.7800</td>\n",
       "      <td>...</td>\n",
       "      <td>60.745</td>\n",
       "      <td>28.960</td>\n",
       "      <td>62.87</td>\n",
       "      <td>52.970</td>\n",
       "      <td>55.31</td>\n",
       "      <td>65.3850</td>\n",
       "      <td>43.950</td>\n",
       "      <td>50.380</td>\n",
       "      <td>53.470</td>\n",
       "      <td>female</td>\n",
       "    </tr>\n",
       "  </tbody>\n",
       "</table>\n",
       "<p>5 rows × 32 columns</p>\n",
       "</div>"
      ],
      "text/plain": [
       "SMTSD                ENSG  Adipose - Subcutaneous  \\\n",
       "0      ENSG00000008130.15                  63.265   \n",
       "1      ENSG00000011007.12                  28.490   \n",
       "2      ENSG00000041988.15                  15.130   \n",
       "3      ENSG00000049246.14                  14.630   \n",
       "4      ENSG00000053371.12                  57.755   \n",
       "\n",
       "SMTSD  Adipose - Visceral (Omentum)  Adrenal Gland  Artery - Aorta  \\\n",
       "0                            58.310         67.880           52.91   \n",
       "1                            28.155         16.300           22.59   \n",
       "2                            11.910         12.200           16.90   \n",
       "3                             6.434          9.508           12.72   \n",
       "4                            47.125         95.150           54.31   \n",
       "\n",
       "SMTSD  Artery - Coronary  Artery - Tibial  Bladder  Brain - Cerebellum  \\\n",
       "0                  55.63           64.275   41.735              23.725   \n",
       "1                  23.80           21.980   28.805              20.820   \n",
       "2                  16.21           18.935   16.975              18.310   \n",
       "3                  12.08           21.875   20.825              64.960   \n",
       "4                  49.07           43.600   59.745              37.320   \n",
       "\n",
       "SMTSD  Brain - Cortex  ...  Nerve - Tibial  Pancreas  Pituitary  \\\n",
       "0             15.0500  ...          50.225    15.850      30.73   \n",
       "1              8.9170  ...          24.460    13.880      20.60   \n",
       "2              9.9845  ...          19.890     5.858      15.11   \n",
       "3             12.7450  ...          29.135     4.622      30.83   \n",
       "4             36.7800  ...          60.745    28.960      62.87   \n",
       "\n",
       "SMTSD  Skin - Not Sun Exposed (Suprapubic)  Skin - Sun Exposed (Lower leg)  \\\n",
       "0                                   30.165                           31.61   \n",
       "1                                   27.905                           28.11   \n",
       "2                                   11.265                           12.22   \n",
       "3                                   14.360                           19.15   \n",
       "4                                   52.970                           55.31   \n",
       "\n",
       "SMTSD  Small Intestine - Terminal Ileum  Spleen  Stomach  Thyroid     SEX  \n",
       "0                               45.9500  91.190   36.190   42.065  female  \n",
       "1                               20.5500  23.110   31.000   28.050  female  \n",
       "2                                8.8540  13.010    9.044   18.205  female  \n",
       "3                                5.8585   5.333    9.725   13.635  female  \n",
       "4                               65.3850  43.950   50.380   53.470  female  \n",
       "\n",
       "[5 rows x 32 columns]"
      ]
     },
     "execution_count": 47,
     "metadata": {},
     "output_type": "execute_result"
    }
   ],
   "source": [
    "rnaseq_f = rnaseq[rnaseq.SEX=='female'].drop(columns=['SEX'])\n",
    "rnaseq_f = rnaseq_f[['ENSG','SMTSD','TPM']]\n",
    "exfiles_f = rnaseq_f.pivot(index='ENSG', columns='SMTSD')\n",
    "exfiles_f.columns = exfiles_f.columns.get_level_values(1)\n",
    "exfiles_f = exfiles_f.reset_index(drop=False)\n",
    "exfiles_f['SEX'] = 'female'\n",
    "exfiles_f.head()"
   ]
  },
  {
   "cell_type": "code",
   "execution_count": 48,
   "metadata": {
    "colab": {
     "base_uri": "https://localhost:8080/",
     "height": 321
    },
    "colab_type": "code",
    "id": "u3nARXHgIAzx",
    "outputId": "d3dedd2d-b106-459c-c5dd-277d967da97d"
   },
   "outputs": [
    {
     "data": {
      "text/html": [
       "<div>\n",
       "<style scoped>\n",
       "    .dataframe tbody tr th:only-of-type {\n",
       "        vertical-align: middle;\n",
       "    }\n",
       "\n",
       "    .dataframe tbody tr th {\n",
       "        vertical-align: top;\n",
       "    }\n",
       "\n",
       "    .dataframe thead th {\n",
       "        text-align: right;\n",
       "    }\n",
       "</style>\n",
       "<table border=\"1\" class=\"dataframe\">\n",
       "  <thead>\n",
       "    <tr style=\"text-align: right;\">\n",
       "      <th>SMTSD</th>\n",
       "      <th>ENSG</th>\n",
       "      <th>Adipose - Subcutaneous</th>\n",
       "      <th>Adipose - Visceral (Omentum)</th>\n",
       "      <th>Adrenal Gland</th>\n",
       "      <th>Artery - Aorta</th>\n",
       "      <th>Artery - Coronary</th>\n",
       "      <th>Artery - Tibial</th>\n",
       "      <th>Bladder</th>\n",
       "      <th>Brain - Cerebellum</th>\n",
       "      <th>Brain - Cortex</th>\n",
       "      <th>...</th>\n",
       "      <th>Nerve - Tibial</th>\n",
       "      <th>Pancreas</th>\n",
       "      <th>Pituitary</th>\n",
       "      <th>Skin - Not Sun Exposed (Suprapubic)</th>\n",
       "      <th>Skin - Sun Exposed (Lower leg)</th>\n",
       "      <th>Small Intestine - Terminal Ileum</th>\n",
       "      <th>Spleen</th>\n",
       "      <th>Stomach</th>\n",
       "      <th>Thyroid</th>\n",
       "      <th>SEX</th>\n",
       "    </tr>\n",
       "  </thead>\n",
       "  <tbody>\n",
       "    <tr>\n",
       "      <td>0</td>\n",
       "      <td>ENSG00000008130.15</td>\n",
       "      <td>53.59</td>\n",
       "      <td>51.745</td>\n",
       "      <td>70.475</td>\n",
       "      <td>52.49</td>\n",
       "      <td>52.275</td>\n",
       "      <td>54.415</td>\n",
       "      <td>47.390</td>\n",
       "      <td>24.50</td>\n",
       "      <td>15.3900</td>\n",
       "      <td>...</td>\n",
       "      <td>45.585</td>\n",
       "      <td>16.990</td>\n",
       "      <td>27.78</td>\n",
       "      <td>27.965</td>\n",
       "      <td>28.880</td>\n",
       "      <td>43.160</td>\n",
       "      <td>99.1500</td>\n",
       "      <td>36.0400</td>\n",
       "      <td>43.15</td>\n",
       "      <td>male</td>\n",
       "    </tr>\n",
       "    <tr>\n",
       "      <td>1</td>\n",
       "      <td>ENSG00000011007.12</td>\n",
       "      <td>27.04</td>\n",
       "      <td>27.140</td>\n",
       "      <td>16.345</td>\n",
       "      <td>22.02</td>\n",
       "      <td>23.735</td>\n",
       "      <td>20.855</td>\n",
       "      <td>28.830</td>\n",
       "      <td>21.35</td>\n",
       "      <td>8.5810</td>\n",
       "      <td>...</td>\n",
       "      <td>24.085</td>\n",
       "      <td>14.300</td>\n",
       "      <td>19.56</td>\n",
       "      <td>26.475</td>\n",
       "      <td>28.730</td>\n",
       "      <td>18.400</td>\n",
       "      <td>23.6200</td>\n",
       "      <td>31.5900</td>\n",
       "      <td>29.15</td>\n",
       "      <td>male</td>\n",
       "    </tr>\n",
       "    <tr>\n",
       "      <td>2</td>\n",
       "      <td>ENSG00000041988.15</td>\n",
       "      <td>15.95</td>\n",
       "      <td>12.715</td>\n",
       "      <td>13.675</td>\n",
       "      <td>17.93</td>\n",
       "      <td>16.445</td>\n",
       "      <td>18.640</td>\n",
       "      <td>13.825</td>\n",
       "      <td>19.67</td>\n",
       "      <td>9.6495</td>\n",
       "      <td>...</td>\n",
       "      <td>21.025</td>\n",
       "      <td>5.909</td>\n",
       "      <td>15.22</td>\n",
       "      <td>11.725</td>\n",
       "      <td>12.510</td>\n",
       "      <td>9.394</td>\n",
       "      <td>14.6200</td>\n",
       "      <td>9.4690</td>\n",
       "      <td>18.76</td>\n",
       "      <td>male</td>\n",
       "    </tr>\n",
       "    <tr>\n",
       "      <td>3</td>\n",
       "      <td>ENSG00000049246.14</td>\n",
       "      <td>17.05</td>\n",
       "      <td>9.078</td>\n",
       "      <td>9.585</td>\n",
       "      <td>13.40</td>\n",
       "      <td>13.080</td>\n",
       "      <td>23.565</td>\n",
       "      <td>19.870</td>\n",
       "      <td>70.39</td>\n",
       "      <td>12.5750</td>\n",
       "      <td>...</td>\n",
       "      <td>30.950</td>\n",
       "      <td>4.491</td>\n",
       "      <td>34.41</td>\n",
       "      <td>16.650</td>\n",
       "      <td>21.845</td>\n",
       "      <td>6.213</td>\n",
       "      <td>5.0715</td>\n",
       "      <td>9.4715</td>\n",
       "      <td>17.03</td>\n",
       "      <td>male</td>\n",
       "    </tr>\n",
       "    <tr>\n",
       "      <td>4</td>\n",
       "      <td>ENSG00000053371.12</td>\n",
       "      <td>56.14</td>\n",
       "      <td>48.810</td>\n",
       "      <td>93.770</td>\n",
       "      <td>54.62</td>\n",
       "      <td>46.905</td>\n",
       "      <td>45.555</td>\n",
       "      <td>54.465</td>\n",
       "      <td>37.43</td>\n",
       "      <td>35.3550</td>\n",
       "      <td>...</td>\n",
       "      <td>61.415</td>\n",
       "      <td>30.950</td>\n",
       "      <td>58.40</td>\n",
       "      <td>57.485</td>\n",
       "      <td>56.640</td>\n",
       "      <td>63.710</td>\n",
       "      <td>46.5400</td>\n",
       "      <td>53.1400</td>\n",
       "      <td>59.35</td>\n",
       "      <td>male</td>\n",
       "    </tr>\n",
       "  </tbody>\n",
       "</table>\n",
       "<p>5 rows × 32 columns</p>\n",
       "</div>"
      ],
      "text/plain": [
       "SMTSD                ENSG  Adipose - Subcutaneous  \\\n",
       "0      ENSG00000008130.15                   53.59   \n",
       "1      ENSG00000011007.12                   27.04   \n",
       "2      ENSG00000041988.15                   15.95   \n",
       "3      ENSG00000049246.14                   17.05   \n",
       "4      ENSG00000053371.12                   56.14   \n",
       "\n",
       "SMTSD  Adipose - Visceral (Omentum)  Adrenal Gland  Artery - Aorta  \\\n",
       "0                            51.745         70.475           52.49   \n",
       "1                            27.140         16.345           22.02   \n",
       "2                            12.715         13.675           17.93   \n",
       "3                             9.078          9.585           13.40   \n",
       "4                            48.810         93.770           54.62   \n",
       "\n",
       "SMTSD  Artery - Coronary  Artery - Tibial  Bladder  Brain - Cerebellum  \\\n",
       "0                 52.275           54.415   47.390               24.50   \n",
       "1                 23.735           20.855   28.830               21.35   \n",
       "2                 16.445           18.640   13.825               19.67   \n",
       "3                 13.080           23.565   19.870               70.39   \n",
       "4                 46.905           45.555   54.465               37.43   \n",
       "\n",
       "SMTSD  Brain - Cortex  ...  Nerve - Tibial  Pancreas  Pituitary  \\\n",
       "0             15.3900  ...          45.585    16.990      27.78   \n",
       "1              8.5810  ...          24.085    14.300      19.56   \n",
       "2              9.6495  ...          21.025     5.909      15.22   \n",
       "3             12.5750  ...          30.950     4.491      34.41   \n",
       "4             35.3550  ...          61.415    30.950      58.40   \n",
       "\n",
       "SMTSD  Skin - Not Sun Exposed (Suprapubic)  Skin - Sun Exposed (Lower leg)  \\\n",
       "0                                   27.965                          28.880   \n",
       "1                                   26.475                          28.730   \n",
       "2                                   11.725                          12.510   \n",
       "3                                   16.650                          21.845   \n",
       "4                                   57.485                          56.640   \n",
       "\n",
       "SMTSD  Small Intestine - Terminal Ileum   Spleen  Stomach  Thyroid   SEX  \n",
       "0                                43.160  99.1500  36.0400    43.15  male  \n",
       "1                                18.400  23.6200  31.5900    29.15  male  \n",
       "2                                 9.394  14.6200   9.4690    18.76  male  \n",
       "3                                 6.213   5.0715   9.4715    17.03  male  \n",
       "4                                63.710  46.5400  53.1400    59.35  male  \n",
       "\n",
       "[5 rows x 32 columns]"
      ]
     },
     "execution_count": 48,
     "metadata": {},
     "output_type": "execute_result"
    }
   ],
   "source": [
    "rnaseq_m = rnaseq[rnaseq.SEX=='male'].drop(columns=['SEX'])\n",
    "rnaseq_m = rnaseq_m[['ENSG','SMTSD','TPM']]\n",
    "exfiles_m = rnaseq_m.pivot(index='ENSG', columns='SMTSD')\n",
    "exfiles_m.columns = exfiles_m.columns.get_level_values(1)\n",
    "exfiles_m = exfiles_m.reset_index(drop=False)\n",
    "exfiles_m['SEX'] = 'male'\n",
    "exfiles_m.head()"
   ]
  },
  {
   "cell_type": "code",
   "execution_count": 49,
   "metadata": {
    "colab": {
     "base_uri": "https://localhost:8080/",
     "height": 321
    },
    "colab_type": "code",
    "id": "j8Ws0J9FH754",
    "outputId": "b4e7ab5f-8e42-4d25-d73e-98aeb32dd2ee"
   },
   "outputs": [
    {
     "data": {
      "text/html": [
       "<div>\n",
       "<style scoped>\n",
       "    .dataframe tbody tr th:only-of-type {\n",
       "        vertical-align: middle;\n",
       "    }\n",
       "\n",
       "    .dataframe tbody tr th {\n",
       "        vertical-align: top;\n",
       "    }\n",
       "\n",
       "    .dataframe thead th {\n",
       "        text-align: right;\n",
       "    }\n",
       "</style>\n",
       "<table border=\"1\" class=\"dataframe\">\n",
       "  <thead>\n",
       "    <tr style=\"text-align: right;\">\n",
       "      <th>SMTSD</th>\n",
       "      <th>ENSG</th>\n",
       "      <th>SEX</th>\n",
       "      <th>Adipose - Subcutaneous</th>\n",
       "      <th>Adipose - Visceral (Omentum)</th>\n",
       "      <th>Adrenal Gland</th>\n",
       "      <th>Artery - Aorta</th>\n",
       "      <th>Artery - Coronary</th>\n",
       "      <th>Artery - Tibial</th>\n",
       "      <th>Bladder</th>\n",
       "      <th>Brain - Cerebellum</th>\n",
       "      <th>...</th>\n",
       "      <th>Muscle - Skeletal</th>\n",
       "      <th>Nerve - Tibial</th>\n",
       "      <th>Pancreas</th>\n",
       "      <th>Pituitary</th>\n",
       "      <th>Skin - Not Sun Exposed (Suprapubic)</th>\n",
       "      <th>Skin - Sun Exposed (Lower leg)</th>\n",
       "      <th>Small Intestine - Terminal Ileum</th>\n",
       "      <th>Spleen</th>\n",
       "      <th>Stomach</th>\n",
       "      <th>Thyroid</th>\n",
       "    </tr>\n",
       "  </thead>\n",
       "  <tbody>\n",
       "    <tr>\n",
       "      <td>0</td>\n",
       "      <td>ENSG00000008130.15</td>\n",
       "      <td>female</td>\n",
       "      <td>63.265</td>\n",
       "      <td>58.310</td>\n",
       "      <td>67.880</td>\n",
       "      <td>52.91</td>\n",
       "      <td>55.63</td>\n",
       "      <td>64.275</td>\n",
       "      <td>41.735</td>\n",
       "      <td>23.725</td>\n",
       "      <td>...</td>\n",
       "      <td>9.904</td>\n",
       "      <td>50.225</td>\n",
       "      <td>15.850</td>\n",
       "      <td>30.73</td>\n",
       "      <td>30.165</td>\n",
       "      <td>31.61</td>\n",
       "      <td>45.9500</td>\n",
       "      <td>91.190</td>\n",
       "      <td>36.190</td>\n",
       "      <td>42.065</td>\n",
       "    </tr>\n",
       "    <tr>\n",
       "      <td>1</td>\n",
       "      <td>ENSG00000011007.12</td>\n",
       "      <td>female</td>\n",
       "      <td>28.490</td>\n",
       "      <td>28.155</td>\n",
       "      <td>16.300</td>\n",
       "      <td>22.59</td>\n",
       "      <td>23.80</td>\n",
       "      <td>21.980</td>\n",
       "      <td>28.805</td>\n",
       "      <td>20.820</td>\n",
       "      <td>...</td>\n",
       "      <td>18.360</td>\n",
       "      <td>24.460</td>\n",
       "      <td>13.880</td>\n",
       "      <td>20.60</td>\n",
       "      <td>27.905</td>\n",
       "      <td>28.11</td>\n",
       "      <td>20.5500</td>\n",
       "      <td>23.110</td>\n",
       "      <td>31.000</td>\n",
       "      <td>28.050</td>\n",
       "    </tr>\n",
       "    <tr>\n",
       "      <td>2</td>\n",
       "      <td>ENSG00000041988.15</td>\n",
       "      <td>female</td>\n",
       "      <td>15.130</td>\n",
       "      <td>11.910</td>\n",
       "      <td>12.200</td>\n",
       "      <td>16.90</td>\n",
       "      <td>16.21</td>\n",
       "      <td>18.935</td>\n",
       "      <td>16.975</td>\n",
       "      <td>18.310</td>\n",
       "      <td>...</td>\n",
       "      <td>8.409</td>\n",
       "      <td>19.890</td>\n",
       "      <td>5.858</td>\n",
       "      <td>15.11</td>\n",
       "      <td>11.265</td>\n",
       "      <td>12.22</td>\n",
       "      <td>8.8540</td>\n",
       "      <td>13.010</td>\n",
       "      <td>9.044</td>\n",
       "      <td>18.205</td>\n",
       "    </tr>\n",
       "    <tr>\n",
       "      <td>3</td>\n",
       "      <td>ENSG00000049246.14</td>\n",
       "      <td>female</td>\n",
       "      <td>14.630</td>\n",
       "      <td>6.434</td>\n",
       "      <td>9.508</td>\n",
       "      <td>12.72</td>\n",
       "      <td>12.08</td>\n",
       "      <td>21.875</td>\n",
       "      <td>20.825</td>\n",
       "      <td>64.960</td>\n",
       "      <td>...</td>\n",
       "      <td>6.047</td>\n",
       "      <td>29.135</td>\n",
       "      <td>4.622</td>\n",
       "      <td>30.83</td>\n",
       "      <td>14.360</td>\n",
       "      <td>19.15</td>\n",
       "      <td>5.8585</td>\n",
       "      <td>5.333</td>\n",
       "      <td>9.725</td>\n",
       "      <td>13.635</td>\n",
       "    </tr>\n",
       "    <tr>\n",
       "      <td>4</td>\n",
       "      <td>ENSG00000053371.12</td>\n",
       "      <td>female</td>\n",
       "      <td>57.755</td>\n",
       "      <td>47.125</td>\n",
       "      <td>95.150</td>\n",
       "      <td>54.31</td>\n",
       "      <td>49.07</td>\n",
       "      <td>43.600</td>\n",
       "      <td>59.745</td>\n",
       "      <td>37.320</td>\n",
       "      <td>...</td>\n",
       "      <td>34.400</td>\n",
       "      <td>60.745</td>\n",
       "      <td>28.960</td>\n",
       "      <td>62.87</td>\n",
       "      <td>52.970</td>\n",
       "      <td>55.31</td>\n",
       "      <td>65.3850</td>\n",
       "      <td>43.950</td>\n",
       "      <td>50.380</td>\n",
       "      <td>53.470</td>\n",
       "    </tr>\n",
       "  </tbody>\n",
       "</table>\n",
       "<p>5 rows × 32 columns</p>\n",
       "</div>"
      ],
      "text/plain": [
       "SMTSD                ENSG     SEX  Adipose - Subcutaneous  \\\n",
       "0      ENSG00000008130.15  female                  63.265   \n",
       "1      ENSG00000011007.12  female                  28.490   \n",
       "2      ENSG00000041988.15  female                  15.130   \n",
       "3      ENSG00000049246.14  female                  14.630   \n",
       "4      ENSG00000053371.12  female                  57.755   \n",
       "\n",
       "SMTSD  Adipose - Visceral (Omentum)  Adrenal Gland  Artery - Aorta  \\\n",
       "0                            58.310         67.880           52.91   \n",
       "1                            28.155         16.300           22.59   \n",
       "2                            11.910         12.200           16.90   \n",
       "3                             6.434          9.508           12.72   \n",
       "4                            47.125         95.150           54.31   \n",
       "\n",
       "SMTSD  Artery - Coronary  Artery - Tibial  Bladder  Brain - Cerebellum  ...  \\\n",
       "0                  55.63           64.275   41.735              23.725  ...   \n",
       "1                  23.80           21.980   28.805              20.820  ...   \n",
       "2                  16.21           18.935   16.975              18.310  ...   \n",
       "3                  12.08           21.875   20.825              64.960  ...   \n",
       "4                  49.07           43.600   59.745              37.320  ...   \n",
       "\n",
       "SMTSD  Muscle - Skeletal  Nerve - Tibial  Pancreas  Pituitary  \\\n",
       "0                  9.904          50.225    15.850      30.73   \n",
       "1                 18.360          24.460    13.880      20.60   \n",
       "2                  8.409          19.890     5.858      15.11   \n",
       "3                  6.047          29.135     4.622      30.83   \n",
       "4                 34.400          60.745    28.960      62.87   \n",
       "\n",
       "SMTSD  Skin - Not Sun Exposed (Suprapubic)  Skin - Sun Exposed (Lower leg)  \\\n",
       "0                                   30.165                           31.61   \n",
       "1                                   27.905                           28.11   \n",
       "2                                   11.265                           12.22   \n",
       "3                                   14.360                           19.15   \n",
       "4                                   52.970                           55.31   \n",
       "\n",
       "SMTSD  Small Intestine - Terminal Ileum  Spleen  Stomach  Thyroid  \n",
       "0                               45.9500  91.190   36.190   42.065  \n",
       "1                               20.5500  23.110   31.000   28.050  \n",
       "2                                8.8540  13.010    9.044   18.205  \n",
       "3                                5.8585   5.333    9.725   13.635  \n",
       "4                               65.3850  43.950   50.380   53.470  \n",
       "\n",
       "[5 rows x 32 columns]"
      ]
     },
     "execution_count": 49,
     "metadata": {},
     "output_type": "execute_result"
    }
   ],
   "source": [
    "exfiles = pd.concat([exfiles_f, exfiles_m])\n",
    "cols = ['ENSG','SEX']+tissues.tolist()\n",
    "exfiles = exfiles[cols]\n",
    "exfiles.head()"
   ]
  },
  {
   "cell_type": "code",
   "execution_count": 50,
   "metadata": {
    "colab": {
     "base_uri": "https://localhost:8080/",
     "height": 646
    },
    "colab_type": "code",
    "id": "OhoyTNEWHnb6",
    "outputId": "c651d1ad-ad97-4946-b8f1-3b77868aefe3"
   },
   "outputs": [
    {
     "name": "stdout",
     "output_type": "stream",
     "text": [
      "<class 'pandas.core.frame.DataFrame'>\n",
      "Int64Index: 158 entries, 0 to 78\n",
      "Data columns (total 32 columns):\n",
      "ENSG                                     158 non-null object\n",
      "SEX                                      158 non-null object\n",
      "Adipose - Subcutaneous                   158 non-null float64\n",
      "Adipose - Visceral (Omentum)             158 non-null float64\n",
      "Adrenal Gland                            156 non-null float64\n",
      "Artery - Aorta                           158 non-null float64\n",
      "Artery - Coronary                        158 non-null float64\n",
      "Artery - Tibial                          158 non-null float64\n",
      "Bladder                                  152 non-null float64\n",
      "Brain - Cerebellum                       150 non-null float64\n",
      "Brain - Cortex                           148 non-null float64\n",
      "Colon - Sigmoid                          158 non-null float64\n",
      "Colon - Transverse                       156 non-null float64\n",
      "Esophagus - Gastroesophageal Junction    156 non-null float64\n",
      "Esophagus - Mucosa                       158 non-null float64\n",
      "Esophagus - Muscularis                   158 non-null float64\n",
      "Heart - Atrial Appendage                 158 non-null float64\n",
      "Heart - Left Ventricle                   158 non-null float64\n",
      "Kidney - Cortex                          136 non-null float64\n",
      "Liver                                    156 non-null float64\n",
      "Lung                                     156 non-null float64\n",
      "Minor Salivary Gland                     154 non-null float64\n",
      "Muscle - Skeletal                        158 non-null float64\n",
      "Nerve - Tibial                           158 non-null float64\n",
      "Pancreas                                 158 non-null float64\n",
      "Pituitary                                156 non-null float64\n",
      "Skin - Not Sun Exposed (Suprapubic)      158 non-null float64\n",
      "Skin - Sun Exposed (Lower leg)           156 non-null float64\n",
      "Small Intestine - Terminal Ileum         154 non-null float64\n",
      "Spleen                                   158 non-null float64\n",
      "Stomach                                  158 non-null float64\n",
      "Thyroid                                  156 non-null float64\n",
      "dtypes: float64(30), object(2)\n",
      "memory usage: 40.7+ KB\n"
     ]
    }
   ],
   "source": [
    "exfiles.info()"
   ]
  },
  {
   "cell_type": "markdown",
   "metadata": {
    "colab_type": "text",
    "id": "yzgXes3SI8gL"
   },
   "source": [
    "### Save expression profiles:"
   ]
  },
  {
   "cell_type": "code",
   "execution_count": 51,
   "metadata": {
    "colab": {},
    "colab_type": "code",
    "id": "nefUHaiKIvHf"
   },
   "outputs": [],
   "source": [
    "exfiles.round(3).to_csv('gtex_rnaseq_prep_profiles.tsv', sep='\\t', index=False)\n",
    "try:\n",
    "    google.colab.files.download('gtex_rnaseq_prep_profiles.tsv')\n",
    "except:\n",
    "    pass"
   ]
  }
 ],
 "metadata": {
  "colab": {
   "collapsed_sections": [],
   "name": "gtex_rnaseq_prep.ipynb",
   "provenance": [],
   "version": "0.3.2"
  },
  "kernelspec": {
   "display_name": "Python 3",
   "language": "python",
   "name": "python3"
  },
  "language_info": {
   "codemirror_mode": {
    "name": "ipython",
    "version": 3
   },
   "file_extension": ".py",
   "mimetype": "text/x-python",
   "name": "python",
   "nbconvert_exporter": "python",
   "pygments_lexer": "ipython3",
   "version": "3.7.4"
  }
 },
 "nbformat": 4,
 "nbformat_minor": 1
}
