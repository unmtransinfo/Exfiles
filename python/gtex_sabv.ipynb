{
 "cells": [
  {
   "cell_type": "markdown",
   "metadata": {
    "colab_type": "text",
    "id": "vB7J5P7Vszpg"
   },
   "source": [
    "<table width=\"100%\" style=\"border:none\">\n",
    "  <tr>\n",
    "    <td valign=\"top\">\n",
    "      <h1>GTEx RNAseq SABV Analysis</h1>\n",
    "      <ul>\n",
    "<li>Author: Jeremy Yang\n",
    "<li>Based on R code by Oleg Ursu.\n",
    "<li>Required: Python3, Pandas 0.22+\n",
    "<li>Input reshaped, derived GTEx RNAseq expression data.\n",
    "<li>Compute log fold-change per gene+tissue.\n",
    "<li>Compute tissue specificity index (Yanai et al., 2004).\n",
    "      </ul>\n",
    "[About Colaboratory](https://research.google.com/colaboratory/faq.html).    \n",
    "    </td>\n",
    "    <td align=\"right\">\n",
    "        <p>NIH Data Commons: Team Helium</p>\n",
    "<img style=\"float:right\" width=\"100\" src=\"https://avatars2.githubusercontent.com/u/33356654?s=200&v=4\" alt=\"HeliumDataCommons Logo\" />\n",
    "    </td>\n",
    "  </tr>\n",
    "  </table>\n",
    " "
   ]
  },
  {
   "cell_type": "code",
   "execution_count": 32,
   "metadata": {
    "colab": {
     "base_uri": "https://localhost:8080/",
     "height": 34
    },
    "colab_type": "code",
    "id": "StWvpEEEef7p",
    "outputId": "9d91d580-4c54-41e5-f4bc-cd930fb83bc1"
   },
   "outputs": [
    {
     "name": "stdout",
     "output_type": "stream",
     "text": [
      "Python: 3.7.4; Pandas: 0.25.1; Scipy: 1.3.1 ; Numpy: 1.17.2\n"
     ]
    }
   ],
   "source": [
    "import sys,os,re,time,io\n",
    "import urllib.request\n",
    "try:\n",
    "    import google.colab\n",
    "except:\n",
    "    pass\n",
    "import numpy,scipy,scipy.stats\n",
    "import pandas as pd\n",
    "print('Python: %s; Pandas: %s; Scipy: %s ; Numpy: %s'%(sys.version.split()[0],pd.__version__,scipy.__version__,numpy.__version__))"
   ]
  },
  {
   "cell_type": "markdown",
   "metadata": {
    "colab_type": "text",
    "id": "cwKhzyFo1L21"
   },
   "source": [
    "### Upload Median TPMs datafile:"
   ]
  },
  {
   "cell_type": "code",
   "execution_count": 2,
   "metadata": {
    "colab": {
     "base_uri": "https://localhost:8080/",
     "height": 120,
     "resources": {
      "http://localhost:8080/nbextensions/google.colab/files.js": {
       "data": "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",
       "headers": [
        [
         "content-type",
         "application/javascript"
        ]
       ],
       "ok": true,
       "status": 200,
       "status_text": ""
      }
     }
    },
    "colab_type": "code",
    "id": "1SMOnt2P1Zfv",
    "outputId": "42b7b06b-8bcd-489f-b274-bf6c04da36b2"
   },
   "outputs": [
    {
     "name": "stderr",
     "output_type": "stream",
     "text": [
      "dataset nrows: 4670 ; ncols: 4:\n"
     ]
    }
   ],
   "source": [
    "try:\n",
    "    tpms = pd.read_csv(\"gtex_rnaseq_prep_median.tsv\", sep='\\t')\n",
    "except:\n",
    "    try:\n",
    "        print('Upload Median TPMs datafile: ')\n",
    "        uploaded = google.colab.files.upload()\n",
    "        fn = list(uploaded.keys())[0]\n",
    "        print('Uploaded \"{name}\" with {length} bytes'.format(name=fn, length=len(uploaded[fn])))\n",
    "        tpms = pd.read_csv(io.StringIO(uploaded[fn].decode('utf8')), sep='\\t')\n",
    "    except:\n",
    "        print(\"Failed.\")\n",
    "print(\"dataset nrows: %d ; ncols: %d:\"%(tpms.shape[0],tpms.shape[1]), file=sys.stderr)"
   ]
  },
  {
   "cell_type": "code",
   "execution_count": 3,
   "metadata": {
    "colab": {
     "base_uri": "https://localhost:8080/",
     "height": 204
    },
    "colab_type": "code",
    "id": "zLyV_boFRtSO",
    "outputId": "a5a212e2-7f7b-4b81-9f92-2bb2aaf0c377"
   },
   "outputs": [
    {
     "data": {
      "text/html": [
       "<div>\n",
       "<style scoped>\n",
       "    .dataframe tbody tr th:only-of-type {\n",
       "        vertical-align: middle;\n",
       "    }\n",
       "\n",
       "    .dataframe tbody tr th {\n",
       "        vertical-align: top;\n",
       "    }\n",
       "\n",
       "    .dataframe thead th {\n",
       "        text-align: right;\n",
       "    }\n",
       "</style>\n",
       "<table border=\"1\" class=\"dataframe\">\n",
       "  <thead>\n",
       "    <tr style=\"text-align: right;\">\n",
       "      <th></th>\n",
       "      <th>ENSG</th>\n",
       "      <th>SMTSD</th>\n",
       "      <th>SEX</th>\n",
       "      <th>TPM</th>\n",
       "    </tr>\n",
       "  </thead>\n",
       "  <tbody>\n",
       "    <tr>\n",
       "      <td>0</td>\n",
       "      <td>ENSG00000008130.15</td>\n",
       "      <td>Adipose - Subcutaneous</td>\n",
       "      <td>female</td>\n",
       "      <td>63.265</td>\n",
       "    </tr>\n",
       "    <tr>\n",
       "      <td>1</td>\n",
       "      <td>ENSG00000008130.15</td>\n",
       "      <td>Adipose - Subcutaneous</td>\n",
       "      <td>male</td>\n",
       "      <td>53.590</td>\n",
       "    </tr>\n",
       "    <tr>\n",
       "      <td>2</td>\n",
       "      <td>ENSG00000008130.15</td>\n",
       "      <td>Adipose - Visceral (Omentum)</td>\n",
       "      <td>female</td>\n",
       "      <td>58.310</td>\n",
       "    </tr>\n",
       "    <tr>\n",
       "      <td>3</td>\n",
       "      <td>ENSG00000008130.15</td>\n",
       "      <td>Adipose - Visceral (Omentum)</td>\n",
       "      <td>male</td>\n",
       "      <td>51.745</td>\n",
       "    </tr>\n",
       "    <tr>\n",
       "      <td>4</td>\n",
       "      <td>ENSG00000008130.15</td>\n",
       "      <td>Adrenal Gland</td>\n",
       "      <td>female</td>\n",
       "      <td>67.880</td>\n",
       "    </tr>\n",
       "  </tbody>\n",
       "</table>\n",
       "</div>"
      ],
      "text/plain": [
       "                 ENSG                         SMTSD     SEX     TPM\n",
       "0  ENSG00000008130.15        Adipose - Subcutaneous  female  63.265\n",
       "1  ENSG00000008130.15        Adipose - Subcutaneous    male  53.590\n",
       "2  ENSG00000008130.15  Adipose - Visceral (Omentum)  female  58.310\n",
       "3  ENSG00000008130.15  Adipose - Visceral (Omentum)    male  51.745\n",
       "4  ENSG00000008130.15                 Adrenal Gland  female  67.880"
      ]
     },
     "execution_count": 3,
     "metadata": {},
     "output_type": "execute_result"
    }
   ],
   "source": [
    "tpms.head()"
   ]
  },
  {
   "cell_type": "markdown",
   "metadata": {
    "colab_type": "text",
    "id": "q8jWE34_nCRu"
   },
   "source": [
    "### Read tissues files with groups"
   ]
  },
  {
   "cell_type": "markdown",
   "metadata": {
    "colab_type": "text",
    "id": "2rmvTu5upzFs"
   },
   "source": [
    "### Read and merge gene symbols.\n",
    "File from https://www.ensembl.org/biomart, dataset human genes, fields Gene stable ID, Gene stable ID version,  NCBI gene ID, HGNC symbol."
   ]
  },
  {
   "cell_type": "code",
   "execution_count": 4,
   "metadata": {
    "colab": {
     "base_uri": "https://localhost:8080/",
     "height": 103,
     "resources": {
      "http://localhost:8080/nbextensions/google.colab/files.js": {
       "data": "Ly8gQ29weXJpZ2h0IDIwMTcgR29vZ2xlIExMQwovLwovLyBMaWNlbnNlZCB1bmRlciB0aGUgQXBhY2hlIExpY2Vuc2UsIFZlcnNpb24gMi4wICh0aGUgIkxpY2Vuc2UiKTsKLy8geW91IG1heSBub3QgdXNlIHRoaXMgZmlsZSBleGNlcHQgaW4gY29tcGxpYW5jZSB3aXRoIHRoZSBMaWNlbnNlLgovLyBZb3UgbWF5IG9idGFpbiBhIGNvcHkgb2YgdGhlIExpY2Vuc2UgYXQKLy8KLy8gICAgICBodHRwOi8vd3d3LmFwYWNoZS5vcmcvbGljZW5zZXMvTElDRU5TRS0yLjAKLy8KLy8gVW5sZXNzIHJlcXVpcmVkIGJ5IGFwcGxpY2FibGUgbGF3IG9yIGFncmVlZCB0byBpbiB3cml0aW5nLCBzb2Z0d2FyZQovLyBkaXN0cmlidXRlZCB1bmRlciB0aGUgTGljZW5zZSBpcyBkaXN0cmlidXRlZCBvbiBhbiAiQVMgSVMiIEJBU0lTLAovLyBXSVRIT1VUIFdBUlJBTlRJRVMgT1IgQ09ORElUSU9OUyBPRiBBTlkgS0lORCwgZWl0aGVyIGV4cHJlc3Mgb3IgaW1wbGllZC4KLy8gU2VlIHRoZSBMaWNlbnNlIGZvciB0aGUgc3BlY2lmaWMgbGFuZ3VhZ2UgZ292ZXJuaW5nIHBlcm1pc3Npb25zIGFuZAovLyBsaW1pdGF0aW9ucyB1bmRlciB0aGUgTGljZW5zZS4KCi8qKgogKiBAZmlsZW92ZXJ2aWV3IEhlbHBlcnMgZm9yIGdvb2dsZS5jb2xhYiBQeXRob24gbW9kdWxlLgogKi8KKGZ1bmN0aW9uKHNjb3BlKSB7CmZ1bmN0aW9uIHNwYW4odGV4dCwgc3R5bGVBdHRyaWJ1dGVzID0ge30pIHsKICBjb25zdCBlbGVtZW50ID0gZG9jdW1lbnQuY3JlYXRlRWxlbWVudCgnc3BhbicpOwogIGVsZW1lbnQudGV4dENvbnRlbnQgPSB0ZXh0OwogIGZvciAoY29uc3Qga2V5IG9mIE9iamVjdC5rZXlzKHN0eWxlQXR0cmlidXRlcykpIHsKICAgIGVsZW1lbnQuc3R5bGVba2V5XSA9IHN0eWxlQXR0cmlidXRlc1trZXldOwogIH0KICByZXR1cm4gZWxlbWVudDsKfQoKLy8gTWF4IG51bWJlciBvZiBieXRlcyB3aGljaCB3aWxsIGJlIHVwbG9hZGVkIGF0IGEgdGltZS4KY29uc3QgTUFYX1BBWUxPQURfU0laRSA9IDEwMCAqIDEwMjQ7Ci8vIE1heCBhbW91bnQgb2YgdGltZSB0byBibG9jayB3YWl0aW5nIGZvciB0aGUgdXNlci4KY29uc3QgRklMRV9DSEFOR0VfVElNRU9VVF9NUyA9IDMwICogMTAwMDsKCmZ1bmN0aW9uIF91cGxvYWRGaWxlcyhpbnB1dElkLCBvdXRwdXRJZCkgewogIGNvbnN0IHN0ZXBzID0gdXBsb2FkRmlsZXNTdGVwKGlucHV0SWQsIG91dHB1dElkKTsKICBjb25zdCBvdXRwdXRFbGVtZW50ID0gZG9jdW1lbnQuZ2V0RWxlbWVudEJ5SWQob3V0cHV0SWQpOwogIC8vIENhY2hlIHN0ZXBzIG9uIHRoZSBvdXRwdXRFbGVtZW50IHRvIG1ha2UgaXQgYXZhaWxhYmxlIGZvciB0aGUgbmV4dCBjYWxsCiAgLy8gdG8gdXBsb2FkRmlsZXNDb250aW51ZSBmcm9tIFB5dGhvbi4KICBvdXRwdXRFbGVtZW50LnN0ZXBzID0gc3RlcHM7CgogIHJldHVybiBfdXBsb2FkRmlsZXNDb250aW51ZShvdXRwdXRJZCk7Cn0KCi8vIFRoaXMgaXMgcm91Z2hseSBhbiBhc3luYyBnZW5lcmF0b3IgKG5vdCBzdXBwb3J0ZWQgaW4gdGhlIGJyb3dzZXIgeWV0KSwKLy8gd2hlcmUgdGhlcmUgYXJlIG11bHRpcGxlIGFzeW5jaHJvbm91cyBzdGVwcyBhbmQgdGhlIFB5dGhvbiBzaWRlIGlzIGdvaW5nCi8vIHRvIHBvbGwgZm9yIGNvbXBsZXRpb24gb2YgZWFjaCBzdGVwLgovLyBUaGlzIHVzZXMgYSBQcm9taXNlIHRvIGJsb2NrIHRoZSBweXRob24gc2lkZSBvbiBjb21wbGV0aW9uIG9mIGVhY2ggc3RlcCwKLy8gdGhlbiBwYXNzZXMgdGhlIHJlc3VsdCBvZiB0aGUgcHJldmlvdXMgc3RlcCBhcyB0aGUgaW5wdXQgdG8gdGhlIG5leHQgc3RlcC4KZnVuY3Rpb24gX3VwbG9hZEZpbGVzQ29udGludWUob3V0cHV0SWQpIHsKICBjb25zdCBvdXRwdXRFbGVtZW50ID0gZG9jdW1lbnQuZ2V0RWxlbWVudEJ5SWQob3V0cHV0SWQpOwogIGNvbnN0IHN0ZXBzID0gb3V0cHV0RWxlbWVudC5zdGVwczsKCiAgY29uc3QgbmV4dCA9IHN0ZXBzLm5leHQob3V0cHV0RWxlbWVudC5sYXN0UHJvbWlzZVZhbHVlKTsKICByZXR1cm4gUHJvbWlzZS5yZXNvbHZlKG5leHQudmFsdWUucHJvbWlzZSkudGhlbigodmFsdWUpID0+IHsKICAgIC8vIENhY2hlIHRoZSBsYXN0IHByb21pc2UgdmFsdWUgdG8gbWFrZSBpdCBhdmFpbGFibGUgdG8gdGhlIG5leHQKICAgIC8vIHN0ZXAgb2YgdGhlIGdlbmVyYXRvci4KICAgIG91dHB1dEVsZW1lbnQubGFzdFByb21pc2VWYWx1ZSA9IHZhbHVlOwogICAgcmV0dXJuIG5leHQudmFsdWUucmVzcG9uc2U7CiAgfSk7Cn0KCi8qKgogKiBHZW5lcmF0b3IgZnVuY3Rpb24gd2hpY2ggaXMgY2FsbGVkIGJldHdlZW4gZWFjaCBhc3luYyBzdGVwIG9mIHRoZSB1cGxvYWQKICogcHJvY2Vzcy4KICogQHBhcmFtIHtzdHJpbmd9IGlucHV0SWQgRWxlbWVudCBJRCBvZiB0aGUgaW5wdXQgZmlsZSBwaWNrZXIgZWxlbWVudC4KICogQHBhcmFtIHtzdHJpbmd9IG91dHB1dElkIEVsZW1lbnQgSUQgb2YgdGhlIG91dHB1dCBkaXNwbGF5LgogKiBAcmV0dXJuIHshSXRlcmFibGU8IU9iamVjdD59IEl0ZXJhYmxlIG9mIG5leHQgc3RlcHMuCiAqLwpmdW5jdGlvbiogdXBsb2FkRmlsZXNTdGVwKGlucHV0SWQsIG91dHB1dElkKSB7CiAgY29uc3QgaW5wdXRFbGVtZW50ID0gZG9jdW1lbnQuZ2V0RWxlbWVudEJ5SWQoaW5wdXRJZCk7CiAgaW5wdXRFbGVtZW50LmRpc2FibGVkID0gZmFsc2U7CgogIGNvbnN0IG91dHB1dEVsZW1lbnQgPSBkb2N1bWVudC5nZXRFbGVtZW50QnlJZChvdXRwdXRJZCk7CiAgb3V0cHV0RWxlbWVudC5pbm5lckhUTUwgPSAnJzsKCiAgY29uc3QgcGlja2VkUHJvbWlzZSA9IG5ldyBQcm9taXNlKChyZXNvbHZlKSA9PiB7CiAgICBpbnB1dEVsZW1lbnQuYWRkRXZlbnRMaXN0ZW5lcignY2hhbmdlJywgKGUpID0+IHsKICAgICAgcmVzb2x2ZShlLnRhcmdldC5maWxlcyk7CiAgICB9KTsKICB9KTsKCiAgY29uc3QgY2FuY2VsID0gZG9jdW1lbnQuY3JlYXRlRWxlbWVudCgnYnV0dG9uJyk7CiAgaW5wdXRFbGVtZW50LnBhcmVudEVsZW1lbnQuYXBwZW5kQ2hpbGQoY2FuY2VsKTsKICBjYW5jZWwudGV4dENvbnRlbnQgPSAnQ2FuY2VsIHVwbG9hZCc7CiAgY29uc3QgY2FuY2VsUHJvbWlzZSA9IG5ldyBQcm9taXNlKChyZXNvbHZlKSA9PiB7CiAgICBjYW5jZWwub25jbGljayA9ICgpID0+IHsKICAgICAgcmVzb2x2ZShudWxsKTsKICAgIH07CiAgfSk7CgogIC8vIENhbmNlbCB1cGxvYWQgaWYgdXNlciBoYXNuJ3QgcGlja2VkIGFueXRoaW5nIGluIHRpbWVvdXQuCiAgY29uc3QgdGltZW91dFByb21pc2UgPSBuZXcgUHJvbWlzZSgocmVzb2x2ZSkgPT4gewogICAgc2V0VGltZW91dCgoKSA9PiB7CiAgICAgIHJlc29sdmUobnVsbCk7CiAgICB9LCBGSUxFX0NIQU5HRV9USU1FT1VUX01TKTsKICB9KTsKCiAgLy8gV2FpdCBmb3IgdGhlIHVzZXIgdG8gcGljayB0aGUgZmlsZXMuCiAgY29uc3QgZmlsZXMgPSB5aWVsZCB7CiAgICBwcm9taXNlOiBQcm9taXNlLnJhY2UoW3BpY2tlZFByb21pc2UsIHRpbWVvdXRQcm9taXNlLCBjYW5jZWxQcm9taXNlXSksCiAgICByZXNwb25zZTogewogICAgICBhY3Rpb246ICdzdGFydGluZycsCiAgICB9CiAgfTsKCiAgaWYgKCFmaWxlcykgewogICAgcmV0dXJuIHsKICAgICAgcmVzcG9uc2U6IHsKICAgICAgICBhY3Rpb246ICdjb21wbGV0ZScsCiAgICAgIH0KICAgIH07CiAgfQoKICBjYW5jZWwucmVtb3ZlKCk7CgogIC8vIERpc2FibGUgdGhlIGlucHV0IGVsZW1lbnQgc2luY2UgZnVydGhlciBwaWNrcyBhcmUgbm90IGFsbG93ZWQuCiAgaW5wdXRFbGVtZW50LmRpc2FibGVkID0gdHJ1ZTsKCiAgZm9yIChjb25zdCBmaWxlIG9mIGZpbGVzKSB7CiAgICBjb25zdCBsaSA9IGRvY3VtZW50LmNyZWF0ZUVsZW1lbnQoJ2xpJyk7CiAgICBsaS5hcHBlbmQoc3BhbihmaWxlLm5hbWUsIHtmb250V2VpZ2h0OiAnYm9sZCd9KSk7CiAgICBsaS5hcHBlbmQoc3BhbigKICAgICAgICBgKCR7ZmlsZS50eXBlIHx8ICduL2EnfSkgLSAke2ZpbGUuc2l6ZX0gYnl0ZXMsIGAgKwogICAgICAgIGBsYXN0IG1vZGlmaWVkOiAkewogICAgICAgICAgICBmaWxlLmxhc3RNb2RpZmllZERhdGUgPyBmaWxlLmxhc3RNb2RpZmllZERhdGUudG9Mb2NhbGVEYXRlU3RyaW5nKCkgOgogICAgICAgICAgICAgICAgICAgICAgICAgICAgICAgICAgICAnbi9hJ30gLSBgKSk7CiAgICBjb25zdCBwZXJjZW50ID0gc3BhbignMCUgZG9uZScpOwogICAgbGkuYXBwZW5kQ2hpbGQocGVyY2VudCk7CgogICAgb3V0cHV0RWxlbWVudC5hcHBlbmRDaGlsZChsaSk7CgogICAgY29uc3QgZmlsZURhdGFQcm9taXNlID0gbmV3IFByb21pc2UoKHJlc29sdmUpID0+IHsKICAgICAgY29uc3QgcmVhZGVyID0gbmV3IEZpbGVSZWFkZXIoKTsKICAgICAgcmVhZGVyLm9ubG9hZCA9IChlKSA9PiB7CiAgICAgICAgcmVzb2x2ZShlLnRhcmdldC5yZXN1bHQpOwogICAgICB9OwogICAgICByZWFkZXIucmVhZEFzQXJyYXlCdWZmZXIoZmlsZSk7CiAgICB9KTsKICAgIC8vIFdhaXQgZm9yIHRoZSBkYXRhIHRvIGJlIHJlYWR5LgogICAgbGV0IGZpbGVEYXRhID0geWllbGQgewogICAgICBwcm9taXNlOiBmaWxlRGF0YVByb21pc2UsCiAgICAgIHJlc3BvbnNlOiB7CiAgICAgICAgYWN0aW9uOiAnY29udGludWUnLAogICAgICB9CiAgICB9OwoKICAgIC8vIFVzZSBhIGNodW5rZWQgc2VuZGluZyB0byBhdm9pZCBtZXNzYWdlIHNpemUgbGltaXRzLiBTZWUgYi82MjExNTY2MC4KICAgIGxldCBwb3NpdGlvbiA9IDA7CiAgICB3aGlsZSAocG9zaXRpb24gPCBmaWxlRGF0YS5ieXRlTGVuZ3RoKSB7CiAgICAgIGNvbnN0IGxlbmd0aCA9IE1hdGgubWluKGZpbGVEYXRhLmJ5dGVMZW5ndGggLSBwb3NpdGlvbiwgTUFYX1BBWUxPQURfU0laRSk7CiAgICAgIGNvbnN0IGNodW5rID0gbmV3IFVpbnQ4QXJyYXkoZmlsZURhdGEsIHBvc2l0aW9uLCBsZW5ndGgpOwogICAgICBwb3NpdGlvbiArPSBsZW5ndGg7CgogICAgICBjb25zdCBiYXNlNjQgPSBidG9hKFN0cmluZy5mcm9tQ2hhckNvZGUuYXBwbHkobnVsbCwgY2h1bmspKTsKICAgICAgeWllbGQgewogICAgICAgIHJlc3BvbnNlOiB7CiAgICAgICAgICBhY3Rpb246ICdhcHBlbmQnLAogICAgICAgICAgZmlsZTogZmlsZS5uYW1lLAogICAgICAgICAgZGF0YTogYmFzZTY0LAogICAgICAgIH0sCiAgICAgIH07CiAgICAgIHBlcmNlbnQudGV4dENvbnRlbnQgPQogICAgICAgICAgYCR7TWF0aC5yb3VuZCgocG9zaXRpb24gLyBmaWxlRGF0YS5ieXRlTGVuZ3RoKSAqIDEwMCl9JSBkb25lYDsKICAgIH0KICB9CgogIC8vIEFsbCBkb25lLgogIHlpZWxkIHsKICAgIHJlc3BvbnNlOiB7CiAgICAgIGFjdGlvbjogJ2NvbXBsZXRlJywKICAgIH0KICB9Owp9CgpzY29wZS5nb29nbGUgPSBzY29wZS5nb29nbGUgfHwge307CnNjb3BlLmdvb2dsZS5jb2xhYiA9IHNjb3BlLmdvb2dsZS5jb2xhYiB8fCB7fTsKc2NvcGUuZ29vZ2xlLmNvbGFiLl9maWxlcyA9IHsKICBfdXBsb2FkRmlsZXMsCiAgX3VwbG9hZEZpbGVzQ29udGludWUsCn07Cn0pKHNlbGYpOwo=",
       "headers": [
        [
         "content-type",
         "application/javascript"
        ]
       ],
       "ok": true,
       "status": 200,
       "status_text": ""
      }
     }
    },
    "colab_type": "code",
    "id": "Xo2F7qVApyk0",
    "outputId": "36ac464f-5bb9-40a5-8197-c90e78f18fa9"
   },
   "outputs": [],
   "source": [
    "try:\n",
    "    genes = pd.read_csv(\"/home/data/GTEx/exfiles_data/biomart_ENSG2xrefs_human.tsv\", sep='\\t', usecols=[1,2,4], na_values=[''], dtype={2:str})\n",
    "except Exception as e:\n",
    "    print(e)\n",
    "    try:\n",
    "        print('Upload Biomart ENSG2NCBI genes datafile: ')\n",
    "        uploaded = google.colab.files.upload()\n",
    "        fn = list(uploaded.keys())[0]\n",
    "        print('Uploaded \"{name}\" with {length} bytes'.format(name=fn, length=len(uploaded[fn])))\n",
    "        genes = pd.read_csv(io.StringIO(uploaded[fn].decode('utf8')), sep='\\t', usecols=[1,2,4], na_values=[''], dtype={2:str})\n",
    "    except:\n",
    "        print(\"Failed.\")\n",
    "genes.columns = ['ENSG', 'NCBI', 'HGNC']\n",
    "genes.dropna(inplace=True)"
   ]
  },
  {
   "cell_type": "code",
   "execution_count": 5,
   "metadata": {
    "colab": {
     "base_uri": "https://localhost:8080/",
     "height": 204
    },
    "colab_type": "code",
    "id": "fegRBFc-tO00",
    "outputId": "47e95f3b-0241-4dbe-ed5e-a5d61c06126e"
   },
   "outputs": [
    {
     "data": {
      "text/html": [
       "<div>\n",
       "<style scoped>\n",
       "    .dataframe tbody tr th:only-of-type {\n",
       "        vertical-align: middle;\n",
       "    }\n",
       "\n",
       "    .dataframe tbody tr th {\n",
       "        vertical-align: top;\n",
       "    }\n",
       "\n",
       "    .dataframe thead th {\n",
       "        text-align: right;\n",
       "    }\n",
       "</style>\n",
       "<table border=\"1\" class=\"dataframe\">\n",
       "  <thead>\n",
       "    <tr style=\"text-align: right;\">\n",
       "      <th></th>\n",
       "      <th>ENSG</th>\n",
       "      <th>NCBI</th>\n",
       "      <th>HGNC</th>\n",
       "    </tr>\n",
       "  </thead>\n",
       "  <tbody>\n",
       "    <tr>\n",
       "      <td>0</td>\n",
       "      <td>ENSG00000198888.2</td>\n",
       "      <td>4535</td>\n",
       "      <td>MT-ND1</td>\n",
       "    </tr>\n",
       "    <tr>\n",
       "      <td>1</td>\n",
       "      <td>ENSG00000198763.3</td>\n",
       "      <td>4536</td>\n",
       "      <td>MT-ND2</td>\n",
       "    </tr>\n",
       "    <tr>\n",
       "      <td>2</td>\n",
       "      <td>ENSG00000198804.2</td>\n",
       "      <td>4512</td>\n",
       "      <td>MT-CO1</td>\n",
       "    </tr>\n",
       "    <tr>\n",
       "      <td>3</td>\n",
       "      <td>ENSG00000198712.1</td>\n",
       "      <td>4513</td>\n",
       "      <td>MT-CO2</td>\n",
       "    </tr>\n",
       "    <tr>\n",
       "      <td>4</td>\n",
       "      <td>ENSG00000228253.1</td>\n",
       "      <td>4509</td>\n",
       "      <td>MT-ATP8</td>\n",
       "    </tr>\n",
       "  </tbody>\n",
       "</table>\n",
       "</div>"
      ],
      "text/plain": [
       "                ENSG  NCBI     HGNC\n",
       "0  ENSG00000198888.2  4535   MT-ND1\n",
       "1  ENSG00000198763.3  4536   MT-ND2\n",
       "2  ENSG00000198804.2  4512   MT-CO1\n",
       "3  ENSG00000198712.1  4513   MT-CO2\n",
       "4  ENSG00000228253.1  4509  MT-ATP8"
      ]
     },
     "execution_count": 5,
     "metadata": {},
     "output_type": "execute_result"
    }
   ],
   "source": [
    "genes.head()"
   ]
  },
  {
   "cell_type": "code",
   "execution_count": 6,
   "metadata": {
    "colab": {
     "base_uri": "https://localhost:8080/",
     "height": 204
    },
    "colab_type": "code",
    "id": "hBuzxwBw0ul7",
    "outputId": "d3d1f544-a88a-4f43-f863-100f1af5649f"
   },
   "outputs": [
    {
     "data": {
      "text/html": [
       "<div>\n",
       "<style scoped>\n",
       "    .dataframe tbody tr th:only-of-type {\n",
       "        vertical-align: middle;\n",
       "    }\n",
       "\n",
       "    .dataframe tbody tr th {\n",
       "        vertical-align: top;\n",
       "    }\n",
       "\n",
       "    .dataframe thead th {\n",
       "        text-align: right;\n",
       "    }\n",
       "</style>\n",
       "<table border=\"1\" class=\"dataframe\">\n",
       "  <thead>\n",
       "    <tr style=\"text-align: right;\">\n",
       "      <th></th>\n",
       "      <th>ENSG</th>\n",
       "      <th>SMTSD</th>\n",
       "      <th>SEX</th>\n",
       "      <th>TPM</th>\n",
       "      <th>NCBI</th>\n",
       "      <th>HGNC</th>\n",
       "    </tr>\n",
       "  </thead>\n",
       "  <tbody>\n",
       "    <tr>\n",
       "      <td>0</td>\n",
       "      <td>ENSG00000008130.15</td>\n",
       "      <td>Adipose - Subcutaneous</td>\n",
       "      <td>female</td>\n",
       "      <td>63.265</td>\n",
       "      <td>65220</td>\n",
       "      <td>NADK</td>\n",
       "    </tr>\n",
       "    <tr>\n",
       "      <td>1</td>\n",
       "      <td>ENSG00000008130.15</td>\n",
       "      <td>Adipose - Subcutaneous</td>\n",
       "      <td>male</td>\n",
       "      <td>53.590</td>\n",
       "      <td>65220</td>\n",
       "      <td>NADK</td>\n",
       "    </tr>\n",
       "    <tr>\n",
       "      <td>2</td>\n",
       "      <td>ENSG00000008130.15</td>\n",
       "      <td>Adipose - Visceral (Omentum)</td>\n",
       "      <td>female</td>\n",
       "      <td>58.310</td>\n",
       "      <td>65220</td>\n",
       "      <td>NADK</td>\n",
       "    </tr>\n",
       "    <tr>\n",
       "      <td>3</td>\n",
       "      <td>ENSG00000008130.15</td>\n",
       "      <td>Adipose - Visceral (Omentum)</td>\n",
       "      <td>male</td>\n",
       "      <td>51.745</td>\n",
       "      <td>65220</td>\n",
       "      <td>NADK</td>\n",
       "    </tr>\n",
       "    <tr>\n",
       "      <td>4</td>\n",
       "      <td>ENSG00000008130.15</td>\n",
       "      <td>Adrenal Gland</td>\n",
       "      <td>female</td>\n",
       "      <td>67.880</td>\n",
       "      <td>65220</td>\n",
       "      <td>NADK</td>\n",
       "    </tr>\n",
       "  </tbody>\n",
       "</table>\n",
       "</div>"
      ],
      "text/plain": [
       "                 ENSG                         SMTSD     SEX     TPM   NCBI  \\\n",
       "0  ENSG00000008130.15        Adipose - Subcutaneous  female  63.265  65220   \n",
       "1  ENSG00000008130.15        Adipose - Subcutaneous    male  53.590  65220   \n",
       "2  ENSG00000008130.15  Adipose - Visceral (Omentum)  female  58.310  65220   \n",
       "3  ENSG00000008130.15  Adipose - Visceral (Omentum)    male  51.745  65220   \n",
       "4  ENSG00000008130.15                 Adrenal Gland  female  67.880  65220   \n",
       "\n",
       "   HGNC  \n",
       "0  NADK  \n",
       "1  NADK  \n",
       "2  NADK  \n",
       "3  NADK  \n",
       "4  NADK  "
      ]
     },
     "execution_count": 6,
     "metadata": {},
     "output_type": "execute_result"
    }
   ],
   "source": [
    "tpms = pd.merge(tpms, genes, on=[\"ENSG\"], how=\"left\")\n",
    "tpms.head()"
   ]
  },
  {
   "cell_type": "markdown",
   "metadata": {
    "colab_type": "text",
    "id": "OIwpu3JXvv9D"
   },
   "source": [
    "### LOG10(TPM+1) useful transformation."
   ]
  },
  {
   "cell_type": "code",
   "execution_count": 7,
   "metadata": {
    "colab": {},
    "colab_type": "code",
    "id": "Xiy-KUA6p811"
   },
   "outputs": [],
   "source": [
    "tpms['LOG_TPM'] = tpms.TPM.apply(lambda x: numpy.log10(x+1))"
   ]
  },
  {
   "cell_type": "code",
   "execution_count": 8,
   "metadata": {
    "colab": {
     "base_uri": "https://localhost:8080/",
     "height": 297
    },
    "colab_type": "code",
    "id": "4Ch_ffkHeFUt",
    "outputId": "094e12ed-2a4c-49ea-b85c-ce426207760a"
   },
   "outputs": [
    {
     "data": {
      "text/html": [
       "<div>\n",
       "<style scoped>\n",
       "    .dataframe tbody tr th:only-of-type {\n",
       "        vertical-align: middle;\n",
       "    }\n",
       "\n",
       "    .dataframe tbody tr th {\n",
       "        vertical-align: top;\n",
       "    }\n",
       "\n",
       "    .dataframe thead th {\n",
       "        text-align: right;\n",
       "    }\n",
       "</style>\n",
       "<table border=\"1\" class=\"dataframe\">\n",
       "  <thead>\n",
       "    <tr style=\"text-align: right;\">\n",
       "      <th></th>\n",
       "      <th>TPM</th>\n",
       "      <th>LOG_TPM</th>\n",
       "    </tr>\n",
       "  </thead>\n",
       "  <tbody>\n",
       "    <tr>\n",
       "      <td>count</td>\n",
       "      <td>4712.000000</td>\n",
       "      <td>4712.000000</td>\n",
       "    </tr>\n",
       "    <tr>\n",
       "      <td>mean</td>\n",
       "      <td>26.146124</td>\n",
       "      <td>0.551512</td>\n",
       "    </tr>\n",
       "    <tr>\n",
       "      <td>std</td>\n",
       "      <td>599.273257</td>\n",
       "      <td>0.654587</td>\n",
       "    </tr>\n",
       "    <tr>\n",
       "      <td>min</td>\n",
       "      <td>0.000000</td>\n",
       "      <td>0.000000</td>\n",
       "    </tr>\n",
       "    <tr>\n",
       "      <td>25%</td>\n",
       "      <td>0.000000</td>\n",
       "      <td>0.000000</td>\n",
       "    </tr>\n",
       "    <tr>\n",
       "      <td>50%</td>\n",
       "      <td>0.585500</td>\n",
       "      <td>0.200166</td>\n",
       "    </tr>\n",
       "    <tr>\n",
       "      <td>75%</td>\n",
       "      <td>11.125000</td>\n",
       "      <td>1.083682</td>\n",
       "    </tr>\n",
       "    <tr>\n",
       "      <td>max</td>\n",
       "      <td>32670.000000</td>\n",
       "      <td>4.514162</td>\n",
       "    </tr>\n",
       "  </tbody>\n",
       "</table>\n",
       "</div>"
      ],
      "text/plain": [
       "                TPM      LOG_TPM\n",
       "count   4712.000000  4712.000000\n",
       "mean      26.146124     0.551512\n",
       "std      599.273257     0.654587\n",
       "min        0.000000     0.000000\n",
       "25%        0.000000     0.000000\n",
       "50%        0.585500     0.200166\n",
       "75%       11.125000     1.083682\n",
       "max    32670.000000     4.514162"
      ]
     },
     "execution_count": 8,
     "metadata": {},
     "output_type": "execute_result"
    }
   ],
   "source": [
    "tpms.describe()"
   ]
  },
  {
   "cell_type": "code",
   "execution_count": 10,
   "metadata": {
    "colab": {
     "base_uri": "https://localhost:8080/",
     "height": 364
    },
    "colab_type": "code",
    "id": "4FNc-Y-k68GD",
    "outputId": "365f3542-277d-4536-b09f-3e6be0e781c4"
   },
   "outputs": [
    {
     "data": {
      "text/plain": [
       "<matplotlib.axes._subplots.AxesSubplot at 0x7f3a7f27c9d0>"
      ]
     },
     "execution_count": 10,
     "metadata": {},
     "output_type": "execute_result"
    },
    {
     "data": {
      "image/png": "[encoded data removed]",
      "text/plain": [
       "<Figure size 432x288 with 1 Axes>"
      ]
     },
     "metadata": {
      "needs_background": "light"
     },
     "output_type": "display_data"
    }
   ],
   "source": [
    "tpms.plot.box(y='LOG_TPM')"
   ]
  },
  {
   "cell_type": "markdown",
   "metadata": {
    "colab_type": "text",
    "id": "fsVkfXPhw4Gy"
   },
   "source": [
    "### Compute TAU, tissue specificity index (Yanai et al., 2004), for each gene.\n",
    "\n",
    "> ## $ \\tau = \\frac{\\sum_{i=0}^N (1 - x_i)}{N - 1} $\n",
    "\n",
    "> * N = number of tissues\n",
    "> * x = expression profile component normalized by the maximal component value\n",
    "\n",
    "Validate with example vector from paper.  Should be 0.95.\n",
    "\n"
   ]
  },
  {
   "cell_type": "code",
   "execution_count": 11,
   "metadata": {
    "colab": {
     "base_uri": "https://localhost:8080/",
     "height": 34
    },
    "colab_type": "code",
    "id": "bHpiwd8qxBxS",
    "outputId": "b9d53200-c33d-4aad-bad7-9be815dcdfbf"
   },
   "outputs": [
    {
     "name": "stdout",
     "output_type": "stream",
     "text": [
      "0.95\n"
     ]
    }
   ],
   "source": [
    "def TAU(X):\n",
    "  N = len(X)\n",
    "  xmax = max(X)\n",
    "  if xmax==0: return(0.0)\n",
    "  tau = 0.0\n",
    "  for x in X:\n",
    "    tau += (1 - x/xmax)\n",
    "  tau /= (N - 1)\n",
    "  return(tau)\n",
    "print('%.2f'%TAU([0,8,0,0,0,2,0,2,0,0,0,0]))"
   ]
  },
  {
   "cell_type": "code",
   "execution_count": 12,
   "metadata": {
    "colab": {
     "base_uri": "https://localhost:8080/",
     "height": 204
    },
    "colab_type": "code",
    "id": "XQN09AmIz4M1",
    "outputId": "407d289c-69cf-456f-8b54-7ad49f059132"
   },
   "outputs": [
    {
     "data": {
      "text/html": [
       "<div>\n",
       "<style scoped>\n",
       "    .dataframe tbody tr th:only-of-type {\n",
       "        vertical-align: middle;\n",
       "    }\n",
       "\n",
       "    .dataframe tbody tr th {\n",
       "        vertical-align: top;\n",
       "    }\n",
       "\n",
       "    .dataframe thead th {\n",
       "        text-align: right;\n",
       "    }\n",
       "</style>\n",
       "<table border=\"1\" class=\"dataframe\">\n",
       "  <thead>\n",
       "    <tr style=\"text-align: right;\">\n",
       "      <th></th>\n",
       "      <th>ENSG</th>\n",
       "      <th>TAU</th>\n",
       "    </tr>\n",
       "  </thead>\n",
       "  <tbody>\n",
       "    <tr>\n",
       "      <td>0</td>\n",
       "      <td>ENSG00000008130.15</td>\n",
       "      <td>0.611966</td>\n",
       "    </tr>\n",
       "    <tr>\n",
       "      <td>1</td>\n",
       "      <td>ENSG00000011007.12</td>\n",
       "      <td>0.374953</td>\n",
       "    </tr>\n",
       "    <tr>\n",
       "      <td>2</td>\n",
       "      <td>ENSG00000041988.15</td>\n",
       "      <td>0.412494</td>\n",
       "    </tr>\n",
       "    <tr>\n",
       "      <td>3</td>\n",
       "      <td>ENSG00000049246.14</td>\n",
       "      <td>0.786323</td>\n",
       "    </tr>\n",
       "    <tr>\n",
       "      <td>4</td>\n",
       "      <td>ENSG00000053371.12</td>\n",
       "      <td>0.472391</td>\n",
       "    </tr>\n",
       "  </tbody>\n",
       "</table>\n",
       "</div>"
      ],
      "text/plain": [
       "                 ENSG       TAU\n",
       "0  ENSG00000008130.15  0.611966\n",
       "1  ENSG00000011007.12  0.374953\n",
       "2  ENSG00000041988.15  0.412494\n",
       "3  ENSG00000049246.14  0.786323\n",
       "4  ENSG00000053371.12  0.472391"
      ]
     },
     "execution_count": 12,
     "metadata": {},
     "output_type": "execute_result"
    }
   ],
   "source": [
    "tpms_tau = tpms.groupby(['ENSG']).TPM.agg(TAU)\n",
    "tpms_tau = pd.DataFrame(tpms_tau).rename(columns={'TPM':'TAU'})\n",
    "tpms_tau = tpms_tau.reset_index(drop=False)\n",
    "tpms_tau.head()"
   ]
  },
  {
   "cell_type": "code",
   "execution_count": 13,
   "metadata": {
    "colab": {
     "base_uri": "https://localhost:8080/",
     "height": 364
    },
    "colab_type": "code",
    "id": "O-CdHZaY-Y0L",
    "outputId": "69a763d0-d4c5-493e-f8bf-3bbb03a61acd"
   },
   "outputs": [
    {
     "data": {
      "text/plain": [
       "<matplotlib.axes._subplots.AxesSubplot at 0x7f3a7ef84bd0>"
      ]
     },
     "execution_count": 13,
     "metadata": {},
     "output_type": "execute_result"
    },
    {
     "data": {
      "image/png": "[encoded data removed]",
      "text/plain": [
       "<Figure size 432x288 with 1 Axes>"
      ]
     },
     "metadata": {
      "needs_background": "light"
     },
     "output_type": "display_data"
    }
   ],
   "source": [
    "tpms_tau.plot.hist(y='TAU')"
   ]
  },
  {
   "cell_type": "markdown",
   "metadata": {
    "colab_type": "text",
    "id": "UZhpN48Q2Qrg"
   },
   "source": [
    "### Assign gene-tissue rank (quantile) among tissues.\n",
    "Low-Med-High cutoff quantiles: .25 and .75.  These ranks measure, for a given gene, relative tissue expression from the gene-tissue TPMs."
   ]
  },
  {
   "cell_type": "code",
   "execution_count": 14,
   "metadata": {
    "colab": {},
    "colab_type": "code",
    "id": "FT2DcDCK2zaM"
   },
   "outputs": [],
   "source": [
    "def GTRanks(tpms, tpm_col):\n",
    "  tpm_rank = pd.Series(dtype=\"float\", index=range(tpms.shape[0]))\n",
    "  for i in tpms.index:\n",
    "    ensg = tpms.ENSG[i]\n",
    "    val_this = tpms[tpm_col][i]\n",
    "    vals_ensg = tpms[tpm_col][tpms.ENSG==ensg]\n",
    "    vals_ensg = vals_ensg.sort_values().reset_index(drop=True)\n",
    "    j = vals_ensg[vals_ensg == val_this].index[0]\n",
    "    tpm_rank.iloc[i] = j/vals_ensg.size \n",
    "\n",
    "  tpms[tpm_col+'_RANK'] = tpm_rank\n",
    "  return(tpms)"
   ]
  },
  {
   "cell_type": "code",
   "execution_count": 15,
   "metadata": {
    "colab": {
     "base_uri": "https://localhost:8080/",
     "height": 221
    },
    "colab_type": "code",
    "id": "rtkZFKiuNIgA",
    "outputId": "f17830ec-4eba-49aa-a294-4bccf0187158"
   },
   "outputs": [
    {
     "name": "stdout",
     "output_type": "stream",
     "text": [
      "<class 'pandas.core.frame.DataFrame'>\n",
      "Int64Index: 4712 entries, 0 to 4711\n",
      "Data columns (total 7 columns):\n",
      "ENSG       4712 non-null object\n",
      "SMTSD      4712 non-null object\n",
      "SEX        4712 non-null object\n",
      "TPM        4712 non-null float64\n",
      "NCBI       4712 non-null object\n",
      "HGNC       4712 non-null object\n",
      "LOG_TPM    4712 non-null float64\n",
      "dtypes: float64(2), object(5)\n",
      "memory usage: 294.5+ KB\n"
     ]
    }
   ],
   "source": [
    "tpms.info()"
   ]
  },
  {
   "cell_type": "code",
   "execution_count": 16,
   "metadata": {
    "colab": {
     "base_uri": "https://localhost:8080/",
     "height": 221
    },
    "colab_type": "code",
    "id": "7EtulAR4z2Di",
    "outputId": "bfee0f29-041c-49f6-9d1a-bcfaab2d6cfe"
   },
   "outputs": [
    {
     "name": "stdout",
     "output_type": "stream",
     "text": [
      "Elapsed: 13s\n"
     ]
    },
    {
     "data": {
      "text/html": [
       "<div>\n",
       "<style scoped>\n",
       "    .dataframe tbody tr th:only-of-type {\n",
       "        vertical-align: middle;\n",
       "    }\n",
       "\n",
       "    .dataframe tbody tr th {\n",
       "        vertical-align: top;\n",
       "    }\n",
       "\n",
       "    .dataframe thead th {\n",
       "        text-align: right;\n",
       "    }\n",
       "</style>\n",
       "<table border=\"1\" class=\"dataframe\">\n",
       "  <thead>\n",
       "    <tr style=\"text-align: right;\">\n",
       "      <th></th>\n",
       "      <th>ENSG</th>\n",
       "      <th>SMTSD</th>\n",
       "      <th>SEX</th>\n",
       "      <th>TPM</th>\n",
       "      <th>NCBI</th>\n",
       "      <th>HGNC</th>\n",
       "      <th>LOG_TPM</th>\n",
       "      <th>TPM_RANK</th>\n",
       "    </tr>\n",
       "  </thead>\n",
       "  <tbody>\n",
       "    <tr>\n",
       "      <td>0</td>\n",
       "      <td>ENSG00000008130.15</td>\n",
       "      <td>Adipose - Subcutaneous</td>\n",
       "      <td>female</td>\n",
       "      <td>63.265</td>\n",
       "      <td>65220</td>\n",
       "      <td>NADK</td>\n",
       "      <td>1.807975</td>\n",
       "      <td>0.900000</td>\n",
       "    </tr>\n",
       "    <tr>\n",
       "      <td>1</td>\n",
       "      <td>ENSG00000008130.15</td>\n",
       "      <td>Adipose - Subcutaneous</td>\n",
       "      <td>male</td>\n",
       "      <td>53.590</td>\n",
       "      <td>65220</td>\n",
       "      <td>NADK</td>\n",
       "      <td>1.737113</td>\n",
       "      <td>0.800000</td>\n",
       "    </tr>\n",
       "    <tr>\n",
       "      <td>2</td>\n",
       "      <td>ENSG00000008130.15</td>\n",
       "      <td>Adipose - Visceral (Omentum)</td>\n",
       "      <td>female</td>\n",
       "      <td>58.310</td>\n",
       "      <td>65220</td>\n",
       "      <td>NADK</td>\n",
       "      <td>1.773128</td>\n",
       "      <td>0.883333</td>\n",
       "    </tr>\n",
       "    <tr>\n",
       "      <td>3</td>\n",
       "      <td>ENSG00000008130.15</td>\n",
       "      <td>Adipose - Visceral (Omentum)</td>\n",
       "      <td>male</td>\n",
       "      <td>51.745</td>\n",
       "      <td>65220</td>\n",
       "      <td>NADK</td>\n",
       "      <td>1.722181</td>\n",
       "      <td>0.700000</td>\n",
       "    </tr>\n",
       "    <tr>\n",
       "      <td>4</td>\n",
       "      <td>ENSG00000008130.15</td>\n",
       "      <td>Adrenal Gland</td>\n",
       "      <td>female</td>\n",
       "      <td>67.880</td>\n",
       "      <td>65220</td>\n",
       "      <td>NADK</td>\n",
       "      <td>1.838093</td>\n",
       "      <td>0.933333</td>\n",
       "    </tr>\n",
       "  </tbody>\n",
       "</table>\n",
       "</div>"
      ],
      "text/plain": [
       "                 ENSG                         SMTSD     SEX     TPM   NCBI  \\\n",
       "0  ENSG00000008130.15        Adipose - Subcutaneous  female  63.265  65220   \n",
       "1  ENSG00000008130.15        Adipose - Subcutaneous    male  53.590  65220   \n",
       "2  ENSG00000008130.15  Adipose - Visceral (Omentum)  female  58.310  65220   \n",
       "3  ENSG00000008130.15  Adipose - Visceral (Omentum)    male  51.745  65220   \n",
       "4  ENSG00000008130.15                 Adrenal Gland  female  67.880  65220   \n",
       "\n",
       "   HGNC   LOG_TPM  TPM_RANK  \n",
       "0  NADK  1.807975  0.900000  \n",
       "1  NADK  1.737113  0.800000  \n",
       "2  NADK  1.773128  0.883333  \n",
       "3  NADK  1.722181  0.700000  \n",
       "4  NADK  1.838093  0.933333  "
      ]
     },
     "execution_count": 16,
     "metadata": {},
     "output_type": "execute_result"
    }
   ],
   "source": [
    "t0 = time.time()\n",
    "tpms_ranks = GTRanks(tpms.copy(), 'TPM')\n",
    "print(\"Elapsed: %ds\"%(time.time()-t0))\n",
    "tpms_ranks.head()"
   ]
  },
  {
   "cell_type": "code",
   "execution_count": 17,
   "metadata": {
    "colab": {
     "base_uri": "https://localhost:8080/",
     "height": 364
    },
    "colab_type": "code",
    "id": "mBdoL0jWcc7p",
    "outputId": "219bf65e-ae6d-4576-c861-55c41b34bfca"
   },
   "outputs": [
    {
     "data": {
      "text/plain": [
       "<matplotlib.axes._subplots.AxesSubplot at 0x7f3a7eebf910>"
      ]
     },
     "execution_count": 17,
     "metadata": {},
     "output_type": "execute_result"
    },
    {
     "data": {
      "image/png": "[encoded data removed]",
      "text/plain": [
       "<Figure size 432x288 with 1 Axes>"
      ]
     },
     "metadata": {
      "needs_background": "light"
     },
     "output_type": "display_data"
    }
   ],
   "source": [
    "tpms_ranks.plot.hist(y='TPM_RANK')"
   ]
  },
  {
   "cell_type": "code",
   "execution_count": 18,
   "metadata": {
    "colab": {
     "base_uri": "https://localhost:8080/",
     "height": 297
    },
    "colab_type": "code",
    "id": "U0ro00ZPczBL",
    "outputId": "62ba0a42-1622-44b3-fcc1-ccde78c997f9"
   },
   "outputs": [
    {
     "data": {
      "text/html": [
       "<div>\n",
       "<style scoped>\n",
       "    .dataframe tbody tr th:only-of-type {\n",
       "        vertical-align: middle;\n",
       "    }\n",
       "\n",
       "    .dataframe tbody tr th {\n",
       "        vertical-align: top;\n",
       "    }\n",
       "\n",
       "    .dataframe thead th {\n",
       "        text-align: right;\n",
       "    }\n",
       "</style>\n",
       "<table border=\"1\" class=\"dataframe\">\n",
       "  <thead>\n",
       "    <tr style=\"text-align: right;\">\n",
       "      <th></th>\n",
       "      <th>TPM</th>\n",
       "      <th>LOG_TPM</th>\n",
       "      <th>TPM_RANK</th>\n",
       "    </tr>\n",
       "  </thead>\n",
       "  <tbody>\n",
       "    <tr>\n",
       "      <td>count</td>\n",
       "      <td>4712.000000</td>\n",
       "      <td>4712.000000</td>\n",
       "      <td>4712.000000</td>\n",
       "    </tr>\n",
       "    <tr>\n",
       "      <td>mean</td>\n",
       "      <td>26.146124</td>\n",
       "      <td>0.551512</td>\n",
       "      <td>0.356787</td>\n",
       "    </tr>\n",
       "    <tr>\n",
       "      <td>std</td>\n",
       "      <td>599.273257</td>\n",
       "      <td>0.654587</td>\n",
       "      <td>0.335785</td>\n",
       "    </tr>\n",
       "    <tr>\n",
       "      <td>min</td>\n",
       "      <td>0.000000</td>\n",
       "      <td>0.000000</td>\n",
       "      <td>0.000000</td>\n",
       "    </tr>\n",
       "    <tr>\n",
       "      <td>25%</td>\n",
       "      <td>0.000000</td>\n",
       "      <td>0.000000</td>\n",
       "      <td>0.000000</td>\n",
       "    </tr>\n",
       "    <tr>\n",
       "      <td>50%</td>\n",
       "      <td>0.585500</td>\n",
       "      <td>0.200166</td>\n",
       "      <td>0.300000</td>\n",
       "    </tr>\n",
       "    <tr>\n",
       "      <td>75%</td>\n",
       "      <td>11.125000</td>\n",
       "      <td>1.083682</td>\n",
       "      <td>0.650000</td>\n",
       "    </tr>\n",
       "    <tr>\n",
       "      <td>max</td>\n",
       "      <td>32670.000000</td>\n",
       "      <td>4.514162</td>\n",
       "      <td>0.983333</td>\n",
       "    </tr>\n",
       "  </tbody>\n",
       "</table>\n",
       "</div>"
      ],
      "text/plain": [
       "                TPM      LOG_TPM     TPM_RANK\n",
       "count   4712.000000  4712.000000  4712.000000\n",
       "mean      26.146124     0.551512     0.356787\n",
       "std      599.273257     0.654587     0.335785\n",
       "min        0.000000     0.000000     0.000000\n",
       "25%        0.000000     0.000000     0.000000\n",
       "50%        0.585500     0.200166     0.300000\n",
       "75%       11.125000     1.083682     0.650000\n",
       "max    32670.000000     4.514162     0.983333"
      ]
     },
     "execution_count": 18,
     "metadata": {},
     "output_type": "execute_result"
    }
   ],
   "source": [
    "tpms_ranks.describe()"
   ]
  },
  {
   "cell_type": "code",
   "execution_count": 19,
   "metadata": {
    "colab": {
     "base_uri": "https://localhost:8080/",
     "height": 204
    },
    "colab_type": "code",
    "id": "PMGtTxqyZfoM",
    "outputId": "c162332f-a177-4f2b-fb07-c393d2bb2bf9"
   },
   "outputs": [
    {
     "data": {
      "text/html": [
       "<div>\n",
       "<style scoped>\n",
       "    .dataframe tbody tr th:only-of-type {\n",
       "        vertical-align: middle;\n",
       "    }\n",
       "\n",
       "    .dataframe tbody tr th {\n",
       "        vertical-align: top;\n",
       "    }\n",
       "\n",
       "    .dataframe thead th {\n",
       "        text-align: right;\n",
       "    }\n",
       "</style>\n",
       "<table border=\"1\" class=\"dataframe\">\n",
       "  <thead>\n",
       "    <tr style=\"text-align: right;\">\n",
       "      <th></th>\n",
       "      <th>ENSG</th>\n",
       "      <th>SMTSD</th>\n",
       "      <th>SEX</th>\n",
       "      <th>TPM</th>\n",
       "      <th>NCBI</th>\n",
       "      <th>HGNC</th>\n",
       "      <th>LOG_TPM</th>\n",
       "      <th>TPM_RANK</th>\n",
       "      <th>LEVEL</th>\n",
       "      <th>AGE</th>\n",
       "    </tr>\n",
       "  </thead>\n",
       "  <tbody>\n",
       "    <tr>\n",
       "      <td>0</td>\n",
       "      <td>ENSG00000008130.15</td>\n",
       "      <td>Adipose - Subcutaneous</td>\n",
       "      <td>ALL</td>\n",
       "      <td>63.265</td>\n",
       "      <td>65220</td>\n",
       "      <td>NADK</td>\n",
       "      <td>1.807975</td>\n",
       "      <td>0.900000</td>\n",
       "      <td>High</td>\n",
       "      <td>ALL</td>\n",
       "    </tr>\n",
       "    <tr>\n",
       "      <td>1</td>\n",
       "      <td>ENSG00000008130.15</td>\n",
       "      <td>Adipose - Subcutaneous</td>\n",
       "      <td>ALL</td>\n",
       "      <td>53.590</td>\n",
       "      <td>65220</td>\n",
       "      <td>NADK</td>\n",
       "      <td>1.737113</td>\n",
       "      <td>0.800000</td>\n",
       "      <td>High</td>\n",
       "      <td>ALL</td>\n",
       "    </tr>\n",
       "    <tr>\n",
       "      <td>2</td>\n",
       "      <td>ENSG00000008130.15</td>\n",
       "      <td>Adipose - Visceral (Omentum)</td>\n",
       "      <td>ALL</td>\n",
       "      <td>58.310</td>\n",
       "      <td>65220</td>\n",
       "      <td>NADK</td>\n",
       "      <td>1.773128</td>\n",
       "      <td>0.883333</td>\n",
       "      <td>High</td>\n",
       "      <td>ALL</td>\n",
       "    </tr>\n",
       "    <tr>\n",
       "      <td>3</td>\n",
       "      <td>ENSG00000008130.15</td>\n",
       "      <td>Adipose - Visceral (Omentum)</td>\n",
       "      <td>ALL</td>\n",
       "      <td>51.745</td>\n",
       "      <td>65220</td>\n",
       "      <td>NADK</td>\n",
       "      <td>1.722181</td>\n",
       "      <td>0.700000</td>\n",
       "      <td>Medium</td>\n",
       "      <td>ALL</td>\n",
       "    </tr>\n",
       "    <tr>\n",
       "      <td>4</td>\n",
       "      <td>ENSG00000008130.15</td>\n",
       "      <td>Adrenal Gland</td>\n",
       "      <td>ALL</td>\n",
       "      <td>67.880</td>\n",
       "      <td>65220</td>\n",
       "      <td>NADK</td>\n",
       "      <td>1.838093</td>\n",
       "      <td>0.933333</td>\n",
       "      <td>High</td>\n",
       "      <td>ALL</td>\n",
       "    </tr>\n",
       "  </tbody>\n",
       "</table>\n",
       "</div>"
      ],
      "text/plain": [
       "                 ENSG                         SMTSD  SEX     TPM   NCBI  HGNC  \\\n",
       "0  ENSG00000008130.15        Adipose - Subcutaneous  ALL  63.265  65220  NADK   \n",
       "1  ENSG00000008130.15        Adipose - Subcutaneous  ALL  53.590  65220  NADK   \n",
       "2  ENSG00000008130.15  Adipose - Visceral (Omentum)  ALL  58.310  65220  NADK   \n",
       "3  ENSG00000008130.15  Adipose - Visceral (Omentum)  ALL  51.745  65220  NADK   \n",
       "4  ENSG00000008130.15                 Adrenal Gland  ALL  67.880  65220  NADK   \n",
       "\n",
       "    LOG_TPM  TPM_RANK   LEVEL  AGE  \n",
       "0  1.807975  0.900000    High  ALL  \n",
       "1  1.737113  0.800000    High  ALL  \n",
       "2  1.773128  0.883333    High  ALL  \n",
       "3  1.722181  0.700000  Medium  ALL  \n",
       "4  1.838093  0.933333    High  ALL  "
      ]
     },
     "execution_count": 19,
     "metadata": {},
     "output_type": "execute_result"
    }
   ],
   "source": [
    "tpms_ranks['LEVEL'] = tpms_ranks.TPM_RANK.apply(lambda x: 'Not detected' if x==0 else 'Low' if x<.25 else 'Medium' if x<.75 else 'High')\n",
    "tpms_ranks['AGE'] = 'ALL'\n",
    "tpms_ranks['SEX'] = 'ALL'\n",
    "tpms_ranks.head()"
   ]
  },
  {
   "cell_type": "code",
   "execution_count": 20,
   "metadata": {
    "colab": {
     "base_uri": "https://localhost:8080/",
     "height": 102
    },
    "colab_type": "code",
    "id": "ZuwizN20dPOc",
    "outputId": "55313030-ffa3-4cab-ceba-5213287162f6"
   },
   "outputs": [
    {
     "data": {
      "text/plain": [
       "High             893\n",
       "Low              723\n",
       "Medium          1645\n",
       "Not detected    1451\n",
       "Name: LEVEL, dtype: int64"
      ]
     },
     "execution_count": 20,
     "metadata": {},
     "output_type": "execute_result"
    }
   ],
   "source": [
    "tpms_ranks.LEVEL.value_counts().sort_index()"
   ]
  },
  {
   "cell_type": "markdown",
   "metadata": {
    "colab_type": "text",
    "id": "kF2A5Ee3r6qU"
   },
   "source": [
    "### Compute TAU for each gene, stratified by sex:"
   ]
  },
  {
   "cell_type": "code",
   "execution_count": 21,
   "metadata": {
    "colab": {
     "base_uri": "https://localhost:8080/",
     "height": 235
    },
    "colab_type": "code",
    "id": "kPcAEy1Nr_Aq",
    "outputId": "0db4761b-a32f-46a8-ccec-d27c7cce7bdb"
   },
   "outputs": [
    {
     "data": {
      "text/html": [
       "<div>\n",
       "<style scoped>\n",
       "    .dataframe tbody tr th:only-of-type {\n",
       "        vertical-align: middle;\n",
       "    }\n",
       "\n",
       "    .dataframe tbody tr th {\n",
       "        vertical-align: top;\n",
       "    }\n",
       "\n",
       "    .dataframe thead th {\n",
       "        text-align: right;\n",
       "    }\n",
       "</style>\n",
       "<table border=\"1\" class=\"dataframe\">\n",
       "  <thead>\n",
       "    <tr style=\"text-align: right;\">\n",
       "      <th></th>\n",
       "      <th>TAU_F</th>\n",
       "    </tr>\n",
       "    <tr>\n",
       "      <th>ENSG</th>\n",
       "      <th></th>\n",
       "    </tr>\n",
       "  </thead>\n",
       "  <tbody>\n",
       "    <tr>\n",
       "      <td>ENSG00000008130.15</td>\n",
       "      <td>0.578823</td>\n",
       "    </tr>\n",
       "    <tr>\n",
       "      <td>ENSG00000011007.12</td>\n",
       "      <td>0.370597</td>\n",
       "    </tr>\n",
       "    <tr>\n",
       "      <td>ENSG00000041988.15</td>\n",
       "      <td>0.390444</td>\n",
       "    </tr>\n",
       "    <tr>\n",
       "      <td>ENSG00000049246.14</td>\n",
       "      <td>0.787397</td>\n",
       "    </tr>\n",
       "    <tr>\n",
       "      <td>ENSG00000053371.12</td>\n",
       "      <td>0.478906</td>\n",
       "    </tr>\n",
       "  </tbody>\n",
       "</table>\n",
       "</div>"
      ],
      "text/plain": [
       "                       TAU_F\n",
       "ENSG                        \n",
       "ENSG00000008130.15  0.578823\n",
       "ENSG00000011007.12  0.370597\n",
       "ENSG00000041988.15  0.390444\n",
       "ENSG00000049246.14  0.787397\n",
       "ENSG00000053371.12  0.478906"
      ]
     },
     "execution_count": 21,
     "metadata": {},
     "output_type": "execute_result"
    }
   ],
   "source": [
    "tpms_tau_f = tpms.loc[tpms.SEX=='female'].groupby(['ENSG']).TPM.agg(TAU)\n",
    "tpms_tau_f = pd.DataFrame(tpms_tau_f).rename(columns={'TPM':'TAU_F'})\n",
    "tpms_tau_f.head()"
   ]
  },
  {
   "cell_type": "code",
   "execution_count": 23,
   "metadata": {
    "colab": {
     "base_uri": "https://localhost:8080/",
     "height": 235
    },
    "colab_type": "code",
    "id": "XFPcmw94MF0r",
    "outputId": "fe77b52c-5094-4ce6-bef2-1ce48fa61bdd"
   },
   "outputs": [
    {
     "data": {
      "text/html": [
       "<div>\n",
       "<style scoped>\n",
       "    .dataframe tbody tr th:only-of-type {\n",
       "        vertical-align: middle;\n",
       "    }\n",
       "\n",
       "    .dataframe tbody tr th {\n",
       "        vertical-align: top;\n",
       "    }\n",
       "\n",
       "    .dataframe thead th {\n",
       "        text-align: right;\n",
       "    }\n",
       "</style>\n",
       "<table border=\"1\" class=\"dataframe\">\n",
       "  <thead>\n",
       "    <tr style=\"text-align: right;\">\n",
       "      <th></th>\n",
       "      <th>TAU_M</th>\n",
       "    </tr>\n",
       "    <tr>\n",
       "      <th>ENSG</th>\n",
       "      <th></th>\n",
       "    </tr>\n",
       "  </thead>\n",
       "  <tbody>\n",
       "    <tr>\n",
       "      <td>ENSG00000008130.15</td>\n",
       "      <td>0.629630</td>\n",
       "    </tr>\n",
       "    <tr>\n",
       "      <td>ENSG00000011007.12</td>\n",
       "      <td>0.389029</td>\n",
       "    </tr>\n",
       "    <tr>\n",
       "      <td>ENSG00000041988.15</td>\n",
       "      <td>0.414001</td>\n",
       "    </tr>\n",
       "    <tr>\n",
       "      <td>ENSG00000049246.14</td>\n",
       "      <td>0.793303</td>\n",
       "    </tr>\n",
       "    <tr>\n",
       "      <td>ENSG00000053371.12</td>\n",
       "      <td>0.474038</td>\n",
       "    </tr>\n",
       "  </tbody>\n",
       "</table>\n",
       "</div>"
      ],
      "text/plain": [
       "                       TAU_M\n",
       "ENSG                        \n",
       "ENSG00000008130.15  0.629630\n",
       "ENSG00000011007.12  0.389029\n",
       "ENSG00000041988.15  0.414001\n",
       "ENSG00000049246.14  0.793303\n",
       "ENSG00000053371.12  0.474038"
      ]
     },
     "execution_count": 23,
     "metadata": {},
     "output_type": "execute_result"
    }
   ],
   "source": [
    "tpms_tau_m = tpms.loc[tpms.SEX=='male'].groupby(['ENSG']).TPM.agg(TAU)\n",
    "tpms_tau_m = pd.DataFrame(tpms_tau_m).rename(columns={'TPM':'TAU_M'})\n",
    "tpms_tau_m.head()"
   ]
  },
  {
   "cell_type": "code",
   "execution_count": 27,
   "metadata": {
    "colab": {
     "base_uri": "https://localhost:8080/",
     "height": 204
    },
    "colab_type": "code",
    "id": "dSeqvfepMTbl",
    "outputId": "494f3abe-05b1-4673-b385-cb665cfedc1f"
   },
   "outputs": [
    {
     "data": {
      "text/html": [
       "<div>\n",
       "<style scoped>\n",
       "    .dataframe tbody tr th:only-of-type {\n",
       "        vertical-align: middle;\n",
       "    }\n",
       "\n",
       "    .dataframe tbody tr th {\n",
       "        vertical-align: top;\n",
       "    }\n",
       "\n",
       "    .dataframe thead th {\n",
       "        text-align: right;\n",
       "    }\n",
       "</style>\n",
       "<table border=\"1\" class=\"dataframe\">\n",
       "  <thead>\n",
       "    <tr style=\"text-align: right;\">\n",
       "      <th></th>\n",
       "      <th>ENSG</th>\n",
       "      <th>TAU_F</th>\n",
       "      <th>TAU_M</th>\n",
       "    </tr>\n",
       "  </thead>\n",
       "  <tbody>\n",
       "    <tr>\n",
       "      <th>0</th>\n",
       "      <td>ENSG00000039139.9</td>\n",
       "      <td>0.881320</td>\n",
       "      <td>0.866073</td>\n",
       "    </tr>\n",
       "    <tr>\n",
       "      <th>1</th>\n",
       "      <td>ENSG00000082516.8</td>\n",
       "      <td>0.412861</td>\n",
       "      <td>0.470625</td>\n",
       "    </tr>\n",
       "    <tr>\n",
       "      <th>2</th>\n",
       "      <td>ENSG00000100302.6</td>\n",
       "      <td>0.857392</td>\n",
       "      <td>0.862967</td>\n",
       "    </tr>\n",
       "    <tr>\n",
       "      <th>3</th>\n",
       "      <td>ENSG00000100580.7</td>\n",
       "      <td>0.609194</td>\n",
       "      <td>0.610741</td>\n",
       "    </tr>\n",
       "    <tr>\n",
       "      <th>4</th>\n",
       "      <td>ENSG00000101200.5</td>\n",
       "      <td>0.899435</td>\n",
       "      <td>0.937310</td>\n",
       "    </tr>\n",
       "  </tbody>\n",
       "</table>\n",
       "</div>"
      ],
      "text/plain": [
       "                ENSG     TAU_F     TAU_M\n",
       "0  ENSG00000039139.9  0.881320  0.866073\n",
       "1  ENSG00000082516.8  0.412861  0.470625\n",
       "2  ENSG00000100302.6  0.857392  0.862967\n",
       "3  ENSG00000100580.7  0.609194  0.610741\n",
       "4  ENSG00000101200.5  0.899435  0.937310"
      ]
     },
     "execution_count": 27,
     "metadata": {
      "tags": []
     },
     "output_type": "execute_result"
    }
   ],
   "source": [
    "tpms_tau = pd.merge(tpms_tau_f, tpms_tau_m, left_index=True, right_index=True)\n",
    "tpms_tau = tpms_tau.reset_index(drop=False)\n",
    "tpms_tau.head()"
   ]
  },
  {
   "cell_type": "markdown",
   "metadata": {
    "colab_type": "text",
    "id": "4UuYZjZcrUU5"
   },
   "source": [
    "### Combine rows into one row per gene+tissue, cols for M and F TPM."
   ]
  },
  {
   "cell_type": "code",
   "execution_count": 24,
   "metadata": {
    "colab": {
     "base_uri": "https://localhost:8080/",
     "height": 204
    },
    "colab_type": "code",
    "id": "W_huvO_NrbTl",
    "outputId": "cc145b6b-79b8-4ba9-a632-d72d519439cd"
   },
   "outputs": [
    {
     "data": {
      "text/html": [
       "<div>\n",
       "<style scoped>\n",
       "    .dataframe tbody tr th:only-of-type {\n",
       "        vertical-align: middle;\n",
       "    }\n",
       "\n",
       "    .dataframe tbody tr th {\n",
       "        vertical-align: top;\n",
       "    }\n",
       "\n",
       "    .dataframe thead th {\n",
       "        text-align: right;\n",
       "    }\n",
       "</style>\n",
       "<table border=\"1\" class=\"dataframe\">\n",
       "  <thead>\n",
       "    <tr style=\"text-align: right;\">\n",
       "      <th></th>\n",
       "      <th>ENSG</th>\n",
       "      <th>SMTSD</th>\n",
       "      <th>TPM_F</th>\n",
       "      <th>TPM_M</th>\n",
       "    </tr>\n",
       "  </thead>\n",
       "  <tbody>\n",
       "    <tr>\n",
       "      <td>0</td>\n",
       "      <td>ENSG00000008130.15</td>\n",
       "      <td>Adipose - Subcutaneous</td>\n",
       "      <td>63.265</td>\n",
       "      <td>53.590</td>\n",
       "    </tr>\n",
       "    <tr>\n",
       "      <td>1</td>\n",
       "      <td>ENSG00000008130.15</td>\n",
       "      <td>Adipose - Visceral (Omentum)</td>\n",
       "      <td>58.310</td>\n",
       "      <td>51.745</td>\n",
       "    </tr>\n",
       "    <tr>\n",
       "      <td>2</td>\n",
       "      <td>ENSG00000008130.15</td>\n",
       "      <td>Adrenal Gland</td>\n",
       "      <td>67.880</td>\n",
       "      <td>70.475</td>\n",
       "    </tr>\n",
       "    <tr>\n",
       "      <td>3</td>\n",
       "      <td>ENSG00000008130.15</td>\n",
       "      <td>Artery - Aorta</td>\n",
       "      <td>52.910</td>\n",
       "      <td>52.490</td>\n",
       "    </tr>\n",
       "    <tr>\n",
       "      <td>4</td>\n",
       "      <td>ENSG00000008130.15</td>\n",
       "      <td>Artery - Coronary</td>\n",
       "      <td>55.630</td>\n",
       "      <td>52.275</td>\n",
       "    </tr>\n",
       "  </tbody>\n",
       "</table>\n",
       "</div>"
      ],
      "text/plain": [
       "                 ENSG                         SMTSD   TPM_F   TPM_M\n",
       "0  ENSG00000008130.15        Adipose - Subcutaneous  63.265  53.590\n",
       "1  ENSG00000008130.15  Adipose - Visceral (Omentum)  58.310  51.745\n",
       "2  ENSG00000008130.15                 Adrenal Gland  67.880  70.475\n",
       "3  ENSG00000008130.15                Artery - Aorta  52.910  52.490\n",
       "4  ENSG00000008130.15             Artery - Coronary  55.630  52.275"
      ]
     },
     "execution_count": 24,
     "metadata": {},
     "output_type": "execute_result"
    }
   ],
   "source": [
    "tpms_f = tpms.loc[tpms['SEX'] == 'female']\n",
    "tpms_f = tpms_f[['ENSG', 'SMTSD', 'TPM']].rename(columns={'TPM':'TPM_F'})\n",
    "tpms_m = tpms.loc[tpms['SEX'] == 'male']\n",
    "tpms_m = tpms_m[['ENSG', 'SMTSD', 'TPM']].rename(columns={'TPM':'TPM_M'})\n",
    "tpms_sex = pd.merge(tpms_f, tpms_m, how='inner', on=['ENSG','SMTSD'])\n",
    "tpms_sex.head()"
   ]
  },
  {
   "cell_type": "code",
   "execution_count": 25,
   "metadata": {
    "colab": {
     "base_uri": "https://localhost:8080/",
     "height": 221
    },
    "colab_type": "code",
    "id": "UNujtYxQtu3o",
    "outputId": "a89eaa0f-4415-4d50-91a7-21efa61cd172"
   },
   "outputs": [
    {
     "name": "stdout",
     "output_type": "stream",
     "text": [
      "Elapsed: 6s\n"
     ]
    },
    {
     "data": {
      "text/html": [
       "<div>\n",
       "<style scoped>\n",
       "    .dataframe tbody tr th:only-of-type {\n",
       "        vertical-align: middle;\n",
       "    }\n",
       "\n",
       "    .dataframe tbody tr th {\n",
       "        vertical-align: top;\n",
       "    }\n",
       "\n",
       "    .dataframe thead th {\n",
       "        text-align: right;\n",
       "    }\n",
       "</style>\n",
       "<table border=\"1\" class=\"dataframe\">\n",
       "  <thead>\n",
       "    <tr style=\"text-align: right;\">\n",
       "      <th></th>\n",
       "      <th>ENSG</th>\n",
       "      <th>SMTSD</th>\n",
       "      <th>TPM_F</th>\n",
       "      <th>TPM_F_RANK</th>\n",
       "      <th>LEVEL_F</th>\n",
       "    </tr>\n",
       "  </thead>\n",
       "  <tbody>\n",
       "    <tr>\n",
       "      <td>0</td>\n",
       "      <td>ENSG00000008130.15</td>\n",
       "      <td>Adipose - Subcutaneous</td>\n",
       "      <td>63.265</td>\n",
       "      <td>0.866667</td>\n",
       "      <td>High</td>\n",
       "    </tr>\n",
       "    <tr>\n",
       "      <td>1</td>\n",
       "      <td>ENSG00000008130.15</td>\n",
       "      <td>Adipose - Visceral (Omentum)</td>\n",
       "      <td>58.310</td>\n",
       "      <td>0.833333</td>\n",
       "      <td>High</td>\n",
       "    </tr>\n",
       "    <tr>\n",
       "      <td>2</td>\n",
       "      <td>ENSG00000008130.15</td>\n",
       "      <td>Adrenal Gland</td>\n",
       "      <td>67.880</td>\n",
       "      <td>0.933333</td>\n",
       "      <td>High</td>\n",
       "    </tr>\n",
       "    <tr>\n",
       "      <td>3</td>\n",
       "      <td>ENSG00000008130.15</td>\n",
       "      <td>Artery - Aorta</td>\n",
       "      <td>52.910</td>\n",
       "      <td>0.700000</td>\n",
       "      <td>Medium</td>\n",
       "    </tr>\n",
       "    <tr>\n",
       "      <td>4</td>\n",
       "      <td>ENSG00000008130.15</td>\n",
       "      <td>Artery - Coronary</td>\n",
       "      <td>55.630</td>\n",
       "      <td>0.800000</td>\n",
       "      <td>High</td>\n",
       "    </tr>\n",
       "  </tbody>\n",
       "</table>\n",
       "</div>"
      ],
      "text/plain": [
       "                 ENSG                         SMTSD   TPM_F  TPM_F_RANK  \\\n",
       "0  ENSG00000008130.15        Adipose - Subcutaneous  63.265    0.866667   \n",
       "1  ENSG00000008130.15  Adipose - Visceral (Omentum)  58.310    0.833333   \n",
       "2  ENSG00000008130.15                 Adrenal Gland  67.880    0.933333   \n",
       "3  ENSG00000008130.15                Artery - Aorta  52.910    0.700000   \n",
       "4  ENSG00000008130.15             Artery - Coronary  55.630    0.800000   \n",
       "\n",
       "  LEVEL_F  \n",
       "0    High  \n",
       "1    High  \n",
       "2    High  \n",
       "3  Medium  \n",
       "4    High  "
      ]
     },
     "execution_count": 25,
     "metadata": {},
     "output_type": "execute_result"
    }
   ],
   "source": [
    "t0 = time.time()\n",
    "tpms_ranks_f = GTRanks(tpms_sex[['ENSG','SMTSD','TPM_F']].copy(), 'TPM_F')\n",
    "print(\"Elapsed: %ds\"%(time.time()-t0))\n",
    "tpms_ranks_f['LEVEL_F'] = tpms_ranks_f.TPM_F_RANK.apply(lambda x: 'Not detected' if x==0 else 'Low' if x<.25 else 'Medium' if x<.75 else 'High')\n",
    "tpms_ranks_f.head()"
   ]
  },
  {
   "cell_type": "code",
   "execution_count": 26,
   "metadata": {
    "colab": {
     "base_uri": "https://localhost:8080/",
     "height": 221
    },
    "colab_type": "code",
    "id": "oTZA7hKiKwAQ",
    "outputId": "fac1c46b-9c9a-4e11-d782-9d9e6290abe8"
   },
   "outputs": [
    {
     "name": "stdout",
     "output_type": "stream",
     "text": [
      "Elapsed: 6s\n"
     ]
    },
    {
     "data": {
      "text/html": [
       "<div>\n",
       "<style scoped>\n",
       "    .dataframe tbody tr th:only-of-type {\n",
       "        vertical-align: middle;\n",
       "    }\n",
       "\n",
       "    .dataframe tbody tr th {\n",
       "        vertical-align: top;\n",
       "    }\n",
       "\n",
       "    .dataframe thead th {\n",
       "        text-align: right;\n",
       "    }\n",
       "</style>\n",
       "<table border=\"1\" class=\"dataframe\">\n",
       "  <thead>\n",
       "    <tr style=\"text-align: right;\">\n",
       "      <th></th>\n",
       "      <th>ENSG</th>\n",
       "      <th>SMTSD</th>\n",
       "      <th>TPM_M</th>\n",
       "      <th>TPM_M_RANK</th>\n",
       "      <th>LEVEL_M</th>\n",
       "    </tr>\n",
       "  </thead>\n",
       "  <tbody>\n",
       "    <tr>\n",
       "      <td>0</td>\n",
       "      <td>ENSG00000008130.15</td>\n",
       "      <td>Adipose - Subcutaneous</td>\n",
       "      <td>53.590</td>\n",
       "      <td>0.833333</td>\n",
       "      <td>High</td>\n",
       "    </tr>\n",
       "    <tr>\n",
       "      <td>1</td>\n",
       "      <td>ENSG00000008130.15</td>\n",
       "      <td>Adipose - Visceral (Omentum)</td>\n",
       "      <td>51.745</td>\n",
       "      <td>0.700000</td>\n",
       "      <td>Medium</td>\n",
       "    </tr>\n",
       "    <tr>\n",
       "      <td>2</td>\n",
       "      <td>ENSG00000008130.15</td>\n",
       "      <td>Adrenal Gland</td>\n",
       "      <td>70.475</td>\n",
       "      <td>0.933333</td>\n",
       "      <td>High</td>\n",
       "    </tr>\n",
       "    <tr>\n",
       "      <td>3</td>\n",
       "      <td>ENSG00000008130.15</td>\n",
       "      <td>Artery - Aorta</td>\n",
       "      <td>52.490</td>\n",
       "      <td>0.766667</td>\n",
       "      <td>High</td>\n",
       "    </tr>\n",
       "    <tr>\n",
       "      <td>4</td>\n",
       "      <td>ENSG00000008130.15</td>\n",
       "      <td>Artery - Coronary</td>\n",
       "      <td>52.275</td>\n",
       "      <td>0.733333</td>\n",
       "      <td>Medium</td>\n",
       "    </tr>\n",
       "  </tbody>\n",
       "</table>\n",
       "</div>"
      ],
      "text/plain": [
       "                 ENSG                         SMTSD   TPM_M  TPM_M_RANK  \\\n",
       "0  ENSG00000008130.15        Adipose - Subcutaneous  53.590    0.833333   \n",
       "1  ENSG00000008130.15  Adipose - Visceral (Omentum)  51.745    0.700000   \n",
       "2  ENSG00000008130.15                 Adrenal Gland  70.475    0.933333   \n",
       "3  ENSG00000008130.15                Artery - Aorta  52.490    0.766667   \n",
       "4  ENSG00000008130.15             Artery - Coronary  52.275    0.733333   \n",
       "\n",
       "  LEVEL_M  \n",
       "0    High  \n",
       "1  Medium  \n",
       "2    High  \n",
       "3    High  \n",
       "4  Medium  "
      ]
     },
     "execution_count": 26,
     "metadata": {},
     "output_type": "execute_result"
    }
   ],
   "source": [
    "t0 = time.time()\n",
    "tpms_ranks_m = GTRanks(tpms_sex[['ENSG','SMTSD','TPM_M']].copy(), 'TPM_M')\n",
    "print(\"Elapsed: %ds\"%(time.time()-t0))\n",
    "tpms_ranks_m['LEVEL_M'] = tpms_ranks_m.TPM_M_RANK.apply(lambda x: 'Not detected' if x==0 else 'Low' if x<.25 else 'Medium' if x<.75 else 'High')\n",
    "tpms_ranks_m.head()"
   ]
  },
  {
   "cell_type": "code",
   "execution_count": 27,
   "metadata": {
    "colab": {
     "base_uri": "https://localhost:8080/",
     "height": 204
    },
    "colab_type": "code",
    "id": "dVrKuPwOipdx",
    "outputId": "f0ca8e31-3452-46b9-8d0e-23191245ec64"
   },
   "outputs": [
    {
     "data": {
      "text/html": [
       "<div>\n",
       "<style scoped>\n",
       "    .dataframe tbody tr th:only-of-type {\n",
       "        vertical-align: middle;\n",
       "    }\n",
       "\n",
       "    .dataframe tbody tr th {\n",
       "        vertical-align: top;\n",
       "    }\n",
       "\n",
       "    .dataframe thead th {\n",
       "        text-align: right;\n",
       "    }\n",
       "</style>\n",
       "<table border=\"1\" class=\"dataframe\">\n",
       "  <thead>\n",
       "    <tr style=\"text-align: right;\">\n",
       "      <th></th>\n",
       "      <th>ENSG</th>\n",
       "      <th>SMTSD</th>\n",
       "      <th>TPM_F</th>\n",
       "      <th>TPM_F_RANK</th>\n",
       "      <th>LEVEL_F</th>\n",
       "      <th>TPM_M</th>\n",
       "      <th>TPM_M_RANK</th>\n",
       "      <th>LEVEL_M</th>\n",
       "    </tr>\n",
       "  </thead>\n",
       "  <tbody>\n",
       "    <tr>\n",
       "      <td>0</td>\n",
       "      <td>ENSG00000008130.15</td>\n",
       "      <td>Adipose - Subcutaneous</td>\n",
       "      <td>63.265</td>\n",
       "      <td>0.866667</td>\n",
       "      <td>High</td>\n",
       "      <td>53.590</td>\n",
       "      <td>0.833333</td>\n",
       "      <td>High</td>\n",
       "    </tr>\n",
       "    <tr>\n",
       "      <td>1</td>\n",
       "      <td>ENSG00000008130.15</td>\n",
       "      <td>Adipose - Visceral (Omentum)</td>\n",
       "      <td>58.310</td>\n",
       "      <td>0.833333</td>\n",
       "      <td>High</td>\n",
       "      <td>51.745</td>\n",
       "      <td>0.700000</td>\n",
       "      <td>Medium</td>\n",
       "    </tr>\n",
       "    <tr>\n",
       "      <td>2</td>\n",
       "      <td>ENSG00000008130.15</td>\n",
       "      <td>Adrenal Gland</td>\n",
       "      <td>67.880</td>\n",
       "      <td>0.933333</td>\n",
       "      <td>High</td>\n",
       "      <td>70.475</td>\n",
       "      <td>0.933333</td>\n",
       "      <td>High</td>\n",
       "    </tr>\n",
       "    <tr>\n",
       "      <td>3</td>\n",
       "      <td>ENSG00000008130.15</td>\n",
       "      <td>Artery - Aorta</td>\n",
       "      <td>52.910</td>\n",
       "      <td>0.700000</td>\n",
       "      <td>Medium</td>\n",
       "      <td>52.490</td>\n",
       "      <td>0.766667</td>\n",
       "      <td>High</td>\n",
       "    </tr>\n",
       "    <tr>\n",
       "      <td>4</td>\n",
       "      <td>ENSG00000008130.15</td>\n",
       "      <td>Artery - Coronary</td>\n",
       "      <td>55.630</td>\n",
       "      <td>0.800000</td>\n",
       "      <td>High</td>\n",
       "      <td>52.275</td>\n",
       "      <td>0.733333</td>\n",
       "      <td>Medium</td>\n",
       "    </tr>\n",
       "  </tbody>\n",
       "</table>\n",
       "</div>"
      ],
      "text/plain": [
       "                 ENSG                         SMTSD   TPM_F  TPM_F_RANK  \\\n",
       "0  ENSG00000008130.15        Adipose - Subcutaneous  63.265    0.866667   \n",
       "1  ENSG00000008130.15  Adipose - Visceral (Omentum)  58.310    0.833333   \n",
       "2  ENSG00000008130.15                 Adrenal Gland  67.880    0.933333   \n",
       "3  ENSG00000008130.15                Artery - Aorta  52.910    0.700000   \n",
       "4  ENSG00000008130.15             Artery - Coronary  55.630    0.800000   \n",
       "\n",
       "  LEVEL_F   TPM_M  TPM_M_RANK LEVEL_M  \n",
       "0    High  53.590    0.833333    High  \n",
       "1    High  51.745    0.700000  Medium  \n",
       "2    High  70.475    0.933333    High  \n",
       "3  Medium  52.490    0.766667    High  \n",
       "4    High  52.275    0.733333  Medium  "
      ]
     },
     "execution_count": 27,
     "metadata": {},
     "output_type": "execute_result"
    }
   ],
   "source": [
    "tpms_ranks = pd.merge(tpms_ranks_f, tpms_ranks_m, on=['ENSG','SMTSD'], how='inner')\n",
    "tpms_ranks.head()"
   ]
  },
  {
   "cell_type": "markdown",
   "metadata": {
    "colab_type": "text",
    "id": "R3CrnrZy0usJ"
   },
   "source": [
    "### Log fold-change is log of ratio."
   ]
  },
  {
   "cell_type": "code",
   "execution_count": 28,
   "metadata": {
    "colab": {
     "base_uri": "https://localhost:8080/",
     "height": 204
    },
    "colab_type": "code",
    "id": "vYRobAfenAvd",
    "outputId": "0bc55ff4-131a-4841-e398-56538fbc9a66"
   },
   "outputs": [
    {
     "data": {
      "text/html": [
       "<div>\n",
       "<style scoped>\n",
       "    .dataframe tbody tr th:only-of-type {\n",
       "        vertical-align: middle;\n",
       "    }\n",
       "\n",
       "    .dataframe tbody tr th {\n",
       "        vertical-align: top;\n",
       "    }\n",
       "\n",
       "    .dataframe thead th {\n",
       "        text-align: right;\n",
       "    }\n",
       "</style>\n",
       "<table border=\"1\" class=\"dataframe\">\n",
       "  <thead>\n",
       "    <tr style=\"text-align: right;\">\n",
       "      <th></th>\n",
       "      <th>ENSG</th>\n",
       "      <th>SMTSD</th>\n",
       "      <th>TPM_F</th>\n",
       "      <th>TPM_F_RANK</th>\n",
       "      <th>LEVEL_F</th>\n",
       "      <th>TPM_M</th>\n",
       "      <th>TPM_M_RANK</th>\n",
       "      <th>LEVEL_M</th>\n",
       "      <th>log2foldchange</th>\n",
       "      <th>log2foldchange_abs</th>\n",
       "    </tr>\n",
       "  </thead>\n",
       "  <tbody>\n",
       "    <tr>\n",
       "      <td>0</td>\n",
       "      <td>ENSG00000008130.15</td>\n",
       "      <td>Adipose - Subcutaneous</td>\n",
       "      <td>63.265</td>\n",
       "      <td>0.866667</td>\n",
       "      <td>High</td>\n",
       "      <td>53.590</td>\n",
       "      <td>0.833333</td>\n",
       "      <td>High</td>\n",
       "      <td>0.235397</td>\n",
       "      <td>0.235397</td>\n",
       "    </tr>\n",
       "    <tr>\n",
       "      <td>1</td>\n",
       "      <td>ENSG00000008130.15</td>\n",
       "      <td>Adipose - Visceral (Omentum)</td>\n",
       "      <td>58.310</td>\n",
       "      <td>0.833333</td>\n",
       "      <td>High</td>\n",
       "      <td>51.745</td>\n",
       "      <td>0.700000</td>\n",
       "      <td>Medium</td>\n",
       "      <td>0.169241</td>\n",
       "      <td>0.169241</td>\n",
       "    </tr>\n",
       "    <tr>\n",
       "      <td>2</td>\n",
       "      <td>ENSG00000008130.15</td>\n",
       "      <td>Adrenal Gland</td>\n",
       "      <td>67.880</td>\n",
       "      <td>0.933333</td>\n",
       "      <td>High</td>\n",
       "      <td>70.475</td>\n",
       "      <td>0.933333</td>\n",
       "      <td>High</td>\n",
       "      <td>-0.053354</td>\n",
       "      <td>0.053354</td>\n",
       "    </tr>\n",
       "    <tr>\n",
       "      <td>3</td>\n",
       "      <td>ENSG00000008130.15</td>\n",
       "      <td>Artery - Aorta</td>\n",
       "      <td>52.910</td>\n",
       "      <td>0.700000</td>\n",
       "      <td>Medium</td>\n",
       "      <td>52.490</td>\n",
       "      <td>0.766667</td>\n",
       "      <td>High</td>\n",
       "      <td>0.011284</td>\n",
       "      <td>0.011284</td>\n",
       "    </tr>\n",
       "    <tr>\n",
       "      <td>4</td>\n",
       "      <td>ENSG00000008130.15</td>\n",
       "      <td>Artery - Coronary</td>\n",
       "      <td>55.630</td>\n",
       "      <td>0.800000</td>\n",
       "      <td>High</td>\n",
       "      <td>52.275</td>\n",
       "      <td>0.733333</td>\n",
       "      <td>Medium</td>\n",
       "      <td>0.088108</td>\n",
       "      <td>0.088108</td>\n",
       "    </tr>\n",
       "  </tbody>\n",
       "</table>\n",
       "</div>"
      ],
      "text/plain": [
       "                 ENSG                         SMTSD   TPM_F  TPM_F_RANK  \\\n",
       "0  ENSG00000008130.15        Adipose - Subcutaneous  63.265    0.866667   \n",
       "1  ENSG00000008130.15  Adipose - Visceral (Omentum)  58.310    0.833333   \n",
       "2  ENSG00000008130.15                 Adrenal Gland  67.880    0.933333   \n",
       "3  ENSG00000008130.15                Artery - Aorta  52.910    0.700000   \n",
       "4  ENSG00000008130.15             Artery - Coronary  55.630    0.800000   \n",
       "\n",
       "  LEVEL_F   TPM_M  TPM_M_RANK LEVEL_M  log2foldchange  log2foldchange_abs  \n",
       "0    High  53.590    0.833333    High        0.235397            0.235397  \n",
       "1    High  51.745    0.700000  Medium        0.169241            0.169241  \n",
       "2    High  70.475    0.933333    High       -0.053354            0.053354  \n",
       "3  Medium  52.490    0.766667    High        0.011284            0.011284  \n",
       "4    High  52.275    0.733333  Medium        0.088108            0.088108  "
      ]
     },
     "execution_count": 28,
     "metadata": {},
     "output_type": "execute_result"
    }
   ],
   "source": [
    "tpms_ranks['log2foldchange'] = ((tpms_ranks.TPM_F+1) / (tpms_ranks.TPM_M+1)).apply(numpy.log2)\n",
    "tpms_ranks['log2foldchange_abs'] = tpms_ranks.log2foldchange.apply(numpy.abs)\n",
    "tpms_ranks.head()"
   ]
  },
  {
   "cell_type": "code",
   "execution_count": 29,
   "metadata": {
    "colab": {
     "base_uri": "https://localhost:8080/",
     "height": 364
    },
    "colab_type": "code",
    "id": "V3mSYzgio-w2",
    "outputId": "2baaa419-17f1-44ee-a08f-a04e1cda489f"
   },
   "outputs": [
    {
     "data": {
      "text/plain": [
       "<matplotlib.axes._subplots.AxesSubplot at 0x7f3a7ed09410>"
      ]
     },
     "execution_count": 29,
     "metadata": {},
     "output_type": "execute_result"
    },
    {
     "data": {
      "image/png": "[encoded data removed]",
      "text/plain": [
       "<Figure size 432x288 with 1 Axes>"
      ]
     },
     "metadata": {
      "needs_background": "light"
     },
     "output_type": "display_data"
    }
   ],
   "source": [
    "tpms_ranks.plot.hist(y='log2foldchange', logy=True)"
   ]
  },
  {
   "cell_type": "markdown",
   "metadata": {
    "colab_type": "text",
    "id": "vNAb00bOQmgY"
   },
   "source": [
    "### For selected tissue, sort genes by sex-difference magnitude:"
   ]
  },
  {
   "cell_type": "code",
   "execution_count": 30,
   "metadata": {
    "colab": {
     "base_uri": "https://localhost:8080/",
     "height": 359
    },
    "colab_type": "code",
    "id": "-yuvosEFQm5J",
    "outputId": "ffaf07b6-e729-465c-f242-9907272a69ad"
   },
   "outputs": [
    {
     "data": {
      "text/html": [
       "<div>\n",
       "<style scoped>\n",
       "    .dataframe tbody tr th:only-of-type {\n",
       "        vertical-align: middle;\n",
       "    }\n",
       "\n",
       "    .dataframe tbody tr th {\n",
       "        vertical-align: top;\n",
       "    }\n",
       "\n",
       "    .dataframe thead th {\n",
       "        text-align: right;\n",
       "    }\n",
       "</style>\n",
       "<table border=\"1\" class=\"dataframe\">\n",
       "  <thead>\n",
       "    <tr style=\"text-align: right;\">\n",
       "      <th></th>\n",
       "      <th>ENSG</th>\n",
       "      <th>SMTSD</th>\n",
       "      <th>TPM_F</th>\n",
       "      <th>TPM_F_RANK</th>\n",
       "      <th>LEVEL_F</th>\n",
       "      <th>TPM_M</th>\n",
       "      <th>TPM_M_RANK</th>\n",
       "      <th>LEVEL_M</th>\n",
       "      <th>log2foldchange</th>\n",
       "      <th>NCBI</th>\n",
       "      <th>HGNC</th>\n",
       "    </tr>\n",
       "  </thead>\n",
       "  <tbody>\n",
       "    <tr>\n",
       "      <td>0</td>\n",
       "      <td>ENSG00000134668.12</td>\n",
       "      <td>Bladder</td>\n",
       "      <td>5.712</td>\n",
       "      <td>0.933333</td>\n",
       "      <td>High</td>\n",
       "      <td>13.030</td>\n",
       "      <td>0.966667</td>\n",
       "      <td>High</td>\n",
       "      <td>-1.063700</td>\n",
       "      <td>90853</td>\n",
       "      <td>SPOCD1</td>\n",
       "    </tr>\n",
       "    <tr>\n",
       "      <td>1</td>\n",
       "      <td>ENSG00000179546.4</td>\n",
       "      <td>Bladder</td>\n",
       "      <td>0.140</td>\n",
       "      <td>0.800000</td>\n",
       "      <td>High</td>\n",
       "      <td>1.302</td>\n",
       "      <td>0.933333</td>\n",
       "      <td>High</td>\n",
       "      <td>-1.013854</td>\n",
       "      <td>3352</td>\n",
       "      <td>HTR1D</td>\n",
       "    </tr>\n",
       "    <tr>\n",
       "      <td>2</td>\n",
       "      <td>ENSG00000158816.15</td>\n",
       "      <td>Bladder</td>\n",
       "      <td>1.028</td>\n",
       "      <td>0.900000</td>\n",
       "      <td>High</td>\n",
       "      <td>2.858</td>\n",
       "      <td>0.933333</td>\n",
       "      <td>High</td>\n",
       "      <td>-0.927795</td>\n",
       "      <td>127731</td>\n",
       "      <td>VWA5B1</td>\n",
       "    </tr>\n",
       "    <tr>\n",
       "      <td>3</td>\n",
       "      <td>ENSG00000175206.10</td>\n",
       "      <td>Bladder</td>\n",
       "      <td>2.696</td>\n",
       "      <td>0.333333</td>\n",
       "      <td>Medium</td>\n",
       "      <td>1.233</td>\n",
       "      <td>0.033333</td>\n",
       "      <td>Low</td>\n",
       "      <td>0.726982</td>\n",
       "      <td>4878</td>\n",
       "      <td>NPPA</td>\n",
       "    </tr>\n",
       "    <tr>\n",
       "      <td>4</td>\n",
       "      <td>ENSG00000142619.4</td>\n",
       "      <td>Bladder</td>\n",
       "      <td>58.002</td>\n",
       "      <td>0.966667</td>\n",
       "      <td>High</td>\n",
       "      <td>90.835</td>\n",
       "      <td>0.966667</td>\n",
       "      <td>High</td>\n",
       "      <td>-0.638280</td>\n",
       "      <td>51702</td>\n",
       "      <td>PADI3</td>\n",
       "    </tr>\n",
       "    <tr>\n",
       "      <td>5</td>\n",
       "      <td>ENSG00000173641.17</td>\n",
       "      <td>Bladder</td>\n",
       "      <td>56.205</td>\n",
       "      <td>0.566667</td>\n",
       "      <td>Medium</td>\n",
       "      <td>75.040</td>\n",
       "      <td>0.566667</td>\n",
       "      <td>Medium</td>\n",
       "      <td>-0.410617</td>\n",
       "      <td>27129</td>\n",
       "      <td>HSPB7</td>\n",
       "    </tr>\n",
       "    <tr>\n",
       "      <td>6</td>\n",
       "      <td>ENSG00000142794.18</td>\n",
       "      <td>Bladder</td>\n",
       "      <td>4.820</td>\n",
       "      <td>0.966667</td>\n",
       "      <td>High</td>\n",
       "      <td>6.544</td>\n",
       "      <td>0.966667</td>\n",
       "      <td>High</td>\n",
       "      <td>-0.374311</td>\n",
       "      <td>84224</td>\n",
       "      <td>NBPF3</td>\n",
       "    </tr>\n",
       "    <tr>\n",
       "      <td>7</td>\n",
       "      <td>ENSG00000169641.13</td>\n",
       "      <td>Bladder</td>\n",
       "      <td>11.740</td>\n",
       "      <td>0.500000</td>\n",
       "      <td>Medium</td>\n",
       "      <td>15.480</td>\n",
       "      <td>0.900000</td>\n",
       "      <td>High</td>\n",
       "      <td>-0.371351</td>\n",
       "      <td>7798</td>\n",
       "      <td>LUZP1</td>\n",
       "    </tr>\n",
       "    <tr>\n",
       "      <td>8</td>\n",
       "      <td>ENSG00000076864.19</td>\n",
       "      <td>Bladder</td>\n",
       "      <td>9.746</td>\n",
       "      <td>0.500000</td>\n",
       "      <td>Medium</td>\n",
       "      <td>12.515</td>\n",
       "      <td>0.500000</td>\n",
       "      <td>Medium</td>\n",
       "      <td>-0.330762</td>\n",
       "      <td>5909</td>\n",
       "      <td>RAP1GAP</td>\n",
       "    </tr>\n",
       "    <tr>\n",
       "      <td>9</td>\n",
       "      <td>ENSG00000133216.16</td>\n",
       "      <td>Bladder</td>\n",
       "      <td>1.566</td>\n",
       "      <td>0.666667</td>\n",
       "      <td>Medium</td>\n",
       "      <td>2.220</td>\n",
       "      <td>0.800000</td>\n",
       "      <td>High</td>\n",
       "      <td>-0.327540</td>\n",
       "      <td>2048</td>\n",
       "      <td>EPHB2</td>\n",
       "    </tr>\n",
       "  </tbody>\n",
       "</table>\n",
       "</div>"
      ],
      "text/plain": [
       "                 ENSG    SMTSD   TPM_F  TPM_F_RANK LEVEL_F   TPM_M  \\\n",
       "0  ENSG00000134668.12  Bladder   5.712    0.933333    High  13.030   \n",
       "1   ENSG00000179546.4  Bladder   0.140    0.800000    High   1.302   \n",
       "2  ENSG00000158816.15  Bladder   1.028    0.900000    High   2.858   \n",
       "3  ENSG00000175206.10  Bladder   2.696    0.333333  Medium   1.233   \n",
       "4   ENSG00000142619.4  Bladder  58.002    0.966667    High  90.835   \n",
       "5  ENSG00000173641.17  Bladder  56.205    0.566667  Medium  75.040   \n",
       "6  ENSG00000142794.18  Bladder   4.820    0.966667    High   6.544   \n",
       "7  ENSG00000169641.13  Bladder  11.740    0.500000  Medium  15.480   \n",
       "8  ENSG00000076864.19  Bladder   9.746    0.500000  Medium  12.515   \n",
       "9  ENSG00000133216.16  Bladder   1.566    0.666667  Medium   2.220   \n",
       "\n",
       "   TPM_M_RANK LEVEL_M  log2foldchange    NCBI     HGNC  \n",
       "0    0.966667    High       -1.063700   90853   SPOCD1  \n",
       "1    0.933333    High       -1.013854    3352    HTR1D  \n",
       "2    0.933333    High       -0.927795  127731   VWA5B1  \n",
       "3    0.033333     Low        0.726982    4878     NPPA  \n",
       "4    0.966667    High       -0.638280   51702    PADI3  \n",
       "5    0.566667  Medium       -0.410617   27129    HSPB7  \n",
       "6    0.966667    High       -0.374311   84224    NBPF3  \n",
       "7    0.900000    High       -0.371351    7798    LUZP1  \n",
       "8    0.500000  Medium       -0.330762    5909  RAP1GAP  \n",
       "9    0.800000    High       -0.327540    2048    EPHB2  "
      ]
     },
     "execution_count": 30,
     "metadata": {},
     "output_type": "execute_result"
    }
   ],
   "source": [
    "tpms_bladder = tpms_ranks[tpms_ranks.SMTSD==\"Bladder\"]\n",
    "tpms_bladder = tpms_bladder.sort_values(by=[\"log2foldchange_abs\"], ascending=False)\n",
    "tpms_bladder.drop(columns=['log2foldchange_abs'], inplace=True)\n",
    "tpms_bladder = pd.merge(tpms_bladder, genes, on=\"ENSG\", how=\"left\")\n",
    "tpms_bladder = tpms_bladder.reset_index(drop=True)\n",
    "tpms_bladder.head(10)\n"
   ]
  },
  {
   "cell_type": "code",
   "execution_count": 40,
   "metadata": {
    "colab": {
     "base_uri": "https://localhost:8080/",
     "height": 424
    },
    "colab_type": "code",
    "id": "3ELJOGT6e5tO",
    "outputId": "eb0c20ff-8bf5-4e5e-e896-0ce4c6709ab2"
   },
   "outputs": [
    {
     "data": {
      "text/plain": [
       "<matplotlib.axes._subplots.AxesSubplot at 0x7ffaa5fcfa20>"
      ]
     },
     "execution_count": 40,
     "metadata": {
      "tags": []
     },
     "output_type": "execute_result"
    },
    {
     "data": {
      "image/png": "[encoded data removed]",
      "text/plain": [
       "<matplotlib.figure.Figure at 0x7ffaa5fc64a8>"
      ]
     },
     "metadata": {
      "tags": []
     },
     "output_type": "display_data"
    }
   ],
   "source": [
    "plotdata = tpms_bladder.iloc[0:10]\n",
    "plotdata.plot.bar(y='log2foldchange', x='HGNC')"
   ]
  },
  {
   "cell_type": "markdown",
   "metadata": {
    "colab_type": "text",
    "id": "8Th6MzQ6yndd"
   },
   "source": [
    "### For each gene, compute sex difference via Wilcoxon signed-rank test:\n",
    "(Wilcoxon signed-rank test, with Wilcox treatment, discarding all zero-differences.)"
   ]
  },
  {
   "cell_type": "code",
   "execution_count": 33,
   "metadata": {
    "colab": {
     "base_uri": "https://localhost:8080/",
     "height": 238
    },
    "colab_type": "code",
    "id": "6HNxmpqWk_Sf",
    "outputId": "5233a4f0-346b-4cc9-d0a0-e8e203dd14ff"
   },
   "outputs": [
    {
     "data": {
      "text/html": [
       "<div>\n",
       "<style scoped>\n",
       "    .dataframe tbody tr th:only-of-type {\n",
       "        vertical-align: middle;\n",
       "    }\n",
       "\n",
       "    .dataframe tbody tr th {\n",
       "        vertical-align: top;\n",
       "    }\n",
       "\n",
       "    .dataframe thead th {\n",
       "        text-align: right;\n",
       "    }\n",
       "</style>\n",
       "<table border=\"1\" class=\"dataframe\">\n",
       "  <thead>\n",
       "    <tr style=\"text-align: right;\">\n",
       "      <th></th>\n",
       "      <th>ENSG</th>\n",
       "      <th>WilcoxonSignedRank_stat</th>\n",
       "      <th>WilcoxonSignedRank_pval</th>\n",
       "    </tr>\n",
       "  </thead>\n",
       "  <tbody>\n",
       "    <tr>\n",
       "      <td>0</td>\n",
       "      <td>ENSG00000008130.15</td>\n",
       "      <td>164</td>\n",
       "      <td>0.158855</td>\n",
       "    </tr>\n",
       "    <tr>\n",
       "      <td>1</td>\n",
       "      <td>ENSG00000011007.12</td>\n",
       "      <td>105</td>\n",
       "      <td>0.00872789</td>\n",
       "    </tr>\n",
       "    <tr>\n",
       "      <td>2</td>\n",
       "      <td>ENSG00000041988.15</td>\n",
       "      <td>120</td>\n",
       "      <td>0.0206711</td>\n",
       "    </tr>\n",
       "    <tr>\n",
       "      <td>3</td>\n",
       "      <td>ENSG00000049246.14</td>\n",
       "      <td>103</td>\n",
       "      <td>0.00773094</td>\n",
       "    </tr>\n",
       "    <tr>\n",
       "      <td>4</td>\n",
       "      <td>ENSG00000053371.12</td>\n",
       "      <td>204</td>\n",
       "      <td>0.557743</td>\n",
       "    </tr>\n",
       "  </tbody>\n",
       "</table>\n",
       "</div>"
      ],
      "text/plain": [
       "                 ENSG WilcoxonSignedRank_stat WilcoxonSignedRank_pval\n",
       "0  ENSG00000008130.15                     164                0.158855\n",
       "1  ENSG00000011007.12                     105              0.00872789\n",
       "2  ENSG00000041988.15                     120               0.0206711\n",
       "3  ENSG00000049246.14                     103              0.00773094\n",
       "4  ENSG00000053371.12                     204                0.557743"
      ]
     },
     "execution_count": 33,
     "metadata": {},
     "output_type": "execute_result"
    }
   ],
   "source": [
    "results = pd.DataFrame({'ENSG':tpms_sex.ENSG.drop_duplicates().sort_values(), 'WilcoxonSignedRank_stat':None, 'WilcoxonSignedRank_pval':None}).reset_index(drop=True)\n",
    "\n",
    "for i in range(results.shape[0]):\n",
    "  tpm_f_this = tpms_sex.TPM_F[tpms_ranks.ENSG==results.ENSG[i]]\n",
    "  tpm_m_this = tpms_sex.TPM_M[tpms_ranks.ENSG==results.ENSG[i]]\n",
    "  # Sample size must be sufficient.\n",
    "  if tpm_f_this[tpm_f_this>0].size<8 or tpm_m_this[tpm_m_this>0].size<8:\n",
    "    continue\n",
    "  stat, pval = scipy.stats.wilcoxon(x=tpm_f_this, y=tpm_m_this, zero_method='wilcox')\n",
    "  results.WilcoxonSignedRank_stat.iloc[i] = stat\n",
    "  results.WilcoxonSignedRank_pval.iloc[i] = pval \n",
    "results.head()"
   ]
  },
  {
   "cell_type": "code",
   "execution_count": null,
   "metadata": {},
   "outputs": [],
   "source": []
  }
 ],
 "metadata": {
  "colab": {
   "collapsed_sections": [],
   "name": "gtex_rnaseq_sabv.ipynb",
   "provenance": [],
   "version": "0.3.2"
  },
  "kernelspec": {
   "display_name": "Python 3",
   "language": "python",
   "name": "python3"
  },
  "language_info": {
   "codemirror_mode": {
    "name": "ipython",
    "version": 3
   },
   "file_extension": ".py",
   "mimetype": "text/x-python",
   "name": "python",
   "nbconvert_exporter": "python",
   "pygments_lexer": "ipython3",
   "version": "3.7.4"
  }
 },
 "nbformat": 4,
 "nbformat_minor": 1
}
