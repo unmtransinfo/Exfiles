{
  "nbformat": 4,
  "nbformat_minor": 0,
  "metadata": {
    "colab": {
      "name": "Exfiles_gtex_prep.ipynb",
      "provenance": [],
      "collapsed_sections": []
    },
    "kernelspec": {
      "name": "python3",
      "display_name": "Python 3"
    }
  },
  "cells": [
    {
      "cell_type": "markdown",
      "metadata": {
        "id": "vB7J5P7Vszpg"
      },
      "source": [
        "<table width=\"100%\" style=\"border:none\">\n",
        "  <tr>\n",
        "    <td valign=\"top\">\n",
        "      <h1>GTEx Preprocessing</h1>\n",
        "      <ul>\n",
        "<li>Author: Jeremy Yang\n",
        "<li>Required: Python3, Pandas\n",
        "<li>Clean, tidy, reshape RNAseq expression data.\n",
        "<li>Save aggregated-samples median TPM file for downstream co-expression analysis.\n",
        "<li>Save expression profiles (exfiles) TPM file for downstream co-expression analysis.\n",
        "      </ul>\n",
        "    </td>\n",
        "    <td align=\"right\">\n",
        "        <p>UNM Translational Informatics Division</p>\n",
        "<img style=\"float:right\" width=\"100\" src=\"https://brand.unm.edu/logos/unm-logo-mark.jpg\" alt=\"UNM Logo\" />\n",
        "    </td>\n",
        "  </tr>\n",
        "  </table>\n",
        " "
      ]
    },
    {
      "cell_type": "code",
      "metadata": {
        "id": "StWvpEEEef7p",
        "colab": {
          "base_uri": "https://localhost:8080/"
        },
        "outputId": "b7d166c9-5bdb-4fdd-b461-6bbe208060fe"
      },
      "source": [
        "import sys,os,re,time,io\n",
        "import urllib.request\n",
        "import google.colab\n",
        "import numpy,scipy\n",
        "import pandas as pd\n",
        "print(f\"Python: {sys.version.split()[0]}; Pandas: {pandas.__version__}; Scipy: {scipy.__version__} ; Numpy: {numpy.__version__}\")"
      ],
      "execution_count": 62,
      "outputs": [
        {
          "output_type": "stream",
          "text": [
            "Python: 3.6.9; Pandas: 1.1.5; Scipy: 1.4.1 ; Numpy: 1.19.5\n"
          ],
          "name": "stdout"
        }
      ]
    },
    {
      "cell_type": "markdown",
      "metadata": {
        "id": "cwKhzyFo1L21"
      },
      "source": [
        "### Download subjects datafile:\n",
        "GTEx_Analysis_v8_Annotations_SubjectPhenotypesDS.txt"
      ]
    },
    {
      "cell_type": "code",
      "metadata": {
        "id": "1SMOnt2P1Zfv",
        "colab": {
          "base_uri": "https://localhost:8080/"
        },
        "outputId": "5abafc2e-fcd7-4ca9-b2f2-a59e3b083db1"
      },
      "source": [
        "url = \"https://storage.googleapis.com/gtex_analysis_v8/annotations/GTEx_Analysis_v8_Annotations_SubjectPhenotypesDS.txt\"\n",
        "subjects = pd.read_csv(url, \"\\t\")\n",
        "print(f\"dataset nrows: {subjects.shape[0]} ; ncols: {subjects.shape[1]}:\")"
      ],
      "execution_count": 63,
      "outputs": [
        {
          "output_type": "stream",
          "text": [
            "dataset nrows: 980 ; ncols: 4:\n"
          ],
          "name": "stdout"
        }
      ]
    },
    {
      "cell_type": "code",
      "metadata": {
        "id": "zLyV_boFRtSO",
        "colab": {
          "base_uri": "https://localhost:8080/",
          "height": 204
        },
        "outputId": "6c3c7179-5c35-4d8a-ac67-58dfec44e685"
      },
      "source": [
        "subjects.head()"
      ],
      "execution_count": 64,
      "outputs": [
        {
          "output_type": "execute_result",
          "data": {
            "text/html": [
              "<div>\n",
              "<style scoped>\n",
              "    .dataframe tbody tr th:only-of-type {\n",
              "        vertical-align: middle;\n",
              "    }\n",
              "\n",
              "    .dataframe tbody tr th {\n",
              "        vertical-align: top;\n",
              "    }\n",
              "\n",
              "    .dataframe thead th {\n",
              "        text-align: right;\n",
              "    }\n",
              "</style>\n",
              "<table border=\"1\" class=\"dataframe\">\n",
              "  <thead>\n",
              "    <tr style=\"text-align: right;\">\n",
              "      <th></th>\n",
              "      <th>SUBJID</th>\n",
              "      <th>SEX</th>\n",
              "      <th>AGE</th>\n",
              "      <th>DTHHRDY</th>\n",
              "    </tr>\n",
              "  </thead>\n",
              "  <tbody>\n",
              "    <tr>\n",
              "      <th>0</th>\n",
              "      <td>GTEX-1117F</td>\n",
              "      <td>2</td>\n",
              "      <td>60-69</td>\n",
              "      <td>4.0</td>\n",
              "    </tr>\n",
              "    <tr>\n",
              "      <th>1</th>\n",
              "      <td>GTEX-111CU</td>\n",
              "      <td>1</td>\n",
              "      <td>50-59</td>\n",
              "      <td>0.0</td>\n",
              "    </tr>\n",
              "    <tr>\n",
              "      <th>2</th>\n",
              "      <td>GTEX-111FC</td>\n",
              "      <td>1</td>\n",
              "      <td>60-69</td>\n",
              "      <td>1.0</td>\n",
              "    </tr>\n",
              "    <tr>\n",
              "      <th>3</th>\n",
              "      <td>GTEX-111VG</td>\n",
              "      <td>1</td>\n",
              "      <td>60-69</td>\n",
              "      <td>3.0</td>\n",
              "    </tr>\n",
              "    <tr>\n",
              "      <th>4</th>\n",
              "      <td>GTEX-111YS</td>\n",
              "      <td>1</td>\n",
              "      <td>60-69</td>\n",
              "      <td>0.0</td>\n",
              "    </tr>\n",
              "  </tbody>\n",
              "</table>\n",
              "</div>"
            ],
            "text/plain": [
              "       SUBJID  SEX    AGE  DTHHRDY\n",
              "0  GTEX-1117F    2  60-69      4.0\n",
              "1  GTEX-111CU    1  50-59      0.0\n",
              "2  GTEX-111FC    1  60-69      1.0\n",
              "3  GTEX-111VG    1  60-69      3.0\n",
              "4  GTEX-111YS    1  60-69      0.0"
            ]
          },
          "metadata": {
            "tags": []
          },
          "execution_count": 64
        }
      ]
    },
    {
      "cell_type": "code",
      "metadata": {
        "id": "XDjnIBHN6PC2",
        "colab": {
          "base_uri": "https://localhost:8080/"
        },
        "outputId": "694d7b27-f348-4697-98f0-17cccb130447"
      },
      "source": [
        "subjects.AGE.value_counts().sort_index()"
      ],
      "execution_count": 65,
      "outputs": [
        {
          "output_type": "execute_result",
          "data": {
            "text/plain": [
              "20-29     84\n",
              "30-39     78\n",
              "40-49    153\n",
              "50-59    315\n",
              "60-69    317\n",
              "70-79     33\n",
              "Name: AGE, dtype: int64"
            ]
          },
          "metadata": {
            "tags": []
          },
          "execution_count": 65
        }
      ]
    },
    {
      "cell_type": "markdown",
      "metadata": {
        "id": "DQV5a6eVplg5"
      },
      "source": [
        "### Download samples datafile:\n",
        "new: GTEx_Analysis_v8_Annotations_SampleAttributesDS.txt"
      ]
    },
    {
      "cell_type": "code",
      "metadata": {
        "id": "xfMAdBTnexYS",
        "colab": {
          "base_uri": "https://localhost:8080/"
        },
        "outputId": "91f05c5d-de66-4889-9c88-a5bfb22557b7"
      },
      "source": [
        "url = \"https://storage.googleapis.com/gtex_analysis_v8/annotations/GTEx_Analysis_v8_Annotations_SampleAttributesDS.txt\"\n",
        "samples = pd.read_csv(url, sep='\\t')\n",
        "samples = samples[['SAMPID', 'SMATSSCR', 'SMTS', 'SMTSD', 'SMUBRID']]\n",
        "print(\"dataset nrows: %d ; ncols: %d:\"%(samples.shape[0],samples.shape[1]))"
      ],
      "execution_count": 66,
      "outputs": [
        {
          "output_type": "stream",
          "text": [
            "dataset nrows: 22951 ; ncols: 5:\n"
          ],
          "name": "stdout"
        }
      ]
    },
    {
      "cell_type": "markdown",
      "metadata": {
        "id": "JVR2KlrrxPFk"
      },
      "source": [
        " * SMTS = Tissue Type (parent of SMTSD)\n",
        " * SMTSD = Tissue Type, more specific\n",
        " * SMATSSCR = Autolysis Score, 0=None, 1=Mild, 2=Moderate, 3=Severe\n",
        " * Note that other sample attributes may be suitable for quality criteria.\n",
        " * SMUBRID = Uberon ID, anatomical location\n",
        " * SUBJID is first two hyphen-delimted fields of SAMPID."
      ]
    },
    {
      "cell_type": "code",
      "metadata": {
        "id": "GUPSF541upk0",
        "colab": {
          "base_uri": "https://localhost:8080/",
          "height": 204
        },
        "outputId": "6f679d8b-05c7-4f79-bb2f-d705e93aa0e5"
      },
      "source": [
        "samples['SUBJID'] = samples.SAMPID.str.extract('^([^-]+-[^-]+)-', expand=True)\n",
        "smtsd_orig = samples.SMTSD.unique()\n",
        "samples.head()"
      ],
      "execution_count": 67,
      "outputs": [
        {
          "output_type": "execute_result",
          "data": {
            "text/html": [
              "<div>\n",
              "<style scoped>\n",
              "    .dataframe tbody tr th:only-of-type {\n",
              "        vertical-align: middle;\n",
              "    }\n",
              "\n",
              "    .dataframe tbody tr th {\n",
              "        vertical-align: top;\n",
              "    }\n",
              "\n",
              "    .dataframe thead th {\n",
              "        text-align: right;\n",
              "    }\n",
              "</style>\n",
              "<table border=\"1\" class=\"dataframe\">\n",
              "  <thead>\n",
              "    <tr style=\"text-align: right;\">\n",
              "      <th></th>\n",
              "      <th>SAMPID</th>\n",
              "      <th>SMATSSCR</th>\n",
              "      <th>SMTS</th>\n",
              "      <th>SMTSD</th>\n",
              "      <th>SMUBRID</th>\n",
              "      <th>SUBJID</th>\n",
              "    </tr>\n",
              "  </thead>\n",
              "  <tbody>\n",
              "    <tr>\n",
              "      <th>0</th>\n",
              "      <td>GTEX-1117F-0003-SM-58Q7G</td>\n",
              "      <td>NaN</td>\n",
              "      <td>Blood</td>\n",
              "      <td>Whole Blood</td>\n",
              "      <td>0013756</td>\n",
              "      <td>GTEX-1117F</td>\n",
              "    </tr>\n",
              "    <tr>\n",
              "      <th>1</th>\n",
              "      <td>GTEX-1117F-0003-SM-5DWSB</td>\n",
              "      <td>NaN</td>\n",
              "      <td>Blood</td>\n",
              "      <td>Whole Blood</td>\n",
              "      <td>0013756</td>\n",
              "      <td>GTEX-1117F</td>\n",
              "    </tr>\n",
              "    <tr>\n",
              "      <th>2</th>\n",
              "      <td>GTEX-1117F-0003-SM-6WBT7</td>\n",
              "      <td>NaN</td>\n",
              "      <td>Blood</td>\n",
              "      <td>Whole Blood</td>\n",
              "      <td>0013756</td>\n",
              "      <td>GTEX-1117F</td>\n",
              "    </tr>\n",
              "    <tr>\n",
              "      <th>3</th>\n",
              "      <td>GTEX-1117F-0011-R10a-SM-AHZ7F</td>\n",
              "      <td>NaN</td>\n",
              "      <td>Brain</td>\n",
              "      <td>Brain - Frontal Cortex (BA9)</td>\n",
              "      <td>0009834</td>\n",
              "      <td>GTEX-1117F</td>\n",
              "    </tr>\n",
              "    <tr>\n",
              "      <th>4</th>\n",
              "      <td>GTEX-1117F-0011-R10b-SM-CYKQ8</td>\n",
              "      <td>NaN</td>\n",
              "      <td>Brain</td>\n",
              "      <td>Brain - Frontal Cortex (BA9)</td>\n",
              "      <td>0009834</td>\n",
              "      <td>GTEX-1117F</td>\n",
              "    </tr>\n",
              "  </tbody>\n",
              "</table>\n",
              "</div>"
            ],
            "text/plain": [
              "                          SAMPID  SMATSSCR  ...  SMUBRID      SUBJID\n",
              "0       GTEX-1117F-0003-SM-58Q7G       NaN  ...  0013756  GTEX-1117F\n",
              "1       GTEX-1117F-0003-SM-5DWSB       NaN  ...  0013756  GTEX-1117F\n",
              "2       GTEX-1117F-0003-SM-6WBT7       NaN  ...  0013756  GTEX-1117F\n",
              "3  GTEX-1117F-0011-R10a-SM-AHZ7F       NaN  ...  0009834  GTEX-1117F\n",
              "4  GTEX-1117F-0011-R10b-SM-CYKQ8       NaN  ...  0009834  GTEX-1117F\n",
              "\n",
              "[5 rows x 6 columns]"
            ]
          },
          "metadata": {
            "tags": []
          },
          "execution_count": 67
        }
      ]
    },
    {
      "cell_type": "code",
      "metadata": {
        "id": "u7G3QJKEqPn5",
        "colab": {
          "base_uri": "https://localhost:8080/"
        },
        "outputId": "035d076f-1859-47e4-aceb-40f80d8d37de"
      },
      "source": [
        "print(\"Tissue types: %s\"%(str(set(smtsd_orig))))"
      ],
      "execution_count": 68,
      "outputs": [
        {
          "output_type": "stream",
          "text": [
            "Tissue types: {'Esophagus - Muscularis', 'Esophagus - Mucosa', 'Brain - Amygdala', 'Colon - Sigmoid', 'Ovary', 'Skin - Sun Exposed (Lower leg)', 'Esophagus - Gastroesophageal Junction', 'Kidney - Medulla', 'Artery - Tibial', 'Brain - Cerebellum', 'Fallopian Tube', 'Heart - Left Ventricle', 'Small Intestine - Terminal Ileum', 'Cervix - Endocervix', 'Artery - Coronary', 'Spleen', 'Adipose - Subcutaneous', 'Cells - Cultured fibroblasts', 'Nerve - Tibial', 'Lung', 'Colon - Transverse', 'Vagina', 'Brain - Nucleus accumbens (basal ganglia)', 'Brain - Hippocampus', 'Brain - Cerebellar Hemisphere', 'Brain - Anterior cingulate cortex (BA24)', 'Brain - Substantia nigra', 'Liver', 'Whole Blood', 'Bladder', 'Brain - Caudate (basal ganglia)', 'Cells - Leukemia cell line (CML)', 'Adrenal Gland', 'Brain - Putamen (basal ganglia)', 'Adipose - Visceral (Omentum)', 'Muscle - Skeletal', 'Brain - Cortex', 'Cells - EBV-transformed lymphocytes', 'Heart - Atrial Appendage', 'Breast - Mammary Tissue', 'Pancreas', 'Prostate', 'Testis', 'Cervix - Ectocervix', 'Thyroid', 'Artery - Aorta', 'Pituitary', 'Kidney - Cortex', 'Stomach', 'Brain - Frontal Cortex (BA9)', 'Brain - Spinal cord (cervical c-1)', 'Uterus', 'Skin - Not Sun Exposed (Suprapubic)', 'Brain - Hypothalamus', 'Minor Salivary Gland'}\n"
          ],
          "name": "stdout"
        }
      ]
    },
    {
      "cell_type": "code",
      "metadata": {
        "id": "1tP1g_Y-cElR",
        "colab": {
          "base_uri": "https://localhost:8080/"
        },
        "outputId": "ddee8d18-1169-4420-a279-ee5e5d9c9890"
      },
      "source": [
        "print(\"Counts: SAMPID: %d; SMTS: %d; SMTSD: %d; SUBJID: %d\"%(\n",
        "      samples.SAMPID.nunique(), samples.SMTS.nunique(), samples.SMTSD.nunique(), samples.SUBJID.nunique()))"
      ],
      "execution_count": 69,
      "outputs": [
        {
          "output_type": "stream",
          "text": [
            "Counts: SAMPID: 22951; SMTS: 31; SMTSD: 55; SUBJID: 980\n"
          ],
          "name": "stdout"
        }
      ]
    },
    {
      "cell_type": "markdown",
      "metadata": {
        "id": "LjMKpFc7zJMd"
      },
      "source": [
        "### Remove samples with high degree of autolysis (self-digestion).\n",
        "The destruction of organism cells or tissues by the organisms’ own enzymes or processes.\n",
        "0=None, 1=Mild, 2=Moderate, 3=Severe"
      ]
    },
    {
      "cell_type": "code",
      "metadata": {
        "id": "DzjmyqoEXAiL",
        "colab": {
          "base_uri": "https://localhost:8080/"
        },
        "outputId": "c6ab9094-79b1-4c9e-eba2-e21c9aacad62"
      },
      "source": [
        "samples.SMATSSCR.value_counts(dropna=False).sort_index()"
      ],
      "execution_count": 70,
      "outputs": [
        {
          "output_type": "execute_result",
          "data": {
            "text/plain": [
              "0.0     3554\n",
              "1.0    10410\n",
              "2.0     1582\n",
              "3.0      193\n",
              "NaN     7212\n",
              "Name: SMATSSCR, dtype: int64"
            ]
          },
          "metadata": {
            "tags": []
          },
          "execution_count": 70
        }
      ]
    },
    {
      "cell_type": "code",
      "metadata": {
        "id": "2chak03tWICs",
        "colab": {
          "base_uri": "https://localhost:8080/"
        },
        "outputId": "d95a95e7-2300-48d8-a2d4-2328b054bc56"
      },
      "source": [
        "samples = samples[(samples.SMATSSCR != 3) & (samples.SMATSSCR != 2)]\n",
        "print(\"Counts: SAMPID: %d; SMTS: %d; SMTSD: %d; SUBJID: %d\"%(\n",
        "      samples.SAMPID.nunique(), samples.SMTS.nunique(), samples.SMTSD.nunique(), samples.SUBJID.nunique()))"
      ],
      "execution_count": 71,
      "outputs": [
        {
          "output_type": "stream",
          "text": [
            "Counts: SAMPID: 21176; SMTS: 31; SMTSD: 55; SUBJID: 980\n"
          ],
          "name": "stdout"
        }
      ]
    },
    {
      "cell_type": "markdown",
      "metadata": {
        "id": "W_5vX8JGEg-R"
      },
      "source": [
        "### Clean & tidy cols. "
      ]
    },
    {
      "cell_type": "code",
      "metadata": {
        "id": "fkZ3s4ZPLWKl"
      },
      "source": [
        "samples.loc[(samples.SMTS.str.strip() == '') & samples.SMTSD.str.startswith(\"Skin -\"), 'SMTS'] = 'Skin'"
      ],
      "execution_count": 72,
      "outputs": []
    },
    {
      "cell_type": "code",
      "metadata": {
        "id": "4yzccK8flH02",
        "colab": {
          "base_uri": "https://localhost:8080/"
        },
        "outputId": "b338d19f-ccb8-4d56-8870-14af007fb6e5"
      },
      "source": [
        "(samples.SMTS+\" : \"+samples.SMTSD).value_counts().sort_index()"
      ],
      "execution_count": 73,
      "outputs": [
        {
          "output_type": "execute_result",
          "data": {
            "text/plain": [
              "Adipose Tissue : Adipose - Subcutaneous                752\n",
              "Adipose Tissue : Adipose - Visceral (Omentum)          560\n",
              "Adrenal Gland : Adrenal Gland                          209\n",
              "Bladder : Bladder                                        8\n",
              "Blood : Cells - EBV-transformed lymphocytes            192\n",
              "Blood : Whole Blood                                   3288\n",
              "Blood Vessel : Artery - Aorta                          444\n",
              "Blood Vessel : Artery - Coronary                       251\n",
              "Blood Vessel : Artery - Tibial                         757\n",
              "Bone Marrow : Cells - Leukemia cell line (CML)         217\n",
              "Brain : Brain - Amygdala                               177\n",
              "Brain : Brain - Anterior cingulate cortex (BA24)       213\n",
              "Brain : Brain - Caudate (basal ganglia)                291\n",
              "Brain : Brain - Cerebellar Hemisphere                  263\n",
              "Brain : Brain - Cerebellum                             226\n",
              "Brain : Brain - Cortex                                 268\n",
              "Brain : Brain - Frontal Cortex (BA9)                   425\n",
              "Brain : Brain - Hippocampus                            243\n",
              "Brain : Brain - Hypothalamus                           236\n",
              "Brain : Brain - Nucleus accumbens (basal ganglia)      277\n",
              "Brain : Brain - Putamen (basal ganglia)                232\n",
              "Brain : Brain - Spinal cord (cervical c-1)             182\n",
              "Brain : Brain - Substantia nigra                       164\n",
              "Breast : Breast - Mammary Tissue                       463\n",
              "Cervix Uteri : Cervix - Ectocervix                       7\n",
              "Cervix Uteri : Cervix - Endocervix                       7\n",
              "Colon : Colon - Sigmoid                                342\n",
              "Colon : Colon - Transverse                             260\n",
              "Esophagus : Esophagus - Gastroesophageal Junction      384\n",
              "Esophagus : Esophagus - Mucosa                         568\n",
              "Esophagus : Esophagus - Muscularis                     535\n",
              "Fallopian Tube : Fallopian Tube                          7\n",
              "Heart : Heart - Atrial Appendage                       440\n",
              "Heart : Heart - Left Ventricle                         683\n",
              "Kidney : Kidney - Cortex                                33\n",
              "Kidney : Kidney - Medulla                                2\n",
              "Liver : Liver                                          218\n",
              "Lung : Lung                                            639\n",
              "Muscle : Muscle - Skeletal                            1117\n",
              "Nerve : Nerve - Tibial                                 713\n",
              "Ovary : Ovary                                          191\n",
              "Pancreas : Pancreas                                    300\n",
              "Pituitary : Pituitary                                  187\n",
              "Prostate : Prostate                                    173\n",
              "Salivary Gland : Minor Salivary Gland                  179\n",
              "Skin : Cells - Cultured fibroblasts                    527\n",
              "Skin : Skin - Not Sun Exposed (Suprapubic)             627\n",
              "Skin : Skin - Sun Exposed (Lower leg)                  833\n",
              "Small Intestine : Small Intestine - Terminal Ileum     147\n",
              "Spleen : Spleen                                        217\n",
              "Stomach : Stomach                                      277\n",
              "Testis : Testis                                        283\n",
              "Thyroid : Thyroid                                      646\n",
              "Uterus : Uterus                                        149\n",
              "Vagina : Vagina                                        147\n",
              "dtype: int64"
            ]
          },
          "metadata": {
            "tags": []
          },
          "execution_count": 73
        }
      ]
    },
    {
      "cell_type": "markdown",
      "metadata": {
        "id": "zrITfg3v3iQ1"
      },
      "source": [
        "### MERGE samples with subjects:"
      ]
    },
    {
      "cell_type": "code",
      "metadata": {
        "id": "fhQuOfNr3vo_",
        "colab": {
          "base_uri": "https://localhost:8080/",
          "height": 204
        },
        "outputId": "0688e1ee-504a-4ced-cf94-9e39cef100ff"
      },
      "source": [
        "samples = pd.merge(samples, subjects, how='inner', on='SUBJID')\n",
        "samples.head()"
      ],
      "execution_count": 74,
      "outputs": [
        {
          "output_type": "execute_result",
          "data": {
            "text/html": [
              "<div>\n",
              "<style scoped>\n",
              "    .dataframe tbody tr th:only-of-type {\n",
              "        vertical-align: middle;\n",
              "    }\n",
              "\n",
              "    .dataframe tbody tr th {\n",
              "        vertical-align: top;\n",
              "    }\n",
              "\n",
              "    .dataframe thead th {\n",
              "        text-align: right;\n",
              "    }\n",
              "</style>\n",
              "<table border=\"1\" class=\"dataframe\">\n",
              "  <thead>\n",
              "    <tr style=\"text-align: right;\">\n",
              "      <th></th>\n",
              "      <th>SAMPID</th>\n",
              "      <th>SMATSSCR</th>\n",
              "      <th>SMTS</th>\n",
              "      <th>SMTSD</th>\n",
              "      <th>SMUBRID</th>\n",
              "      <th>SUBJID</th>\n",
              "      <th>SEX</th>\n",
              "      <th>AGE</th>\n",
              "      <th>DTHHRDY</th>\n",
              "    </tr>\n",
              "  </thead>\n",
              "  <tbody>\n",
              "    <tr>\n",
              "      <th>0</th>\n",
              "      <td>GTEX-1117F-0003-SM-58Q7G</td>\n",
              "      <td>NaN</td>\n",
              "      <td>Blood</td>\n",
              "      <td>Whole Blood</td>\n",
              "      <td>0013756</td>\n",
              "      <td>GTEX-1117F</td>\n",
              "      <td>2</td>\n",
              "      <td>60-69</td>\n",
              "      <td>4.0</td>\n",
              "    </tr>\n",
              "    <tr>\n",
              "      <th>1</th>\n",
              "      <td>GTEX-1117F-0003-SM-5DWSB</td>\n",
              "      <td>NaN</td>\n",
              "      <td>Blood</td>\n",
              "      <td>Whole Blood</td>\n",
              "      <td>0013756</td>\n",
              "      <td>GTEX-1117F</td>\n",
              "      <td>2</td>\n",
              "      <td>60-69</td>\n",
              "      <td>4.0</td>\n",
              "    </tr>\n",
              "    <tr>\n",
              "      <th>2</th>\n",
              "      <td>GTEX-1117F-0003-SM-6WBT7</td>\n",
              "      <td>NaN</td>\n",
              "      <td>Blood</td>\n",
              "      <td>Whole Blood</td>\n",
              "      <td>0013756</td>\n",
              "      <td>GTEX-1117F</td>\n",
              "      <td>2</td>\n",
              "      <td>60-69</td>\n",
              "      <td>4.0</td>\n",
              "    </tr>\n",
              "    <tr>\n",
              "      <th>3</th>\n",
              "      <td>GTEX-1117F-0011-R10a-SM-AHZ7F</td>\n",
              "      <td>NaN</td>\n",
              "      <td>Brain</td>\n",
              "      <td>Brain - Frontal Cortex (BA9)</td>\n",
              "      <td>0009834</td>\n",
              "      <td>GTEX-1117F</td>\n",
              "      <td>2</td>\n",
              "      <td>60-69</td>\n",
              "      <td>4.0</td>\n",
              "    </tr>\n",
              "    <tr>\n",
              "      <th>4</th>\n",
              "      <td>GTEX-1117F-0011-R10b-SM-CYKQ8</td>\n",
              "      <td>NaN</td>\n",
              "      <td>Brain</td>\n",
              "      <td>Brain - Frontal Cortex (BA9)</td>\n",
              "      <td>0009834</td>\n",
              "      <td>GTEX-1117F</td>\n",
              "      <td>2</td>\n",
              "      <td>60-69</td>\n",
              "      <td>4.0</td>\n",
              "    </tr>\n",
              "  </tbody>\n",
              "</table>\n",
              "</div>"
            ],
            "text/plain": [
              "                          SAMPID  SMATSSCR   SMTS  ... SEX    AGE DTHHRDY\n",
              "0       GTEX-1117F-0003-SM-58Q7G       NaN  Blood  ...   2  60-69     4.0\n",
              "1       GTEX-1117F-0003-SM-5DWSB       NaN  Blood  ...   2  60-69     4.0\n",
              "2       GTEX-1117F-0003-SM-6WBT7       NaN  Blood  ...   2  60-69     4.0\n",
              "3  GTEX-1117F-0011-R10a-SM-AHZ7F       NaN  Brain  ...   2  60-69     4.0\n",
              "4  GTEX-1117F-0011-R10b-SM-CYKQ8       NaN  Brain  ...   2  60-69     4.0\n",
              "\n",
              "[5 rows x 9 columns]"
            ]
          },
          "metadata": {
            "tags": []
          },
          "execution_count": 74
        }
      ]
    },
    {
      "cell_type": "code",
      "metadata": {
        "id": "8YAOA-6xj8X0",
        "colab": {
          "base_uri": "https://localhost:8080/"
        },
        "outputId": "4951bcfd-da8e-47f2-943b-492f76976e1d"
      },
      "source": [
        "print(f\"Counts: SAMPID: {samples.SAMPID.nunique()}; SMTS: {samples.SMTS.nunique()}; SMTSD: {samples.SMTSD.nunique()}; SUBJID: {samples.SUBJID.nunique()}\")"
      ],
      "execution_count": 75,
      "outputs": [
        {
          "output_type": "stream",
          "text": [
            "Counts: SAMPID: 21176; SMTS: 31; SMTSD: 55; SUBJID: 980\n"
          ],
          "name": "stdout"
        }
      ]
    },
    {
      "cell_type": "markdown",
      "metadata": {
        "id": "00ru0X8O1yRw"
      },
      "source": [
        "### Keep only samples from healthier subjects (and remove NAs): \n",
        "(DTHHRDY = Hardy Scale)\n",
        "Death classification based on the 4-point Hardy Scale:\n",
        "1) Violent and fast death Deaths due to accident, blunt force trauma or suicide, terminal phase estimated at < 10 min. \n",
        "2) Fast death of natural causes Sudden unexpected deaths of people who had been reasonably healthy, after a terminal phase estimated at < 1 hr (with sudden death from a myocardial infarction as a model cause of death for this category) \n",
        "3) Intermediate death Death after a terminal phase of 1 to 24 hrs (not classifiable as 2 or 4); patients who were ill but death was unexpected \n",
        "4) Slow death Death after a long illness, with a terminal phase longer than 1 day (commonly cancer or chronic pulmonary disease); deaths that are not unexpected \n",
        "0) Ventilator Case All cases on a ventilator immediately before death.\n"
      ]
    },
    {
      "cell_type": "code",
      "metadata": {
        "id": "HY-mFFIfiESx",
        "colab": {
          "base_uri": "https://localhost:8080/"
        },
        "outputId": "dd6a1a16-d854-400b-dce2-e3668bee44ab"
      },
      "source": [
        "samples.DTHHRDY.value_counts(sort=True, dropna=False).sort_index()"
      ],
      "execution_count": 76,
      "outputs": [
        {
          "output_type": "execute_result",
          "data": {
            "text/plain": [
              "0.0    11131\n",
              "1.0      832\n",
              "2.0     5331\n",
              "3.0     1030\n",
              "4.0     2435\n",
              "NaN      417\n",
              "Name: DTHHRDY, dtype: int64"
            ]
          },
          "metadata": {
            "tags": []
          },
          "execution_count": 76
        }
      ]
    },
    {
      "cell_type": "code",
      "metadata": {
        "id": "Rq1nYMjshwd6",
        "colab": {
          "base_uri": "https://localhost:8080/"
        },
        "outputId": "5ecfba3b-61ff-42a6-a727-80cfd2e7ae73"
      },
      "source": [
        "samples = samples[samples.DTHHRDY<=2]\n",
        "samples.DTHHRDY.value_counts(sort=True, dropna=False).sort_index()"
      ],
      "execution_count": 77,
      "outputs": [
        {
          "output_type": "execute_result",
          "data": {
            "text/plain": [
              "0.0    11131\n",
              "1.0      832\n",
              "2.0     5331\n",
              "Name: DTHHRDY, dtype: int64"
            ]
          },
          "metadata": {
            "tags": []
          },
          "execution_count": 77
        }
      ]
    },
    {
      "cell_type": "code",
      "metadata": {
        "id": "3Qzg2JiAnMfQ",
        "colab": {
          "base_uri": "https://localhost:8080/"
        },
        "outputId": "9a7a0e9c-33c3-46c8-b121-3ab6fb0e2c7e"
      },
      "source": [
        "smtsd_final = samples.SMTSD.unique()\n",
        "smtsd_lost = set(smtsd_orig) - set(smtsd_final)\n",
        "print(\"Tissue types lost: \"+str(smtsd_lost))\n",
        "print(f\"Counts: SAMPID: {samples.SAMPID.nunique()}; SMTS: {samples.SMTS.nunique()}; SMTSD: {samples.SMTSD.nunique()}; SUBJID: {samples.SUBJID.nunique()}\")"
      ],
      "execution_count": 78,
      "outputs": [
        {
          "output_type": "stream",
          "text": [
            "Tissue types lost: {'Cells - Leukemia cell line (CML)'}\n",
            "Counts: SAMPID: 17294; SMTS: 30; SMTSD: 54; SUBJID: 785\n"
          ],
          "name": "stdout"
        }
      ]
    },
    {
      "cell_type": "markdown",
      "metadata": {
        "id": "awHczCpk0B4w"
      },
      "source": [
        "### Clean & tidy:"
      ]
    },
    {
      "cell_type": "code",
      "metadata": {
        "id": "d86XP_Z2mYkV",
        "colab": {
          "base_uri": "https://localhost:8080/"
        },
        "outputId": "f4ed0281-2ce1-484e-e096-9dd39369aa92"
      },
      "source": [
        "samples.SEX = samples.SEX.apply(lambda x: 'F' if x==2 else 'M' if x==1 else None)\n",
        "print(samples.SEX.value_counts(sort=True, dropna=False).sort_index())\n",
        "if (samples.SEX.isna().sum()>0):\n",
        "  samples.dropna(subset=['SEX'], inplace=True)\n",
        "print(f\"Counts: SAMPID: {samples.SAMPID.nunique()}; SMTS: {samples.SMTS.nunique()}; SMTSD: {samples.SMTSD.nunique()}; SUBJID: {samples.SUBJID.nunique()}\")"
      ],
      "execution_count": 79,
      "outputs": [
        {
          "output_type": "stream",
          "text": [
            "F     5761\n",
            "M    11533\n",
            "Name: SEX, dtype: int64\n",
            "Counts: SAMPID: 17294; SMTS: 30; SMTSD: 54; SUBJID: 785\n"
          ],
          "name": "stdout"
        }
      ]
    },
    {
      "cell_type": "markdown",
      "metadata": {
        "id": "ZetBwy5jqOQk"
      },
      "source": [
        "### Download GENE TPMs (full or demo subset)\n",
        "Full file is ~56k rows, 2.6GB uncompressed.  Demo ~5k rows."
      ]
    },
    {
      "cell_type": "code",
      "metadata": {
        "id": "iAwlsefpq4dx",
        "colab": {
          "base_uri": "https://localhost:8080/"
        },
        "outputId": "7b2bf05b-d473-4bd2-d587-2ad8ae937c92"
      },
      "source": [
        "url = \"https://storage.googleapis.com/gtex_analysis_v8/rna_seq_data/GTEx_Analysis_2017-06-05_v8_RNASeQCv1.1.9_gene_tpm.gct.gz\"\n",
        "t0 = time.time()\n",
        "rnaseq = pd.read_table(url, compression=\"gzip\", sep=\"\\t\", skiprows=2, nrows=1000)\n",
        "print(f\"dataset nrows: {rnaseq.shape[0]} ; ncols: {rnaseq.shape[1]}:\")\n",
        "print(f\"Elapsed: {time.time()-t0:.2f}s\")"
      ],
      "execution_count": 106,
      "outputs": [
        {
          "output_type": "stream",
          "text": [
            "dataset nrows: 10000 ; ncols: 17384:\n",
            "Elapsed: 137.97s\n"
          ],
          "name": "stdout"
        }
      ]
    },
    {
      "cell_type": "code",
      "metadata": {
        "id": "TMVeLSeH3CwZ",
        "colab": {
          "base_uri": "https://localhost:8080/"
        },
        "outputId": "300c775b-84b9-4ada-814e-5ec3e123642d"
      },
      "source": [
        "rnaseq.info()"
      ],
      "execution_count": 107,
      "outputs": [
        {
          "output_type": "stream",
          "text": [
            "<class 'pandas.core.frame.DataFrame'>\n",
            "RangeIndex: 10000 entries, 0 to 9999\n",
            "Columns: 17384 entries, Name to GTEX-ZZPU-2726-SM-5NQ8O\n",
            "dtypes: float64(17382), object(2)\n",
            "memory usage: 1.3+ GB\n"
          ],
          "name": "stdout"
        }
      ]
    },
    {
      "cell_type": "code",
      "metadata": {
        "id": "g0t_4RBswccq",
        "colab": {
          "base_uri": "https://localhost:8080/"
        },
        "outputId": "6a4a658e-174c-48be-bcaa-d97e081846ce"
      },
      "source": [
        "rnaseq = rnaseq.drop(columns=['Description'])\n",
        "rnaseq = rnaseq.rename(columns={'Name':'ENSG'})\n",
        "rnaseq.columns"
      ],
      "execution_count": 108,
      "outputs": [
        {
          "output_type": "execute_result",
          "data": {
            "text/plain": [
              "Index(['ENSG', 'GTEX-1117F-0226-SM-5GZZ7', 'GTEX-1117F-0426-SM-5EGHI',\n",
              "       'GTEX-1117F-0526-SM-5EGHJ', 'GTEX-1117F-0626-SM-5N9CS',\n",
              "       'GTEX-1117F-0726-SM-5GIEN', 'GTEX-1117F-1326-SM-5EGHH',\n",
              "       'GTEX-1117F-2426-SM-5EGGH', 'GTEX-1117F-2526-SM-5GZY6',\n",
              "       'GTEX-1117F-2826-SM-5GZXL',\n",
              "       ...\n",
              "       'GTEX-ZZPU-1126-SM-5N9CW', 'GTEX-ZZPU-1226-SM-5N9CK',\n",
              "       'GTEX-ZZPU-1326-SM-5GZWS', 'GTEX-ZZPU-1426-SM-5GZZ6',\n",
              "       'GTEX-ZZPU-1826-SM-5E43L', 'GTEX-ZZPU-2126-SM-5EGIU',\n",
              "       'GTEX-ZZPU-2226-SM-5EGIV', 'GTEX-ZZPU-2426-SM-5E44I',\n",
              "       'GTEX-ZZPU-2626-SM-5E45Y', 'GTEX-ZZPU-2726-SM-5NQ8O'],\n",
              "      dtype='object', length=17383)"
            ]
          },
          "metadata": {
            "tags": []
          },
          "execution_count": 108
        }
      ]
    },
    {
      "cell_type": "markdown",
      "metadata": {
        "id": "1LsGqo2Fxtp1"
      },
      "source": [
        "### MELT: One row per ENSG+SAMPID+TPM triplet:\n",
        "Easier to handle but ~3x storage."
      ]
    },
    {
      "cell_type": "code",
      "metadata": {
        "id": "bSaZOsP_xkQ2"
      },
      "source": [
        "rnaseq = rnaseq.melt(id_vars = \"ENSG\", var_name = \"SAMPID\", value_name = \"TPM\")"
      ],
      "execution_count": 109,
      "outputs": []
    },
    {
      "cell_type": "code",
      "metadata": {
        "id": "3E0h4B2jzoK5",
        "colab": {
          "base_uri": "https://localhost:8080/",
          "height": 204
        },
        "outputId": "9082bd86-c9ed-4afe-82e4-1d3d5a81cdaf"
      },
      "source": [
        "rnaseq.head()"
      ],
      "execution_count": 110,
      "outputs": [
        {
          "output_type": "execute_result",
          "data": {
            "text/html": [
              "<div>\n",
              "<style scoped>\n",
              "    .dataframe tbody tr th:only-of-type {\n",
              "        vertical-align: middle;\n",
              "    }\n",
              "\n",
              "    .dataframe tbody tr th {\n",
              "        vertical-align: top;\n",
              "    }\n",
              "\n",
              "    .dataframe thead th {\n",
              "        text-align: right;\n",
              "    }\n",
              "</style>\n",
              "<table border=\"1\" class=\"dataframe\">\n",
              "  <thead>\n",
              "    <tr style=\"text-align: right;\">\n",
              "      <th></th>\n",
              "      <th>ENSG</th>\n",
              "      <th>SAMPID</th>\n",
              "      <th>TPM</th>\n",
              "    </tr>\n",
              "  </thead>\n",
              "  <tbody>\n",
              "    <tr>\n",
              "      <th>0</th>\n",
              "      <td>ENSG00000223972.5</td>\n",
              "      <td>GTEX-1117F-0226-SM-5GZZ7</td>\n",
              "      <td>0.00000</td>\n",
              "    </tr>\n",
              "    <tr>\n",
              "      <th>1</th>\n",
              "      <td>ENSG00000227232.5</td>\n",
              "      <td>GTEX-1117F-0226-SM-5GZZ7</td>\n",
              "      <td>8.76400</td>\n",
              "    </tr>\n",
              "    <tr>\n",
              "      <th>2</th>\n",
              "      <td>ENSG00000278267.1</td>\n",
              "      <td>GTEX-1117F-0226-SM-5GZZ7</td>\n",
              "      <td>0.00000</td>\n",
              "    </tr>\n",
              "    <tr>\n",
              "      <th>3</th>\n",
              "      <td>ENSG00000243485.5</td>\n",
              "      <td>GTEX-1117F-0226-SM-5GZZ7</td>\n",
              "      <td>0.07187</td>\n",
              "    </tr>\n",
              "    <tr>\n",
              "      <th>4</th>\n",
              "      <td>ENSG00000237613.2</td>\n",
              "      <td>GTEX-1117F-0226-SM-5GZZ7</td>\n",
              "      <td>0.00000</td>\n",
              "    </tr>\n",
              "  </tbody>\n",
              "</table>\n",
              "</div>"
            ],
            "text/plain": [
              "                ENSG                    SAMPID      TPM\n",
              "0  ENSG00000223972.5  GTEX-1117F-0226-SM-5GZZ7  0.00000\n",
              "1  ENSG00000227232.5  GTEX-1117F-0226-SM-5GZZ7  8.76400\n",
              "2  ENSG00000278267.1  GTEX-1117F-0226-SM-5GZZ7  0.00000\n",
              "3  ENSG00000243485.5  GTEX-1117F-0226-SM-5GZZ7  0.07187\n",
              "4  ENSG00000237613.2  GTEX-1117F-0226-SM-5GZZ7  0.00000"
            ]
          },
          "metadata": {
            "tags": []
          },
          "execution_count": 110
        }
      ]
    },
    {
      "cell_type": "code",
      "metadata": {
        "id": "X17IFQ43pg3i",
        "colab": {
          "base_uri": "https://localhost:8080/"
        },
        "outputId": "5c9fb1d5-30ce-4510-ad62-f31bf57565c4"
      },
      "source": [
        "rnaseq.info()"
      ],
      "execution_count": 111,
      "outputs": [
        {
          "output_type": "stream",
          "text": [
            "<class 'pandas.core.frame.DataFrame'>\n",
            "RangeIndex: 173820000 entries, 0 to 173819999\n",
            "Data columns (total 3 columns):\n",
            " #   Column  Dtype  \n",
            "---  ------  -----  \n",
            " 0   ENSG    object \n",
            " 1   SAMPID  object \n",
            " 2   TPM     float64\n",
            "dtypes: float64(1), object(2)\n",
            "memory usage: 3.9+ GB\n"
          ],
          "name": "stdout"
        }
      ]
    },
    {
      "cell_type": "markdown",
      "metadata": {
        "id": "2rmvTu5upzFs"
      },
      "source": [
        "### Read and merge gene symbols.\n",
        "File from https://www.ensembl.org/biomart, dataset human genes, fields Gene stable ID, Gene stable ID version,  NCBI gene ID, HGNC symbol."
      ]
    },
    {
      "cell_type": "code",
      "metadata": {
        "id": "Xo2F7qVApyk0",
        "colab": {
          "resources": {
            "http://localhost:8080/nbextensions/google.colab/files.js": {
              "data": "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",
              "ok": true,
              "headers": [
                [
                  "content-type",
                  "application/javascript"
                ]
              ],
              "status": 200,
              "status_text": ""
            }
          },
          "base_uri": "https://localhost:8080/",
          "height": 106
        },
        "outputId": "71cd713a-5789-4010-ba9c-1a364e9d9514"
      },
      "source": [
        "print('Upload Biomart ENSG2NCBI genes datafile: ')\n",
        "uploaded = google.colab.files.upload()\n",
        "fn = list(uploaded.keys())[0]\n",
        "print('Uploaded \"{name}\" with {length} bytes'.format(name=fn, length=len(uploaded[fn])))\n",
        "genes = pandas.read_csv(io.StringIO(uploaded[fn].decode('utf8')), sep='\\t', usecols=[1,2,3], na_values=[''], dtype={2:str})\n",
        "genes.columns = ['ENSG','NCBI','HGNC']\n",
        "genes.dropna(inplace=True)"
      ],
      "execution_count": 112,
      "outputs": [
        {
          "output_type": "stream",
          "text": [
            "Upload Biomart ENSG2NCBI genes datafile: \n"
          ],
          "name": "stdout"
        },
        {
          "output_type": "display_data",
          "data": {
            "text/html": [
              "\n",
              "     <input type=\"file\" id=\"files-76a1bc94-51ae-4f5a-9b72-62b74eacd14c\" name=\"files[]\" multiple disabled\n",
              "        style=\"border:none\" />\n",
              "     <output id=\"result-76a1bc94-51ae-4f5a-9b72-62b74eacd14c\">\n",
              "      Upload widget is only available when the cell has been executed in the\n",
              "      current browser session. Please rerun this cell to enable.\n",
              "      </output>\n",
              "      <script src=\"/nbextensions/google.colab/files.js\"></script> "
            ],
            "text/plain": [
              "<IPython.core.display.HTML object>"
            ]
          },
          "metadata": {
            "tags": []
          }
        },
        {
          "output_type": "stream",
          "text": [
            "Saving biomart_ENSG2NCBI_human.tsv to biomart_ENSG2NCBI_human (2).tsv\n",
            "Uploaded \"biomart_ENSG2NCBI_human.tsv\" with 2838104 bytes\n"
          ],
          "name": "stdout"
        }
      ]
    },
    {
      "cell_type": "code",
      "metadata": {
        "id": "fegRBFc-tO00",
        "colab": {
          "base_uri": "https://localhost:8080/",
          "height": 204
        },
        "outputId": "307685d4-d916-4a19-c817-746ef1ef829c"
      },
      "source": [
        "genes.head()"
      ],
      "execution_count": 113,
      "outputs": [
        {
          "output_type": "execute_result",
          "data": {
            "text/html": [
              "<div>\n",
              "<style scoped>\n",
              "    .dataframe tbody tr th:only-of-type {\n",
              "        vertical-align: middle;\n",
              "    }\n",
              "\n",
              "    .dataframe tbody tr th {\n",
              "        vertical-align: top;\n",
              "    }\n",
              "\n",
              "    .dataframe thead th {\n",
              "        text-align: right;\n",
              "    }\n",
              "</style>\n",
              "<table border=\"1\" class=\"dataframe\">\n",
              "  <thead>\n",
              "    <tr style=\"text-align: right;\">\n",
              "      <th></th>\n",
              "      <th>ENSG</th>\n",
              "      <th>NCBI</th>\n",
              "      <th>HGNC</th>\n",
              "    </tr>\n",
              "  </thead>\n",
              "  <tbody>\n",
              "    <tr>\n",
              "      <th>5</th>\n",
              "      <td>ENSG00000198888.2</td>\n",
              "      <td>4535</td>\n",
              "      <td>MT-ND1</td>\n",
              "    </tr>\n",
              "    <tr>\n",
              "      <th>9</th>\n",
              "      <td>ENSG00000198763.3</td>\n",
              "      <td>4536</td>\n",
              "      <td>MT-ND2</td>\n",
              "    </tr>\n",
              "    <tr>\n",
              "      <th>15</th>\n",
              "      <td>ENSG00000198804.2</td>\n",
              "      <td>4512</td>\n",
              "      <td>MT-CO1</td>\n",
              "    </tr>\n",
              "    <tr>\n",
              "      <th>18</th>\n",
              "      <td>ENSG00000198712.1</td>\n",
              "      <td>4513</td>\n",
              "      <td>MT-CO2</td>\n",
              "    </tr>\n",
              "    <tr>\n",
              "      <th>20</th>\n",
              "      <td>ENSG00000228253.1</td>\n",
              "      <td>4509</td>\n",
              "      <td>MT-ATP8</td>\n",
              "    </tr>\n",
              "  </tbody>\n",
              "</table>\n",
              "</div>"
            ],
            "text/plain": [
              "                 ENSG  NCBI     HGNC\n",
              "5   ENSG00000198888.2  4535   MT-ND1\n",
              "9   ENSG00000198763.3  4536   MT-ND2\n",
              "15  ENSG00000198804.2  4512   MT-CO1\n",
              "18  ENSG00000198712.1  4513   MT-CO2\n",
              "20  ENSG00000228253.1  4509  MT-ATP8"
            ]
          },
          "metadata": {
            "tags": []
          },
          "execution_count": 113
        }
      ]
    },
    {
      "cell_type": "code",
      "metadata": {
        "id": "RSyD7C4Nt9vS"
      },
      "source": [
        "rnaseq = pd.merge(rnaseq, genes, on='ENSG', how='inner')"
      ],
      "execution_count": 114,
      "outputs": []
    },
    {
      "cell_type": "code",
      "metadata": {
        "id": "jwWCN2ZxLUVs",
        "colab": {
          "base_uri": "https://localhost:8080/",
          "height": 204
        },
        "outputId": "590a5df7-6522-4c95-dbf1-a1b95ecd58c6"
      },
      "source": [
        "rnaseq.head()"
      ],
      "execution_count": 115,
      "outputs": [
        {
          "output_type": "execute_result",
          "data": {
            "text/html": [
              "<div>\n",
              "<style scoped>\n",
              "    .dataframe tbody tr th:only-of-type {\n",
              "        vertical-align: middle;\n",
              "    }\n",
              "\n",
              "    .dataframe tbody tr th {\n",
              "        vertical-align: top;\n",
              "    }\n",
              "\n",
              "    .dataframe thead th {\n",
              "        text-align: right;\n",
              "    }\n",
              "</style>\n",
              "<table border=\"1\" class=\"dataframe\">\n",
              "  <thead>\n",
              "    <tr style=\"text-align: right;\">\n",
              "      <th></th>\n",
              "      <th>ENSG</th>\n",
              "      <th>SAMPID</th>\n",
              "      <th>TPM</th>\n",
              "      <th>NCBI</th>\n",
              "      <th>HGNC</th>\n",
              "    </tr>\n",
              "  </thead>\n",
              "  <tbody>\n",
              "    <tr>\n",
              "      <th>0</th>\n",
              "      <td>ENSG00000187642.9</td>\n",
              "      <td>GTEX-1117F-0226-SM-5GZZ7</td>\n",
              "      <td>1.2820</td>\n",
              "      <td>84808</td>\n",
              "      <td>PERM1</td>\n",
              "    </tr>\n",
              "    <tr>\n",
              "      <th>1</th>\n",
              "      <td>ENSG00000187642.9</td>\n",
              "      <td>GTEX-1117F-0426-SM-5EGHI</td>\n",
              "      <td>19.6900</td>\n",
              "      <td>84808</td>\n",
              "      <td>PERM1</td>\n",
              "    </tr>\n",
              "    <tr>\n",
              "      <th>2</th>\n",
              "      <td>ENSG00000187642.9</td>\n",
              "      <td>GTEX-1117F-0526-SM-5EGHJ</td>\n",
              "      <td>2.2660</td>\n",
              "      <td>84808</td>\n",
              "      <td>PERM1</td>\n",
              "    </tr>\n",
              "    <tr>\n",
              "      <th>3</th>\n",
              "      <td>ENSG00000187642.9</td>\n",
              "      <td>GTEX-1117F-0626-SM-5N9CS</td>\n",
              "      <td>0.7919</td>\n",
              "      <td>84808</td>\n",
              "      <td>PERM1</td>\n",
              "    </tr>\n",
              "    <tr>\n",
              "      <th>4</th>\n",
              "      <td>ENSG00000187642.9</td>\n",
              "      <td>GTEX-1117F-0726-SM-5GIEN</td>\n",
              "      <td>47.8000</td>\n",
              "      <td>84808</td>\n",
              "      <td>PERM1</td>\n",
              "    </tr>\n",
              "  </tbody>\n",
              "</table>\n",
              "</div>"
            ],
            "text/plain": [
              "                ENSG                    SAMPID      TPM   NCBI   HGNC\n",
              "0  ENSG00000187642.9  GTEX-1117F-0226-SM-5GZZ7   1.2820  84808  PERM1\n",
              "1  ENSG00000187642.9  GTEX-1117F-0426-SM-5EGHI  19.6900  84808  PERM1\n",
              "2  ENSG00000187642.9  GTEX-1117F-0526-SM-5EGHJ   2.2660  84808  PERM1\n",
              "3  ENSG00000187642.9  GTEX-1117F-0626-SM-5N9CS   0.7919  84808  PERM1\n",
              "4  ENSG00000187642.9  GTEX-1117F-0726-SM-5GIEN  47.8000  84808  PERM1"
            ]
          },
          "metadata": {
            "tags": []
          },
          "execution_count": 115
        }
      ]
    },
    {
      "cell_type": "markdown",
      "metadata": {
        "id": "jma3YSsCzxr7"
      },
      "source": [
        "### Remove genes in pseudoautosomal regions (PAR) of chromosome Y (\"ENSGR\")."
      ]
    },
    {
      "cell_type": "code",
      "metadata": {
        "id": "iuJLi_nVzuFM",
        "colab": {
          "base_uri": "https://localhost:8080/"
        },
        "outputId": "7062a260-5fca-42d1-c31a-a260ceed128e"
      },
      "source": [
        "n_ensgr = rnaseq.ENSG.str.startswith('ENSGR').sum()\n",
        "print(f\"ENSGR gene TPMs: {n_ensgr} ({100*n_ensgr/rnaseq.shape[0]:.2f}%)\")"
      ],
      "execution_count": 116,
      "outputs": [
        {
          "output_type": "stream",
          "text": [
            "ENSGR gene TPMs: 0 (0.00%)\n"
          ],
          "name": "stdout"
        }
      ]
    },
    {
      "cell_type": "code",
      "metadata": {
        "id": "bSTgB436XZLq"
      },
      "source": [
        "rnaseq = rnaseq[~rnaseq.ENSG.str.startswith('ENSGR')]"
      ],
      "execution_count": 91,
      "outputs": []
    },
    {
      "cell_type": "markdown",
      "metadata": {
        "id": "DF1bdb1ct3vi"
      },
      "source": [
        "### Merge with samples:"
      ]
    },
    {
      "cell_type": "code",
      "metadata": {
        "id": "KPzImSwat7Mi"
      },
      "source": [
        "rnaseq = pd.merge(rnaseq, samples, how=\"inner\", on=\"SAMPID\")\n",
        "rnaseq = rnaseq.reset_index(drop=True)"
      ],
      "execution_count": 117,
      "outputs": []
    },
    {
      "cell_type": "code",
      "metadata": {
        "id": "qaWd-f4nVBgo",
        "colab": {
          "base_uri": "https://localhost:8080/",
          "height": 289
        },
        "outputId": "c72a55e8-1686-43e9-e84f-e5d06bf68795"
      },
      "source": [
        "rnaseq.head()"
      ],
      "execution_count": 118,
      "outputs": [
        {
          "output_type": "execute_result",
          "data": {
            "text/html": [
              "<div>\n",
              "<style scoped>\n",
              "    .dataframe tbody tr th:only-of-type {\n",
              "        vertical-align: middle;\n",
              "    }\n",
              "\n",
              "    .dataframe tbody tr th {\n",
              "        vertical-align: top;\n",
              "    }\n",
              "\n",
              "    .dataframe thead th {\n",
              "        text-align: right;\n",
              "    }\n",
              "</style>\n",
              "<table border=\"1\" class=\"dataframe\">\n",
              "  <thead>\n",
              "    <tr style=\"text-align: right;\">\n",
              "      <th></th>\n",
              "      <th>ENSG</th>\n",
              "      <th>SAMPID</th>\n",
              "      <th>TPM</th>\n",
              "      <th>NCBI</th>\n",
              "      <th>HGNC</th>\n",
              "      <th>SMATSSCR</th>\n",
              "      <th>SMTS</th>\n",
              "      <th>SMTSD</th>\n",
              "      <th>SMUBRID</th>\n",
              "      <th>SUBJID</th>\n",
              "      <th>SEX</th>\n",
              "      <th>AGE</th>\n",
              "      <th>DTHHRDY</th>\n",
              "    </tr>\n",
              "  </thead>\n",
              "  <tbody>\n",
              "    <tr>\n",
              "      <th>0</th>\n",
              "      <td>ENSG00000187642.9</td>\n",
              "      <td>GTEX-111CU-0126-SM-5GZWZ</td>\n",
              "      <td>0.6690</td>\n",
              "      <td>84808</td>\n",
              "      <td>PERM1</td>\n",
              "      <td>0.0</td>\n",
              "      <td>Adrenal Gland</td>\n",
              "      <td>Adrenal Gland</td>\n",
              "      <td>0002369</td>\n",
              "      <td>GTEX-111CU</td>\n",
              "      <td>M</td>\n",
              "      <td>50-59</td>\n",
              "      <td>0.0</td>\n",
              "    </tr>\n",
              "    <tr>\n",
              "      <th>1</th>\n",
              "      <td>ENSG00000131591.17</td>\n",
              "      <td>GTEX-111CU-0126-SM-5GZWZ</td>\n",
              "      <td>4.0280</td>\n",
              "      <td>54991</td>\n",
              "      <td>C1orf159</td>\n",
              "      <td>0.0</td>\n",
              "      <td>Adrenal Gland</td>\n",
              "      <td>Adrenal Gland</td>\n",
              "      <td>0002369</td>\n",
              "      <td>GTEX-111CU</td>\n",
              "      <td>M</td>\n",
              "      <td>50-59</td>\n",
              "      <td>0.0</td>\n",
              "    </tr>\n",
              "    <tr>\n",
              "      <th>2</th>\n",
              "      <td>ENSG00000184163.3</td>\n",
              "      <td>GTEX-111CU-0126-SM-5GZWZ</td>\n",
              "      <td>0.7839</td>\n",
              "      <td>388581</td>\n",
              "      <td>C1QTNF12</td>\n",
              "      <td>0.0</td>\n",
              "      <td>Adrenal Gland</td>\n",
              "      <td>Adrenal Gland</td>\n",
              "      <td>0002369</td>\n",
              "      <td>GTEX-111CU</td>\n",
              "      <td>M</td>\n",
              "      <td>50-59</td>\n",
              "      <td>0.0</td>\n",
              "    </tr>\n",
              "    <tr>\n",
              "      <th>3</th>\n",
              "      <td>ENSG00000162576.16</td>\n",
              "      <td>GTEX-111CU-0126-SM-5GZWZ</td>\n",
              "      <td>27.3100</td>\n",
              "      <td>54587</td>\n",
              "      <td>MXRA8</td>\n",
              "      <td>0.0</td>\n",
              "      <td>Adrenal Gland</td>\n",
              "      <td>Adrenal Gland</td>\n",
              "      <td>0002369</td>\n",
              "      <td>GTEX-111CU</td>\n",
              "      <td>M</td>\n",
              "      <td>50-59</td>\n",
              "      <td>0.0</td>\n",
              "    </tr>\n",
              "    <tr>\n",
              "      <th>4</th>\n",
              "      <td>ENSG00000175756.13</td>\n",
              "      <td>GTEX-111CU-0126-SM-5GZWZ</td>\n",
              "      <td>74.1500</td>\n",
              "      <td>54998</td>\n",
              "      <td>AURKAIP1</td>\n",
              "      <td>0.0</td>\n",
              "      <td>Adrenal Gland</td>\n",
              "      <td>Adrenal Gland</td>\n",
              "      <td>0002369</td>\n",
              "      <td>GTEX-111CU</td>\n",
              "      <td>M</td>\n",
              "      <td>50-59</td>\n",
              "      <td>0.0</td>\n",
              "    </tr>\n",
              "  </tbody>\n",
              "</table>\n",
              "</div>"
            ],
            "text/plain": [
              "                 ENSG                    SAMPID      TPM  ... SEX    AGE  DTHHRDY\n",
              "0   ENSG00000187642.9  GTEX-111CU-0126-SM-5GZWZ   0.6690  ...   M  50-59      0.0\n",
              "1  ENSG00000131591.17  GTEX-111CU-0126-SM-5GZWZ   4.0280  ...   M  50-59      0.0\n",
              "2   ENSG00000184163.3  GTEX-111CU-0126-SM-5GZWZ   0.7839  ...   M  50-59      0.0\n",
              "3  ENSG00000162576.16  GTEX-111CU-0126-SM-5GZWZ  27.3100  ...   M  50-59      0.0\n",
              "4  ENSG00000175756.13  GTEX-111CU-0126-SM-5GZWZ  74.1500  ...   M  50-59      0.0\n",
              "\n",
              "[5 rows x 13 columns]"
            ]
          },
          "metadata": {
            "tags": []
          },
          "execution_count": 118
        }
      ]
    },
    {
      "cell_type": "code",
      "metadata": {
        "id": "OyxdvWw_ZN5i",
        "colab": {
          "base_uri": "https://localhost:8080/"
        },
        "outputId": "81f89803-c8b7-4ed6-cb88-96a49618abad"
      },
      "source": [
        "rnaseq.info()"
      ],
      "execution_count": 119,
      "outputs": [
        {
          "output_type": "stream",
          "text": [
            "<class 'pandas.core.frame.DataFrame'>\n",
            "RangeIndex: 9501684 entries, 0 to 9501683\n",
            "Data columns (total 13 columns):\n",
            " #   Column    Dtype  \n",
            "---  ------    -----  \n",
            " 0   ENSG      object \n",
            " 1   SAMPID    object \n",
            " 2   TPM       float64\n",
            " 3   NCBI      object \n",
            " 4   HGNC      object \n",
            " 5   SMATSSCR  float64\n",
            " 6   SMTS      object \n",
            " 7   SMTSD     object \n",
            " 8   SMUBRID   object \n",
            " 9   SUBJID    object \n",
            " 10  SEX       object \n",
            " 11  AGE       object \n",
            " 12  DTHHRDY   float64\n",
            "dtypes: float64(3), object(10)\n",
            "memory usage: 942.4+ MB\n"
          ],
          "name": "stdout"
        }
      ]
    },
    {
      "cell_type": "code",
      "metadata": {
        "id": "igm_t_tOBtKr",
        "colab": {
          "base_uri": "https://localhost:8080/"
        },
        "outputId": "b67affba-a23f-4be7-e8d4-87ac34769227"
      },
      "source": [
        "for i,smtsd in enumerate(rnaseq.SMTSD.sort_values().unique()):\n",
        "  print(f\"{i+1}. {smtsd}\")"
      ],
      "execution_count": 120,
      "outputs": [
        {
          "output_type": "stream",
          "text": [
            "1. Adipose - Subcutaneous\n",
            "2. Adipose - Visceral (Omentum)\n",
            "3. Adrenal Gland\n",
            "4. Artery - Aorta\n",
            "5. Artery - Coronary\n",
            "6. Artery - Tibial\n",
            "7. Bladder\n",
            "8. Brain - Amygdala\n",
            "9. Brain - Anterior cingulate cortex (BA24)\n",
            "10. Brain - Caudate (basal ganglia)\n",
            "11. Brain - Cerebellar Hemisphere\n",
            "12. Brain - Cerebellum\n",
            "13. Brain - Cortex\n",
            "14. Brain - Frontal Cortex (BA9)\n",
            "15. Brain - Hippocampus\n",
            "16. Brain - Hypothalamus\n",
            "17. Brain - Nucleus accumbens (basal ganglia)\n",
            "18. Brain - Putamen (basal ganglia)\n",
            "19. Brain - Spinal cord (cervical c-1)\n",
            "20. Brain - Substantia nigra\n",
            "21. Breast - Mammary Tissue\n",
            "22. Cells - Cultured fibroblasts\n",
            "23. Cells - EBV-transformed lymphocytes\n",
            "24. Cervix - Ectocervix\n",
            "25. Cervix - Endocervix\n",
            "26. Colon - Sigmoid\n",
            "27. Colon - Transverse\n",
            "28. Esophagus - Gastroesophageal Junction\n",
            "29. Esophagus - Mucosa\n",
            "30. Esophagus - Muscularis\n",
            "31. Fallopian Tube\n",
            "32. Heart - Atrial Appendage\n",
            "33. Heart - Left Ventricle\n",
            "34. Kidney - Cortex\n",
            "35. Kidney - Medulla\n",
            "36. Liver\n",
            "37. Lung\n",
            "38. Minor Salivary Gland\n",
            "39. Muscle - Skeletal\n",
            "40. Nerve - Tibial\n",
            "41. Ovary\n",
            "42. Pancreas\n",
            "43. Pituitary\n",
            "44. Prostate\n",
            "45. Skin - Not Sun Exposed (Suprapubic)\n",
            "46. Skin - Sun Exposed (Lower leg)\n",
            "47. Small Intestine - Terminal Ileum\n",
            "48. Spleen\n",
            "49. Stomach\n",
            "50. Testis\n",
            "51. Thyroid\n",
            "52. Uterus\n",
            "53. Vagina\n",
            "54. Whole Blood\n"
          ],
          "name": "stdout"
        }
      ]
    },
    {
      "cell_type": "markdown",
      "metadata": {
        "id": "GNWwsSrNOAzX"
      },
      "source": [
        "### Remove data for gene-tissue pairs with all zero expression."
      ]
    },
    {
      "cell_type": "code",
      "metadata": {
        "id": "zl5wT1nQMGrn",
        "colab": {
          "base_uri": "https://localhost:8080/"
        },
        "outputId": "912ffb6c-4318-4438-f0a0-a360628c3581"
      },
      "source": [
        "maxtpm_0 = (rnaseq[['ENSG', 'SMTSD', 'TPM']].groupby(by=['ENSG','SMTSD'], as_index=True).max() == 0).rename(columns={'TPM':'maxtpm_0'})\n",
        "maxtpm_0.maxtpm_0.value_counts()"
      ],
      "execution_count": 121,
      "outputs": [
        {
          "output_type": "execute_result",
          "data": {
            "text/plain": [
              "False    38267\n",
              "True       289\n",
              "Name: maxtpm_0, dtype: int64"
            ]
          },
          "metadata": {
            "tags": []
          },
          "execution_count": 121
        }
      ]
    },
    {
      "cell_type": "code",
      "metadata": {
        "id": "AaxrLbUeavh_",
        "colab": {
          "base_uri": "https://localhost:8080/"
        },
        "outputId": "3b73e625-4bf1-4934-9b90-92d2526226ed"
      },
      "source": [
        "maxtpm_0.info()"
      ],
      "execution_count": 122,
      "outputs": [
        {
          "output_type": "stream",
          "text": [
            "<class 'pandas.core.frame.DataFrame'>\n",
            "MultiIndex: 38556 entries, ('ENSG00000003137.8', 'Adipose - Subcutaneous') to ('ENSG00000284308.1', 'Whole Blood')\n",
            "Data columns (total 1 columns):\n",
            " #   Column    Non-Null Count  Dtype\n",
            "---  ------    --------------  -----\n",
            " 0   maxtpm_0  38556 non-null  bool \n",
            "dtypes: bool(1)\n",
            "memory usage: 156.7+ KB\n"
          ],
          "name": "stdout"
        }
      ]
    },
    {
      "cell_type": "code",
      "metadata": {
        "id": "8aj_IzoKMN0k",
        "colab": {
          "base_uri": "https://localhost:8080/",
          "height": 289
        },
        "outputId": "917dc098-4952-47a5-fb63-8909ec93cf70"
      },
      "source": [
        "rnaseq = pd.merge(rnaseq, maxtpm_0, left_on=['ENSG', 'SMTSD'], right_index=True)\n",
        "rnaseq.head()"
      ],
      "execution_count": 123,
      "outputs": [
        {
          "output_type": "execute_result",
          "data": {
            "text/html": [
              "<div>\n",
              "<style scoped>\n",
              "    .dataframe tbody tr th:only-of-type {\n",
              "        vertical-align: middle;\n",
              "    }\n",
              "\n",
              "    .dataframe tbody tr th {\n",
              "        vertical-align: top;\n",
              "    }\n",
              "\n",
              "    .dataframe thead th {\n",
              "        text-align: right;\n",
              "    }\n",
              "</style>\n",
              "<table border=\"1\" class=\"dataframe\">\n",
              "  <thead>\n",
              "    <tr style=\"text-align: right;\">\n",
              "      <th></th>\n",
              "      <th>ENSG</th>\n",
              "      <th>SAMPID</th>\n",
              "      <th>TPM</th>\n",
              "      <th>NCBI</th>\n",
              "      <th>HGNC</th>\n",
              "      <th>SMATSSCR</th>\n",
              "      <th>SMTS</th>\n",
              "      <th>SMTSD</th>\n",
              "      <th>SMUBRID</th>\n",
              "      <th>SUBJID</th>\n",
              "      <th>SEX</th>\n",
              "      <th>AGE</th>\n",
              "      <th>DTHHRDY</th>\n",
              "      <th>maxtpm_0</th>\n",
              "    </tr>\n",
              "  </thead>\n",
              "  <tbody>\n",
              "    <tr>\n",
              "      <th>0</th>\n",
              "      <td>ENSG00000187642.9</td>\n",
              "      <td>GTEX-111CU-0126-SM-5GZWZ</td>\n",
              "      <td>0.6690</td>\n",
              "      <td>84808</td>\n",
              "      <td>PERM1</td>\n",
              "      <td>0.0</td>\n",
              "      <td>Adrenal Gland</td>\n",
              "      <td>Adrenal Gland</td>\n",
              "      <td>0002369</td>\n",
              "      <td>GTEX-111CU</td>\n",
              "      <td>M</td>\n",
              "      <td>50-59</td>\n",
              "      <td>0.0</td>\n",
              "      <td>False</td>\n",
              "    </tr>\n",
              "    <tr>\n",
              "      <th>22227</th>\n",
              "      <td>ENSG00000187642.9</td>\n",
              "      <td>GTEX-111YS-0126-SM-5987T</td>\n",
              "      <td>0.3483</td>\n",
              "      <td>84808</td>\n",
              "      <td>PERM1</td>\n",
              "      <td>1.0</td>\n",
              "      <td>Adrenal Gland</td>\n",
              "      <td>Adrenal Gland</td>\n",
              "      <td>0002369</td>\n",
              "      <td>GTEX-111YS</td>\n",
              "      <td>M</td>\n",
              "      <td>60-69</td>\n",
              "      <td>0.0</td>\n",
              "      <td>False</td>\n",
              "    </tr>\n",
              "    <tr>\n",
              "      <th>42303</th>\n",
              "      <td>ENSG00000187642.9</td>\n",
              "      <td>GTEX-1122O-0326-SM-5H124</td>\n",
              "      <td>0.1945</td>\n",
              "      <td>84808</td>\n",
              "      <td>PERM1</td>\n",
              "      <td>0.0</td>\n",
              "      <td>Adrenal Gland</td>\n",
              "      <td>Adrenal Gland</td>\n",
              "      <td>0002369</td>\n",
              "      <td>GTEX-1122O</td>\n",
              "      <td>F</td>\n",
              "      <td>60-69</td>\n",
              "      <td>0.0</td>\n",
              "      <td>False</td>\n",
              "    </tr>\n",
              "    <tr>\n",
              "      <th>81021</th>\n",
              "      <td>ENSG00000187642.9</td>\n",
              "      <td>GTEX-117YX-0126-SM-5EGH5</td>\n",
              "      <td>0.7508</td>\n",
              "      <td>84808</td>\n",
              "      <td>PERM1</td>\n",
              "      <td>1.0</td>\n",
              "      <td>Adrenal Gland</td>\n",
              "      <td>Adrenal Gland</td>\n",
              "      <td>0002369</td>\n",
              "      <td>GTEX-117YX</td>\n",
              "      <td>M</td>\n",
              "      <td>50-59</td>\n",
              "      <td>0.0</td>\n",
              "      <td>False</td>\n",
              "    </tr>\n",
              "    <tr>\n",
              "      <th>115437</th>\n",
              "      <td>ENSG00000187642.9</td>\n",
              "      <td>GTEX-11DXX-0126-SM-5EGH7</td>\n",
              "      <td>0.2936</td>\n",
              "      <td>84808</td>\n",
              "      <td>PERM1</td>\n",
              "      <td>0.0</td>\n",
              "      <td>Adrenal Gland</td>\n",
              "      <td>Adrenal Gland</td>\n",
              "      <td>0002369</td>\n",
              "      <td>GTEX-11DXX</td>\n",
              "      <td>F</td>\n",
              "      <td>60-69</td>\n",
              "      <td>0.0</td>\n",
              "      <td>False</td>\n",
              "    </tr>\n",
              "  </tbody>\n",
              "</table>\n",
              "</div>"
            ],
            "text/plain": [
              "                     ENSG                    SAMPID  ...  DTHHRDY maxtpm_0\n",
              "0       ENSG00000187642.9  GTEX-111CU-0126-SM-5GZWZ  ...      0.0    False\n",
              "22227   ENSG00000187642.9  GTEX-111YS-0126-SM-5987T  ...      0.0    False\n",
              "42303   ENSG00000187642.9  GTEX-1122O-0326-SM-5H124  ...      0.0    False\n",
              "81021   ENSG00000187642.9  GTEX-117YX-0126-SM-5EGH5  ...      0.0    False\n",
              "115437  ENSG00000187642.9  GTEX-11DXX-0126-SM-5EGH7  ...      0.0    False\n",
              "\n",
              "[5 rows x 14 columns]"
            ]
          },
          "metadata": {
            "tags": []
          },
          "execution_count": 123
        }
      ]
    },
    {
      "cell_type": "code",
      "metadata": {
        "id": "3kAiTBrD0jfz",
        "colab": {
          "base_uri": "https://localhost:8080/",
          "height": 204
        },
        "outputId": "39a6d163-3087-4ed0-905c-adc7e671f928"
      },
      "source": [
        "rnaseq = rnaseq[~rnaseq['maxtpm_0']]\n",
        "rnaseq.drop(columns=['maxtpm_0'], inplace=True)\n",
        "rnaseq.head()"
      ],
      "execution_count": 124,
      "outputs": [
        {
          "output_type": "execute_result",
          "data": {
            "text/html": [
              "<div>\n",
              "<style scoped>\n",
              "    .dataframe tbody tr th:only-of-type {\n",
              "        vertical-align: middle;\n",
              "    }\n",
              "\n",
              "    .dataframe tbody tr th {\n",
              "        vertical-align: top;\n",
              "    }\n",
              "\n",
              "    .dataframe thead th {\n",
              "        text-align: right;\n",
              "    }\n",
              "</style>\n",
              "<table border=\"1\" class=\"dataframe\">\n",
              "  <thead>\n",
              "    <tr style=\"text-align: right;\">\n",
              "      <th></th>\n",
              "      <th>ENSG</th>\n",
              "      <th>SAMPID</th>\n",
              "      <th>TPM</th>\n",
              "      <th>NCBI</th>\n",
              "      <th>HGNC</th>\n",
              "      <th>SMATSSCR</th>\n",
              "      <th>SMTS</th>\n",
              "      <th>SMTSD</th>\n",
              "      <th>SMUBRID</th>\n",
              "      <th>SUBJID</th>\n",
              "      <th>SEX</th>\n",
              "      <th>AGE</th>\n",
              "      <th>DTHHRDY</th>\n",
              "    </tr>\n",
              "  </thead>\n",
              "  <tbody>\n",
              "    <tr>\n",
              "      <th>0</th>\n",
              "      <td>ENSG00000187642.9</td>\n",
              "      <td>GTEX-111CU-0126-SM-5GZWZ</td>\n",
              "      <td>0.6690</td>\n",
              "      <td>84808</td>\n",
              "      <td>PERM1</td>\n",
              "      <td>0.0</td>\n",
              "      <td>Adrenal Gland</td>\n",
              "      <td>Adrenal Gland</td>\n",
              "      <td>0002369</td>\n",
              "      <td>GTEX-111CU</td>\n",
              "      <td>M</td>\n",
              "      <td>50-59</td>\n",
              "      <td>0.0</td>\n",
              "    </tr>\n",
              "    <tr>\n",
              "      <th>22227</th>\n",
              "      <td>ENSG00000187642.9</td>\n",
              "      <td>GTEX-111YS-0126-SM-5987T</td>\n",
              "      <td>0.3483</td>\n",
              "      <td>84808</td>\n",
              "      <td>PERM1</td>\n",
              "      <td>1.0</td>\n",
              "      <td>Adrenal Gland</td>\n",
              "      <td>Adrenal Gland</td>\n",
              "      <td>0002369</td>\n",
              "      <td>GTEX-111YS</td>\n",
              "      <td>M</td>\n",
              "      <td>60-69</td>\n",
              "      <td>0.0</td>\n",
              "    </tr>\n",
              "    <tr>\n",
              "      <th>42303</th>\n",
              "      <td>ENSG00000187642.9</td>\n",
              "      <td>GTEX-1122O-0326-SM-5H124</td>\n",
              "      <td>0.1945</td>\n",
              "      <td>84808</td>\n",
              "      <td>PERM1</td>\n",
              "      <td>0.0</td>\n",
              "      <td>Adrenal Gland</td>\n",
              "      <td>Adrenal Gland</td>\n",
              "      <td>0002369</td>\n",
              "      <td>GTEX-1122O</td>\n",
              "      <td>F</td>\n",
              "      <td>60-69</td>\n",
              "      <td>0.0</td>\n",
              "    </tr>\n",
              "    <tr>\n",
              "      <th>81021</th>\n",
              "      <td>ENSG00000187642.9</td>\n",
              "      <td>GTEX-117YX-0126-SM-5EGH5</td>\n",
              "      <td>0.7508</td>\n",
              "      <td>84808</td>\n",
              "      <td>PERM1</td>\n",
              "      <td>1.0</td>\n",
              "      <td>Adrenal Gland</td>\n",
              "      <td>Adrenal Gland</td>\n",
              "      <td>0002369</td>\n",
              "      <td>GTEX-117YX</td>\n",
              "      <td>M</td>\n",
              "      <td>50-59</td>\n",
              "      <td>0.0</td>\n",
              "    </tr>\n",
              "    <tr>\n",
              "      <th>115437</th>\n",
              "      <td>ENSG00000187642.9</td>\n",
              "      <td>GTEX-11DXX-0126-SM-5EGH7</td>\n",
              "      <td>0.2936</td>\n",
              "      <td>84808</td>\n",
              "      <td>PERM1</td>\n",
              "      <td>0.0</td>\n",
              "      <td>Adrenal Gland</td>\n",
              "      <td>Adrenal Gland</td>\n",
              "      <td>0002369</td>\n",
              "      <td>GTEX-11DXX</td>\n",
              "      <td>F</td>\n",
              "      <td>60-69</td>\n",
              "      <td>0.0</td>\n",
              "    </tr>\n",
              "  </tbody>\n",
              "</table>\n",
              "</div>"
            ],
            "text/plain": [
              "                     ENSG                    SAMPID     TPM  ... SEX    AGE  DTHHRDY\n",
              "0       ENSG00000187642.9  GTEX-111CU-0126-SM-5GZWZ  0.6690  ...   M  50-59      0.0\n",
              "22227   ENSG00000187642.9  GTEX-111YS-0126-SM-5987T  0.3483  ...   M  60-69      0.0\n",
              "42303   ENSG00000187642.9  GTEX-1122O-0326-SM-5H124  0.1945  ...   F  60-69      0.0\n",
              "81021   ENSG00000187642.9  GTEX-117YX-0126-SM-5EGH5  0.7508  ...   M  50-59      0.0\n",
              "115437  ENSG00000187642.9  GTEX-11DXX-0126-SM-5EGH7  0.2936  ...   F  60-69      0.0\n",
              "\n",
              "[5 rows x 13 columns]"
            ]
          },
          "metadata": {
            "tags": []
          },
          "execution_count": 124
        }
      ]
    },
    {
      "cell_type": "code",
      "metadata": {
        "id": "Z3NZZv1uPfkS",
        "colab": {
          "base_uri": "https://localhost:8080/"
        },
        "outputId": "9b47bd36-74b7-46be-d556-c8a297273a1d"
      },
      "source": [
        "rnaseq.info()"
      ],
      "execution_count": 125,
      "outputs": [
        {
          "output_type": "stream",
          "text": [
            "<class 'pandas.core.frame.DataFrame'>\n",
            "Int64Index: 9483320 entries, 0 to 7750769\n",
            "Data columns (total 13 columns):\n",
            " #   Column    Dtype  \n",
            "---  ------    -----  \n",
            " 0   ENSG      object \n",
            " 1   SAMPID    object \n",
            " 2   TPM       float64\n",
            " 3   NCBI      object \n",
            " 4   HGNC      object \n",
            " 5   SMATSSCR  float64\n",
            " 6   SMTS      object \n",
            " 7   SMTSD     object \n",
            " 8   SMUBRID   object \n",
            " 9   SUBJID    object \n",
            " 10  SEX       object \n",
            " 11  AGE       object \n",
            " 12  DTHHRDY   float64\n",
            "dtypes: float64(3), object(10)\n",
            "memory usage: 1012.9+ MB\n"
          ],
          "name": "stdout"
        }
      ]
    },
    {
      "cell_type": "markdown",
      "metadata": {
        "id": "Fo25DP6F5nSS"
      },
      "source": [
        "### Remove data for gene-tissue pairs not present in both sexes. (This removes most sex specific tissues.)"
      ]
    },
    {
      "cell_type": "code",
      "metadata": {
        "id": "nAIemJ8LNJ-Y",
        "colab": {
          "base_uri": "https://localhost:8080/"
        },
        "outputId": "77b40136-08c4-4caf-b975-240f65d3b4be"
      },
      "source": [
        "sex_count = (rnaseq[['ENSG', 'SMTSD', 'SEX']].groupby(by=['ENSG','SMTSD'], as_index=True).nunique()).rename(columns={'SEX':'sex_count'})\n",
        "print(sex_count.sex_count.value_counts())"
      ],
      "execution_count": 126,
      "outputs": [
        {
          "output_type": "stream",
          "text": [
            "2    32003\n",
            "1     6264\n",
            "Name: sex_count, dtype: int64\n"
          ],
          "name": "stdout"
        }
      ]
    },
    {
      "cell_type": "code",
      "metadata": {
        "id": "KCof6MiYNnP8",
        "colab": {
          "base_uri": "https://localhost:8080/"
        },
        "outputId": "b1f43189-d08d-40b5-9529-5ec52afce263"
      },
      "source": [
        "sex_count_is_2 = (rnaseq[['ENSG', 'SMTSD', 'SEX']].groupby(by=['ENSG','SMTSD'], as_index=True).nunique()==2).rename(columns={'SEX':'ok'})\n",
        "print(sex_count_is_2.ok.value_counts())"
      ],
      "execution_count": 127,
      "outputs": [
        {
          "output_type": "stream",
          "text": [
            "True     32003\n",
            "False     6264\n",
            "Name: ok, dtype: int64\n"
          ],
          "name": "stdout"
        }
      ]
    },
    {
      "cell_type": "code",
      "metadata": {
        "id": "uzfK2XPdOAJT",
        "colab": {
          "base_uri": "https://localhost:8080/"
        },
        "outputId": "ae8f6d3f-fe25-4eb3-9494-3c45779fa8d6"
      },
      "source": [
        "sex_count.info()"
      ],
      "execution_count": 128,
      "outputs": [
        {
          "output_type": "stream",
          "text": [
            "<class 'pandas.core.frame.DataFrame'>\n",
            "MultiIndex: 38267 entries, ('ENSG00000003137.8', 'Adipose - Subcutaneous') to ('ENSG00000284308.1', 'Whole Blood')\n",
            "Data columns (total 1 columns):\n",
            " #   Column     Non-Null Count  Dtype\n",
            "---  ------     --------------  -----\n",
            " 0   sex_count  38267 non-null  int64\n",
            "dtypes: int64(1)\n",
            "memory usage: 417.2+ KB\n"
          ],
          "name": "stdout"
        }
      ]
    },
    {
      "cell_type": "code",
      "metadata": {
        "id": "lP7meXxz4lAY",
        "colab": {
          "base_uri": "https://localhost:8080/",
          "height": 289
        },
        "outputId": "cf3ccc31-77f3-4583-d137-dec7900aafbe"
      },
      "source": [
        "rnaseq = pd.merge(rnaseq, sex_count, left_on=['ENSG', 'SMTSD'], right_index=True, how=\"inner\")\n",
        "rnaseq.head()"
      ],
      "execution_count": 129,
      "outputs": [
        {
          "output_type": "execute_result",
          "data": {
            "text/html": [
              "<div>\n",
              "<style scoped>\n",
              "    .dataframe tbody tr th:only-of-type {\n",
              "        vertical-align: middle;\n",
              "    }\n",
              "\n",
              "    .dataframe tbody tr th {\n",
              "        vertical-align: top;\n",
              "    }\n",
              "\n",
              "    .dataframe thead th {\n",
              "        text-align: right;\n",
              "    }\n",
              "</style>\n",
              "<table border=\"1\" class=\"dataframe\">\n",
              "  <thead>\n",
              "    <tr style=\"text-align: right;\">\n",
              "      <th></th>\n",
              "      <th>ENSG</th>\n",
              "      <th>SAMPID</th>\n",
              "      <th>TPM</th>\n",
              "      <th>NCBI</th>\n",
              "      <th>HGNC</th>\n",
              "      <th>SMATSSCR</th>\n",
              "      <th>SMTS</th>\n",
              "      <th>SMTSD</th>\n",
              "      <th>SMUBRID</th>\n",
              "      <th>SUBJID</th>\n",
              "      <th>SEX</th>\n",
              "      <th>AGE</th>\n",
              "      <th>DTHHRDY</th>\n",
              "      <th>sex_count</th>\n",
              "    </tr>\n",
              "  </thead>\n",
              "  <tbody>\n",
              "    <tr>\n",
              "      <th>0</th>\n",
              "      <td>ENSG00000187642.9</td>\n",
              "      <td>GTEX-111CU-0126-SM-5GZWZ</td>\n",
              "      <td>0.6690</td>\n",
              "      <td>84808</td>\n",
              "      <td>PERM1</td>\n",
              "      <td>0.0</td>\n",
              "      <td>Adrenal Gland</td>\n",
              "      <td>Adrenal Gland</td>\n",
              "      <td>0002369</td>\n",
              "      <td>GTEX-111CU</td>\n",
              "      <td>M</td>\n",
              "      <td>50-59</td>\n",
              "      <td>0.0</td>\n",
              "      <td>2</td>\n",
              "    </tr>\n",
              "    <tr>\n",
              "      <th>22227</th>\n",
              "      <td>ENSG00000187642.9</td>\n",
              "      <td>GTEX-111YS-0126-SM-5987T</td>\n",
              "      <td>0.3483</td>\n",
              "      <td>84808</td>\n",
              "      <td>PERM1</td>\n",
              "      <td>1.0</td>\n",
              "      <td>Adrenal Gland</td>\n",
              "      <td>Adrenal Gland</td>\n",
              "      <td>0002369</td>\n",
              "      <td>GTEX-111YS</td>\n",
              "      <td>M</td>\n",
              "      <td>60-69</td>\n",
              "      <td>0.0</td>\n",
              "      <td>2</td>\n",
              "    </tr>\n",
              "    <tr>\n",
              "      <th>42303</th>\n",
              "      <td>ENSG00000187642.9</td>\n",
              "      <td>GTEX-1122O-0326-SM-5H124</td>\n",
              "      <td>0.1945</td>\n",
              "      <td>84808</td>\n",
              "      <td>PERM1</td>\n",
              "      <td>0.0</td>\n",
              "      <td>Adrenal Gland</td>\n",
              "      <td>Adrenal Gland</td>\n",
              "      <td>0002369</td>\n",
              "      <td>GTEX-1122O</td>\n",
              "      <td>F</td>\n",
              "      <td>60-69</td>\n",
              "      <td>0.0</td>\n",
              "      <td>2</td>\n",
              "    </tr>\n",
              "    <tr>\n",
              "      <th>81021</th>\n",
              "      <td>ENSG00000187642.9</td>\n",
              "      <td>GTEX-117YX-0126-SM-5EGH5</td>\n",
              "      <td>0.7508</td>\n",
              "      <td>84808</td>\n",
              "      <td>PERM1</td>\n",
              "      <td>1.0</td>\n",
              "      <td>Adrenal Gland</td>\n",
              "      <td>Adrenal Gland</td>\n",
              "      <td>0002369</td>\n",
              "      <td>GTEX-117YX</td>\n",
              "      <td>M</td>\n",
              "      <td>50-59</td>\n",
              "      <td>0.0</td>\n",
              "      <td>2</td>\n",
              "    </tr>\n",
              "    <tr>\n",
              "      <th>115437</th>\n",
              "      <td>ENSG00000187642.9</td>\n",
              "      <td>GTEX-11DXX-0126-SM-5EGH7</td>\n",
              "      <td>0.2936</td>\n",
              "      <td>84808</td>\n",
              "      <td>PERM1</td>\n",
              "      <td>0.0</td>\n",
              "      <td>Adrenal Gland</td>\n",
              "      <td>Adrenal Gland</td>\n",
              "      <td>0002369</td>\n",
              "      <td>GTEX-11DXX</td>\n",
              "      <td>F</td>\n",
              "      <td>60-69</td>\n",
              "      <td>0.0</td>\n",
              "      <td>2</td>\n",
              "    </tr>\n",
              "  </tbody>\n",
              "</table>\n",
              "</div>"
            ],
            "text/plain": [
              "                     ENSG                    SAMPID  ...  DTHHRDY sex_count\n",
              "0       ENSG00000187642.9  GTEX-111CU-0126-SM-5GZWZ  ...      0.0         2\n",
              "22227   ENSG00000187642.9  GTEX-111YS-0126-SM-5987T  ...      0.0         2\n",
              "42303   ENSG00000187642.9  GTEX-1122O-0326-SM-5H124  ...      0.0         2\n",
              "81021   ENSG00000187642.9  GTEX-117YX-0126-SM-5EGH5  ...      0.0         2\n",
              "115437  ENSG00000187642.9  GTEX-11DXX-0126-SM-5EGH7  ...      0.0         2\n",
              "\n",
              "[5 rows x 14 columns]"
            ]
          },
          "metadata": {
            "tags": []
          },
          "execution_count": 129
        }
      ]
    },
    {
      "cell_type": "code",
      "metadata": {
        "id": "UGmkPRINNNt6"
      },
      "source": [
        "rnaseq = rnaseq[rnaseq['sex_count'] == 2]\n",
        "rnaseq.drop(columns=['sex_count'], inplace=True)"
      ],
      "execution_count": null,
      "outputs": []
    },
    {
      "cell_type": "code",
      "metadata": {
        "id": "68vSaB3pPs3E"
      },
      "source": [
        "rnaseq.info()"
      ],
      "execution_count": null,
      "outputs": []
    },
    {
      "cell_type": "code",
      "metadata": {
        "id": "7XcMeIvPTAGi"
      },
      "source": [
        "rnaseq.SMTSD.value_counts()"
      ],
      "execution_count": null,
      "outputs": []
    },
    {
      "cell_type": "markdown",
      "metadata": {
        "id": "pTofwlsHT3vI"
      },
      "source": [
        "### Remove mammary tissue (partially sex-specific)."
      ]
    },
    {
      "cell_type": "code",
      "metadata": {
        "id": "iYePilvsTdKl"
      },
      "source": [
        "smtsd_breast = \"Breast - Mammary Tissue\"\n",
        "rnaseq = rnaseq[rnaseq.SMTSD!=smtsd_breast]\n"
      ],
      "execution_count": null,
      "outputs": []
    },
    {
      "cell_type": "markdown",
      "metadata": {
        "id": "uYN-z_adiKwz"
      },
      "source": [
        "### Aggregate samples, compute median TPM by gene+tissue+sex+age:"
      ]
    },
    {
      "cell_type": "code",
      "metadata": {
        "colab": {
          "base_uri": "https://localhost:8080/",
          "height": 221
        },
        "id": "U6Hxke0KVRU8",
        "outputId": "c6ea0ba7-2bb2-4b96-c558-a83b23139588"
      },
      "source": [
        "rnaseq = rnaseq[['ENSG', 'SMTSD', 'SEX', 'AGE', 'TPM']].groupby(by=['ENSG', 'SMTSD', 'SEX', 'AGE'], as_index=False).median()\n",
        "print(rnaseq.shape)\n",
        "rnaseq.head()"
      ],
      "execution_count": 130,
      "outputs": [
        {
          "output_type": "stream",
          "text": [
            "(401596, 5)\n"
          ],
          "name": "stdout"
        },
        {
          "output_type": "execute_result",
          "data": {
            "text/html": [
              "<div>\n",
              "<style scoped>\n",
              "    .dataframe tbody tr th:only-of-type {\n",
              "        vertical-align: middle;\n",
              "    }\n",
              "\n",
              "    .dataframe tbody tr th {\n",
              "        vertical-align: top;\n",
              "    }\n",
              "\n",
              "    .dataframe thead th {\n",
              "        text-align: right;\n",
              "    }\n",
              "</style>\n",
              "<table border=\"1\" class=\"dataframe\">\n",
              "  <thead>\n",
              "    <tr style=\"text-align: right;\">\n",
              "      <th></th>\n",
              "      <th>ENSG</th>\n",
              "      <th>SMTSD</th>\n",
              "      <th>SEX</th>\n",
              "      <th>AGE</th>\n",
              "      <th>TPM</th>\n",
              "    </tr>\n",
              "  </thead>\n",
              "  <tbody>\n",
              "    <tr>\n",
              "      <th>0</th>\n",
              "      <td>ENSG00000003137.8</td>\n",
              "      <td>Adipose - Subcutaneous</td>\n",
              "      <td>F</td>\n",
              "      <td>20-29</td>\n",
              "      <td>40.285</td>\n",
              "    </tr>\n",
              "    <tr>\n",
              "      <th>1</th>\n",
              "      <td>ENSG00000003137.8</td>\n",
              "      <td>Adipose - Subcutaneous</td>\n",
              "      <td>F</td>\n",
              "      <td>30-39</td>\n",
              "      <td>33.960</td>\n",
              "    </tr>\n",
              "    <tr>\n",
              "      <th>2</th>\n",
              "      <td>ENSG00000003137.8</td>\n",
              "      <td>Adipose - Subcutaneous</td>\n",
              "      <td>F</td>\n",
              "      <td>40-49</td>\n",
              "      <td>36.910</td>\n",
              "    </tr>\n",
              "    <tr>\n",
              "      <th>3</th>\n",
              "      <td>ENSG00000003137.8</td>\n",
              "      <td>Adipose - Subcutaneous</td>\n",
              "      <td>F</td>\n",
              "      <td>50-59</td>\n",
              "      <td>41.530</td>\n",
              "    </tr>\n",
              "    <tr>\n",
              "      <th>4</th>\n",
              "      <td>ENSG00000003137.8</td>\n",
              "      <td>Adipose - Subcutaneous</td>\n",
              "      <td>F</td>\n",
              "      <td>60-69</td>\n",
              "      <td>36.340</td>\n",
              "    </tr>\n",
              "  </tbody>\n",
              "</table>\n",
              "</div>"
            ],
            "text/plain": [
              "                ENSG                   SMTSD SEX    AGE     TPM\n",
              "0  ENSG00000003137.8  Adipose - Subcutaneous   F  20-29  40.285\n",
              "1  ENSG00000003137.8  Adipose - Subcutaneous   F  30-39  33.960\n",
              "2  ENSG00000003137.8  Adipose - Subcutaneous   F  40-49  36.910\n",
              "3  ENSG00000003137.8  Adipose - Subcutaneous   F  50-59  41.530\n",
              "4  ENSG00000003137.8  Adipose - Subcutaneous   F  60-69  36.340"
            ]
          },
          "metadata": {
            "tags": []
          },
          "execution_count": 130
        }
      ]
    },
    {
      "cell_type": "markdown",
      "metadata": {
        "id": "8nN4N6BFVHon"
      },
      "source": [
        "### Aggregate samples, compute median TPM by gene+tissue+sex:"
      ]
    },
    {
      "cell_type": "code",
      "metadata": {
        "id": "1d_9a09mpI3Q"
      },
      "source": [
        "rnaseq = rnaseq[['ENSG', 'SMTSD', 'SEX', 'TPM']].groupby(by=['ENSG','SMTSD','SEX'], as_index=False).median()\n",
        "print(rnaseq.shape)\n",
        "rnaseq.head()"
      ],
      "execution_count": null,
      "outputs": []
    },
    {
      "cell_type": "markdown",
      "metadata": {
        "id": "blUTzPb6KwQp"
      },
      "source": [
        "### Save median TPMs file for analysis, 1-row per gene+tissue+sex:"
      ]
    },
    {
      "cell_type": "code",
      "metadata": {
        "id": "I8aLhmVuKqIN"
      },
      "source": [
        "rnaseq.round(3).to_csv('gtex_rnaseq_prep_median.tsv', sep='\\t', index=False)\n",
        "google.colab.files.download('gtex_rnaseq_prep_median.tsv')"
      ],
      "execution_count": null,
      "outputs": []
    },
    {
      "cell_type": "markdown",
      "metadata": {
        "id": "_LNh8CQeGhHq"
      },
      "source": [
        "### Pivot TPMs to generate gene profiles:"
      ]
    },
    {
      "cell_type": "code",
      "metadata": {
        "id": "oj7EVdEqHuPv"
      },
      "source": [
        "tissues = pd.Series(pd.unique(rnaseq.SMTSD.sort_values()))\n"
      ],
      "execution_count": null,
      "outputs": []
    },
    {
      "cell_type": "code",
      "metadata": {
        "id": "xwSCxutLGdhT"
      },
      "source": [
        "rnaseq_f = rnaseq[rnaseq.SEX=='F'].drop(columns=['SEX'])\n",
        "rnaseq_f = rnaseq_f[['ENSG','SMTSD','TPM']]\n",
        "exfiles_f = rnaseq_f.pivot(index='ENSG', columns='SMTSD')\n",
        "exfiles_f.columns = exfiles_f.columns.get_level_values(1)\n",
        "exfiles_f = exfiles_f.reset_index(drop=False)\n",
        "exfiles_f['SEX'] = 'F'\n",
        "exfiles_f.head()"
      ],
      "execution_count": null,
      "outputs": []
    },
    {
      "cell_type": "code",
      "metadata": {
        "id": "u3nARXHgIAzx"
      },
      "source": [
        "rnaseq_m = rnaseq[rnaseq.SEX=='M'].drop(columns=['SEX'])\n",
        "rnaseq_m = rnaseq_m[['ENSG','SMTSD','TPM']]\n",
        "exfiles_m = rnaseq_m.pivot(index='ENSG', columns='SMTSD')\n",
        "exfiles_m.columns = exfiles_m.columns.get_level_values(1)\n",
        "exfiles_m = exfiles_m.reset_index(drop=False)\n",
        "exfiles_m['SEX'] = 'M'\n",
        "exfiles_m.head()"
      ],
      "execution_count": null,
      "outputs": []
    },
    {
      "cell_type": "code",
      "metadata": {
        "id": "j8Ws0J9FH754"
      },
      "source": [
        "exfiles = pandas.concat([exfiles_f, exfiles_m])\n",
        "cols = ['ENSG', 'SEX']+tissues.tolist()\n",
        "exfiles = exfiles[cols]\n",
        "exfiles.head()"
      ],
      "execution_count": null,
      "outputs": []
    },
    {
      "cell_type": "code",
      "metadata": {
        "id": "OhoyTNEWHnb6"
      },
      "source": [
        "exfiles.info()"
      ],
      "execution_count": null,
      "outputs": []
    },
    {
      "cell_type": "markdown",
      "metadata": {
        "id": "yzgXes3SI8gL"
      },
      "source": [
        "### Save expression profiles:"
      ]
    },
    {
      "cell_type": "code",
      "metadata": {
        "id": "nefUHaiKIvHf"
      },
      "source": [
        "exfiles.round(3).to_csv('exfiles_eps.tsv', sep='\\t', index=False)\n",
        "google.colab.files.download('exfiles_eps.tsv')"
      ],
      "execution_count": null,
      "outputs": []
    }
  ]
}