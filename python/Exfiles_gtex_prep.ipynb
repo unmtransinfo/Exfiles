{
  "nbformat": 4,
  "nbformat_minor": 0,
  "metadata": {
    "colab": {
      "name": "Exfiles_gtex_prep.ipynb",
      "provenance": [],
      "collapsed_sections": []
    },
    "kernelspec": {
      "name": "python3",
      "display_name": "Python 3"
    }
  },
  "cells": [
    {
      "cell_type": "markdown",
      "metadata": {
        "id": "vB7J5P7Vszpg"
      },
      "source": [
        "<table width=\"100%\" style=\"border:none\">\n",
        "  <tr>\n",
        "    <td valign=\"top\">\n",
        "      <h1>GTEx Preprocessing</h1>\n",
        "      <ul>\n",
        "<li>Author: Jeremy Yang\n",
        "<li>Required: Python3, Pandas\n",
        "<li>Clean, tidy, reshape RNAseq expression data.\n",
        "<li>Save aggregated-samples median TPM file for downstream co-expression analysis.\n",
        "<li>Save expression profiles (exfiles) TPM file for downstream co-expression analysis.\n",
        "      </ul>\n",
        "    </td>\n",
        "    <td align=\"right\">\n",
        "        <p>UNM Translational Informatics Division</p>\n",
        "<img style=\"float:right\" width=\"100\" src=\"https://brand.unm.edu/logos/unm-logo-mark.jpg\" alt=\"UNM Logo\" />\n",
        "    </td>\n",
        "  </tr>\n",
        "  </table>\n",
        " "
      ]
    },
    {
      "cell_type": "code",
      "metadata": {
        "id": "StWvpEEEef7p",
        "colab": {
          "base_uri": "https://localhost:8080/"
        },
        "outputId": "bf4bcd15-0c5d-4577-ccd7-2038ef23fa39"
      },
      "source": [
        "import sys,os,re,time,io\n",
        "import urllib.request\n",
        "import google.colab\n",
        "import numpy,scipy\n",
        "import pandas as pd\n",
        "print(f\"Python: {sys.version.split()[0]}; Pandas: {pd.__version__}; Scipy: {scipy.__version__} ; Numpy: {numpy.__version__}\")"
      ],
      "execution_count": 171,
      "outputs": [
        {
          "output_type": "stream",
          "text": [
            "Python: 3.6.9; Pandas: 1.1.5; Scipy: 1.4.1 ; Numpy: 1.19.5\n"
          ],
          "name": "stdout"
        }
      ]
    },
    {
      "cell_type": "code",
      "metadata": {
        "colab": {
          "base_uri": "https://localhost:8080/"
        },
        "id": "fiq3rMHSozEW",
        "outputId": "93a84e9a-a89f-4085-c1e7-41e9034e11bc"
      },
      "source": [
        "!pip install BioClients"
      ],
      "execution_count": 172,
      "outputs": [
        {
          "output_type": "stream",
          "text": [
            "Requirement already satisfied: BioClients in /usr/local/lib/python3.6/dist-packages (0.1.4)\n"
          ],
          "name": "stdout"
        }
      ]
    },
    {
      "cell_type": "code",
      "metadata": {
        "id": "Fel_jXdbo9Wo"
      },
      "source": [
        "import BioClients.ensembl.biomart"
      ],
      "execution_count": 173,
      "outputs": []
    },
    {
      "cell_type": "markdown",
      "metadata": {
        "id": "cwKhzyFo1L21"
      },
      "source": [
        "### Download subjects datafile:\n",
        "GTEx_Analysis_v8_Annotations_SubjectPhenotypesDS.txt"
      ]
    },
    {
      "cell_type": "code",
      "metadata": {
        "id": "1SMOnt2P1Zfv",
        "colab": {
          "base_uri": "https://localhost:8080/"
        },
        "outputId": "fa7042f3-57e8-45e5-f600-b1d7e6619ea9"
      },
      "source": [
        "url = \"https://storage.googleapis.com/gtex_analysis_v8/annotations/GTEx_Analysis_v8_Annotations_SubjectPhenotypesDS.txt\"\n",
        "subjects = pd.read_csv(url, \"\\t\")\n",
        "print(f\"dataset nrows: {subjects.shape[0]} ; ncols: {subjects.shape[1]}:\")"
      ],
      "execution_count": 174,
      "outputs": [
        {
          "output_type": "stream",
          "text": [
            "dataset nrows: 980 ; ncols: 4:\n"
          ],
          "name": "stdout"
        }
      ]
    },
    {
      "cell_type": "code",
      "metadata": {
        "id": "zLyV_boFRtSO",
        "colab": {
          "base_uri": "https://localhost:8080/",
          "height": 204
        },
        "outputId": "6cf21406-80ba-47f0-e0ab-a5adb2846f5e"
      },
      "source": [
        "subjects.head()"
      ],
      "execution_count": 175,
      "outputs": [
        {
          "output_type": "execute_result",
          "data": {
            "text/html": [
              "<div>\n",
              "<style scoped>\n",
              "    .dataframe tbody tr th:only-of-type {\n",
              "        vertical-align: middle;\n",
              "    }\n",
              "\n",
              "    .dataframe tbody tr th {\n",
              "        vertical-align: top;\n",
              "    }\n",
              "\n",
              "    .dataframe thead th {\n",
              "        text-align: right;\n",
              "    }\n",
              "</style>\n",
              "<table border=\"1\" class=\"dataframe\">\n",
              "  <thead>\n",
              "    <tr style=\"text-align: right;\">\n",
              "      <th></th>\n",
              "      <th>SUBJID</th>\n",
              "      <th>SEX</th>\n",
              "      <th>AGE</th>\n",
              "      <th>DTHHRDY</th>\n",
              "    </tr>\n",
              "  </thead>\n",
              "  <tbody>\n",
              "    <tr>\n",
              "      <th>0</th>\n",
              "      <td>GTEX-1117F</td>\n",
              "      <td>2</td>\n",
              "      <td>60-69</td>\n",
              "      <td>4.0</td>\n",
              "    </tr>\n",
              "    <tr>\n",
              "      <th>1</th>\n",
              "      <td>GTEX-111CU</td>\n",
              "      <td>1</td>\n",
              "      <td>50-59</td>\n",
              "      <td>0.0</td>\n",
              "    </tr>\n",
              "    <tr>\n",
              "      <th>2</th>\n",
              "      <td>GTEX-111FC</td>\n",
              "      <td>1</td>\n",
              "      <td>60-69</td>\n",
              "      <td>1.0</td>\n",
              "    </tr>\n",
              "    <tr>\n",
              "      <th>3</th>\n",
              "      <td>GTEX-111VG</td>\n",
              "      <td>1</td>\n",
              "      <td>60-69</td>\n",
              "      <td>3.0</td>\n",
              "    </tr>\n",
              "    <tr>\n",
              "      <th>4</th>\n",
              "      <td>GTEX-111YS</td>\n",
              "      <td>1</td>\n",
              "      <td>60-69</td>\n",
              "      <td>0.0</td>\n",
              "    </tr>\n",
              "  </tbody>\n",
              "</table>\n",
              "</div>"
            ],
            "text/plain": [
              "       SUBJID  SEX    AGE  DTHHRDY\n",
              "0  GTEX-1117F    2  60-69      4.0\n",
              "1  GTEX-111CU    1  50-59      0.0\n",
              "2  GTEX-111FC    1  60-69      1.0\n",
              "3  GTEX-111VG    1  60-69      3.0\n",
              "4  GTEX-111YS    1  60-69      0.0"
            ]
          },
          "metadata": {
            "tags": []
          },
          "execution_count": 175
        }
      ]
    },
    {
      "cell_type": "code",
      "metadata": {
        "id": "XDjnIBHN6PC2",
        "colab": {
          "base_uri": "https://localhost:8080/"
        },
        "outputId": "2ef3e200-e5fa-48a4-8b56-66f7076f88ba"
      },
      "source": [
        "subjects.AGE.value_counts().sort_index()"
      ],
      "execution_count": 176,
      "outputs": [
        {
          "output_type": "execute_result",
          "data": {
            "text/plain": [
              "20-29     84\n",
              "30-39     78\n",
              "40-49    153\n",
              "50-59    315\n",
              "60-69    317\n",
              "70-79     33\n",
              "Name: AGE, dtype: int64"
            ]
          },
          "metadata": {
            "tags": []
          },
          "execution_count": 176
        }
      ]
    },
    {
      "cell_type": "markdown",
      "metadata": {
        "id": "DQV5a6eVplg5"
      },
      "source": [
        "### Download samples datafile:\n",
        "new: GTEx_Analysis_v8_Annotations_SampleAttributesDS.txt"
      ]
    },
    {
      "cell_type": "code",
      "metadata": {
        "id": "xfMAdBTnexYS",
        "colab": {
          "base_uri": "https://localhost:8080/"
        },
        "outputId": "68f817c0-614b-4ed2-8116-4f0ac02cb4e7"
      },
      "source": [
        "url = \"https://storage.googleapis.com/gtex_analysis_v8/annotations/GTEx_Analysis_v8_Annotations_SampleAttributesDS.txt\"\n",
        "samples = pd.read_csv(url, sep='\\t')\n",
        "samples = samples[['SAMPID', 'SMATSSCR', 'SMTS', 'SMTSD', 'SMUBRID']]\n",
        "print(\"dataset nrows: %d ; ncols: %d:\"%(samples.shape[0],samples.shape[1]))"
      ],
      "execution_count": 177,
      "outputs": [
        {
          "output_type": "stream",
          "text": [
            "dataset nrows: 22951 ; ncols: 5:\n"
          ],
          "name": "stdout"
        }
      ]
    },
    {
      "cell_type": "markdown",
      "metadata": {
        "id": "JVR2KlrrxPFk"
      },
      "source": [
        " * SMTS = Tissue Type (parent of SMTSD)\n",
        " * SMTSD = Tissue Type, more specific\n",
        " * SMATSSCR = Autolysis Score, 0=None, 1=Mild, 2=Moderate, 3=Severe\n",
        " * Note that other sample attributes may be suitable for quality criteria.\n",
        " * SMUBRID = Uberon ID, anatomical location\n",
        " * SUBJID is first two hyphen-delimted fields of SAMPID."
      ]
    },
    {
      "cell_type": "code",
      "metadata": {
        "id": "GUPSF541upk0",
        "colab": {
          "base_uri": "https://localhost:8080/",
          "height": 204
        },
        "outputId": "c736975b-ae85-4683-f53a-84231438d0ff"
      },
      "source": [
        "samples['SUBJID'] = samples.SAMPID.str.extract('^([^-]+-[^-]+)-', expand=True)\n",
        "smtsd_orig = samples.SMTSD.unique()\n",
        "samples.head()"
      ],
      "execution_count": 178,
      "outputs": [
        {
          "output_type": "execute_result",
          "data": {
            "text/html": [
              "<div>\n",
              "<style scoped>\n",
              "    .dataframe tbody tr th:only-of-type {\n",
              "        vertical-align: middle;\n",
              "    }\n",
              "\n",
              "    .dataframe tbody tr th {\n",
              "        vertical-align: top;\n",
              "    }\n",
              "\n",
              "    .dataframe thead th {\n",
              "        text-align: right;\n",
              "    }\n",
              "</style>\n",
              "<table border=\"1\" class=\"dataframe\">\n",
              "  <thead>\n",
              "    <tr style=\"text-align: right;\">\n",
              "      <th></th>\n",
              "      <th>SAMPID</th>\n",
              "      <th>SMATSSCR</th>\n",
              "      <th>SMTS</th>\n",
              "      <th>SMTSD</th>\n",
              "      <th>SMUBRID</th>\n",
              "      <th>SUBJID</th>\n",
              "    </tr>\n",
              "  </thead>\n",
              "  <tbody>\n",
              "    <tr>\n",
              "      <th>0</th>\n",
              "      <td>GTEX-1117F-0003-SM-58Q7G</td>\n",
              "      <td>NaN</td>\n",
              "      <td>Blood</td>\n",
              "      <td>Whole Blood</td>\n",
              "      <td>0013756</td>\n",
              "      <td>GTEX-1117F</td>\n",
              "    </tr>\n",
              "    <tr>\n",
              "      <th>1</th>\n",
              "      <td>GTEX-1117F-0003-SM-5DWSB</td>\n",
              "      <td>NaN</td>\n",
              "      <td>Blood</td>\n",
              "      <td>Whole Blood</td>\n",
              "      <td>0013756</td>\n",
              "      <td>GTEX-1117F</td>\n",
              "    </tr>\n",
              "    <tr>\n",
              "      <th>2</th>\n",
              "      <td>GTEX-1117F-0003-SM-6WBT7</td>\n",
              "      <td>NaN</td>\n",
              "      <td>Blood</td>\n",
              "      <td>Whole Blood</td>\n",
              "      <td>0013756</td>\n",
              "      <td>GTEX-1117F</td>\n",
              "    </tr>\n",
              "    <tr>\n",
              "      <th>3</th>\n",
              "      <td>GTEX-1117F-0011-R10a-SM-AHZ7F</td>\n",
              "      <td>NaN</td>\n",
              "      <td>Brain</td>\n",
              "      <td>Brain - Frontal Cortex (BA9)</td>\n",
              "      <td>0009834</td>\n",
              "      <td>GTEX-1117F</td>\n",
              "    </tr>\n",
              "    <tr>\n",
              "      <th>4</th>\n",
              "      <td>GTEX-1117F-0011-R10b-SM-CYKQ8</td>\n",
              "      <td>NaN</td>\n",
              "      <td>Brain</td>\n",
              "      <td>Brain - Frontal Cortex (BA9)</td>\n",
              "      <td>0009834</td>\n",
              "      <td>GTEX-1117F</td>\n",
              "    </tr>\n",
              "  </tbody>\n",
              "</table>\n",
              "</div>"
            ],
            "text/plain": [
              "                          SAMPID  SMATSSCR  ...  SMUBRID      SUBJID\n",
              "0       GTEX-1117F-0003-SM-58Q7G       NaN  ...  0013756  GTEX-1117F\n",
              "1       GTEX-1117F-0003-SM-5DWSB       NaN  ...  0013756  GTEX-1117F\n",
              "2       GTEX-1117F-0003-SM-6WBT7       NaN  ...  0013756  GTEX-1117F\n",
              "3  GTEX-1117F-0011-R10a-SM-AHZ7F       NaN  ...  0009834  GTEX-1117F\n",
              "4  GTEX-1117F-0011-R10b-SM-CYKQ8       NaN  ...  0009834  GTEX-1117F\n",
              "\n",
              "[5 rows x 6 columns]"
            ]
          },
          "metadata": {
            "tags": []
          },
          "execution_count": 178
        }
      ]
    },
    {
      "cell_type": "code",
      "metadata": {
        "id": "u7G3QJKEqPn5",
        "colab": {
          "base_uri": "https://localhost:8080/"
        },
        "outputId": "2c1b380e-632d-4ad5-f564-a9a67aab3757"
      },
      "source": [
        "print(\"Tissue types: %s\"%(str(set(smtsd_orig))))"
      ],
      "execution_count": 179,
      "outputs": [
        {
          "output_type": "stream",
          "text": [
            "Tissue types: {'Cells - EBV-transformed lymphocytes', 'Heart - Atrial Appendage', 'Pituitary', 'Adipose - Visceral (Omentum)', 'Stomach', 'Minor Salivary Gland', 'Small Intestine - Terminal Ileum', 'Nerve - Tibial', 'Fallopian Tube', 'Artery - Aorta', 'Brain - Frontal Cortex (BA9)', 'Cervix - Endocervix', 'Kidney - Cortex', 'Whole Blood', 'Cells - Leukemia cell line (CML)', 'Esophagus - Muscularis', 'Kidney - Medulla', 'Ovary', 'Adrenal Gland', 'Artery - Tibial', 'Brain - Substantia nigra', 'Brain - Putamen (basal ganglia)', 'Breast - Mammary Tissue', 'Adipose - Subcutaneous', 'Artery - Coronary', 'Esophagus - Mucosa', 'Muscle - Skeletal', 'Skin - Sun Exposed (Lower leg)', 'Brain - Hypothalamus', 'Brain - Amygdala', 'Uterus', 'Colon - Sigmoid', 'Heart - Left Ventricle', 'Skin - Not Sun Exposed (Suprapubic)', 'Brain - Cortex', 'Thyroid', 'Brain - Cerebellar Hemisphere', 'Brain - Anterior cingulate cortex (BA24)', 'Bladder', 'Esophagus - Gastroesophageal Junction', 'Liver', 'Brain - Hippocampus', 'Testis', 'Lung', 'Colon - Transverse', 'Brain - Spinal cord (cervical c-1)', 'Brain - Nucleus accumbens (basal ganglia)', 'Vagina', 'Brain - Cerebellum', 'Cervix - Ectocervix', 'Spleen', 'Prostate', 'Pancreas', 'Cells - Cultured fibroblasts', 'Brain - Caudate (basal ganglia)'}\n"
          ],
          "name": "stdout"
        }
      ]
    },
    {
      "cell_type": "code",
      "metadata": {
        "id": "1tP1g_Y-cElR",
        "colab": {
          "base_uri": "https://localhost:8080/"
        },
        "outputId": "573b97a5-4572-44d3-cc6c-382e908eec46"
      },
      "source": [
        "print(\"Counts: SAMPID: %d; SMTS: %d; SMTSD: %d; SUBJID: %d\"%(\n",
        "      samples.SAMPID.nunique(), samples.SMTS.nunique(), samples.SMTSD.nunique(), samples.SUBJID.nunique()))"
      ],
      "execution_count": 180,
      "outputs": [
        {
          "output_type": "stream",
          "text": [
            "Counts: SAMPID: 22951; SMTS: 31; SMTSD: 55; SUBJID: 980\n"
          ],
          "name": "stdout"
        }
      ]
    },
    {
      "cell_type": "markdown",
      "metadata": {
        "id": "LjMKpFc7zJMd"
      },
      "source": [
        "### Remove samples with high degree of autolysis (self-digestion).\n",
        "The destruction of organism cells or tissues by the organisms’ own enzymes or processes.\n",
        "0=None, 1=Mild, 2=Moderate, 3=Severe"
      ]
    },
    {
      "cell_type": "code",
      "metadata": {
        "id": "DzjmyqoEXAiL",
        "colab": {
          "base_uri": "https://localhost:8080/"
        },
        "outputId": "4989dece-8b27-4b05-cf6e-2ca62a6ae640"
      },
      "source": [
        "samples.SMATSSCR.value_counts(dropna=False).sort_index()"
      ],
      "execution_count": 181,
      "outputs": [
        {
          "output_type": "execute_result",
          "data": {
            "text/plain": [
              "0.0     3554\n",
              "1.0    10410\n",
              "2.0     1582\n",
              "3.0      193\n",
              "NaN     7212\n",
              "Name: SMATSSCR, dtype: int64"
            ]
          },
          "metadata": {
            "tags": []
          },
          "execution_count": 181
        }
      ]
    },
    {
      "cell_type": "code",
      "metadata": {
        "id": "2chak03tWICs",
        "colab": {
          "base_uri": "https://localhost:8080/"
        },
        "outputId": "d8ad6dfa-c717-4ddc-9b79-1d88cfabbc06"
      },
      "source": [
        "samples = samples[(samples.SMATSSCR != 3) & (samples.SMATSSCR != 2)]\n",
        "print(\"Counts: SAMPID: %d; SMTS: %d; SMTSD: %d; SUBJID: %d\"%(\n",
        "      samples.SAMPID.nunique(), samples.SMTS.nunique(), samples.SMTSD.nunique(), samples.SUBJID.nunique()))"
      ],
      "execution_count": 182,
      "outputs": [
        {
          "output_type": "stream",
          "text": [
            "Counts: SAMPID: 21176; SMTS: 31; SMTSD: 55; SUBJID: 980\n"
          ],
          "name": "stdout"
        }
      ]
    },
    {
      "cell_type": "markdown",
      "metadata": {
        "id": "W_5vX8JGEg-R"
      },
      "source": [
        "### Clean & tidy cols. "
      ]
    },
    {
      "cell_type": "code",
      "metadata": {
        "id": "fkZ3s4ZPLWKl"
      },
      "source": [
        "samples.loc[(samples.SMTS.str.strip() == '') & samples.SMTSD.str.startswith(\"Skin -\"), 'SMTS'] = 'Skin'"
      ],
      "execution_count": 183,
      "outputs": []
    },
    {
      "cell_type": "code",
      "metadata": {
        "id": "4yzccK8flH02",
        "colab": {
          "base_uri": "https://localhost:8080/"
        },
        "outputId": "a7ccab54-6937-4996-9940-f2f1b94f7d11"
      },
      "source": [
        "(samples.SMTS+\" : \"+samples.SMTSD).value_counts().sort_index()"
      ],
      "execution_count": 184,
      "outputs": [
        {
          "output_type": "execute_result",
          "data": {
            "text/plain": [
              "Adipose Tissue : Adipose - Subcutaneous                752\n",
              "Adipose Tissue : Adipose - Visceral (Omentum)          560\n",
              "Adrenal Gland : Adrenal Gland                          209\n",
              "Bladder : Bladder                                        8\n",
              "Blood : Cells - EBV-transformed lymphocytes            192\n",
              "Blood : Whole Blood                                   3288\n",
              "Blood Vessel : Artery - Aorta                          444\n",
              "Blood Vessel : Artery - Coronary                       251\n",
              "Blood Vessel : Artery - Tibial                         757\n",
              "Bone Marrow : Cells - Leukemia cell line (CML)         217\n",
              "Brain : Brain - Amygdala                               177\n",
              "Brain : Brain - Anterior cingulate cortex (BA24)       213\n",
              "Brain : Brain - Caudate (basal ganglia)                291\n",
              "Brain : Brain - Cerebellar Hemisphere                  263\n",
              "Brain : Brain - Cerebellum                             226\n",
              "Brain : Brain - Cortex                                 268\n",
              "Brain : Brain - Frontal Cortex (BA9)                   425\n",
              "Brain : Brain - Hippocampus                            243\n",
              "Brain : Brain - Hypothalamus                           236\n",
              "Brain : Brain - Nucleus accumbens (basal ganglia)      277\n",
              "Brain : Brain - Putamen (basal ganglia)                232\n",
              "Brain : Brain - Spinal cord (cervical c-1)             182\n",
              "Brain : Brain - Substantia nigra                       164\n",
              "Breast : Breast - Mammary Tissue                       463\n",
              "Cervix Uteri : Cervix - Ectocervix                       7\n",
              "Cervix Uteri : Cervix - Endocervix                       7\n",
              "Colon : Colon - Sigmoid                                342\n",
              "Colon : Colon - Transverse                             260\n",
              "Esophagus : Esophagus - Gastroesophageal Junction      384\n",
              "Esophagus : Esophagus - Mucosa                         568\n",
              "Esophagus : Esophagus - Muscularis                     535\n",
              "Fallopian Tube : Fallopian Tube                          7\n",
              "Heart : Heart - Atrial Appendage                       440\n",
              "Heart : Heart - Left Ventricle                         683\n",
              "Kidney : Kidney - Cortex                                33\n",
              "Kidney : Kidney - Medulla                                2\n",
              "Liver : Liver                                          218\n",
              "Lung : Lung                                            639\n",
              "Muscle : Muscle - Skeletal                            1117\n",
              "Nerve : Nerve - Tibial                                 713\n",
              "Ovary : Ovary                                          191\n",
              "Pancreas : Pancreas                                    300\n",
              "Pituitary : Pituitary                                  187\n",
              "Prostate : Prostate                                    173\n",
              "Salivary Gland : Minor Salivary Gland                  179\n",
              "Skin : Cells - Cultured fibroblasts                    527\n",
              "Skin : Skin - Not Sun Exposed (Suprapubic)             627\n",
              "Skin : Skin - Sun Exposed (Lower leg)                  833\n",
              "Small Intestine : Small Intestine - Terminal Ileum     147\n",
              "Spleen : Spleen                                        217\n",
              "Stomach : Stomach                                      277\n",
              "Testis : Testis                                        283\n",
              "Thyroid : Thyroid                                      646\n",
              "Uterus : Uterus                                        149\n",
              "Vagina : Vagina                                        147\n",
              "dtype: int64"
            ]
          },
          "metadata": {
            "tags": []
          },
          "execution_count": 184
        }
      ]
    },
    {
      "cell_type": "markdown",
      "metadata": {
        "id": "zrITfg3v3iQ1"
      },
      "source": [
        "### MERGE samples with subjects:"
      ]
    },
    {
      "cell_type": "code",
      "metadata": {
        "id": "fhQuOfNr3vo_",
        "colab": {
          "base_uri": "https://localhost:8080/",
          "height": 204
        },
        "outputId": "3f52142c-4310-402e-e59c-a283b9a43107"
      },
      "source": [
        "samples = pd.merge(samples, subjects, how='inner', on='SUBJID')\n",
        "samples.head()"
      ],
      "execution_count": 185,
      "outputs": [
        {
          "output_type": "execute_result",
          "data": {
            "text/html": [
              "<div>\n",
              "<style scoped>\n",
              "    .dataframe tbody tr th:only-of-type {\n",
              "        vertical-align: middle;\n",
              "    }\n",
              "\n",
              "    .dataframe tbody tr th {\n",
              "        vertical-align: top;\n",
              "    }\n",
              "\n",
              "    .dataframe thead th {\n",
              "        text-align: right;\n",
              "    }\n",
              "</style>\n",
              "<table border=\"1\" class=\"dataframe\">\n",
              "  <thead>\n",
              "    <tr style=\"text-align: right;\">\n",
              "      <th></th>\n",
              "      <th>SAMPID</th>\n",
              "      <th>SMATSSCR</th>\n",
              "      <th>SMTS</th>\n",
              "      <th>SMTSD</th>\n",
              "      <th>SMUBRID</th>\n",
              "      <th>SUBJID</th>\n",
              "      <th>SEX</th>\n",
              "      <th>AGE</th>\n",
              "      <th>DTHHRDY</th>\n",
              "    </tr>\n",
              "  </thead>\n",
              "  <tbody>\n",
              "    <tr>\n",
              "      <th>0</th>\n",
              "      <td>GTEX-1117F-0003-SM-58Q7G</td>\n",
              "      <td>NaN</td>\n",
              "      <td>Blood</td>\n",
              "      <td>Whole Blood</td>\n",
              "      <td>0013756</td>\n",
              "      <td>GTEX-1117F</td>\n",
              "      <td>2</td>\n",
              "      <td>60-69</td>\n",
              "      <td>4.0</td>\n",
              "    </tr>\n",
              "    <tr>\n",
              "      <th>1</th>\n",
              "      <td>GTEX-1117F-0003-SM-5DWSB</td>\n",
              "      <td>NaN</td>\n",
              "      <td>Blood</td>\n",
              "      <td>Whole Blood</td>\n",
              "      <td>0013756</td>\n",
              "      <td>GTEX-1117F</td>\n",
              "      <td>2</td>\n",
              "      <td>60-69</td>\n",
              "      <td>4.0</td>\n",
              "    </tr>\n",
              "    <tr>\n",
              "      <th>2</th>\n",
              "      <td>GTEX-1117F-0003-SM-6WBT7</td>\n",
              "      <td>NaN</td>\n",
              "      <td>Blood</td>\n",
              "      <td>Whole Blood</td>\n",
              "      <td>0013756</td>\n",
              "      <td>GTEX-1117F</td>\n",
              "      <td>2</td>\n",
              "      <td>60-69</td>\n",
              "      <td>4.0</td>\n",
              "    </tr>\n",
              "    <tr>\n",
              "      <th>3</th>\n",
              "      <td>GTEX-1117F-0011-R10a-SM-AHZ7F</td>\n",
              "      <td>NaN</td>\n",
              "      <td>Brain</td>\n",
              "      <td>Brain - Frontal Cortex (BA9)</td>\n",
              "      <td>0009834</td>\n",
              "      <td>GTEX-1117F</td>\n",
              "      <td>2</td>\n",
              "      <td>60-69</td>\n",
              "      <td>4.0</td>\n",
              "    </tr>\n",
              "    <tr>\n",
              "      <th>4</th>\n",
              "      <td>GTEX-1117F-0011-R10b-SM-CYKQ8</td>\n",
              "      <td>NaN</td>\n",
              "      <td>Brain</td>\n",
              "      <td>Brain - Frontal Cortex (BA9)</td>\n",
              "      <td>0009834</td>\n",
              "      <td>GTEX-1117F</td>\n",
              "      <td>2</td>\n",
              "      <td>60-69</td>\n",
              "      <td>4.0</td>\n",
              "    </tr>\n",
              "  </tbody>\n",
              "</table>\n",
              "</div>"
            ],
            "text/plain": [
              "                          SAMPID  SMATSSCR   SMTS  ... SEX    AGE DTHHRDY\n",
              "0       GTEX-1117F-0003-SM-58Q7G       NaN  Blood  ...   2  60-69     4.0\n",
              "1       GTEX-1117F-0003-SM-5DWSB       NaN  Blood  ...   2  60-69     4.0\n",
              "2       GTEX-1117F-0003-SM-6WBT7       NaN  Blood  ...   2  60-69     4.0\n",
              "3  GTEX-1117F-0011-R10a-SM-AHZ7F       NaN  Brain  ...   2  60-69     4.0\n",
              "4  GTEX-1117F-0011-R10b-SM-CYKQ8       NaN  Brain  ...   2  60-69     4.0\n",
              "\n",
              "[5 rows x 9 columns]"
            ]
          },
          "metadata": {
            "tags": []
          },
          "execution_count": 185
        }
      ]
    },
    {
      "cell_type": "code",
      "metadata": {
        "id": "8YAOA-6xj8X0",
        "colab": {
          "base_uri": "https://localhost:8080/"
        },
        "outputId": "55bd3063-b7eb-4bed-cd16-28cdee24db26"
      },
      "source": [
        "print(f\"Counts: SAMPID: {samples.SAMPID.nunique()}; SMTS: {samples.SMTS.nunique()}; SMTSD: {samples.SMTSD.nunique()}; SUBJID: {samples.SUBJID.nunique()}\")"
      ],
      "execution_count": 186,
      "outputs": [
        {
          "output_type": "stream",
          "text": [
            "Counts: SAMPID: 21176; SMTS: 31; SMTSD: 55; SUBJID: 980\n"
          ],
          "name": "stdout"
        }
      ]
    },
    {
      "cell_type": "markdown",
      "metadata": {
        "id": "00ru0X8O1yRw"
      },
      "source": [
        "### Keep only samples from healthier subjects (and remove NAs): \n",
        "(DTHHRDY = Hardy Scale)\n",
        "Death classification based on the 4-point Hardy Scale:\n",
        "1) Violent and fast death Deaths due to accident, blunt force trauma or suicide, terminal phase estimated at < 10 min. \n",
        "2) Fast death of natural causes Sudden unexpected deaths of people who had been reasonably healthy, after a terminal phase estimated at < 1 hr (with sudden death from a myocardial infarction as a model cause of death for this category) \n",
        "3) Intermediate death Death after a terminal phase of 1 to 24 hrs (not classifiable as 2 or 4); patients who were ill but death was unexpected \n",
        "4) Slow death Death after a long illness, with a terminal phase longer than 1 day (commonly cancer or chronic pulmonary disease); deaths that are not unexpected \n",
        "0) Ventilator Case All cases on a ventilator immediately before death.\n"
      ]
    },
    {
      "cell_type": "code",
      "metadata": {
        "id": "HY-mFFIfiESx",
        "colab": {
          "base_uri": "https://localhost:8080/"
        },
        "outputId": "c31dcc96-1c8c-4183-a33b-fda593f4616d"
      },
      "source": [
        "samples.DTHHRDY.value_counts(sort=True, dropna=False).sort_index()"
      ],
      "execution_count": 187,
      "outputs": [
        {
          "output_type": "execute_result",
          "data": {
            "text/plain": [
              "0.0    11131\n",
              "1.0      832\n",
              "2.0     5331\n",
              "3.0     1030\n",
              "4.0     2435\n",
              "NaN      417\n",
              "Name: DTHHRDY, dtype: int64"
            ]
          },
          "metadata": {
            "tags": []
          },
          "execution_count": 187
        }
      ]
    },
    {
      "cell_type": "code",
      "metadata": {
        "id": "Rq1nYMjshwd6",
        "colab": {
          "base_uri": "https://localhost:8080/"
        },
        "outputId": "6ff216ac-0ee1-4135-8869-575da9775d3d"
      },
      "source": [
        "samples = samples[samples.DTHHRDY<=2]\n",
        "samples.DTHHRDY.value_counts(sort=True, dropna=False).sort_index()"
      ],
      "execution_count": 188,
      "outputs": [
        {
          "output_type": "execute_result",
          "data": {
            "text/plain": [
              "0.0    11131\n",
              "1.0      832\n",
              "2.0     5331\n",
              "Name: DTHHRDY, dtype: int64"
            ]
          },
          "metadata": {
            "tags": []
          },
          "execution_count": 188
        }
      ]
    },
    {
      "cell_type": "code",
      "metadata": {
        "id": "3Qzg2JiAnMfQ",
        "colab": {
          "base_uri": "https://localhost:8080/"
        },
        "outputId": "61cace13-5f71-4abb-b0c2-c35a1d72b943"
      },
      "source": [
        "smtsd_final = samples.SMTSD.unique()\n",
        "smtsd_lost = set(smtsd_orig) - set(smtsd_final)\n",
        "print(\"Tissue types lost: \"+str(smtsd_lost))\n",
        "print(f\"Counts: SAMPID: {samples.SAMPID.nunique()}; SMTS: {samples.SMTS.nunique()}; SMTSD: {samples.SMTSD.nunique()}; SUBJID: {samples.SUBJID.nunique()}\")"
      ],
      "execution_count": 189,
      "outputs": [
        {
          "output_type": "stream",
          "text": [
            "Tissue types lost: {'Cells - Leukemia cell line (CML)'}\n",
            "Counts: SAMPID: 17294; SMTS: 30; SMTSD: 54; SUBJID: 785\n"
          ],
          "name": "stdout"
        }
      ]
    },
    {
      "cell_type": "markdown",
      "metadata": {
        "id": "awHczCpk0B4w"
      },
      "source": [
        "### Clean & tidy:"
      ]
    },
    {
      "cell_type": "code",
      "metadata": {
        "id": "d86XP_Z2mYkV",
        "colab": {
          "base_uri": "https://localhost:8080/"
        },
        "outputId": "aa8b3012-50fe-4789-b971-0bf7bbaaae32"
      },
      "source": [
        "samples.SEX = samples.SEX.apply(lambda x: 'F' if x==2 else 'M' if x==1 else None)\n",
        "print(samples.SEX.value_counts(sort=True, dropna=False).sort_index())\n",
        "if (samples.SEX.isna().sum()>0):\n",
        "  samples.dropna(subset=['SEX'], inplace=True)\n",
        "print(f\"Counts: SAMPID: {samples.SAMPID.nunique()}; SMTS: {samples.SMTS.nunique()}; SMTSD: {samples.SMTSD.nunique()}; SUBJID: {samples.SUBJID.nunique()}\")"
      ],
      "execution_count": 190,
      "outputs": [
        {
          "output_type": "stream",
          "text": [
            "F     5761\n",
            "M    11533\n",
            "Name: SEX, dtype: int64\n",
            "Counts: SAMPID: 17294; SMTS: 30; SMTSD: 54; SUBJID: 785\n"
          ],
          "name": "stdout"
        }
      ]
    },
    {
      "cell_type": "markdown",
      "metadata": {
        "id": "ZetBwy5jqOQk"
      },
      "source": [
        "### Download GENE TPMs (full or demo subset)\n",
        "Full file is ~56k rows, 2.6GB uncompressed.  Demo ~5k rows."
      ]
    },
    {
      "cell_type": "code",
      "metadata": {
        "id": "iAwlsefpq4dx",
        "colab": {
          "base_uri": "https://localhost:8080/"
        },
        "outputId": "e432fbd7-7d8c-4dad-c8d2-1e7e8514e9d3"
      },
      "source": [
        "url = \"https://storage.googleapis.com/gtex_analysis_v8/rna_seq_data/GTEx_Analysis_2017-06-05_v8_RNASeQCv1.1.9_gene_tpm.gct.gz\"\n",
        "t0 = time.time()\n",
        "rnaseq = pd.read_table(url, compression=\"gzip\", sep=\"\\t\", skiprows=2, nrows=1000)\n",
        "print(f\"dataset nrows: {rnaseq.shape[0]} ; ncols: {rnaseq.shape[1]}:\")\n",
        "print(f\"Elapsed: {time.time()-t0:.2f}s\")"
      ],
      "execution_count": 191,
      "outputs": [
        {
          "output_type": "stream",
          "text": [
            "dataset nrows: 1000 ; ncols: 17384:\n",
            "Elapsed: 21.82s\n"
          ],
          "name": "stdout"
        }
      ]
    },
    {
      "cell_type": "code",
      "metadata": {
        "id": "TMVeLSeH3CwZ",
        "colab": {
          "base_uri": "https://localhost:8080/"
        },
        "outputId": "f94432f0-659a-4dc4-803f-1ac0e2f48b53"
      },
      "source": [
        "rnaseq.info()"
      ],
      "execution_count": 192,
      "outputs": [
        {
          "output_type": "stream",
          "text": [
            "<class 'pandas.core.frame.DataFrame'>\n",
            "RangeIndex: 1000 entries, 0 to 999\n",
            "Columns: 17384 entries, Name to GTEX-ZZPU-2726-SM-5NQ8O\n",
            "dtypes: float64(17382), object(2)\n",
            "memory usage: 132.6+ MB\n"
          ],
          "name": "stdout"
        }
      ]
    },
    {
      "cell_type": "code",
      "metadata": {
        "id": "g0t_4RBswccq",
        "colab": {
          "base_uri": "https://localhost:8080/"
        },
        "outputId": "067f661d-3b76-44c3-81d4-8973f8b5a0b7"
      },
      "source": [
        "rnaseq = rnaseq.drop(columns=['Description'])\n",
        "rnaseq = rnaseq.rename(columns={'Name':'ENSGV'})\n",
        "rnaseq.columns"
      ],
      "execution_count": 193,
      "outputs": [
        {
          "output_type": "execute_result",
          "data": {
            "text/plain": [
              "Index(['ENSGV', 'GTEX-1117F-0226-SM-5GZZ7', 'GTEX-1117F-0426-SM-5EGHI',\n",
              "       'GTEX-1117F-0526-SM-5EGHJ', 'GTEX-1117F-0626-SM-5N9CS',\n",
              "       'GTEX-1117F-0726-SM-5GIEN', 'GTEX-1117F-1326-SM-5EGHH',\n",
              "       'GTEX-1117F-2426-SM-5EGGH', 'GTEX-1117F-2526-SM-5GZY6',\n",
              "       'GTEX-1117F-2826-SM-5GZXL',\n",
              "       ...\n",
              "       'GTEX-ZZPU-1126-SM-5N9CW', 'GTEX-ZZPU-1226-SM-5N9CK',\n",
              "       'GTEX-ZZPU-1326-SM-5GZWS', 'GTEX-ZZPU-1426-SM-5GZZ6',\n",
              "       'GTEX-ZZPU-1826-SM-5E43L', 'GTEX-ZZPU-2126-SM-5EGIU',\n",
              "       'GTEX-ZZPU-2226-SM-5EGIV', 'GTEX-ZZPU-2426-SM-5E44I',\n",
              "       'GTEX-ZZPU-2626-SM-5E45Y', 'GTEX-ZZPU-2726-SM-5NQ8O'],\n",
              "      dtype='object', length=17383)"
            ]
          },
          "metadata": {
            "tags": []
          },
          "execution_count": 193
        }
      ]
    },
    {
      "cell_type": "markdown",
      "metadata": {
        "id": "1LsGqo2Fxtp1"
      },
      "source": [
        "### MELT: One row per ENSG+SAMPID+TPM triplet:\n",
        "Easier to handle but ~3x storage."
      ]
    },
    {
      "cell_type": "code",
      "metadata": {
        "id": "bSaZOsP_xkQ2"
      },
      "source": [
        "rnaseq = rnaseq.melt(id_vars = \"ENSGV\", var_name = \"SAMPID\", value_name = \"TPM\")\n",
        "rnaseq[\"ENSG\"] = rnaseq[\"ENSGV\"].str.replace(\"\\.[\\d]$\", \"\", regex=True)\n",
        "rnaseq = rnaseq.drop(columns=['ENSGV'])\n",
        "rnaseq = rnaseq[[\"ENSG\", \"SAMPID\", \"TPM\"]]"
      ],
      "execution_count": 194,
      "outputs": []
    },
    {
      "cell_type": "code",
      "metadata": {
        "id": "3E0h4B2jzoK5",
        "colab": {
          "base_uri": "https://localhost:8080/",
          "height": 204
        },
        "outputId": "1ea28341-4656-4f12-96a8-124d05209764"
      },
      "source": [
        "rnaseq.head()"
      ],
      "execution_count": 195,
      "outputs": [
        {
          "output_type": "execute_result",
          "data": {
            "text/html": [
              "<div>\n",
              "<style scoped>\n",
              "    .dataframe tbody tr th:only-of-type {\n",
              "        vertical-align: middle;\n",
              "    }\n",
              "\n",
              "    .dataframe tbody tr th {\n",
              "        vertical-align: top;\n",
              "    }\n",
              "\n",
              "    .dataframe thead th {\n",
              "        text-align: right;\n",
              "    }\n",
              "</style>\n",
              "<table border=\"1\" class=\"dataframe\">\n",
              "  <thead>\n",
              "    <tr style=\"text-align: right;\">\n",
              "      <th></th>\n",
              "      <th>ENSG</th>\n",
              "      <th>SAMPID</th>\n",
              "      <th>TPM</th>\n",
              "    </tr>\n",
              "  </thead>\n",
              "  <tbody>\n",
              "    <tr>\n",
              "      <th>0</th>\n",
              "      <td>ENSG00000223972</td>\n",
              "      <td>GTEX-1117F-0226-SM-5GZZ7</td>\n",
              "      <td>0.00000</td>\n",
              "    </tr>\n",
              "    <tr>\n",
              "      <th>1</th>\n",
              "      <td>ENSG00000227232</td>\n",
              "      <td>GTEX-1117F-0226-SM-5GZZ7</td>\n",
              "      <td>8.76400</td>\n",
              "    </tr>\n",
              "    <tr>\n",
              "      <th>2</th>\n",
              "      <td>ENSG00000278267</td>\n",
              "      <td>GTEX-1117F-0226-SM-5GZZ7</td>\n",
              "      <td>0.00000</td>\n",
              "    </tr>\n",
              "    <tr>\n",
              "      <th>3</th>\n",
              "      <td>ENSG00000243485</td>\n",
              "      <td>GTEX-1117F-0226-SM-5GZZ7</td>\n",
              "      <td>0.07187</td>\n",
              "    </tr>\n",
              "    <tr>\n",
              "      <th>4</th>\n",
              "      <td>ENSG00000237613</td>\n",
              "      <td>GTEX-1117F-0226-SM-5GZZ7</td>\n",
              "      <td>0.00000</td>\n",
              "    </tr>\n",
              "  </tbody>\n",
              "</table>\n",
              "</div>"
            ],
            "text/plain": [
              "              ENSG                    SAMPID      TPM\n",
              "0  ENSG00000223972  GTEX-1117F-0226-SM-5GZZ7  0.00000\n",
              "1  ENSG00000227232  GTEX-1117F-0226-SM-5GZZ7  8.76400\n",
              "2  ENSG00000278267  GTEX-1117F-0226-SM-5GZZ7  0.00000\n",
              "3  ENSG00000243485  GTEX-1117F-0226-SM-5GZZ7  0.07187\n",
              "4  ENSG00000237613  GTEX-1117F-0226-SM-5GZZ7  0.00000"
            ]
          },
          "metadata": {
            "tags": []
          },
          "execution_count": 195
        }
      ]
    },
    {
      "cell_type": "code",
      "metadata": {
        "id": "X17IFQ43pg3i",
        "colab": {
          "base_uri": "https://localhost:8080/"
        },
        "outputId": "f6da14c2-3599-4769-c90a-dc2df101bfb5"
      },
      "source": [
        "rnaseq.info()"
      ],
      "execution_count": 196,
      "outputs": [
        {
          "output_type": "stream",
          "text": [
            "<class 'pandas.core.frame.DataFrame'>\n",
            "RangeIndex: 17382000 entries, 0 to 17381999\n",
            "Data columns (total 3 columns):\n",
            " #   Column  Dtype  \n",
            "---  ------  -----  \n",
            " 0   ENSG    object \n",
            " 1   SAMPID  object \n",
            " 2   TPM     float64\n",
            "dtypes: float64(1), object(2)\n",
            "memory usage: 397.8+ MB\n"
          ],
          "name": "stdout"
        }
      ]
    },
    {
      "cell_type": "markdown",
      "metadata": {
        "id": "2rmvTu5upzFs"
      },
      "source": [
        "### Read and merge gene symbols.\n",
        "File from https://www.ensembl.org/biomart, dataset human genes, fields Gene stable ID, Gene stable ID version,  NCBI gene ID, HGNC symbol."
      ]
    },
    {
      "cell_type": "code",
      "metadata": {
        "id": "mPLyWAkVpNl-"
      },
      "source": [
        "genes = BioClients.ensembl.biomart.ENSG2NCBIHGNC()"
      ],
      "execution_count": 197,
      "outputs": []
    },
    {
      "cell_type": "code",
      "metadata": {
        "colab": {
          "base_uri": "https://localhost:8080/",
          "height": 204
        },
        "id": "JSUzt7XswG07",
        "outputId": "e8defd53-52a0-48cd-f247-f4e63ccf0672"
      },
      "source": [
        "genes.head()"
      ],
      "execution_count": 198,
      "outputs": [
        {
          "output_type": "execute_result",
          "data": {
            "text/html": [
              "<div>\n",
              "<style scoped>\n",
              "    .dataframe tbody tr th:only-of-type {\n",
              "        vertical-align: middle;\n",
              "    }\n",
              "\n",
              "    .dataframe tbody tr th {\n",
              "        vertical-align: top;\n",
              "    }\n",
              "\n",
              "    .dataframe thead th {\n",
              "        text-align: right;\n",
              "    }\n",
              "</style>\n",
              "<table border=\"1\" class=\"dataframe\">\n",
              "  <thead>\n",
              "    <tr style=\"text-align: right;\">\n",
              "      <th></th>\n",
              "      <th>Gene stable ID</th>\n",
              "      <th>Gene stable ID version</th>\n",
              "      <th>NCBI gene (formerly Entrezgene) ID</th>\n",
              "      <th>HGNC ID</th>\n",
              "      <th>HGNC symbol</th>\n",
              "    </tr>\n",
              "  </thead>\n",
              "  <tbody>\n",
              "    <tr>\n",
              "      <th>0</th>\n",
              "      <td>ENSG00000210049</td>\n",
              "      <td>ENSG00000210049.1</td>\n",
              "      <td>NaN</td>\n",
              "      <td>HGNC:7481</td>\n",
              "      <td>MT-TF</td>\n",
              "    </tr>\n",
              "    <tr>\n",
              "      <th>1</th>\n",
              "      <td>ENSG00000211459</td>\n",
              "      <td>ENSG00000211459.2</td>\n",
              "      <td>NaN</td>\n",
              "      <td>HGNC:7470</td>\n",
              "      <td>MT-RNR1</td>\n",
              "    </tr>\n",
              "    <tr>\n",
              "      <th>2</th>\n",
              "      <td>ENSG00000210077</td>\n",
              "      <td>ENSG00000210077.1</td>\n",
              "      <td>NaN</td>\n",
              "      <td>HGNC:7500</td>\n",
              "      <td>MT-TV</td>\n",
              "    </tr>\n",
              "    <tr>\n",
              "      <th>3</th>\n",
              "      <td>ENSG00000210082</td>\n",
              "      <td>ENSG00000210082.2</td>\n",
              "      <td>NaN</td>\n",
              "      <td>HGNC:7471</td>\n",
              "      <td>MT-RNR2</td>\n",
              "    </tr>\n",
              "    <tr>\n",
              "      <th>4</th>\n",
              "      <td>ENSG00000209082</td>\n",
              "      <td>ENSG00000209082.1</td>\n",
              "      <td>NaN</td>\n",
              "      <td>HGNC:7490</td>\n",
              "      <td>MT-TL1</td>\n",
              "    </tr>\n",
              "  </tbody>\n",
              "</table>\n",
              "</div>"
            ],
            "text/plain": [
              "    Gene stable ID Gene stable ID version  ...    HGNC ID HGNC symbol\n",
              "0  ENSG00000210049      ENSG00000210049.1  ...  HGNC:7481       MT-TF\n",
              "1  ENSG00000211459      ENSG00000211459.2  ...  HGNC:7470     MT-RNR1\n",
              "2  ENSG00000210077      ENSG00000210077.1  ...  HGNC:7500       MT-TV\n",
              "3  ENSG00000210082      ENSG00000210082.2  ...  HGNC:7471     MT-RNR2\n",
              "4  ENSG00000209082      ENSG00000209082.1  ...  HGNC:7490      MT-TL1\n",
              "\n",
              "[5 rows x 5 columns]"
            ]
          },
          "metadata": {
            "tags": []
          },
          "execution_count": 198
        }
      ]
    },
    {
      "cell_type": "code",
      "metadata": {
        "id": "Xo2F7qVApyk0"
      },
      "source": [
        "genes = genes.iloc[:,[0,2,4]]\n",
        "genes.dropna(inplace=True)"
      ],
      "execution_count": 199,
      "outputs": []
    },
    {
      "cell_type": "code",
      "metadata": {
        "id": "fegRBFc-tO00",
        "colab": {
          "base_uri": "https://localhost:8080/",
          "height": 204
        },
        "outputId": "91535b6f-fa96-45b6-ec9f-f1c774bb405a"
      },
      "source": [
        "genes.columns = ['ENSG', 'NCBI', 'HGNC']\n",
        "genes['NCBI'] = genes['NCBI'].astype('Int64')\n",
        "genes.head()"
      ],
      "execution_count": 200,
      "outputs": [
        {
          "output_type": "execute_result",
          "data": {
            "text/html": [
              "<div>\n",
              "<style scoped>\n",
              "    .dataframe tbody tr th:only-of-type {\n",
              "        vertical-align: middle;\n",
              "    }\n",
              "\n",
              "    .dataframe tbody tr th {\n",
              "        vertical-align: top;\n",
              "    }\n",
              "\n",
              "    .dataframe thead th {\n",
              "        text-align: right;\n",
              "    }\n",
              "</style>\n",
              "<table border=\"1\" class=\"dataframe\">\n",
              "  <thead>\n",
              "    <tr style=\"text-align: right;\">\n",
              "      <th></th>\n",
              "      <th>ENSG</th>\n",
              "      <th>NCBI</th>\n",
              "      <th>HGNC</th>\n",
              "    </tr>\n",
              "  </thead>\n",
              "  <tbody>\n",
              "    <tr>\n",
              "      <th>5</th>\n",
              "      <td>ENSG00000198888</td>\n",
              "      <td>4535</td>\n",
              "      <td>MT-ND1</td>\n",
              "    </tr>\n",
              "    <tr>\n",
              "      <th>9</th>\n",
              "      <td>ENSG00000198763</td>\n",
              "      <td>4536</td>\n",
              "      <td>MT-ND2</td>\n",
              "    </tr>\n",
              "    <tr>\n",
              "      <th>15</th>\n",
              "      <td>ENSG00000198804</td>\n",
              "      <td>4512</td>\n",
              "      <td>MT-CO1</td>\n",
              "    </tr>\n",
              "    <tr>\n",
              "      <th>16</th>\n",
              "      <td>ENSG00000210151</td>\n",
              "      <td>113219467</td>\n",
              "      <td>MT-TS1</td>\n",
              "    </tr>\n",
              "    <tr>\n",
              "      <th>18</th>\n",
              "      <td>ENSG00000198712</td>\n",
              "      <td>4513</td>\n",
              "      <td>MT-CO2</td>\n",
              "    </tr>\n",
              "  </tbody>\n",
              "</table>\n",
              "</div>"
            ],
            "text/plain": [
              "               ENSG       NCBI    HGNC\n",
              "5   ENSG00000198888       4535  MT-ND1\n",
              "9   ENSG00000198763       4536  MT-ND2\n",
              "15  ENSG00000198804       4512  MT-CO1\n",
              "16  ENSG00000210151  113219467  MT-TS1\n",
              "18  ENSG00000198712       4513  MT-CO2"
            ]
          },
          "metadata": {
            "tags": []
          },
          "execution_count": 200
        }
      ]
    },
    {
      "cell_type": "code",
      "metadata": {
        "id": "RSyD7C4Nt9vS"
      },
      "source": [
        "rnaseq = pd.merge(rnaseq, genes, on='ENSG', how='inner')"
      ],
      "execution_count": 201,
      "outputs": []
    },
    {
      "cell_type": "code",
      "metadata": {
        "id": "jwWCN2ZxLUVs",
        "colab": {
          "base_uri": "https://localhost:8080/",
          "height": 204
        },
        "outputId": "49a08cee-5929-4eda-9826-b5b95f4d7ebd"
      },
      "source": [
        "rnaseq.head()"
      ],
      "execution_count": 202,
      "outputs": [
        {
          "output_type": "execute_result",
          "data": {
            "text/html": [
              "<div>\n",
              "<style scoped>\n",
              "    .dataframe tbody tr th:only-of-type {\n",
              "        vertical-align: middle;\n",
              "    }\n",
              "\n",
              "    .dataframe tbody tr th {\n",
              "        vertical-align: top;\n",
              "    }\n",
              "\n",
              "    .dataframe thead th {\n",
              "        text-align: right;\n",
              "    }\n",
              "</style>\n",
              "<table border=\"1\" class=\"dataframe\">\n",
              "  <thead>\n",
              "    <tr style=\"text-align: right;\">\n",
              "      <th></th>\n",
              "      <th>ENSG</th>\n",
              "      <th>SAMPID</th>\n",
              "      <th>TPM</th>\n",
              "      <th>NCBI</th>\n",
              "      <th>HGNC</th>\n",
              "    </tr>\n",
              "  </thead>\n",
              "  <tbody>\n",
              "    <tr>\n",
              "      <th>0</th>\n",
              "      <td>ENSG00000223972</td>\n",
              "      <td>GTEX-1117F-0226-SM-5GZZ7</td>\n",
              "      <td>0.0</td>\n",
              "      <td>84771</td>\n",
              "      <td>DDX11L1</td>\n",
              "    </tr>\n",
              "    <tr>\n",
              "      <th>1</th>\n",
              "      <td>ENSG00000223972</td>\n",
              "      <td>GTEX-1117F-0226-SM-5GZZ7</td>\n",
              "      <td>0.0</td>\n",
              "      <td>727856</td>\n",
              "      <td>DDX11L1</td>\n",
              "    </tr>\n",
              "    <tr>\n",
              "      <th>2</th>\n",
              "      <td>ENSG00000223972</td>\n",
              "      <td>GTEX-1117F-0226-SM-5GZZ7</td>\n",
              "      <td>0.0</td>\n",
              "      <td>100287102</td>\n",
              "      <td>DDX11L1</td>\n",
              "    </tr>\n",
              "    <tr>\n",
              "      <th>3</th>\n",
              "      <td>ENSG00000223972</td>\n",
              "      <td>GTEX-1117F-0226-SM-5GZZ7</td>\n",
              "      <td>0.0</td>\n",
              "      <td>100287596</td>\n",
              "      <td>DDX11L1</td>\n",
              "    </tr>\n",
              "    <tr>\n",
              "      <th>4</th>\n",
              "      <td>ENSG00000223972</td>\n",
              "      <td>GTEX-1117F-0226-SM-5GZZ7</td>\n",
              "      <td>0.0</td>\n",
              "      <td>102725121</td>\n",
              "      <td>DDX11L1</td>\n",
              "    </tr>\n",
              "  </tbody>\n",
              "</table>\n",
              "</div>"
            ],
            "text/plain": [
              "              ENSG                    SAMPID  TPM       NCBI     HGNC\n",
              "0  ENSG00000223972  GTEX-1117F-0226-SM-5GZZ7  0.0      84771  DDX11L1\n",
              "1  ENSG00000223972  GTEX-1117F-0226-SM-5GZZ7  0.0     727856  DDX11L1\n",
              "2  ENSG00000223972  GTEX-1117F-0226-SM-5GZZ7  0.0  100287102  DDX11L1\n",
              "3  ENSG00000223972  GTEX-1117F-0226-SM-5GZZ7  0.0  100287596  DDX11L1\n",
              "4  ENSG00000223972  GTEX-1117F-0226-SM-5GZZ7  0.0  102725121  DDX11L1"
            ]
          },
          "metadata": {
            "tags": []
          },
          "execution_count": 202
        }
      ]
    },
    {
      "cell_type": "markdown",
      "metadata": {
        "id": "jma3YSsCzxr7"
      },
      "source": [
        "### Remove genes in pseudoautosomal regions (PAR) of chromosome Y (\"ENSGR\")."
      ]
    },
    {
      "cell_type": "code",
      "metadata": {
        "id": "iuJLi_nVzuFM",
        "colab": {
          "base_uri": "https://localhost:8080/"
        },
        "outputId": "d76929f8-ddd7-40fa-bc26-162fc6a8ddbe"
      },
      "source": [
        "n_ensgr = rnaseq.ENSG.str.startswith('ENSGR').sum()\n",
        "print(f\"ENSGR gene TPMs: {n_ensgr} ({100*n_ensgr/rnaseq.shape[0]:.2f}%)\")"
      ],
      "execution_count": 203,
      "outputs": [
        {
          "output_type": "stream",
          "text": [
            "ENSGR gene TPMs: 0 (0.00%)\n"
          ],
          "name": "stdout"
        }
      ]
    },
    {
      "cell_type": "code",
      "metadata": {
        "id": "bSTgB436XZLq"
      },
      "source": [
        "rnaseq = rnaseq[~rnaseq.ENSG.str.startswith('ENSGR')]"
      ],
      "execution_count": 204,
      "outputs": []
    },
    {
      "cell_type": "markdown",
      "metadata": {
        "id": "DF1bdb1ct3vi"
      },
      "source": [
        "### Merge with samples:"
      ]
    },
    {
      "cell_type": "code",
      "metadata": {
        "id": "KPzImSwat7Mi"
      },
      "source": [
        "rnaseq = pd.merge(rnaseq, samples, how=\"inner\", on=\"SAMPID\")\n",
        "rnaseq = rnaseq.reset_index(drop=True)"
      ],
      "execution_count": 205,
      "outputs": []
    },
    {
      "cell_type": "code",
      "metadata": {
        "id": "qaWd-f4nVBgo",
        "colab": {
          "base_uri": "https://localhost:8080/",
          "height": 204
        },
        "outputId": "86abdcbe-cefb-4f66-de61-1244693b97cc"
      },
      "source": [
        "rnaseq.head()"
      ],
      "execution_count": 206,
      "outputs": [
        {
          "output_type": "execute_result",
          "data": {
            "text/html": [
              "<div>\n",
              "<style scoped>\n",
              "    .dataframe tbody tr th:only-of-type {\n",
              "        vertical-align: middle;\n",
              "    }\n",
              "\n",
              "    .dataframe tbody tr th {\n",
              "        vertical-align: top;\n",
              "    }\n",
              "\n",
              "    .dataframe thead th {\n",
              "        text-align: right;\n",
              "    }\n",
              "</style>\n",
              "<table border=\"1\" class=\"dataframe\">\n",
              "  <thead>\n",
              "    <tr style=\"text-align: right;\">\n",
              "      <th></th>\n",
              "      <th>ENSG</th>\n",
              "      <th>SAMPID</th>\n",
              "      <th>TPM</th>\n",
              "      <th>NCBI</th>\n",
              "      <th>HGNC</th>\n",
              "      <th>SMATSSCR</th>\n",
              "      <th>SMTS</th>\n",
              "      <th>SMTSD</th>\n",
              "      <th>SMUBRID</th>\n",
              "      <th>SUBJID</th>\n",
              "      <th>SEX</th>\n",
              "      <th>AGE</th>\n",
              "      <th>DTHHRDY</th>\n",
              "    </tr>\n",
              "  </thead>\n",
              "  <tbody>\n",
              "    <tr>\n",
              "      <th>0</th>\n",
              "      <td>ENSG00000223972</td>\n",
              "      <td>GTEX-111CU-0126-SM-5GZWZ</td>\n",
              "      <td>0.03757</td>\n",
              "      <td>84771</td>\n",
              "      <td>DDX11L1</td>\n",
              "      <td>0.0</td>\n",
              "      <td>Adrenal Gland</td>\n",
              "      <td>Adrenal Gland</td>\n",
              "      <td>0002369</td>\n",
              "      <td>GTEX-111CU</td>\n",
              "      <td>M</td>\n",
              "      <td>50-59</td>\n",
              "      <td>0.0</td>\n",
              "    </tr>\n",
              "    <tr>\n",
              "      <th>1</th>\n",
              "      <td>ENSG00000223972</td>\n",
              "      <td>GTEX-111CU-0126-SM-5GZWZ</td>\n",
              "      <td>0.03757</td>\n",
              "      <td>727856</td>\n",
              "      <td>DDX11L1</td>\n",
              "      <td>0.0</td>\n",
              "      <td>Adrenal Gland</td>\n",
              "      <td>Adrenal Gland</td>\n",
              "      <td>0002369</td>\n",
              "      <td>GTEX-111CU</td>\n",
              "      <td>M</td>\n",
              "      <td>50-59</td>\n",
              "      <td>0.0</td>\n",
              "    </tr>\n",
              "    <tr>\n",
              "      <th>2</th>\n",
              "      <td>ENSG00000223972</td>\n",
              "      <td>GTEX-111CU-0126-SM-5GZWZ</td>\n",
              "      <td>0.03757</td>\n",
              "      <td>100287102</td>\n",
              "      <td>DDX11L1</td>\n",
              "      <td>0.0</td>\n",
              "      <td>Adrenal Gland</td>\n",
              "      <td>Adrenal Gland</td>\n",
              "      <td>0002369</td>\n",
              "      <td>GTEX-111CU</td>\n",
              "      <td>M</td>\n",
              "      <td>50-59</td>\n",
              "      <td>0.0</td>\n",
              "    </tr>\n",
              "    <tr>\n",
              "      <th>3</th>\n",
              "      <td>ENSG00000223972</td>\n",
              "      <td>GTEX-111CU-0126-SM-5GZWZ</td>\n",
              "      <td>0.03757</td>\n",
              "      <td>100287596</td>\n",
              "      <td>DDX11L1</td>\n",
              "      <td>0.0</td>\n",
              "      <td>Adrenal Gland</td>\n",
              "      <td>Adrenal Gland</td>\n",
              "      <td>0002369</td>\n",
              "      <td>GTEX-111CU</td>\n",
              "      <td>M</td>\n",
              "      <td>50-59</td>\n",
              "      <td>0.0</td>\n",
              "    </tr>\n",
              "    <tr>\n",
              "      <th>4</th>\n",
              "      <td>ENSG00000223972</td>\n",
              "      <td>GTEX-111CU-0126-SM-5GZWZ</td>\n",
              "      <td>0.03757</td>\n",
              "      <td>102725121</td>\n",
              "      <td>DDX11L1</td>\n",
              "      <td>0.0</td>\n",
              "      <td>Adrenal Gland</td>\n",
              "      <td>Adrenal Gland</td>\n",
              "      <td>0002369</td>\n",
              "      <td>GTEX-111CU</td>\n",
              "      <td>M</td>\n",
              "      <td>50-59</td>\n",
              "      <td>0.0</td>\n",
              "    </tr>\n",
              "  </tbody>\n",
              "</table>\n",
              "</div>"
            ],
            "text/plain": [
              "              ENSG                    SAMPID      TPM  ...  SEX    AGE  DTHHRDY\n",
              "0  ENSG00000223972  GTEX-111CU-0126-SM-5GZWZ  0.03757  ...    M  50-59      0.0\n",
              "1  ENSG00000223972  GTEX-111CU-0126-SM-5GZWZ  0.03757  ...    M  50-59      0.0\n",
              "2  ENSG00000223972  GTEX-111CU-0126-SM-5GZWZ  0.03757  ...    M  50-59      0.0\n",
              "3  ENSG00000223972  GTEX-111CU-0126-SM-5GZWZ  0.03757  ...    M  50-59      0.0\n",
              "4  ENSG00000223972  GTEX-111CU-0126-SM-5GZWZ  0.03757  ...    M  50-59      0.0\n",
              "\n",
              "[5 rows x 13 columns]"
            ]
          },
          "metadata": {
            "tags": []
          },
          "execution_count": 206
        }
      ]
    },
    {
      "cell_type": "code",
      "metadata": {
        "id": "OyxdvWw_ZN5i",
        "colab": {
          "base_uri": "https://localhost:8080/"
        },
        "outputId": "18cc3c6f-e6a2-4ade-a16c-bbeaf7b31880"
      },
      "source": [
        "rnaseq.info()"
      ],
      "execution_count": 207,
      "outputs": [
        {
          "output_type": "stream",
          "text": [
            "<class 'pandas.core.frame.DataFrame'>\n",
            "RangeIndex: 3220236 entries, 0 to 3220235\n",
            "Data columns (total 13 columns):\n",
            " #   Column    Dtype  \n",
            "---  ------    -----  \n",
            " 0   ENSG      object \n",
            " 1   SAMPID    object \n",
            " 2   TPM       float64\n",
            " 3   NCBI      Int64  \n",
            " 4   HGNC      object \n",
            " 5   SMATSSCR  float64\n",
            " 6   SMTS      object \n",
            " 7   SMTSD     object \n",
            " 8   SMUBRID   object \n",
            " 9   SUBJID    object \n",
            " 10  SEX       object \n",
            " 11  AGE       object \n",
            " 12  DTHHRDY   float64\n",
            "dtypes: Int64(1), float64(3), object(9)\n",
            "memory usage: 322.5+ MB\n"
          ],
          "name": "stdout"
        }
      ]
    },
    {
      "cell_type": "code",
      "metadata": {
        "id": "igm_t_tOBtKr",
        "colab": {
          "base_uri": "https://localhost:8080/"
        },
        "outputId": "2037f6f7-6adb-426c-e87b-0efbfc789098"
      },
      "source": [
        "for i,smtsd in enumerate(rnaseq.SMTSD.sort_values().unique()):\n",
        "  print(f\"{i+1}. {smtsd}\")"
      ],
      "execution_count": 208,
      "outputs": [
        {
          "output_type": "stream",
          "text": [
            "1. Adipose - Subcutaneous\n",
            "2. Adipose - Visceral (Omentum)\n",
            "3. Adrenal Gland\n",
            "4. Artery - Aorta\n",
            "5. Artery - Coronary\n",
            "6. Artery - Tibial\n",
            "7. Bladder\n",
            "8. Brain - Amygdala\n",
            "9. Brain - Anterior cingulate cortex (BA24)\n",
            "10. Brain - Caudate (basal ganglia)\n",
            "11. Brain - Cerebellar Hemisphere\n",
            "12. Brain - Cerebellum\n",
            "13. Brain - Cortex\n",
            "14. Brain - Frontal Cortex (BA9)\n",
            "15. Brain - Hippocampus\n",
            "16. Brain - Hypothalamus\n",
            "17. Brain - Nucleus accumbens (basal ganglia)\n",
            "18. Brain - Putamen (basal ganglia)\n",
            "19. Brain - Spinal cord (cervical c-1)\n",
            "20. Brain - Substantia nigra\n",
            "21. Breast - Mammary Tissue\n",
            "22. Cells - Cultured fibroblasts\n",
            "23. Cells - EBV-transformed lymphocytes\n",
            "24. Cervix - Ectocervix\n",
            "25. Cervix - Endocervix\n",
            "26. Colon - Sigmoid\n",
            "27. Colon - Transverse\n",
            "28. Esophagus - Gastroesophageal Junction\n",
            "29. Esophagus - Mucosa\n",
            "30. Esophagus - Muscularis\n",
            "31. Fallopian Tube\n",
            "32. Heart - Atrial Appendage\n",
            "33. Heart - Left Ventricle\n",
            "34. Kidney - Cortex\n",
            "35. Kidney - Medulla\n",
            "36. Liver\n",
            "37. Lung\n",
            "38. Minor Salivary Gland\n",
            "39. Muscle - Skeletal\n",
            "40. Nerve - Tibial\n",
            "41. Ovary\n",
            "42. Pancreas\n",
            "43. Pituitary\n",
            "44. Prostate\n",
            "45. Skin - Not Sun Exposed (Suprapubic)\n",
            "46. Skin - Sun Exposed (Lower leg)\n",
            "47. Small Intestine - Terminal Ileum\n",
            "48. Spleen\n",
            "49. Stomach\n",
            "50. Testis\n",
            "51. Thyroid\n",
            "52. Uterus\n",
            "53. Vagina\n",
            "54. Whole Blood\n"
          ],
          "name": "stdout"
        }
      ]
    },
    {
      "cell_type": "markdown",
      "metadata": {
        "id": "GNWwsSrNOAzX"
      },
      "source": [
        "### Remove data for gene-tissue pairs with all zero expression."
      ]
    },
    {
      "cell_type": "code",
      "metadata": {
        "id": "zl5wT1nQMGrn",
        "colab": {
          "base_uri": "https://localhost:8080/"
        },
        "outputId": "ef740592-7a09-4be1-8dea-5cd8fdc975e7"
      },
      "source": [
        "maxtpm_0 = (rnaseq[['ENSG', 'SMTSD', 'TPM']].groupby(by=['ENSG','SMTSD'], as_index=True).max() == 0).rename(columns={'TPM':'maxtpm_0'})\n",
        "maxtpm_0.maxtpm_0.value_counts()"
      ],
      "execution_count": 209,
      "outputs": [
        {
          "output_type": "execute_result",
          "data": {
            "text/plain": [
              "False    11916\n",
              "True       936\n",
              "Name: maxtpm_0, dtype: int64"
            ]
          },
          "metadata": {
            "tags": []
          },
          "execution_count": 209
        }
      ]
    },
    {
      "cell_type": "code",
      "metadata": {
        "id": "AaxrLbUeavh_",
        "colab": {
          "base_uri": "https://localhost:8080/"
        },
        "outputId": "304299a4-55d5-45a4-ef79-5cc9b9d98293"
      },
      "source": [
        "maxtpm_0.info()"
      ],
      "execution_count": 210,
      "outputs": [
        {
          "output_type": "stream",
          "text": [
            "<class 'pandas.core.frame.DataFrame'>\n",
            "MultiIndex: 12852 entries, ('ENSG00000007968', 'Adipose - Subcutaneous') to ('ENSG00000284372', 'Whole Blood')\n",
            "Data columns (total 1 columns):\n",
            " #   Column    Non-Null Count  Dtype\n",
            "---  ------    --------------  -----\n",
            " 0   maxtpm_0  12852 non-null  bool \n",
            "dtypes: bool(1)\n",
            "memory usage: 52.6+ KB\n"
          ],
          "name": "stdout"
        }
      ]
    },
    {
      "cell_type": "code",
      "metadata": {
        "id": "8aj_IzoKMN0k",
        "colab": {
          "base_uri": "https://localhost:8080/",
          "height": 289
        },
        "outputId": "ee576744-d3cf-4908-adfe-11d59c26cedf"
      },
      "source": [
        "rnaseq = pd.merge(rnaseq, maxtpm_0, left_on=['ENSG', 'SMTSD'], right_index=True)\n",
        "rnaseq.head()"
      ],
      "execution_count": 211,
      "outputs": [
        {
          "output_type": "execute_result",
          "data": {
            "text/html": [
              "<div>\n",
              "<style scoped>\n",
              "    .dataframe tbody tr th:only-of-type {\n",
              "        vertical-align: middle;\n",
              "    }\n",
              "\n",
              "    .dataframe tbody tr th {\n",
              "        vertical-align: top;\n",
              "    }\n",
              "\n",
              "    .dataframe thead th {\n",
              "        text-align: right;\n",
              "    }\n",
              "</style>\n",
              "<table border=\"1\" class=\"dataframe\">\n",
              "  <thead>\n",
              "    <tr style=\"text-align: right;\">\n",
              "      <th></th>\n",
              "      <th>ENSG</th>\n",
              "      <th>SAMPID</th>\n",
              "      <th>TPM</th>\n",
              "      <th>NCBI</th>\n",
              "      <th>HGNC</th>\n",
              "      <th>SMATSSCR</th>\n",
              "      <th>SMTS</th>\n",
              "      <th>SMTSD</th>\n",
              "      <th>SMUBRID</th>\n",
              "      <th>SUBJID</th>\n",
              "      <th>SEX</th>\n",
              "      <th>AGE</th>\n",
              "      <th>DTHHRDY</th>\n",
              "      <th>maxtpm_0</th>\n",
              "    </tr>\n",
              "  </thead>\n",
              "  <tbody>\n",
              "    <tr>\n",
              "      <th>0</th>\n",
              "      <td>ENSG00000223972</td>\n",
              "      <td>GTEX-111CU-0126-SM-5GZWZ</td>\n",
              "      <td>0.03757</td>\n",
              "      <td>84771</td>\n",
              "      <td>DDX11L1</td>\n",
              "      <td>0.0</td>\n",
              "      <td>Adrenal Gland</td>\n",
              "      <td>Adrenal Gland</td>\n",
              "      <td>0002369</td>\n",
              "      <td>GTEX-111CU</td>\n",
              "      <td>M</td>\n",
              "      <td>50-59</td>\n",
              "      <td>0.0</td>\n",
              "      <td>False</td>\n",
              "    </tr>\n",
              "    <tr>\n",
              "      <th>1</th>\n",
              "      <td>ENSG00000223972</td>\n",
              "      <td>GTEX-111CU-0126-SM-5GZWZ</td>\n",
              "      <td>0.03757</td>\n",
              "      <td>727856</td>\n",
              "      <td>DDX11L1</td>\n",
              "      <td>0.0</td>\n",
              "      <td>Adrenal Gland</td>\n",
              "      <td>Adrenal Gland</td>\n",
              "      <td>0002369</td>\n",
              "      <td>GTEX-111CU</td>\n",
              "      <td>M</td>\n",
              "      <td>50-59</td>\n",
              "      <td>0.0</td>\n",
              "      <td>False</td>\n",
              "    </tr>\n",
              "    <tr>\n",
              "      <th>2</th>\n",
              "      <td>ENSG00000223972</td>\n",
              "      <td>GTEX-111CU-0126-SM-5GZWZ</td>\n",
              "      <td>0.03757</td>\n",
              "      <td>100287102</td>\n",
              "      <td>DDX11L1</td>\n",
              "      <td>0.0</td>\n",
              "      <td>Adrenal Gland</td>\n",
              "      <td>Adrenal Gland</td>\n",
              "      <td>0002369</td>\n",
              "      <td>GTEX-111CU</td>\n",
              "      <td>M</td>\n",
              "      <td>50-59</td>\n",
              "      <td>0.0</td>\n",
              "      <td>False</td>\n",
              "    </tr>\n",
              "    <tr>\n",
              "      <th>3</th>\n",
              "      <td>ENSG00000223972</td>\n",
              "      <td>GTEX-111CU-0126-SM-5GZWZ</td>\n",
              "      <td>0.03757</td>\n",
              "      <td>100287596</td>\n",
              "      <td>DDX11L1</td>\n",
              "      <td>0.0</td>\n",
              "      <td>Adrenal Gland</td>\n",
              "      <td>Adrenal Gland</td>\n",
              "      <td>0002369</td>\n",
              "      <td>GTEX-111CU</td>\n",
              "      <td>M</td>\n",
              "      <td>50-59</td>\n",
              "      <td>0.0</td>\n",
              "      <td>False</td>\n",
              "    </tr>\n",
              "    <tr>\n",
              "      <th>4</th>\n",
              "      <td>ENSG00000223972</td>\n",
              "      <td>GTEX-111CU-0126-SM-5GZWZ</td>\n",
              "      <td>0.03757</td>\n",
              "      <td>102725121</td>\n",
              "      <td>DDX11L1</td>\n",
              "      <td>0.0</td>\n",
              "      <td>Adrenal Gland</td>\n",
              "      <td>Adrenal Gland</td>\n",
              "      <td>0002369</td>\n",
              "      <td>GTEX-111CU</td>\n",
              "      <td>M</td>\n",
              "      <td>50-59</td>\n",
              "      <td>0.0</td>\n",
              "      <td>False</td>\n",
              "    </tr>\n",
              "  </tbody>\n",
              "</table>\n",
              "</div>"
            ],
            "text/plain": [
              "              ENSG                    SAMPID      TPM  ...    AGE DTHHRDY  maxtpm_0\n",
              "0  ENSG00000223972  GTEX-111CU-0126-SM-5GZWZ  0.03757  ...  50-59     0.0     False\n",
              "1  ENSG00000223972  GTEX-111CU-0126-SM-5GZWZ  0.03757  ...  50-59     0.0     False\n",
              "2  ENSG00000223972  GTEX-111CU-0126-SM-5GZWZ  0.03757  ...  50-59     0.0     False\n",
              "3  ENSG00000223972  GTEX-111CU-0126-SM-5GZWZ  0.03757  ...  50-59     0.0     False\n",
              "4  ENSG00000223972  GTEX-111CU-0126-SM-5GZWZ  0.03757  ...  50-59     0.0     False\n",
              "\n",
              "[5 rows x 14 columns]"
            ]
          },
          "metadata": {
            "tags": []
          },
          "execution_count": 211
        }
      ]
    },
    {
      "cell_type": "code",
      "metadata": {
        "id": "3kAiTBrD0jfz",
        "colab": {
          "base_uri": "https://localhost:8080/",
          "height": 204
        },
        "outputId": "6a6e8626-ac6e-49af-e7c2-d76567375e99"
      },
      "source": [
        "rnaseq = rnaseq[~rnaseq['maxtpm_0']]\n",
        "rnaseq.drop(columns=['maxtpm_0'], inplace=True)\n",
        "rnaseq.head()"
      ],
      "execution_count": 212,
      "outputs": [
        {
          "output_type": "execute_result",
          "data": {
            "text/html": [
              "<div>\n",
              "<style scoped>\n",
              "    .dataframe tbody tr th:only-of-type {\n",
              "        vertical-align: middle;\n",
              "    }\n",
              "\n",
              "    .dataframe tbody tr th {\n",
              "        vertical-align: top;\n",
              "    }\n",
              "\n",
              "    .dataframe thead th {\n",
              "        text-align: right;\n",
              "    }\n",
              "</style>\n",
              "<table border=\"1\" class=\"dataframe\">\n",
              "  <thead>\n",
              "    <tr style=\"text-align: right;\">\n",
              "      <th></th>\n",
              "      <th>ENSG</th>\n",
              "      <th>SAMPID</th>\n",
              "      <th>TPM</th>\n",
              "      <th>NCBI</th>\n",
              "      <th>HGNC</th>\n",
              "      <th>SMATSSCR</th>\n",
              "      <th>SMTS</th>\n",
              "      <th>SMTSD</th>\n",
              "      <th>SMUBRID</th>\n",
              "      <th>SUBJID</th>\n",
              "      <th>SEX</th>\n",
              "      <th>AGE</th>\n",
              "      <th>DTHHRDY</th>\n",
              "    </tr>\n",
              "  </thead>\n",
              "  <tbody>\n",
              "    <tr>\n",
              "      <th>0</th>\n",
              "      <td>ENSG00000223972</td>\n",
              "      <td>GTEX-111CU-0126-SM-5GZWZ</td>\n",
              "      <td>0.03757</td>\n",
              "      <td>84771</td>\n",
              "      <td>DDX11L1</td>\n",
              "      <td>0.0</td>\n",
              "      <td>Adrenal Gland</td>\n",
              "      <td>Adrenal Gland</td>\n",
              "      <td>0002369</td>\n",
              "      <td>GTEX-111CU</td>\n",
              "      <td>M</td>\n",
              "      <td>50-59</td>\n",
              "      <td>0.0</td>\n",
              "    </tr>\n",
              "    <tr>\n",
              "      <th>1</th>\n",
              "      <td>ENSG00000223972</td>\n",
              "      <td>GTEX-111CU-0126-SM-5GZWZ</td>\n",
              "      <td>0.03757</td>\n",
              "      <td>727856</td>\n",
              "      <td>DDX11L1</td>\n",
              "      <td>0.0</td>\n",
              "      <td>Adrenal Gland</td>\n",
              "      <td>Adrenal Gland</td>\n",
              "      <td>0002369</td>\n",
              "      <td>GTEX-111CU</td>\n",
              "      <td>M</td>\n",
              "      <td>50-59</td>\n",
              "      <td>0.0</td>\n",
              "    </tr>\n",
              "    <tr>\n",
              "      <th>2</th>\n",
              "      <td>ENSG00000223972</td>\n",
              "      <td>GTEX-111CU-0126-SM-5GZWZ</td>\n",
              "      <td>0.03757</td>\n",
              "      <td>100287102</td>\n",
              "      <td>DDX11L1</td>\n",
              "      <td>0.0</td>\n",
              "      <td>Adrenal Gland</td>\n",
              "      <td>Adrenal Gland</td>\n",
              "      <td>0002369</td>\n",
              "      <td>GTEX-111CU</td>\n",
              "      <td>M</td>\n",
              "      <td>50-59</td>\n",
              "      <td>0.0</td>\n",
              "    </tr>\n",
              "    <tr>\n",
              "      <th>3</th>\n",
              "      <td>ENSG00000223972</td>\n",
              "      <td>GTEX-111CU-0126-SM-5GZWZ</td>\n",
              "      <td>0.03757</td>\n",
              "      <td>100287596</td>\n",
              "      <td>DDX11L1</td>\n",
              "      <td>0.0</td>\n",
              "      <td>Adrenal Gland</td>\n",
              "      <td>Adrenal Gland</td>\n",
              "      <td>0002369</td>\n",
              "      <td>GTEX-111CU</td>\n",
              "      <td>M</td>\n",
              "      <td>50-59</td>\n",
              "      <td>0.0</td>\n",
              "    </tr>\n",
              "    <tr>\n",
              "      <th>4</th>\n",
              "      <td>ENSG00000223972</td>\n",
              "      <td>GTEX-111CU-0126-SM-5GZWZ</td>\n",
              "      <td>0.03757</td>\n",
              "      <td>102725121</td>\n",
              "      <td>DDX11L1</td>\n",
              "      <td>0.0</td>\n",
              "      <td>Adrenal Gland</td>\n",
              "      <td>Adrenal Gland</td>\n",
              "      <td>0002369</td>\n",
              "      <td>GTEX-111CU</td>\n",
              "      <td>M</td>\n",
              "      <td>50-59</td>\n",
              "      <td>0.0</td>\n",
              "    </tr>\n",
              "  </tbody>\n",
              "</table>\n",
              "</div>"
            ],
            "text/plain": [
              "              ENSG                    SAMPID      TPM  ...  SEX    AGE  DTHHRDY\n",
              "0  ENSG00000223972  GTEX-111CU-0126-SM-5GZWZ  0.03757  ...    M  50-59      0.0\n",
              "1  ENSG00000223972  GTEX-111CU-0126-SM-5GZWZ  0.03757  ...    M  50-59      0.0\n",
              "2  ENSG00000223972  GTEX-111CU-0126-SM-5GZWZ  0.03757  ...    M  50-59      0.0\n",
              "3  ENSG00000223972  GTEX-111CU-0126-SM-5GZWZ  0.03757  ...    M  50-59      0.0\n",
              "4  ENSG00000223972  GTEX-111CU-0126-SM-5GZWZ  0.03757  ...    M  50-59      0.0\n",
              "\n",
              "[5 rows x 13 columns]"
            ]
          },
          "metadata": {
            "tags": []
          },
          "execution_count": 212
        }
      ]
    },
    {
      "cell_type": "code",
      "metadata": {
        "id": "Z3NZZv1uPfkS",
        "colab": {
          "base_uri": "https://localhost:8080/"
        },
        "outputId": "c53362b1-de7d-46d6-97a6-85dbe32dfed3"
      },
      "source": [
        "rnaseq.info()"
      ],
      "execution_count": 213,
      "outputs": [
        {
          "output_type": "stream",
          "text": [
            "<class 'pandas.core.frame.DataFrame'>\n",
            "Int64Index: 3088233 entries, 0 to 2626829\n",
            "Data columns (total 13 columns):\n",
            " #   Column    Dtype  \n",
            "---  ------    -----  \n",
            " 0   ENSG      object \n",
            " 1   SAMPID    object \n",
            " 2   TPM       float64\n",
            " 3   NCBI      Int64  \n",
            " 4   HGNC      object \n",
            " 5   SMATSSCR  float64\n",
            " 6   SMTS      object \n",
            " 7   SMTSD     object \n",
            " 8   SMUBRID   object \n",
            " 9   SUBJID    object \n",
            " 10  SEX       object \n",
            " 11  AGE       object \n",
            " 12  DTHHRDY   float64\n",
            "dtypes: Int64(1), float64(3), object(9)\n",
            "memory usage: 332.8+ MB\n"
          ],
          "name": "stdout"
        }
      ]
    },
    {
      "cell_type": "markdown",
      "metadata": {
        "id": "Fo25DP6F5nSS"
      },
      "source": [
        "### Remove data for gene-tissue pairs not present in both sexes. (This removes most sex specific tissues.)"
      ]
    },
    {
      "cell_type": "code",
      "metadata": {
        "id": "nAIemJ8LNJ-Y",
        "colab": {
          "base_uri": "https://localhost:8080/"
        },
        "outputId": "e30b889c-80fc-4108-f12f-61b277b83f98"
      },
      "source": [
        "sex_count = (rnaseq[['ENSG', 'SMTSD', 'SEX']].groupby(by=['ENSG','SMTSD'], as_index=True).nunique()).rename(columns={'SEX':'sex_count'})\n",
        "print(sex_count.sex_count.value_counts())"
      ],
      "execution_count": 214,
      "outputs": [
        {
          "output_type": "stream",
          "text": [
            "2    10072\n",
            "1     1844\n",
            "Name: sex_count, dtype: int64\n"
          ],
          "name": "stdout"
        }
      ]
    },
    {
      "cell_type": "code",
      "metadata": {
        "id": "KCof6MiYNnP8",
        "colab": {
          "base_uri": "https://localhost:8080/"
        },
        "outputId": "6625d3e6-0988-4d03-88d0-361da34da701"
      },
      "source": [
        "sex_count_is_2 = (rnaseq[['ENSG', 'SMTSD', 'SEX']].groupby(by=['ENSG','SMTSD'], as_index=True).nunique()==2).rename(columns={'SEX':'ok'})\n",
        "print(sex_count_is_2.ok.value_counts())"
      ],
      "execution_count": 215,
      "outputs": [
        {
          "output_type": "stream",
          "text": [
            "True     10072\n",
            "False     1844\n",
            "Name: ok, dtype: int64\n"
          ],
          "name": "stdout"
        }
      ]
    },
    {
      "cell_type": "code",
      "metadata": {
        "id": "uzfK2XPdOAJT",
        "colab": {
          "base_uri": "https://localhost:8080/"
        },
        "outputId": "70eaf687-3ec8-462a-b2e3-df4fe5ede6c2"
      },
      "source": [
        "sex_count.info()"
      ],
      "execution_count": 216,
      "outputs": [
        {
          "output_type": "stream",
          "text": [
            "<class 'pandas.core.frame.DataFrame'>\n",
            "MultiIndex: 11916 entries, ('ENSG00000007968', 'Adipose - Subcutaneous') to ('ENSG00000284372', 'Whole Blood')\n",
            "Data columns (total 1 columns):\n",
            " #   Column     Non-Null Count  Dtype\n",
            "---  ------     --------------  -----\n",
            " 0   sex_count  11916 non-null  int64\n",
            "dtypes: int64(1)\n",
            "memory usage: 130.4+ KB\n"
          ],
          "name": "stdout"
        }
      ]
    },
    {
      "cell_type": "code",
      "metadata": {
        "id": "lP7meXxz4lAY",
        "colab": {
          "base_uri": "https://localhost:8080/",
          "height": 289
        },
        "outputId": "48e6edf9-6eee-411a-f656-bc6762255707"
      },
      "source": [
        "rnaseq = pd.merge(rnaseq, sex_count, left_on=['ENSG', 'SMTSD'], right_index=True, how=\"inner\")\n",
        "rnaseq.head()"
      ],
      "execution_count": 217,
      "outputs": [
        {
          "output_type": "execute_result",
          "data": {
            "text/html": [
              "<div>\n",
              "<style scoped>\n",
              "    .dataframe tbody tr th:only-of-type {\n",
              "        vertical-align: middle;\n",
              "    }\n",
              "\n",
              "    .dataframe tbody tr th {\n",
              "        vertical-align: top;\n",
              "    }\n",
              "\n",
              "    .dataframe thead th {\n",
              "        text-align: right;\n",
              "    }\n",
              "</style>\n",
              "<table border=\"1\" class=\"dataframe\">\n",
              "  <thead>\n",
              "    <tr style=\"text-align: right;\">\n",
              "      <th></th>\n",
              "      <th>ENSG</th>\n",
              "      <th>SAMPID</th>\n",
              "      <th>TPM</th>\n",
              "      <th>NCBI</th>\n",
              "      <th>HGNC</th>\n",
              "      <th>SMATSSCR</th>\n",
              "      <th>SMTS</th>\n",
              "      <th>SMTSD</th>\n",
              "      <th>SMUBRID</th>\n",
              "      <th>SUBJID</th>\n",
              "      <th>SEX</th>\n",
              "      <th>AGE</th>\n",
              "      <th>DTHHRDY</th>\n",
              "      <th>sex_count</th>\n",
              "    </tr>\n",
              "  </thead>\n",
              "  <tbody>\n",
              "    <tr>\n",
              "      <th>0</th>\n",
              "      <td>ENSG00000223972</td>\n",
              "      <td>GTEX-111CU-0126-SM-5GZWZ</td>\n",
              "      <td>0.03757</td>\n",
              "      <td>84771</td>\n",
              "      <td>DDX11L1</td>\n",
              "      <td>0.0</td>\n",
              "      <td>Adrenal Gland</td>\n",
              "      <td>Adrenal Gland</td>\n",
              "      <td>0002369</td>\n",
              "      <td>GTEX-111CU</td>\n",
              "      <td>M</td>\n",
              "      <td>50-59</td>\n",
              "      <td>0.0</td>\n",
              "      <td>2</td>\n",
              "    </tr>\n",
              "    <tr>\n",
              "      <th>1</th>\n",
              "      <td>ENSG00000223972</td>\n",
              "      <td>GTEX-111CU-0126-SM-5GZWZ</td>\n",
              "      <td>0.03757</td>\n",
              "      <td>727856</td>\n",
              "      <td>DDX11L1</td>\n",
              "      <td>0.0</td>\n",
              "      <td>Adrenal Gland</td>\n",
              "      <td>Adrenal Gland</td>\n",
              "      <td>0002369</td>\n",
              "      <td>GTEX-111CU</td>\n",
              "      <td>M</td>\n",
              "      <td>50-59</td>\n",
              "      <td>0.0</td>\n",
              "      <td>2</td>\n",
              "    </tr>\n",
              "    <tr>\n",
              "      <th>2</th>\n",
              "      <td>ENSG00000223972</td>\n",
              "      <td>GTEX-111CU-0126-SM-5GZWZ</td>\n",
              "      <td>0.03757</td>\n",
              "      <td>100287102</td>\n",
              "      <td>DDX11L1</td>\n",
              "      <td>0.0</td>\n",
              "      <td>Adrenal Gland</td>\n",
              "      <td>Adrenal Gland</td>\n",
              "      <td>0002369</td>\n",
              "      <td>GTEX-111CU</td>\n",
              "      <td>M</td>\n",
              "      <td>50-59</td>\n",
              "      <td>0.0</td>\n",
              "      <td>2</td>\n",
              "    </tr>\n",
              "    <tr>\n",
              "      <th>3</th>\n",
              "      <td>ENSG00000223972</td>\n",
              "      <td>GTEX-111CU-0126-SM-5GZWZ</td>\n",
              "      <td>0.03757</td>\n",
              "      <td>100287596</td>\n",
              "      <td>DDX11L1</td>\n",
              "      <td>0.0</td>\n",
              "      <td>Adrenal Gland</td>\n",
              "      <td>Adrenal Gland</td>\n",
              "      <td>0002369</td>\n",
              "      <td>GTEX-111CU</td>\n",
              "      <td>M</td>\n",
              "      <td>50-59</td>\n",
              "      <td>0.0</td>\n",
              "      <td>2</td>\n",
              "    </tr>\n",
              "    <tr>\n",
              "      <th>4</th>\n",
              "      <td>ENSG00000223972</td>\n",
              "      <td>GTEX-111CU-0126-SM-5GZWZ</td>\n",
              "      <td>0.03757</td>\n",
              "      <td>102725121</td>\n",
              "      <td>DDX11L1</td>\n",
              "      <td>0.0</td>\n",
              "      <td>Adrenal Gland</td>\n",
              "      <td>Adrenal Gland</td>\n",
              "      <td>0002369</td>\n",
              "      <td>GTEX-111CU</td>\n",
              "      <td>M</td>\n",
              "      <td>50-59</td>\n",
              "      <td>0.0</td>\n",
              "      <td>2</td>\n",
              "    </tr>\n",
              "  </tbody>\n",
              "</table>\n",
              "</div>"
            ],
            "text/plain": [
              "              ENSG                    SAMPID  ...  DTHHRDY  sex_count\n",
              "0  ENSG00000223972  GTEX-111CU-0126-SM-5GZWZ  ...      0.0          2\n",
              "1  ENSG00000223972  GTEX-111CU-0126-SM-5GZWZ  ...      0.0          2\n",
              "2  ENSG00000223972  GTEX-111CU-0126-SM-5GZWZ  ...      0.0          2\n",
              "3  ENSG00000223972  GTEX-111CU-0126-SM-5GZWZ  ...      0.0          2\n",
              "4  ENSG00000223972  GTEX-111CU-0126-SM-5GZWZ  ...      0.0          2\n",
              "\n",
              "[5 rows x 14 columns]"
            ]
          },
          "metadata": {
            "tags": []
          },
          "execution_count": 217
        }
      ]
    },
    {
      "cell_type": "code",
      "metadata": {
        "id": "UGmkPRINNNt6"
      },
      "source": [
        "rnaseq = rnaseq[rnaseq['sex_count'] == 2]\n",
        "rnaseq.drop(columns=['sex_count'], inplace=True)"
      ],
      "execution_count": 218,
      "outputs": []
    },
    {
      "cell_type": "code",
      "metadata": {
        "id": "68vSaB3pPs3E",
        "colab": {
          "base_uri": "https://localhost:8080/"
        },
        "outputId": "9491de39-f407-4efe-dfac-af4f4db8c84d"
      },
      "source": [
        "rnaseq.info()"
      ],
      "execution_count": 219,
      "outputs": [
        {
          "output_type": "stream",
          "text": [
            "<class 'pandas.core.frame.DataFrame'>\n",
            "Int64Index: 2907916 entries, 0 to 2631932\n",
            "Data columns (total 13 columns):\n",
            " #   Column    Dtype  \n",
            "---  ------    -----  \n",
            " 0   ENSG      object \n",
            " 1   SAMPID    object \n",
            " 2   TPM       float64\n",
            " 3   NCBI      Int64  \n",
            " 4   HGNC      object \n",
            " 5   SMATSSCR  float64\n",
            " 6   SMTS      object \n",
            " 7   SMTSD     object \n",
            " 8   SMUBRID   object \n",
            " 9   SUBJID    object \n",
            " 10  SEX       object \n",
            " 11  AGE       object \n",
            " 12  DTHHRDY   float64\n",
            "dtypes: Int64(1), float64(3), object(9)\n",
            "memory usage: 313.4+ MB\n"
          ],
          "name": "stdout"
        }
      ]
    },
    {
      "cell_type": "code",
      "metadata": {
        "id": "7XcMeIvPTAGi",
        "colab": {
          "base_uri": "https://localhost:8080/"
        },
        "outputId": "8e4bfeb0-48a5-48f0-9ba2-abc95f317615"
      },
      "source": [
        "rnaseq.SMTSD.value_counts()"
      ],
      "execution_count": 220,
      "outputs": [
        {
          "output_type": "execute_result",
          "data": {
            "text/plain": [
              "Muscle - Skeletal                            152280\n",
              "Whole Blood                                  149073\n",
              "Skin - Sun Exposed (Lower leg)               135274\n",
              "Artery - Tibial                              132406\n",
              "Adipose - Subcutaneous                       129710\n",
              "Nerve - Tibial                               120870\n",
              "Skin - Not Sun Exposed (Suprapubic)          116620\n",
              "Esophagus - Mucosa                           109680\n",
              "Adipose - Visceral (Omentum)                 108576\n",
              "Thyroid                                      105964\n",
              "Esophagus - Muscularis                       105228\n",
              "Cells - Cultured fibroblasts                  96928\n",
              "Lung                                          94166\n",
              "Artery - Aorta                                87320\n",
              "Breast - Mammary Tissue                       87282\n",
              "Heart - Left Ventricle                        83814\n",
              "Heart - Atrial Appendage                      80262\n",
              "Esophagus - Gastroesophageal Junction         78960\n",
              "Colon - Sigmoid                               68544\n",
              "Pancreas                                      61180\n",
              "Stomach                                       59881\n",
              "Colon - Transverse                            57354\n",
              "Artery - Coronary                             49115\n",
              "Spleen                                        45080\n",
              "Adrenal Gland                                 43811\n",
              "Liver                                         38701\n",
              "Brain - Caudate (basal ganglia)               36349\n",
              "Brain - Nucleus accumbens (basal ganglia)     35742\n",
              "Brain - Cerebellar Hemisphere                 35649\n",
              "Cells - EBV-transformed lymphocytes           35032\n",
              "Minor Salivary Gland                          32461\n",
              "Brain - Putamen (basal ganglia)               32400\n",
              "Small Intestine - Terminal Ileum              31889\n",
              "Brain - Cortex                                30912\n",
              "Brain - Frontal Cortex (BA9)                  30105\n",
              "Brain - Hippocampus                           29526\n",
              "Brain - Cerebellum                            29260\n",
              "Pituitary                                     28396\n",
              "Brain - Hypothalamus                          27776\n",
              "Brain - Anterior cingulate cortex (BA24)      25308\n",
              "Brain - Spinal cord (cervical c-1)            22898\n",
              "Brain - Amygdala                              21120\n",
              "Brain - Substantia nigra                      18232\n",
              "Kidney - Cortex                                5174\n",
              "Bladder                                        1608\n",
              "Name: SMTSD, dtype: int64"
            ]
          },
          "metadata": {
            "tags": []
          },
          "execution_count": 220
        }
      ]
    },
    {
      "cell_type": "markdown",
      "metadata": {
        "id": "pTofwlsHT3vI"
      },
      "source": [
        "### Remove mammary tissue (partially sex-specific)."
      ]
    },
    {
      "cell_type": "code",
      "metadata": {
        "id": "iYePilvsTdKl"
      },
      "source": [
        "smtsd_breast = \"Breast - Mammary Tissue\"\n",
        "rnaseq = rnaseq[rnaseq.SMTSD!=smtsd_breast]\n"
      ],
      "execution_count": 221,
      "outputs": []
    },
    {
      "cell_type": "markdown",
      "metadata": {
        "id": "uYN-z_adiKwz"
      },
      "source": [
        "### Aggregate samples, compute median TPM by gene+tissue+sex+age:"
      ]
    },
    {
      "cell_type": "code",
      "metadata": {
        "colab": {
          "base_uri": "https://localhost:8080/",
          "height": 221
        },
        "id": "U6Hxke0KVRU8",
        "outputId": "c8b36e54-28f9-4d30-dfed-c21f24087dea"
      },
      "source": [
        "rnaseq = rnaseq[['ENSG', 'SMTSD', 'SEX', 'AGE', 'TPM']].groupby(by=['ENSG', 'SMTSD', 'SEX', 'AGE'], as_index=False).median()\n",
        "print(rnaseq.shape)\n",
        "rnaseq.head()"
      ],
      "execution_count": 222,
      "outputs": [
        {
          "output_type": "stream",
          "text": [
            "(114403, 5)\n"
          ],
          "name": "stdout"
        },
        {
          "output_type": "execute_result",
          "data": {
            "text/html": [
              "<div>\n",
              "<style scoped>\n",
              "    .dataframe tbody tr th:only-of-type {\n",
              "        vertical-align: middle;\n",
              "    }\n",
              "\n",
              "    .dataframe tbody tr th {\n",
              "        vertical-align: top;\n",
              "    }\n",
              "\n",
              "    .dataframe thead th {\n",
              "        text-align: right;\n",
              "    }\n",
              "</style>\n",
              "<table border=\"1\" class=\"dataframe\">\n",
              "  <thead>\n",
              "    <tr style=\"text-align: right;\">\n",
              "      <th></th>\n",
              "      <th>ENSG</th>\n",
              "      <th>SMTSD</th>\n",
              "      <th>SEX</th>\n",
              "      <th>AGE</th>\n",
              "      <th>TPM</th>\n",
              "    </tr>\n",
              "  </thead>\n",
              "  <tbody>\n",
              "    <tr>\n",
              "      <th>0</th>\n",
              "      <td>ENSG00000007968</td>\n",
              "      <td>Adipose - Subcutaneous</td>\n",
              "      <td>F</td>\n",
              "      <td>20-29</td>\n",
              "      <td>0.28845</td>\n",
              "    </tr>\n",
              "    <tr>\n",
              "      <th>1</th>\n",
              "      <td>ENSG00000007968</td>\n",
              "      <td>Adipose - Subcutaneous</td>\n",
              "      <td>F</td>\n",
              "      <td>30-39</td>\n",
              "      <td>0.21745</td>\n",
              "    </tr>\n",
              "    <tr>\n",
              "      <th>2</th>\n",
              "      <td>ENSG00000007968</td>\n",
              "      <td>Adipose - Subcutaneous</td>\n",
              "      <td>F</td>\n",
              "      <td>40-49</td>\n",
              "      <td>0.23460</td>\n",
              "    </tr>\n",
              "    <tr>\n",
              "      <th>3</th>\n",
              "      <td>ENSG00000007968</td>\n",
              "      <td>Adipose - Subcutaneous</td>\n",
              "      <td>F</td>\n",
              "      <td>50-59</td>\n",
              "      <td>0.27000</td>\n",
              "    </tr>\n",
              "    <tr>\n",
              "      <th>4</th>\n",
              "      <td>ENSG00000007968</td>\n",
              "      <td>Adipose - Subcutaneous</td>\n",
              "      <td>F</td>\n",
              "      <td>60-69</td>\n",
              "      <td>0.32485</td>\n",
              "    </tr>\n",
              "  </tbody>\n",
              "</table>\n",
              "</div>"
            ],
            "text/plain": [
              "              ENSG                   SMTSD SEX    AGE      TPM\n",
              "0  ENSG00000007968  Adipose - Subcutaneous   F  20-29  0.28845\n",
              "1  ENSG00000007968  Adipose - Subcutaneous   F  30-39  0.21745\n",
              "2  ENSG00000007968  Adipose - Subcutaneous   F  40-49  0.23460\n",
              "3  ENSG00000007968  Adipose - Subcutaneous   F  50-59  0.27000\n",
              "4  ENSG00000007968  Adipose - Subcutaneous   F  60-69  0.32485"
            ]
          },
          "metadata": {
            "tags": []
          },
          "execution_count": 222
        }
      ]
    },
    {
      "cell_type": "markdown",
      "metadata": {
        "id": "8nN4N6BFVHon"
      },
      "source": [
        "### Aggregate samples, compute median TPM by gene+tissue+sex:"
      ]
    },
    {
      "cell_type": "code",
      "metadata": {
        "id": "1d_9a09mpI3Q",
        "colab": {
          "base_uri": "https://localhost:8080/",
          "height": 221
        },
        "outputId": "5810a5d9-26d1-4985-a93e-a2e854bb1b3d"
      },
      "source": [
        "rnaseq = rnaseq[['ENSG', 'SMTSD', 'SEX', 'TPM']].groupby(by=['ENSG','SMTSD','SEX'], as_index=False).median()\n",
        "print(rnaseq.shape)\n",
        "rnaseq.head()"
      ],
      "execution_count": 223,
      "outputs": [
        {
          "output_type": "stream",
          "text": [
            "(19686, 4)\n"
          ],
          "name": "stdout"
        },
        {
          "output_type": "execute_result",
          "data": {
            "text/html": [
              "<div>\n",
              "<style scoped>\n",
              "    .dataframe tbody tr th:only-of-type {\n",
              "        vertical-align: middle;\n",
              "    }\n",
              "\n",
              "    .dataframe tbody tr th {\n",
              "        vertical-align: top;\n",
              "    }\n",
              "\n",
              "    .dataframe thead th {\n",
              "        text-align: right;\n",
              "    }\n",
              "</style>\n",
              "<table border=\"1\" class=\"dataframe\">\n",
              "  <thead>\n",
              "    <tr style=\"text-align: right;\">\n",
              "      <th></th>\n",
              "      <th>ENSG</th>\n",
              "      <th>SMTSD</th>\n",
              "      <th>SEX</th>\n",
              "      <th>TPM</th>\n",
              "    </tr>\n",
              "  </thead>\n",
              "  <tbody>\n",
              "    <tr>\n",
              "      <th>0</th>\n",
              "      <td>ENSG00000007968</td>\n",
              "      <td>Adipose - Subcutaneous</td>\n",
              "      <td>F</td>\n",
              "      <td>0.279225</td>\n",
              "    </tr>\n",
              "    <tr>\n",
              "      <th>1</th>\n",
              "      <td>ENSG00000007968</td>\n",
              "      <td>Adipose - Subcutaneous</td>\n",
              "      <td>M</td>\n",
              "      <td>0.296750</td>\n",
              "    </tr>\n",
              "    <tr>\n",
              "      <th>2</th>\n",
              "      <td>ENSG00000007968</td>\n",
              "      <td>Adipose - Visceral (Omentum)</td>\n",
              "      <td>F</td>\n",
              "      <td>0.296525</td>\n",
              "    </tr>\n",
              "    <tr>\n",
              "      <th>3</th>\n",
              "      <td>ENSG00000007968</td>\n",
              "      <td>Adipose - Visceral (Omentum)</td>\n",
              "      <td>M</td>\n",
              "      <td>0.287600</td>\n",
              "    </tr>\n",
              "    <tr>\n",
              "      <th>4</th>\n",
              "      <td>ENSG00000007968</td>\n",
              "      <td>Adrenal Gland</td>\n",
              "      <td>F</td>\n",
              "      <td>0.328875</td>\n",
              "    </tr>\n",
              "  </tbody>\n",
              "</table>\n",
              "</div>"
            ],
            "text/plain": [
              "              ENSG                         SMTSD SEX       TPM\n",
              "0  ENSG00000007968        Adipose - Subcutaneous   F  0.279225\n",
              "1  ENSG00000007968        Adipose - Subcutaneous   M  0.296750\n",
              "2  ENSG00000007968  Adipose - Visceral (Omentum)   F  0.296525\n",
              "3  ENSG00000007968  Adipose - Visceral (Omentum)   M  0.287600\n",
              "4  ENSG00000007968                 Adrenal Gland   F  0.328875"
            ]
          },
          "metadata": {
            "tags": []
          },
          "execution_count": 223
        }
      ]
    },
    {
      "cell_type": "markdown",
      "metadata": {
        "id": "blUTzPb6KwQp"
      },
      "source": [
        "### Save median TPMs file for analysis, 1-row per gene+tissue+sex:"
      ]
    },
    {
      "cell_type": "code",
      "metadata": {
        "id": "I8aLhmVuKqIN",
        "colab": {
          "base_uri": "https://localhost:8080/",
          "height": 17
        },
        "outputId": "353db0fd-6c05-4d1a-b1a4-734b9afd1dfe"
      },
      "source": [
        "rnaseq.round(3).to_csv('gtex_rnaseq_prep_median.tsv', sep='\\t', index=False)\n",
        "google.colab.files.download('gtex_rnaseq_prep_median.tsv')"
      ],
      "execution_count": 224,
      "outputs": [
        {
          "output_type": "display_data",
          "data": {
            "application/javascript": [
              "\n",
              "    async function download(id, filename, size) {\n",
              "      if (!google.colab.kernel.accessAllowed) {\n",
              "        return;\n",
              "      }\n",
              "      const div = document.createElement('div');\n",
              "      const label = document.createElement('label');\n",
              "      label.textContent = `Downloading \"${filename}\": `;\n",
              "      div.appendChild(label);\n",
              "      const progress = document.createElement('progress');\n",
              "      progress.max = size;\n",
              "      div.appendChild(progress);\n",
              "      document.body.appendChild(div);\n",
              "\n",
              "      const buffers = [];\n",
              "      let downloaded = 0;\n",
              "\n",
              "      const channel = await google.colab.kernel.comms.open(id);\n",
              "      // Send a message to notify the kernel that we're ready.\n",
              "      channel.send({})\n",
              "\n",
              "      for await (const message of channel.messages) {\n",
              "        // Send a message to notify the kernel that we're ready.\n",
              "        channel.send({})\n",
              "        if (message.buffers) {\n",
              "          for (const buffer of message.buffers) {\n",
              "            buffers.push(buffer);\n",
              "            downloaded += buffer.byteLength;\n",
              "            progress.value = downloaded;\n",
              "          }\n",
              "        }\n",
              "      }\n",
              "      const blob = new Blob(buffers, {type: 'application/binary'});\n",
              "      const a = document.createElement('a');\n",
              "      a.href = window.URL.createObjectURL(blob);\n",
              "      a.download = filename;\n",
              "      div.appendChild(a);\n",
              "      a.click();\n",
              "      div.remove();\n",
              "    }\n",
              "  "
            ],
            "text/plain": [
              "<IPython.core.display.Javascript object>"
            ]
          },
          "metadata": {
            "tags": []
          }
        },
        {
          "output_type": "display_data",
          "data": {
            "application/javascript": [
              "download(\"download_f085d970-a41b-4180-a493-2b5ed4884f49\", \"gtex_rnaseq_prep_median.tsv\", 881139)"
            ],
            "text/plain": [
              "<IPython.core.display.Javascript object>"
            ]
          },
          "metadata": {
            "tags": []
          }
        }
      ]
    },
    {
      "cell_type": "markdown",
      "metadata": {
        "id": "_LNh8CQeGhHq"
      },
      "source": [
        "### Pivot TPMs to generate gene profiles:"
      ]
    },
    {
      "cell_type": "code",
      "metadata": {
        "id": "oj7EVdEqHuPv"
      },
      "source": [
        "tissues = pd.Series(pd.unique(rnaseq.SMTSD.sort_values()))\n"
      ],
      "execution_count": 225,
      "outputs": []
    },
    {
      "cell_type": "code",
      "metadata": {
        "id": "xwSCxutLGdhT",
        "colab": {
          "base_uri": "https://localhost:8080/",
          "height": 292
        },
        "outputId": "827f1689-555d-4249-e727-cd37ea19b0bd"
      },
      "source": [
        "rnaseq_f = rnaseq[rnaseq.SEX=='F'].drop(columns=['SEX'])\n",
        "rnaseq_f = rnaseq_f[['ENSG','SMTSD','TPM']]\n",
        "exfiles_f = rnaseq_f.pivot(index='ENSG', columns='SMTSD')\n",
        "exfiles_f.columns = exfiles_f.columns.get_level_values(1)\n",
        "exfiles_f = exfiles_f.reset_index(drop=False)\n",
        "exfiles_f['SEX'] = 'F'\n",
        "exfiles_f.head()"
      ],
      "execution_count": 226,
      "outputs": [
        {
          "output_type": "execute_result",
          "data": {
            "text/html": [
              "<div>\n",
              "<style scoped>\n",
              "    .dataframe tbody tr th:only-of-type {\n",
              "        vertical-align: middle;\n",
              "    }\n",
              "\n",
              "    .dataframe tbody tr th {\n",
              "        vertical-align: top;\n",
              "    }\n",
              "\n",
              "    .dataframe thead th {\n",
              "        text-align: right;\n",
              "    }\n",
              "</style>\n",
              "<table border=\"1\" class=\"dataframe\">\n",
              "  <thead>\n",
              "    <tr style=\"text-align: right;\">\n",
              "      <th>SMTSD</th>\n",
              "      <th>ENSG</th>\n",
              "      <th>Adipose - Subcutaneous</th>\n",
              "      <th>Adipose - Visceral (Omentum)</th>\n",
              "      <th>Adrenal Gland</th>\n",
              "      <th>Artery - Aorta</th>\n",
              "      <th>Artery - Coronary</th>\n",
              "      <th>Artery - Tibial</th>\n",
              "      <th>Bladder</th>\n",
              "      <th>Brain - Amygdala</th>\n",
              "      <th>Brain - Anterior cingulate cortex (BA24)</th>\n",
              "      <th>Brain - Caudate (basal ganglia)</th>\n",
              "      <th>Brain - Cerebellar Hemisphere</th>\n",
              "      <th>Brain - Cerebellum</th>\n",
              "      <th>Brain - Cortex</th>\n",
              "      <th>Brain - Frontal Cortex (BA9)</th>\n",
              "      <th>Brain - Hippocampus</th>\n",
              "      <th>Brain - Hypothalamus</th>\n",
              "      <th>Brain - Nucleus accumbens (basal ganglia)</th>\n",
              "      <th>Brain - Putamen (basal ganglia)</th>\n",
              "      <th>Brain - Spinal cord (cervical c-1)</th>\n",
              "      <th>Brain - Substantia nigra</th>\n",
              "      <th>Cells - Cultured fibroblasts</th>\n",
              "      <th>Cells - EBV-transformed lymphocytes</th>\n",
              "      <th>Colon - Sigmoid</th>\n",
              "      <th>Colon - Transverse</th>\n",
              "      <th>Esophagus - Gastroesophageal Junction</th>\n",
              "      <th>Esophagus - Mucosa</th>\n",
              "      <th>Esophagus - Muscularis</th>\n",
              "      <th>Heart - Atrial Appendage</th>\n",
              "      <th>Heart - Left Ventricle</th>\n",
              "      <th>Kidney - Cortex</th>\n",
              "      <th>Liver</th>\n",
              "      <th>Lung</th>\n",
              "      <th>Minor Salivary Gland</th>\n",
              "      <th>Muscle - Skeletal</th>\n",
              "      <th>Nerve - Tibial</th>\n",
              "      <th>Pancreas</th>\n",
              "      <th>Pituitary</th>\n",
              "      <th>Skin - Not Sun Exposed (Suprapubic)</th>\n",
              "      <th>Skin - Sun Exposed (Lower leg)</th>\n",
              "      <th>Small Intestine - Terminal Ileum</th>\n",
              "      <th>Spleen</th>\n",
              "      <th>Stomach</th>\n",
              "      <th>Thyroid</th>\n",
              "      <th>Whole Blood</th>\n",
              "      <th>SEX</th>\n",
              "    </tr>\n",
              "  </thead>\n",
              "  <tbody>\n",
              "    <tr>\n",
              "      <th>0</th>\n",
              "      <td>ENSG00000007968</td>\n",
              "      <td>0.279225</td>\n",
              "      <td>0.296525</td>\n",
              "      <td>0.328875</td>\n",
              "      <td>0.191000</td>\n",
              "      <td>0.249550</td>\n",
              "      <td>0.072070</td>\n",
              "      <td>0.19980</td>\n",
              "      <td>0.018925</td>\n",
              "      <td>0.016525</td>\n",
              "      <td>0.014922</td>\n",
              "      <td>0.015165</td>\n",
              "      <td>0.018270</td>\n",
              "      <td>0.037850</td>\n",
              "      <td>0.015403</td>\n",
              "      <td>0.023815</td>\n",
              "      <td>0.022710</td>\n",
              "      <td>0.013605</td>\n",
              "      <td>0.020557</td>\n",
              "      <td>0.04174</td>\n",
              "      <td>0.038840</td>\n",
              "      <td>1.39925</td>\n",
              "      <td>9.72950</td>\n",
              "      <td>0.110363</td>\n",
              "      <td>6.278000</td>\n",
              "      <td>0.089563</td>\n",
              "      <td>12.345000</td>\n",
              "      <td>0.098895</td>\n",
              "      <td>0.094825</td>\n",
              "      <td>0.071585</td>\n",
              "      <td>0.2964</td>\n",
              "      <td>0.266425</td>\n",
              "      <td>1.307500</td>\n",
              "      <td>0.70900</td>\n",
              "      <td>0.032785</td>\n",
              "      <td>0.132550</td>\n",
              "      <td>0.037820</td>\n",
              "      <td>0.051195</td>\n",
              "      <td>5.728750</td>\n",
              "      <td>6.568000</td>\n",
              "      <td>3.634000</td>\n",
              "      <td>5.46725</td>\n",
              "      <td>0.343425</td>\n",
              "      <td>0.49855</td>\n",
              "      <td>8.176500</td>\n",
              "      <td>F</td>\n",
              "    </tr>\n",
              "    <tr>\n",
              "      <th>1</th>\n",
              "      <td>ENSG00000049249</td>\n",
              "      <td>0.034357</td>\n",
              "      <td>0.099865</td>\n",
              "      <td>0.042445</td>\n",
              "      <td>0.113900</td>\n",
              "      <td>0.057890</td>\n",
              "      <td>0.017368</td>\n",
              "      <td>0.03089</td>\n",
              "      <td>0.002398</td>\n",
              "      <td>0.007810</td>\n",
              "      <td>0.004632</td>\n",
              "      <td>0.015967</td>\n",
              "      <td>0.009491</td>\n",
              "      <td>0.004749</td>\n",
              "      <td>0.009860</td>\n",
              "      <td>0.007431</td>\n",
              "      <td>0.062353</td>\n",
              "      <td>0.006629</td>\n",
              "      <td>0.007591</td>\n",
              "      <td>0.02369</td>\n",
              "      <td>0.010933</td>\n",
              "      <td>0.02376</td>\n",
              "      <td>1.51250</td>\n",
              "      <td>0.022398</td>\n",
              "      <td>0.047445</td>\n",
              "      <td>0.024753</td>\n",
              "      <td>0.060260</td>\n",
              "      <td>0.015008</td>\n",
              "      <td>0.027145</td>\n",
              "      <td>0.007085</td>\n",
              "      <td>0.1151</td>\n",
              "      <td>0.039490</td>\n",
              "      <td>0.434625</td>\n",
              "      <td>0.03332</td>\n",
              "      <td>0.005284</td>\n",
              "      <td>0.035605</td>\n",
              "      <td>0.020170</td>\n",
              "      <td>0.067250</td>\n",
              "      <td>0.035698</td>\n",
              "      <td>0.020112</td>\n",
              "      <td>0.431950</td>\n",
              "      <td>1.35950</td>\n",
              "      <td>0.056173</td>\n",
              "      <td>0.06191</td>\n",
              "      <td>1.648000</td>\n",
              "      <td>F</td>\n",
              "    </tr>\n",
              "    <tr>\n",
              "      <th>2</th>\n",
              "      <td>ENSG00000053372</td>\n",
              "      <td>25.580000</td>\n",
              "      <td>27.947500</td>\n",
              "      <td>20.780000</td>\n",
              "      <td>16.575000</td>\n",
              "      <td>18.845000</td>\n",
              "      <td>17.032500</td>\n",
              "      <td>22.02000</td>\n",
              "      <td>19.095000</td>\n",
              "      <td>25.230000</td>\n",
              "      <td>18.510000</td>\n",
              "      <td>19.440000</td>\n",
              "      <td>17.595000</td>\n",
              "      <td>23.610000</td>\n",
              "      <td>30.617500</td>\n",
              "      <td>20.485000</td>\n",
              "      <td>19.592500</td>\n",
              "      <td>19.277500</td>\n",
              "      <td>12.617500</td>\n",
              "      <td>12.90500</td>\n",
              "      <td>15.040000</td>\n",
              "      <td>75.19500</td>\n",
              "      <td>58.75750</td>\n",
              "      <td>18.000000</td>\n",
              "      <td>16.290000</td>\n",
              "      <td>18.315000</td>\n",
              "      <td>29.185000</td>\n",
              "      <td>18.915000</td>\n",
              "      <td>8.544750</td>\n",
              "      <td>8.343250</td>\n",
              "      <td>14.7600</td>\n",
              "      <td>13.405000</td>\n",
              "      <td>19.452500</td>\n",
              "      <td>18.40000</td>\n",
              "      <td>16.527500</td>\n",
              "      <td>26.115000</td>\n",
              "      <td>14.427500</td>\n",
              "      <td>15.760000</td>\n",
              "      <td>26.045000</td>\n",
              "      <td>26.097500</td>\n",
              "      <td>23.970000</td>\n",
              "      <td>23.47500</td>\n",
              "      <td>19.032500</td>\n",
              "      <td>20.31000</td>\n",
              "      <td>4.803000</td>\n",
              "      <td>F</td>\n",
              "    </tr>\n",
              "    <tr>\n",
              "      <th>3</th>\n",
              "      <td>ENSG00000057757</td>\n",
              "      <td>54.005000</td>\n",
              "      <td>43.795000</td>\n",
              "      <td>47.092500</td>\n",
              "      <td>54.650000</td>\n",
              "      <td>50.065000</td>\n",
              "      <td>61.487500</td>\n",
              "      <td>51.28000</td>\n",
              "      <td>77.202500</td>\n",
              "      <td>138.100000</td>\n",
              "      <td>65.172500</td>\n",
              "      <td>169.200000</td>\n",
              "      <td>135.200000</td>\n",
              "      <td>91.030000</td>\n",
              "      <td>166.675000</td>\n",
              "      <td>76.205000</td>\n",
              "      <td>127.900000</td>\n",
              "      <td>84.930000</td>\n",
              "      <td>40.480000</td>\n",
              "      <td>88.28000</td>\n",
              "      <td>62.600000</td>\n",
              "      <td>49.67250</td>\n",
              "      <td>63.02750</td>\n",
              "      <td>54.440000</td>\n",
              "      <td>36.375000</td>\n",
              "      <td>53.152500</td>\n",
              "      <td>62.905000</td>\n",
              "      <td>52.205000</td>\n",
              "      <td>21.312500</td>\n",
              "      <td>23.310000</td>\n",
              "      <td>33.7800</td>\n",
              "      <td>23.675000</td>\n",
              "      <td>52.390000</td>\n",
              "      <td>44.95000</td>\n",
              "      <td>41.390000</td>\n",
              "      <td>86.422500</td>\n",
              "      <td>18.700000</td>\n",
              "      <td>62.870000</td>\n",
              "      <td>73.745000</td>\n",
              "      <td>80.217500</td>\n",
              "      <td>40.700000</td>\n",
              "      <td>52.86750</td>\n",
              "      <td>40.002500</td>\n",
              "      <td>52.76000</td>\n",
              "      <td>23.392500</td>\n",
              "      <td>F</td>\n",
              "    </tr>\n",
              "    <tr>\n",
              "      <th>4</th>\n",
              "      <td>ENSG00000084628</td>\n",
              "      <td>0.134200</td>\n",
              "      <td>0.104340</td>\n",
              "      <td>8.310000</td>\n",
              "      <td>0.042597</td>\n",
              "      <td>0.066312</td>\n",
              "      <td>0.024237</td>\n",
              "      <td>0.09209</td>\n",
              "      <td>4.923500</td>\n",
              "      <td>6.321000</td>\n",
              "      <td>3.584500</td>\n",
              "      <td>67.435000</td>\n",
              "      <td>68.790000</td>\n",
              "      <td>8.070000</td>\n",
              "      <td>10.327250</td>\n",
              "      <td>5.728250</td>\n",
              "      <td>7.950000</td>\n",
              "      <td>4.874000</td>\n",
              "      <td>5.629000</td>\n",
              "      <td>4.17000</td>\n",
              "      <td>5.921000</td>\n",
              "      <td>0.11775</td>\n",
              "      <td>0.03734</td>\n",
              "      <td>0.460650</td>\n",
              "      <td>0.174450</td>\n",
              "      <td>0.163050</td>\n",
              "      <td>0.657975</td>\n",
              "      <td>0.205975</td>\n",
              "      <td>0.045587</td>\n",
              "      <td>0.019940</td>\n",
              "      <td>0.1735</td>\n",
              "      <td>0.003260</td>\n",
              "      <td>0.033063</td>\n",
              "      <td>0.57360</td>\n",
              "      <td>5.320500</td>\n",
              "      <td>0.115325</td>\n",
              "      <td>0.116975</td>\n",
              "      <td>4.686000</td>\n",
              "      <td>2.546000</td>\n",
              "      <td>2.943500</td>\n",
              "      <td>0.098525</td>\n",
              "      <td>0.00000</td>\n",
              "      <td>0.094558</td>\n",
              "      <td>0.06440</td>\n",
              "      <td>0.005713</td>\n",
              "      <td>F</td>\n",
              "    </tr>\n",
              "  </tbody>\n",
              "</table>\n",
              "</div>"
            ],
            "text/plain": [
              "SMTSD             ENSG  Adipose - Subcutaneous  ...  Whole Blood  SEX\n",
              "0      ENSG00000007968                0.279225  ...     8.176500    F\n",
              "1      ENSG00000049249                0.034357  ...     1.648000    F\n",
              "2      ENSG00000053372               25.580000  ...     4.803000    F\n",
              "3      ENSG00000057757               54.005000  ...    23.392500    F\n",
              "4      ENSG00000084628                0.134200  ...     0.005713    F\n",
              "\n",
              "[5 rows x 46 columns]"
            ]
          },
          "metadata": {
            "tags": []
          },
          "execution_count": 226
        }
      ]
    },
    {
      "cell_type": "code",
      "metadata": {
        "id": "u3nARXHgIAzx",
        "colab": {
          "base_uri": "https://localhost:8080/",
          "height": 292
        },
        "outputId": "a5884305-7c8c-44e1-b398-0449b5249f2f"
      },
      "source": [
        "rnaseq_m = rnaseq[rnaseq.SEX=='M'].drop(columns=['SEX'])\n",
        "rnaseq_m = rnaseq_m[['ENSG','SMTSD','TPM']]\n",
        "exfiles_m = rnaseq_m.pivot(index='ENSG', columns='SMTSD')\n",
        "exfiles_m.columns = exfiles_m.columns.get_level_values(1)\n",
        "exfiles_m = exfiles_m.reset_index(drop=False)\n",
        "exfiles_m['SEX'] = 'M'\n",
        "exfiles_m.head()"
      ],
      "execution_count": 227,
      "outputs": [
        {
          "output_type": "execute_result",
          "data": {
            "text/html": [
              "<div>\n",
              "<style scoped>\n",
              "    .dataframe tbody tr th:only-of-type {\n",
              "        vertical-align: middle;\n",
              "    }\n",
              "\n",
              "    .dataframe tbody tr th {\n",
              "        vertical-align: top;\n",
              "    }\n",
              "\n",
              "    .dataframe thead th {\n",
              "        text-align: right;\n",
              "    }\n",
              "</style>\n",
              "<table border=\"1\" class=\"dataframe\">\n",
              "  <thead>\n",
              "    <tr style=\"text-align: right;\">\n",
              "      <th>SMTSD</th>\n",
              "      <th>ENSG</th>\n",
              "      <th>Adipose - Subcutaneous</th>\n",
              "      <th>Adipose - Visceral (Omentum)</th>\n",
              "      <th>Adrenal Gland</th>\n",
              "      <th>Artery - Aorta</th>\n",
              "      <th>Artery - Coronary</th>\n",
              "      <th>Artery - Tibial</th>\n",
              "      <th>Bladder</th>\n",
              "      <th>Brain - Amygdala</th>\n",
              "      <th>Brain - Anterior cingulate cortex (BA24)</th>\n",
              "      <th>Brain - Caudate (basal ganglia)</th>\n",
              "      <th>Brain - Cerebellar Hemisphere</th>\n",
              "      <th>Brain - Cerebellum</th>\n",
              "      <th>Brain - Cortex</th>\n",
              "      <th>Brain - Frontal Cortex (BA9)</th>\n",
              "      <th>Brain - Hippocampus</th>\n",
              "      <th>Brain - Hypothalamus</th>\n",
              "      <th>Brain - Nucleus accumbens (basal ganglia)</th>\n",
              "      <th>Brain - Putamen (basal ganglia)</th>\n",
              "      <th>Brain - Spinal cord (cervical c-1)</th>\n",
              "      <th>Brain - Substantia nigra</th>\n",
              "      <th>Cells - Cultured fibroblasts</th>\n",
              "      <th>Cells - EBV-transformed lymphocytes</th>\n",
              "      <th>Colon - Sigmoid</th>\n",
              "      <th>Colon - Transverse</th>\n",
              "      <th>Esophagus - Gastroesophageal Junction</th>\n",
              "      <th>Esophagus - Mucosa</th>\n",
              "      <th>Esophagus - Muscularis</th>\n",
              "      <th>Heart - Atrial Appendage</th>\n",
              "      <th>Heart - Left Ventricle</th>\n",
              "      <th>Kidney - Cortex</th>\n",
              "      <th>Liver</th>\n",
              "      <th>Lung</th>\n",
              "      <th>Minor Salivary Gland</th>\n",
              "      <th>Muscle - Skeletal</th>\n",
              "      <th>Nerve - Tibial</th>\n",
              "      <th>Pancreas</th>\n",
              "      <th>Pituitary</th>\n",
              "      <th>Skin - Not Sun Exposed (Suprapubic)</th>\n",
              "      <th>Skin - Sun Exposed (Lower leg)</th>\n",
              "      <th>Small Intestine - Terminal Ileum</th>\n",
              "      <th>Spleen</th>\n",
              "      <th>Stomach</th>\n",
              "      <th>Thyroid</th>\n",
              "      <th>Whole Blood</th>\n",
              "      <th>SEX</th>\n",
              "    </tr>\n",
              "  </thead>\n",
              "  <tbody>\n",
              "    <tr>\n",
              "      <th>0</th>\n",
              "      <td>ENSG00000007968</td>\n",
              "      <td>0.29675</td>\n",
              "      <td>0.28760</td>\n",
              "      <td>0.285150</td>\n",
              "      <td>0.16045</td>\n",
              "      <td>0.21380</td>\n",
              "      <td>0.069415</td>\n",
              "      <td>0.214800</td>\n",
              "      <td>0.021465</td>\n",
              "      <td>0.018280</td>\n",
              "      <td>0.018510</td>\n",
              "      <td>0.010715</td>\n",
              "      <td>0.017208</td>\n",
              "      <td>0.019875</td>\n",
              "      <td>0.016370</td>\n",
              "      <td>0.023670</td>\n",
              "      <td>0.021318</td>\n",
              "      <td>0.015600</td>\n",
              "      <td>0.021565</td>\n",
              "      <td>0.026288</td>\n",
              "      <td>0.024000</td>\n",
              "      <td>1.227500</td>\n",
              "      <td>8.04225</td>\n",
              "      <td>0.103572</td>\n",
              "      <td>6.392000</td>\n",
              "      <td>0.087070</td>\n",
              "      <td>12.87000</td>\n",
              "      <td>0.109125</td>\n",
              "      <td>0.072252</td>\n",
              "      <td>0.054495</td>\n",
              "      <td>0.12300</td>\n",
              "      <td>0.110900</td>\n",
              "      <td>1.481750</td>\n",
              "      <td>0.7233</td>\n",
              "      <td>0.027832</td>\n",
              "      <td>0.134325</td>\n",
              "      <td>0.052155</td>\n",
              "      <td>0.053393</td>\n",
              "      <td>5.198250</td>\n",
              "      <td>6.00200</td>\n",
              "      <td>4.0115</td>\n",
              "      <td>5.97800</td>\n",
              "      <td>0.506700</td>\n",
              "      <td>0.486600</td>\n",
              "      <td>8.1985</td>\n",
              "      <td>M</td>\n",
              "    </tr>\n",
              "    <tr>\n",
              "      <th>1</th>\n",
              "      <td>ENSG00000049249</td>\n",
              "      <td>0.03911</td>\n",
              "      <td>0.13045</td>\n",
              "      <td>0.047403</td>\n",
              "      <td>0.11585</td>\n",
              "      <td>0.11020</td>\n",
              "      <td>0.015475</td>\n",
              "      <td>0.037030</td>\n",
              "      <td>0.004185</td>\n",
              "      <td>0.004089</td>\n",
              "      <td>0.005937</td>\n",
              "      <td>0.008407</td>\n",
              "      <td>0.009467</td>\n",
              "      <td>0.006767</td>\n",
              "      <td>0.005262</td>\n",
              "      <td>0.009468</td>\n",
              "      <td>0.024820</td>\n",
              "      <td>0.005822</td>\n",
              "      <td>0.008189</td>\n",
              "      <td>0.017230</td>\n",
              "      <td>0.018668</td>\n",
              "      <td>0.017755</td>\n",
              "      <td>2.00725</td>\n",
              "      <td>0.026752</td>\n",
              "      <td>0.056375</td>\n",
              "      <td>0.022135</td>\n",
              "      <td>0.06235</td>\n",
              "      <td>0.015662</td>\n",
              "      <td>0.034223</td>\n",
              "      <td>0.010070</td>\n",
              "      <td>0.05565</td>\n",
              "      <td>0.039255</td>\n",
              "      <td>0.418125</td>\n",
              "      <td>0.0444</td>\n",
              "      <td>0.003598</td>\n",
              "      <td>0.045592</td>\n",
              "      <td>0.027338</td>\n",
              "      <td>0.064155</td>\n",
              "      <td>0.034225</td>\n",
              "      <td>0.02796</td>\n",
              "      <td>0.3525</td>\n",
              "      <td>1.40800</td>\n",
              "      <td>0.058910</td>\n",
              "      <td>0.051170</td>\n",
              "      <td>1.6280</td>\n",
              "      <td>M</td>\n",
              "    </tr>\n",
              "    <tr>\n",
              "      <th>2</th>\n",
              "      <td>ENSG00000053372</td>\n",
              "      <td>24.67500</td>\n",
              "      <td>23.15000</td>\n",
              "      <td>21.182500</td>\n",
              "      <td>16.26500</td>\n",
              "      <td>19.69000</td>\n",
              "      <td>17.010000</td>\n",
              "      <td>23.190000</td>\n",
              "      <td>22.515000</td>\n",
              "      <td>25.720000</td>\n",
              "      <td>18.640000</td>\n",
              "      <td>21.482500</td>\n",
              "      <td>20.075000</td>\n",
              "      <td>27.525000</td>\n",
              "      <td>34.735000</td>\n",
              "      <td>20.490000</td>\n",
              "      <td>24.640000</td>\n",
              "      <td>20.635000</td>\n",
              "      <td>15.007500</td>\n",
              "      <td>13.282500</td>\n",
              "      <td>15.472500</td>\n",
              "      <td>65.355000</td>\n",
              "      <td>55.78500</td>\n",
              "      <td>17.755000</td>\n",
              "      <td>16.400000</td>\n",
              "      <td>17.430000</td>\n",
              "      <td>28.74000</td>\n",
              "      <td>17.730000</td>\n",
              "      <td>8.885250</td>\n",
              "      <td>6.596750</td>\n",
              "      <td>9.95500</td>\n",
              "      <td>12.970000</td>\n",
              "      <td>19.442500</td>\n",
              "      <td>17.3800</td>\n",
              "      <td>14.195000</td>\n",
              "      <td>26.002500</td>\n",
              "      <td>14.377500</td>\n",
              "      <td>15.312500</td>\n",
              "      <td>25.230000</td>\n",
              "      <td>25.28500</td>\n",
              "      <td>21.1900</td>\n",
              "      <td>21.15000</td>\n",
              "      <td>19.560000</td>\n",
              "      <td>21.175000</td>\n",
              "      <td>4.3045</td>\n",
              "      <td>M</td>\n",
              "    </tr>\n",
              "    <tr>\n",
              "      <th>3</th>\n",
              "      <td>ENSG00000057757</td>\n",
              "      <td>53.53250</td>\n",
              "      <td>44.03250</td>\n",
              "      <td>48.125000</td>\n",
              "      <td>54.48500</td>\n",
              "      <td>51.56500</td>\n",
              "      <td>60.030000</td>\n",
              "      <td>55.980000</td>\n",
              "      <td>85.920000</td>\n",
              "      <td>104.300000</td>\n",
              "      <td>66.947500</td>\n",
              "      <td>195.925000</td>\n",
              "      <td>139.500000</td>\n",
              "      <td>100.785000</td>\n",
              "      <td>163.150000</td>\n",
              "      <td>81.507500</td>\n",
              "      <td>149.100000</td>\n",
              "      <td>87.440000</td>\n",
              "      <td>53.760000</td>\n",
              "      <td>95.767500</td>\n",
              "      <td>84.187500</td>\n",
              "      <td>46.475000</td>\n",
              "      <td>61.56000</td>\n",
              "      <td>53.140000</td>\n",
              "      <td>35.870000</td>\n",
              "      <td>52.615000</td>\n",
              "      <td>67.40500</td>\n",
              "      <td>52.127500</td>\n",
              "      <td>22.637500</td>\n",
              "      <td>18.862500</td>\n",
              "      <td>24.13000</td>\n",
              "      <td>23.645000</td>\n",
              "      <td>51.320000</td>\n",
              "      <td>41.9900</td>\n",
              "      <td>37.782500</td>\n",
              "      <td>91.177500</td>\n",
              "      <td>18.435000</td>\n",
              "      <td>62.120000</td>\n",
              "      <td>75.982500</td>\n",
              "      <td>77.44500</td>\n",
              "      <td>37.8250</td>\n",
              "      <td>52.71250</td>\n",
              "      <td>41.907500</td>\n",
              "      <td>54.430000</td>\n",
              "      <td>22.6800</td>\n",
              "      <td>M</td>\n",
              "    </tr>\n",
              "    <tr>\n",
              "      <th>4</th>\n",
              "      <td>ENSG00000084628</td>\n",
              "      <td>0.12815</td>\n",
              "      <td>0.10510</td>\n",
              "      <td>7.271250</td>\n",
              "      <td>0.03603</td>\n",
              "      <td>0.06599</td>\n",
              "      <td>0.031240</td>\n",
              "      <td>0.088225</td>\n",
              "      <td>4.476750</td>\n",
              "      <td>4.459000</td>\n",
              "      <td>6.258500</td>\n",
              "      <td>72.512500</td>\n",
              "      <td>71.377500</td>\n",
              "      <td>9.376250</td>\n",
              "      <td>10.022000</td>\n",
              "      <td>7.392500</td>\n",
              "      <td>8.755500</td>\n",
              "      <td>5.306750</td>\n",
              "      <td>6.726250</td>\n",
              "      <td>4.985500</td>\n",
              "      <td>7.237750</td>\n",
              "      <td>0.111400</td>\n",
              "      <td>0.04183</td>\n",
              "      <td>0.475875</td>\n",
              "      <td>0.146200</td>\n",
              "      <td>0.191100</td>\n",
              "      <td>0.60185</td>\n",
              "      <td>0.172825</td>\n",
              "      <td>0.050543</td>\n",
              "      <td>0.035585</td>\n",
              "      <td>0.22870</td>\n",
              "      <td>0.000000</td>\n",
              "      <td>0.036113</td>\n",
              "      <td>0.4348</td>\n",
              "      <td>8.037750</td>\n",
              "      <td>0.189925</td>\n",
              "      <td>0.158550</td>\n",
              "      <td>3.396750</td>\n",
              "      <td>2.330250</td>\n",
              "      <td>2.66450</td>\n",
              "      <td>0.1075</td>\n",
              "      <td>0.00608</td>\n",
              "      <td>0.070255</td>\n",
              "      <td>0.067223</td>\n",
              "      <td>0.0000</td>\n",
              "      <td>M</td>\n",
              "    </tr>\n",
              "  </tbody>\n",
              "</table>\n",
              "</div>"
            ],
            "text/plain": [
              "SMTSD             ENSG  Adipose - Subcutaneous  ...  Whole Blood  SEX\n",
              "0      ENSG00000007968                 0.29675  ...       8.1985    M\n",
              "1      ENSG00000049249                 0.03911  ...       1.6280    M\n",
              "2      ENSG00000053372                24.67500  ...       4.3045    M\n",
              "3      ENSG00000057757                53.53250  ...      22.6800    M\n",
              "4      ENSG00000084628                 0.12815  ...       0.0000    M\n",
              "\n",
              "[5 rows x 46 columns]"
            ]
          },
          "metadata": {
            "tags": []
          },
          "execution_count": 227
        }
      ]
    },
    {
      "cell_type": "code",
      "metadata": {
        "id": "j8Ws0J9FH754",
        "colab": {
          "base_uri": "https://localhost:8080/",
          "height": 292
        },
        "outputId": "26dff640-e33a-4f73-a6c2-b46510733aa3"
      },
      "source": [
        "exfiles = pd.concat([exfiles_f, exfiles_m])\n",
        "cols = ['ENSG', 'SEX']+tissues.tolist()\n",
        "exfiles = exfiles[cols]\n",
        "exfiles.head()"
      ],
      "execution_count": 228,
      "outputs": [
        {
          "output_type": "execute_result",
          "data": {
            "text/html": [
              "<div>\n",
              "<style scoped>\n",
              "    .dataframe tbody tr th:only-of-type {\n",
              "        vertical-align: middle;\n",
              "    }\n",
              "\n",
              "    .dataframe tbody tr th {\n",
              "        vertical-align: top;\n",
              "    }\n",
              "\n",
              "    .dataframe thead th {\n",
              "        text-align: right;\n",
              "    }\n",
              "</style>\n",
              "<table border=\"1\" class=\"dataframe\">\n",
              "  <thead>\n",
              "    <tr style=\"text-align: right;\">\n",
              "      <th>SMTSD</th>\n",
              "      <th>ENSG</th>\n",
              "      <th>SEX</th>\n",
              "      <th>Adipose - Subcutaneous</th>\n",
              "      <th>Adipose - Visceral (Omentum)</th>\n",
              "      <th>Adrenal Gland</th>\n",
              "      <th>Artery - Aorta</th>\n",
              "      <th>Artery - Coronary</th>\n",
              "      <th>Artery - Tibial</th>\n",
              "      <th>Bladder</th>\n",
              "      <th>Brain - Amygdala</th>\n",
              "      <th>Brain - Anterior cingulate cortex (BA24)</th>\n",
              "      <th>Brain - Caudate (basal ganglia)</th>\n",
              "      <th>Brain - Cerebellar Hemisphere</th>\n",
              "      <th>Brain - Cerebellum</th>\n",
              "      <th>Brain - Cortex</th>\n",
              "      <th>Brain - Frontal Cortex (BA9)</th>\n",
              "      <th>Brain - Hippocampus</th>\n",
              "      <th>Brain - Hypothalamus</th>\n",
              "      <th>Brain - Nucleus accumbens (basal ganglia)</th>\n",
              "      <th>Brain - Putamen (basal ganglia)</th>\n",
              "      <th>Brain - Spinal cord (cervical c-1)</th>\n",
              "      <th>Brain - Substantia nigra</th>\n",
              "      <th>Cells - Cultured fibroblasts</th>\n",
              "      <th>Cells - EBV-transformed lymphocytes</th>\n",
              "      <th>Colon - Sigmoid</th>\n",
              "      <th>Colon - Transverse</th>\n",
              "      <th>Esophagus - Gastroesophageal Junction</th>\n",
              "      <th>Esophagus - Mucosa</th>\n",
              "      <th>Esophagus - Muscularis</th>\n",
              "      <th>Heart - Atrial Appendage</th>\n",
              "      <th>Heart - Left Ventricle</th>\n",
              "      <th>Kidney - Cortex</th>\n",
              "      <th>Liver</th>\n",
              "      <th>Lung</th>\n",
              "      <th>Minor Salivary Gland</th>\n",
              "      <th>Muscle - Skeletal</th>\n",
              "      <th>Nerve - Tibial</th>\n",
              "      <th>Pancreas</th>\n",
              "      <th>Pituitary</th>\n",
              "      <th>Skin - Not Sun Exposed (Suprapubic)</th>\n",
              "      <th>Skin - Sun Exposed (Lower leg)</th>\n",
              "      <th>Small Intestine - Terminal Ileum</th>\n",
              "      <th>Spleen</th>\n",
              "      <th>Stomach</th>\n",
              "      <th>Thyroid</th>\n",
              "      <th>Whole Blood</th>\n",
              "    </tr>\n",
              "  </thead>\n",
              "  <tbody>\n",
              "    <tr>\n",
              "      <th>0</th>\n",
              "      <td>ENSG00000007968</td>\n",
              "      <td>F</td>\n",
              "      <td>0.279225</td>\n",
              "      <td>0.296525</td>\n",
              "      <td>0.328875</td>\n",
              "      <td>0.191000</td>\n",
              "      <td>0.249550</td>\n",
              "      <td>0.072070</td>\n",
              "      <td>0.19980</td>\n",
              "      <td>0.018925</td>\n",
              "      <td>0.016525</td>\n",
              "      <td>0.014922</td>\n",
              "      <td>0.015165</td>\n",
              "      <td>0.018270</td>\n",
              "      <td>0.037850</td>\n",
              "      <td>0.015403</td>\n",
              "      <td>0.023815</td>\n",
              "      <td>0.022710</td>\n",
              "      <td>0.013605</td>\n",
              "      <td>0.020557</td>\n",
              "      <td>0.04174</td>\n",
              "      <td>0.038840</td>\n",
              "      <td>1.39925</td>\n",
              "      <td>9.72950</td>\n",
              "      <td>0.110363</td>\n",
              "      <td>6.278000</td>\n",
              "      <td>0.089563</td>\n",
              "      <td>12.345000</td>\n",
              "      <td>0.098895</td>\n",
              "      <td>0.094825</td>\n",
              "      <td>0.071585</td>\n",
              "      <td>0.2964</td>\n",
              "      <td>0.266425</td>\n",
              "      <td>1.307500</td>\n",
              "      <td>0.70900</td>\n",
              "      <td>0.032785</td>\n",
              "      <td>0.132550</td>\n",
              "      <td>0.037820</td>\n",
              "      <td>0.051195</td>\n",
              "      <td>5.728750</td>\n",
              "      <td>6.568000</td>\n",
              "      <td>3.634000</td>\n",
              "      <td>5.46725</td>\n",
              "      <td>0.343425</td>\n",
              "      <td>0.49855</td>\n",
              "      <td>8.176500</td>\n",
              "    </tr>\n",
              "    <tr>\n",
              "      <th>1</th>\n",
              "      <td>ENSG00000049249</td>\n",
              "      <td>F</td>\n",
              "      <td>0.034357</td>\n",
              "      <td>0.099865</td>\n",
              "      <td>0.042445</td>\n",
              "      <td>0.113900</td>\n",
              "      <td>0.057890</td>\n",
              "      <td>0.017368</td>\n",
              "      <td>0.03089</td>\n",
              "      <td>0.002398</td>\n",
              "      <td>0.007810</td>\n",
              "      <td>0.004632</td>\n",
              "      <td>0.015967</td>\n",
              "      <td>0.009491</td>\n",
              "      <td>0.004749</td>\n",
              "      <td>0.009860</td>\n",
              "      <td>0.007431</td>\n",
              "      <td>0.062353</td>\n",
              "      <td>0.006629</td>\n",
              "      <td>0.007591</td>\n",
              "      <td>0.02369</td>\n",
              "      <td>0.010933</td>\n",
              "      <td>0.02376</td>\n",
              "      <td>1.51250</td>\n",
              "      <td>0.022398</td>\n",
              "      <td>0.047445</td>\n",
              "      <td>0.024753</td>\n",
              "      <td>0.060260</td>\n",
              "      <td>0.015008</td>\n",
              "      <td>0.027145</td>\n",
              "      <td>0.007085</td>\n",
              "      <td>0.1151</td>\n",
              "      <td>0.039490</td>\n",
              "      <td>0.434625</td>\n",
              "      <td>0.03332</td>\n",
              "      <td>0.005284</td>\n",
              "      <td>0.035605</td>\n",
              "      <td>0.020170</td>\n",
              "      <td>0.067250</td>\n",
              "      <td>0.035698</td>\n",
              "      <td>0.020112</td>\n",
              "      <td>0.431950</td>\n",
              "      <td>1.35950</td>\n",
              "      <td>0.056173</td>\n",
              "      <td>0.06191</td>\n",
              "      <td>1.648000</td>\n",
              "    </tr>\n",
              "    <tr>\n",
              "      <th>2</th>\n",
              "      <td>ENSG00000053372</td>\n",
              "      <td>F</td>\n",
              "      <td>25.580000</td>\n",
              "      <td>27.947500</td>\n",
              "      <td>20.780000</td>\n",
              "      <td>16.575000</td>\n",
              "      <td>18.845000</td>\n",
              "      <td>17.032500</td>\n",
              "      <td>22.02000</td>\n",
              "      <td>19.095000</td>\n",
              "      <td>25.230000</td>\n",
              "      <td>18.510000</td>\n",
              "      <td>19.440000</td>\n",
              "      <td>17.595000</td>\n",
              "      <td>23.610000</td>\n",
              "      <td>30.617500</td>\n",
              "      <td>20.485000</td>\n",
              "      <td>19.592500</td>\n",
              "      <td>19.277500</td>\n",
              "      <td>12.617500</td>\n",
              "      <td>12.90500</td>\n",
              "      <td>15.040000</td>\n",
              "      <td>75.19500</td>\n",
              "      <td>58.75750</td>\n",
              "      <td>18.000000</td>\n",
              "      <td>16.290000</td>\n",
              "      <td>18.315000</td>\n",
              "      <td>29.185000</td>\n",
              "      <td>18.915000</td>\n",
              "      <td>8.544750</td>\n",
              "      <td>8.343250</td>\n",
              "      <td>14.7600</td>\n",
              "      <td>13.405000</td>\n",
              "      <td>19.452500</td>\n",
              "      <td>18.40000</td>\n",
              "      <td>16.527500</td>\n",
              "      <td>26.115000</td>\n",
              "      <td>14.427500</td>\n",
              "      <td>15.760000</td>\n",
              "      <td>26.045000</td>\n",
              "      <td>26.097500</td>\n",
              "      <td>23.970000</td>\n",
              "      <td>23.47500</td>\n",
              "      <td>19.032500</td>\n",
              "      <td>20.31000</td>\n",
              "      <td>4.803000</td>\n",
              "    </tr>\n",
              "    <tr>\n",
              "      <th>3</th>\n",
              "      <td>ENSG00000057757</td>\n",
              "      <td>F</td>\n",
              "      <td>54.005000</td>\n",
              "      <td>43.795000</td>\n",
              "      <td>47.092500</td>\n",
              "      <td>54.650000</td>\n",
              "      <td>50.065000</td>\n",
              "      <td>61.487500</td>\n",
              "      <td>51.28000</td>\n",
              "      <td>77.202500</td>\n",
              "      <td>138.100000</td>\n",
              "      <td>65.172500</td>\n",
              "      <td>169.200000</td>\n",
              "      <td>135.200000</td>\n",
              "      <td>91.030000</td>\n",
              "      <td>166.675000</td>\n",
              "      <td>76.205000</td>\n",
              "      <td>127.900000</td>\n",
              "      <td>84.930000</td>\n",
              "      <td>40.480000</td>\n",
              "      <td>88.28000</td>\n",
              "      <td>62.600000</td>\n",
              "      <td>49.67250</td>\n",
              "      <td>63.02750</td>\n",
              "      <td>54.440000</td>\n",
              "      <td>36.375000</td>\n",
              "      <td>53.152500</td>\n",
              "      <td>62.905000</td>\n",
              "      <td>52.205000</td>\n",
              "      <td>21.312500</td>\n",
              "      <td>23.310000</td>\n",
              "      <td>33.7800</td>\n",
              "      <td>23.675000</td>\n",
              "      <td>52.390000</td>\n",
              "      <td>44.95000</td>\n",
              "      <td>41.390000</td>\n",
              "      <td>86.422500</td>\n",
              "      <td>18.700000</td>\n",
              "      <td>62.870000</td>\n",
              "      <td>73.745000</td>\n",
              "      <td>80.217500</td>\n",
              "      <td>40.700000</td>\n",
              "      <td>52.86750</td>\n",
              "      <td>40.002500</td>\n",
              "      <td>52.76000</td>\n",
              "      <td>23.392500</td>\n",
              "    </tr>\n",
              "    <tr>\n",
              "      <th>4</th>\n",
              "      <td>ENSG00000084628</td>\n",
              "      <td>F</td>\n",
              "      <td>0.134200</td>\n",
              "      <td>0.104340</td>\n",
              "      <td>8.310000</td>\n",
              "      <td>0.042597</td>\n",
              "      <td>0.066312</td>\n",
              "      <td>0.024237</td>\n",
              "      <td>0.09209</td>\n",
              "      <td>4.923500</td>\n",
              "      <td>6.321000</td>\n",
              "      <td>3.584500</td>\n",
              "      <td>67.435000</td>\n",
              "      <td>68.790000</td>\n",
              "      <td>8.070000</td>\n",
              "      <td>10.327250</td>\n",
              "      <td>5.728250</td>\n",
              "      <td>7.950000</td>\n",
              "      <td>4.874000</td>\n",
              "      <td>5.629000</td>\n",
              "      <td>4.17000</td>\n",
              "      <td>5.921000</td>\n",
              "      <td>0.11775</td>\n",
              "      <td>0.03734</td>\n",
              "      <td>0.460650</td>\n",
              "      <td>0.174450</td>\n",
              "      <td>0.163050</td>\n",
              "      <td>0.657975</td>\n",
              "      <td>0.205975</td>\n",
              "      <td>0.045587</td>\n",
              "      <td>0.019940</td>\n",
              "      <td>0.1735</td>\n",
              "      <td>0.003260</td>\n",
              "      <td>0.033063</td>\n",
              "      <td>0.57360</td>\n",
              "      <td>5.320500</td>\n",
              "      <td>0.115325</td>\n",
              "      <td>0.116975</td>\n",
              "      <td>4.686000</td>\n",
              "      <td>2.546000</td>\n",
              "      <td>2.943500</td>\n",
              "      <td>0.098525</td>\n",
              "      <td>0.00000</td>\n",
              "      <td>0.094558</td>\n",
              "      <td>0.06440</td>\n",
              "      <td>0.005713</td>\n",
              "    </tr>\n",
              "  </tbody>\n",
              "</table>\n",
              "</div>"
            ],
            "text/plain": [
              "SMTSD             ENSG SEX  ...   Thyroid  Whole Blood\n",
              "0      ENSG00000007968   F  ...   0.49855     8.176500\n",
              "1      ENSG00000049249   F  ...   0.06191     1.648000\n",
              "2      ENSG00000053372   F  ...  20.31000     4.803000\n",
              "3      ENSG00000057757   F  ...  52.76000    23.392500\n",
              "4      ENSG00000084628   F  ...   0.06440     0.005713\n",
              "\n",
              "[5 rows x 46 columns]"
            ]
          },
          "metadata": {
            "tags": []
          },
          "execution_count": 228
        }
      ]
    },
    {
      "cell_type": "code",
      "metadata": {
        "id": "OhoyTNEWHnb6",
        "colab": {
          "base_uri": "https://localhost:8080/"
        },
        "outputId": "76f439fa-9957-4e22-f369-3b53db62901a"
      },
      "source": [
        "exfiles.info()"
      ],
      "execution_count": 229,
      "outputs": [
        {
          "output_type": "stream",
          "text": [
            "<class 'pandas.core.frame.DataFrame'>\n",
            "Int64Index: 474 entries, 0 to 236\n",
            "Data columns (total 46 columns):\n",
            " #   Column                                     Non-Null Count  Dtype  \n",
            "---  ------                                     --------------  -----  \n",
            " 0   ENSG                                       474 non-null    object \n",
            " 1   SEX                                        474 non-null    object \n",
            " 2   Adipose - Subcutaneous                     466 non-null    float64\n",
            " 3   Adipose - Visceral (Omentum)               458 non-null    float64\n",
            " 4   Adrenal Gland                              444 non-null    float64\n",
            " 5   Artery - Aorta                             462 non-null    float64\n",
            " 6   Artery - Coronary                          460 non-null    float64\n",
            " 7   Artery - Tibial                            468 non-null    float64\n",
            " 8   Bladder                                    392 non-null    float64\n",
            " 9   Brain - Amygdala                           430 non-null    float64\n",
            " 10  Brain - Anterior cingulate cortex (BA24)   434 non-null    float64\n",
            " 11  Brain - Caudate (basal ganglia)            436 non-null    float64\n",
            " 12  Brain - Cerebellar Hemisphere              456 non-null    float64\n",
            " 13  Brain - Cerebellum                         430 non-null    float64\n",
            " 14  Brain - Cortex                             438 non-null    float64\n",
            " 15  Brain - Frontal Cortex (BA9)               436 non-null    float64\n",
            " 16  Brain - Hippocampus                        434 non-null    float64\n",
            " 17  Brain - Hypothalamus                       424 non-null    float64\n",
            " 18  Brain - Nucleus accumbens (basal ganglia)  434 non-null    float64\n",
            " 19  Brain - Putamen (basal ganglia)            440 non-null    float64\n",
            " 20  Brain - Spinal cord (cervical c-1)         418 non-null    float64\n",
            " 21  Brain - Substantia nigra                   414 non-null    float64\n",
            " 22  Cells - Cultured fibroblasts               456 non-null    float64\n",
            " 23  Cells - EBV-transformed lymphocytes        454 non-null    float64\n",
            " 24  Colon - Sigmoid                            466 non-null    float64\n",
            " 25  Colon - Transverse                         464 non-null    float64\n",
            " 26  Esophagus - Gastroesophageal Junction      460 non-null    float64\n",
            " 27  Esophagus - Mucosa                         470 non-null    float64\n",
            " 28  Esophagus - Muscularis                     464 non-null    float64\n",
            " 29  Heart - Atrial Appendage                   458 non-null    float64\n",
            " 30  Heart - Left Ventricle                     448 non-null    float64\n",
            " 31  Kidney - Cortex                            388 non-null    float64\n",
            " 32  Liver                                      448 non-null    float64\n",
            " 33  Lung                                       468 non-null    float64\n",
            " 34  Minor Salivary Gland                       444 non-null    float64\n",
            " 35  Muscle - Skeletal                          460 non-null    float64\n",
            " 36  Nerve - Tibial                             464 non-null    float64\n",
            " 37  Pancreas                                   450 non-null    float64\n",
            " 38  Pituitary                                  448 non-null    float64\n",
            " 39  Skin - Not Sun Exposed (Suprapubic)        466 non-null    float64\n",
            " 40  Skin - Sun Exposed (Lower leg)             468 non-null    float64\n",
            " 41  Small Intestine - Terminal Ileum           436 non-null    float64\n",
            " 42  Spleen                                     450 non-null    float64\n",
            " 43  Stomach                                    456 non-null    float64\n",
            " 44  Thyroid                                    462 non-null    float64\n",
            " 45  Whole Blood                                464 non-null    float64\n",
            "dtypes: float64(44), object(2)\n",
            "memory usage: 174.0+ KB\n"
          ],
          "name": "stdout"
        }
      ]
    },
    {
      "cell_type": "markdown",
      "metadata": {
        "id": "yzgXes3SI8gL"
      },
      "source": [
        "### Save expression profiles:"
      ]
    },
    {
      "cell_type": "code",
      "metadata": {
        "id": "nefUHaiKIvHf",
        "colab": {
          "base_uri": "https://localhost:8080/",
          "height": 17
        },
        "outputId": "b01be6fa-81d5-404d-fe56-a90433e90459"
      },
      "source": [
        "exfiles.round(3).to_csv('exfiles_eps.tsv', sep='\\t', index=False)\n",
        "google.colab.files.download('exfiles_eps.tsv')"
      ],
      "execution_count": 230,
      "outputs": [
        {
          "output_type": "display_data",
          "data": {
            "application/javascript": [
              "\n",
              "    async function download(id, filename, size) {\n",
              "      if (!google.colab.kernel.accessAllowed) {\n",
              "        return;\n",
              "      }\n",
              "      const div = document.createElement('div');\n",
              "      const label = document.createElement('label');\n",
              "      label.textContent = `Downloading \"${filename}\": `;\n",
              "      div.appendChild(label);\n",
              "      const progress = document.createElement('progress');\n",
              "      progress.max = size;\n",
              "      div.appendChild(progress);\n",
              "      document.body.appendChild(div);\n",
              "\n",
              "      const buffers = [];\n",
              "      let downloaded = 0;\n",
              "\n",
              "      const channel = await google.colab.kernel.comms.open(id);\n",
              "      // Send a message to notify the kernel that we're ready.\n",
              "      channel.send({})\n",
              "\n",
              "      for await (const message of channel.messages) {\n",
              "        // Send a message to notify the kernel that we're ready.\n",
              "        channel.send({})\n",
              "        if (message.buffers) {\n",
              "          for (const buffer of message.buffers) {\n",
              "            buffers.push(buffer);\n",
              "            downloaded += buffer.byteLength;\n",
              "            progress.value = downloaded;\n",
              "          }\n",
              "        }\n",
              "      }\n",
              "      const blob = new Blob(buffers, {type: 'application/binary'});\n",
              "      const a = document.createElement('a');\n",
              "      a.href = window.URL.createObjectURL(blob);\n",
              "      a.download = filename;\n",
              "      div.appendChild(a);\n",
              "      a.click();\n",
              "      div.remove();\n",
              "    }\n",
              "  "
            ],
            "text/plain": [
              "<IPython.core.display.Javascript object>"
            ]
          },
          "metadata": {
            "tags": []
          }
        },
        {
          "output_type": "display_data",
          "data": {
            "application/javascript": [
              "download(\"download_391442a9-0cc5-45b7-94d6-e7c45bab66e9\", \"exfiles_eps.tsv\", 115645)"
            ],
            "text/plain": [
              "<IPython.core.display.Javascript object>"
            ]
          },
          "metadata": {
            "tags": []
          }
        }
      ]
    }
  ]
}